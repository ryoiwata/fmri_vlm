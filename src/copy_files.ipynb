{
 "cells": [
  {
   "cell_type": "markdown",
   "metadata": {
    "cell_id": "c3a02adc9e884466bc8c79db549cc3d2",
    "deepnote_cell_type": "text-cell-h1",
    "formattedRanges": [
     {
      "fromCodePoint": 0,
      "marks": {
       "bold": true,
       "underline": true
      },
      "toCodePoint": 17,
      "type": "marks"
     }
    ]
   },
   "source": [
    "# Copy files"
   ]
  },
  {
   "cell_type": "markdown",
   "metadata": {
    "cell_id": "4546bee655b14a5dbf393161f1228e60",
    "deepnote_cell_type": "text-cell-p",
    "formattedRanges": []
   },
   "source": [
    "Brief 1-2 sentence description of notebook."
   ]
  },
  {
   "cell_type": "markdown",
   "metadata": {},
   "source": [
    "TODO: Supplement the description\n",
    "- Notebook that extracts the timestamps and gets the time that tones played"
   ]
  },
  {
   "cell_type": "code",
   "execution_count": 1,
   "metadata": {
    "tags": []
   },
   "outputs": [],
   "source": [
    "# Imports of all used packages and libraries\n",
    "import sys\n",
    "import os\n",
    "import glob\n",
    "from collections import defaultdict"
   ]
  },
  {
   "cell_type": "markdown",
   "metadata": {},
   "source": [
    "# Functions"
   ]
  },
  {
   "cell_type": "markdown",
   "metadata": {
    "cell_id": "d290bac2c17940bfbc0f9296beaf70e5",
    "deepnote_cell_type": "text-cell-h2",
    "formattedRanges": []
   },
   "source": [
    "## Inputs & Data"
   ]
  },
  {
   "cell_type": "markdown",
   "metadata": {
    "cell_id": "e528ce19c608425292151930d380f49f",
    "deepnote_cell_type": "text-cell-p",
    "formattedRanges": []
   },
   "source": [
    "- Explanation of each input and where it comes from."
   ]
  },
  {
   "cell_type": "markdown",
   "metadata": {},
   "source": [
    "Inputs and Required data loading\n",
    "- input variable names are in all caps snake case\n",
    "- Whenever an input changes or is used for processing \n",
    "- The variables are all lower in snake case"
   ]
  },
  {
   "cell_type": "code",
   "execution_count": 8,
   "metadata": {
    "cell_id": "6cf83a5811054461a718a71673d09aab",
    "deepnote_cell_type": "code",
    "deepnote_to_be_reexecuted": false,
    "execution_millis": 373,
    "execution_start": 1691424003628,
    "source_hash": null,
    "tags": []
   },
   "outputs": [],
   "source": [
    "# Path of the directory that contains the Spike Gadgets recording and the exported timestamp files\n",
    "# Exported with this tool https://docs.spikegadgets.com/en/latest/basic/ExportFunctions.html\n",
    "# Export these files:\n",
    "    # -raw – Continuous raw band export.\n",
    "    # -dio – Digital IO channel state change export.\n",
    "    # -analogio – Continuous analog IO export.\n",
    "# INPUT_DIR = \"/scratch/back_up/reward_competition_extention/final_proc/phy_curation\"\n",
    "# INPUT_DIR = \"/scratch/back_up/reward_competition_extention/data/rce_cohort_3\"\n",
    "INPUT_DIR = \"/orange/ruogu.fang/data/UKB/brain\"\n",
    "OUTPUT_DIR = os.path.join(\"/blue/ruogu.fang/ryoi360/projects/fmri_vlm/data/UKB/brain\") # where data is saved should always be shown in the inputs\n",
    "os.makedirs(OUTPUT_DIR, exist_ok=True)\n"
   ]
  },
  {
   "cell_type": "markdown",
   "metadata": {},
   "source": []
  },
  {
   "cell_type": "markdown",
   "metadata": {},
   "source": [
    "# Processing"
   ]
  },
  {
   "cell_type": "markdown",
   "metadata": {},
   "source": []
  },
  {
   "cell_type": "markdown",
   "metadata": {},
   "source": [
    "# Copying the files over"
   ]
  },
  {
   "cell_type": "code",
   "execution_count": 3,
   "metadata": {
    "tags": []
   },
   "outputs": [],
   "source": [
    "import shutil\n",
    "import glob\n",
    "import os\n",
    "\n"
   ]
  },
  {
   "cell_type": "code",
   "execution_count": null,
   "metadata": {},
   "outputs": [],
   "source": [
    "\n",
    "# for p in sorted(glob.glob('*/*/*.npy', recursive=True, root_dir=INPUT_DIR)):\n",
    "#     if \"copies\" in p:\n",
    "#         continue\n",
    "#     print(p)\n",
    "#     if os.path.isfile(os.path.join(INPUT_DIR, p)):\n",
    "#         os.makedirs(os.path.join(OUTPUT_DIR, os.path.dirname(p)), exist_ok=True)\n",
    "#         if not os.path.exists(os.path.join(OUTPUT_DIR, p)):\n",
    "#             shutil.copy(os.path.join(INPUT_DIR, p), os.path.join(OUTPUT_DIR, p))\n",
    "#         else:\n",
    "#             print(\"{} exists\".format(os.path.join(OUTPUT_DIR, p)))\n",
    "\n"
   ]
  },
  {
   "cell_type": "code",
   "execution_count": 9,
   "metadata": {
    "tags": []
   },
   "outputs": [],
   "source": [
    "top_ten_IDS = sorted(glob.glob('./20217_fMRI_DICOM/fMRI_dicom_zip/*', recursive=True, root_dir=INPUT_DIR))[:10]"
   ]
  },
  {
   "cell_type": "code",
   "execution_count": 13,
   "metadata": {
    "tags": []
   },
   "outputs": [],
   "source": [
    "top_ten_IDS = [os.path.basename(path).split(\"_\")[0] for path in top_ten_IDS]"
   ]
  },
  {
   "cell_type": "code",
   "execution_count": 14,
   "metadata": {
    "tags": []
   },
   "outputs": [
    {
     "data": {
      "text/plain": [
       "['1000556',\n",
       " '1000620',\n",
       " '1001419',\n",
       " '1002607',\n",
       " '1004186',\n",
       " '1005019',\n",
       " '1006357',\n",
       " '1007765',\n",
       " '1008937',\n",
       " '1009279']"
      ]
     },
     "execution_count": 14,
     "metadata": {},
     "output_type": "execute_result"
    }
   ],
   "source": [
    "top_ten_IDS"
   ]
  },
  {
   "cell_type": "code",
   "execution_count": 16,
   "metadata": {
    "tags": []
   },
   "outputs": [
    {
     "data": {
      "text/plain": [
       "['./20251_SW_NIFTI/SW_new_zip/1000556_20251_2_0.zip',\n",
       " './20217_fMRI_DICOM/fMRI_dicom_zip/1000556_20217_2_0.zip',\n",
       " './20225_rsfMRI_DICOM/rsfMRI_dicom_zip/1000556_20225_2_0.zip']"
      ]
     },
     "execution_count": 16,
     "metadata": {},
     "output_type": "execute_result"
    }
   ],
   "source": [
    "glob.glob('./*/*/*1000556*', recursive=True, root_dir=INPUT_DIR)[:10]"
   ]
  },
  {
   "cell_type": "markdown",
   "metadata": {},
   "source": [
    "# Copying files over"
   ]
  },
  {
   "cell_type": "code",
   "execution_count": 19,
   "metadata": {
    "tags": []
   },
   "outputs": [
    {
     "name": "stdout",
     "output_type": "stream",
     "text": [
      "./20217_fMRI_DICOM/fMRI_dicom_zip/1000556_20217_2_0.zip\n",
      "./20225_rsfMRI_DICOM/rsfMRI_dicom_zip/1000556_20225_2_0.zip\n",
      "./20251_SW_NIFTI/SW_new_zip/1000556_20251_2_0.zip\n",
      "./20217_fMRI_DICOM/fMRI_dicom_zip/1000620_20217_2_0.zip\n",
      "./20225_rsfMRI_DICOM/rsfMRI_dicom_zip/1000620_20225_2_0.zip\n",
      "./20251_SW_NIFTI/SW_new_zip/1000620_20251_2_0.zip\n",
      "./20217_fMRI_DICOM/fMRI_dicom_zip/1001419_20217_2_0.zip\n",
      "./20225_rsfMRI_DICOM/rsfMRI_dicom_zip/1001419_20225_2_0.zip\n",
      "./20251_SW_NIFTI/SW_new_zip/1001419_20251_2_0.zip\n",
      "./20217_fMRI_DICOM/fMRI_dicom_zip/1002607_20217_2_0.zip\n",
      "./20225_rsfMRI_DICOM/rsfMRI_dicom_zip/1002607_20225_2_0.zip\n",
      "./20217_fMRI_DICOM/fMRI_dicom_zip/1004186_20217_2_0.zip\n",
      "./20225_rsfMRI_DICOM/rsfMRI_dicom_zip/1004186_20225_2_0.zip\n",
      "./20251_SW_NIFTI/SW_new_zip/1004186_20251_2_0.zip\n",
      "./20217_fMRI_DICOM/fMRI_dicom_zip/1005019_20217_2_0.zip\n",
      "./20225_rsfMRI_DICOM/rsfMRI_dicom_zip/1005019_20225_2_0.zip\n",
      "./20251_SW_NIFTI/SW_new_zip/1005019_20251_2_0.zip\n",
      "./20217_fMRI_DICOM/fMRI_dicom_zip/1006357_20217_2_0.zip\n",
      "./20225_rsfMRI_DICOM/rsfMRI_dicom_zip/1006357_20225_2_0.zip\n",
      "./20251_SW_NIFTI/SW_new_zip/1006357_20251_2_0.zip\n",
      "./20217_fMRI_DICOM/fMRI_dicom_zip/1007765_20217_2_0.zip\n",
      "./20225_rsfMRI_DICOM/rsfMRI_dicom_zip/1007765_20225_2_0.zip\n",
      "./20251_SW_NIFTI/SW_new_zip/1007765_20251_2_0.zip\n",
      "./20217_fMRI_DICOM/fMRI_dicom_zip/1008937_20217_2_0.zip\n",
      "./20225_rsfMRI_DICOM/rsfMRI_dicom_zip/1008937_20225_2_0.zip\n",
      "./20251_SW_NIFTI/SW_new_zip/1008937_20251_2_0.zip\n",
      "./20217_fMRI_DICOM/fMRI_dicom_zip/1009279_20217_2_0.zip\n",
      "./20225_rsfMRI_DICOM/rsfMRI_dicom_zip/1009279_20225_2_0.zip\n",
      "./20251_SW_NIFTI/SW_new_zip/1009279_20251_2_0.zip\n"
     ]
    }
   ],
   "source": [
    "for subject_ID in top_ten_IDS:\n",
    "    for p in sorted(glob.glob('./*/*/*{}*'.format(subject_ID), recursive=True, root_dir=INPUT_DIR)):\n",
    "        if \"copies\" in p:\n",
    "            continue\n",
    "        print(p)\n",
    "        if os.path.isfile(os.path.join(INPUT_DIR, p)):\n",
    "            os.makedirs(os.path.join(OUTPUT_DIR, os.path.dirname(p)), exist_ok=True)\n",
    "            shutil.copy(os.path.join(INPUT_DIR, p), os.path.join(OUTPUT_DIR, p))\n",
    "\n"
   ]
  },
  {
   "cell_type": "code",
   "execution_count": 22,
   "metadata": {
    "tags": []
   },
   "outputs": [
    {
     "name": "stdout",
     "output_type": "stream",
     "text": [
      "./20217_fMRI_DICOM/fMRI_dicom_zip/1000556_20217_2_0.zip\n",
      "./20217_fMRI_DICOM/fMRI_dicom_zip/1000620_20217_2_0.zip\n",
      "./20217_fMRI_DICOM/fMRI_dicom_zip/1001419_20217_2_0.zip\n",
      "./20217_fMRI_DICOM/fMRI_dicom_zip/1002607_20217_2_0.zip\n",
      "./20217_fMRI_DICOM/fMRI_dicom_zip/1004186_20217_2_0.zip\n",
      "./20217_fMRI_DICOM/fMRI_dicom_zip/1005019_20217_2_0.zip\n",
      "./20217_fMRI_DICOM/fMRI_dicom_zip/1006357_20217_2_0.zip\n",
      "./20217_fMRI_DICOM/fMRI_dicom_zip/1007765_20217_2_0.zip\n",
      "./20217_fMRI_DICOM/fMRI_dicom_zip/1008937_20217_2_0.zip\n",
      "./20217_fMRI_DICOM/fMRI_dicom_zip/1009279_20217_2_0.zip\n",
      "./20225_rsfMRI_DICOM/rsfMRI_dicom_zip/1000556_20225_2_0.zip\n",
      "./20225_rsfMRI_DICOM/rsfMRI_dicom_zip/1000620_20225_2_0.zip\n",
      "./20225_rsfMRI_DICOM/rsfMRI_dicom_zip/1001419_20225_2_0.zip\n",
      "./20225_rsfMRI_DICOM/rsfMRI_dicom_zip/1002607_20225_2_0.zip\n",
      "./20225_rsfMRI_DICOM/rsfMRI_dicom_zip/1004186_20225_2_0.zip\n",
      "./20225_rsfMRI_DICOM/rsfMRI_dicom_zip/1005019_20225_2_0.zip\n",
      "./20225_rsfMRI_DICOM/rsfMRI_dicom_zip/1006357_20225_2_0.zip\n",
      "./20225_rsfMRI_DICOM/rsfMRI_dicom_zip/1007765_20225_2_0.zip\n",
      "./20225_rsfMRI_DICOM/rsfMRI_dicom_zip/1008937_20225_2_0.zip\n",
      "./20225_rsfMRI_DICOM/rsfMRI_dicom_zip/1009279_20225_2_0.zip\n",
      "./20225_rsfMRI_DICOM/rsfMRI_dicom_zip/2880100_20227_2_0.zip\n",
      "./20225_rsfMRI_DICOM/rsfMRI_dicom_zip/2880229_20227_2_0.zip\n",
      "./20225_rsfMRI_DICOM/rsfMRI_dicom_zip/2880901_20227_2_0.zip\n",
      "./20251_SW_NIFTI/SW_new_zip/1000556_20251_2_0.zip\n",
      "./20251_SW_NIFTI/SW_new_zip/1000620_20251_2_0.zip\n",
      "./20251_SW_NIFTI/SW_new_zip/1001419_20251_2_0.zip\n",
      "./20251_SW_NIFTI/SW_new_zip/1004186_20251_2_0.zip\n",
      "./20251_SW_NIFTI/SW_new_zip/1005019_20251_2_0.zip\n",
      "./20251_SW_NIFTI/SW_new_zip/1006357_20251_2_0.zip\n",
      "./20251_SW_NIFTI/SW_new_zip/1007765_20251_2_0.zip\n",
      "./20251_SW_NIFTI/SW_new_zip/1008937_20251_2_0.zip\n",
      "./20251_SW_NIFTI/SW_new_zip/1009279_20251_2_0.zip\n"
     ]
    }
   ],
   "source": [
    "for p in sorted(glob.glob('./*/*/*.zip'.format(subject_ID), recursive=True, root_dir=OUTPUT_DIR)):\n",
    "        if \"copies\" in p:\n",
    "            continue\n",
    "        print(p)\n",
    "        # if os.path.isfile(os.path.join(INPUT_DIR, p)):\n",
    "        #     os.makedirs(os.path.join(OUTPUT_DIR, os.path.dirname(p)), exist_ok=True)\n",
    "        #     shutil.copy(os.path.join(INPUT_DIR, p), os.path.join(OUTPUT_DIR, p))\n"
   ]
  },
  {
   "cell_type": "code",
   "execution_count": null,
   "metadata": {},
   "outputs": [],
   "source": []
  }
 ],
 "metadata": {
  "deepnote": {},
  "deepnote_execution_queue": [],
  "deepnote_notebook_id": "cf8fe3695d074ee7887fdf6459cbf5ce",
  "kernelspec": {
   "display_name": "fastai-2.7.10",
   "language": "python",
   "name": "fastai-2.7.10"
  },
  "language_info": {
   "codemirror_mode": {
    "name": "ipython",
    "version": 3
   },
   "file_extension": ".py",
   "mimetype": "text/x-python",
   "name": "python",
   "nbconvert_exporter": "python",
   "pygments_lexer": "ipython3",
   "version": "3.10.4"
  }
 },
 "nbformat": 4,
 "nbformat_minor": 4
}

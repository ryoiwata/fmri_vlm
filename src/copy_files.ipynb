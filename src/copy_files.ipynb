{
 "cells": [
  {
   "cell_type": "markdown",
   "metadata": {
    "cell_id": "c3a02adc9e884466bc8c79db549cc3d2",
    "deepnote_cell_type": "text-cell-h1",
    "formattedRanges": [
     {
      "fromCodePoint": 0,
      "marks": {
       "bold": true,
       "underline": true
      },
      "toCodePoint": 17,
      "type": "marks"
     }
    ]
   },
   "source": [
    "# Copy files"
   ]
  },
  {
   "cell_type": "markdown",
   "metadata": {
    "cell_id": "4546bee655b14a5dbf393161f1228e60",
    "deepnote_cell_type": "text-cell-p",
    "formattedRanges": []
   },
   "source": [
    "Brief 1-2 sentence description of notebook."
   ]
  },
  {
   "cell_type": "markdown",
   "metadata": {},
   "source": [
    "TODO: Supplement the description\n",
    "- Notebook that extracts the timestamps and gets the time that tones played"
   ]
  },
  {
   "cell_type": "code",
   "execution_count": 2,
   "metadata": {
    "tags": []
   },
   "outputs": [],
   "source": [
    "# Imports of all used packages and libraries\n",
    "import sys\n",
    "import os\n",
    "import glob\n",
    "from collections import defaultdict"
   ]
  },
  {
   "cell_type": "code",
   "execution_count": 10,
   "metadata": {
    "tags": []
   },
   "outputs": [],
   "source": [
    "import zipfile\n"
   ]
  },
  {
   "cell_type": "markdown",
   "metadata": {},
   "source": [
    "# Functions"
   ]
  },
  {
   "cell_type": "markdown",
   "metadata": {
    "cell_id": "d290bac2c17940bfbc0f9296beaf70e5",
    "deepnote_cell_type": "text-cell-h2",
    "formattedRanges": []
   },
   "source": [
    "## Inputs & Data"
   ]
  },
  {
   "cell_type": "markdown",
   "metadata": {
    "cell_id": "e528ce19c608425292151930d380f49f",
    "deepnote_cell_type": "text-cell-p",
    "formattedRanges": []
   },
   "source": [
    "- Explanation of each input and where it comes from."
   ]
  },
  {
   "cell_type": "markdown",
   "metadata": {},
   "source": [
    "Inputs and Required data loading\n",
    "- input variable names are in all caps snake case\n",
    "- Whenever an input changes or is used for processing \n",
    "- The variables are all lower in snake case"
   ]
  },
  {
   "cell_type": "code",
   "execution_count": 3,
   "metadata": {
    "cell_id": "6cf83a5811054461a718a71673d09aab",
    "deepnote_cell_type": "code",
    "deepnote_to_be_reexecuted": false,
    "execution_millis": 373,
    "execution_start": 1691424003628,
    "source_hash": null,
    "tags": []
   },
   "outputs": [],
   "source": [
    "# Path of the directory that contains the Spike Gadgets recording and the exported timestamp files\n",
    "# Exported with this tool https://docs.spikegadgets.com/en/latest/basic/ExportFunctions.html\n",
    "# Export these files:\n",
    "    # -raw – Continuous raw band export.\n",
    "    # -dio – Digital IO channel state change export.\n",
    "    # -analogio – Continuous analog IO export.\n",
    "# INPUT_DIR = \"/scratch/back_up/reward_competition_extention/final_proc/phy_curation\"\n",
    "# INPUT_DIR = \"/scratch/back_up/reward_competition_extention/data/rce_cohort_3\"\n",
    "INPUT_DIR = \"/orange/ruogu.fang/data/UKB/brain\"\n",
    "OUTPUT_DIR = os.path.join(\"/blue/ruogu.fang/ryoi360/projects/fmri_vlm/data/UKB/brain\") # where data is saved should always be shown in the inputs\n",
    "os.makedirs(OUTPUT_DIR, exist_ok=True)\n"
   ]
  },
  {
   "cell_type": "markdown",
   "metadata": {},
   "source": []
  },
  {
   "cell_type": "markdown",
   "metadata": {},
   "source": [
    "# Processing"
   ]
  },
  {
   "cell_type": "markdown",
   "metadata": {},
   "source": []
  },
  {
   "cell_type": "markdown",
   "metadata": {},
   "source": [
    "# Copying the files over"
   ]
  },
  {
   "cell_type": "code",
   "execution_count": 4,
   "metadata": {
    "tags": []
   },
   "outputs": [],
   "source": [
    "import shutil\n",
    "import glob\n",
    "import os\n",
    "\n"
   ]
  },
  {
   "cell_type": "code",
   "execution_count": 5,
   "metadata": {},
   "outputs": [],
   "source": [
    "\n",
    "# for p in sorted(glob.glob('*/*/*.npy', recursive=True, root_dir=INPUT_DIR)):\n",
    "#     if \"copies\" in p:\n",
    "#         continue\n",
    "#     print(p)\n",
    "#     if os.path.isfile(os.path.join(INPUT_DIR, p)):\n",
    "#         os.makedirs(os.path.join(OUTPUT_DIR, os.path.dirname(p)), exist_ok=True)\n",
    "#         if not os.path.exists(os.path.join(OUTPUT_DIR, p)):\n",
    "#             shutil.copy(os.path.join(INPUT_DIR, p), os.path.join(OUTPUT_DIR, p))\n",
    "#         else:\n",
    "#             print(\"{} exists\".format(os.path.join(OUTPUT_DIR, p)))\n",
    "\n"
   ]
  },
  {
   "cell_type": "code",
   "execution_count": 28,
   "metadata": {
    "tags": []
   },
   "outputs": [],
   "source": [
    "top_ten_IDS = sorted(glob.glob('/orange/ruogu.fang/data/UKB/brain/20227_rsfMRI_NIFTI/rsfMRI_zip/*', recursive=True, root_dir=INPUT_DIR))[:10]"
   ]
  },
  {
   "cell_type": "code",
   "execution_count": 29,
   "metadata": {
    "tags": []
   },
   "outputs": [],
   "source": [
    "top_ten_IDS = [os.path.basename(path).split(\"_\")[0] for path in top_ten_IDS]"
   ]
  },
  {
   "cell_type": "code",
   "execution_count": 30,
   "metadata": {
    "tags": []
   },
   "outputs": [
    {
     "data": {
      "text/plain": [
       "['1000023',\n",
       " '1000086',\n",
       " '1000317',\n",
       " '1000503',\n",
       " '1000665',\n",
       " '1000768',\n",
       " '1000925',\n",
       " '1001109',\n",
       " '1001390',\n",
       " '1001631']"
      ]
     },
     "execution_count": 30,
     "metadata": {},
     "output_type": "execute_result"
    }
   ],
   "source": [
    "top_ten_IDS"
   ]
  },
  {
   "cell_type": "markdown",
   "metadata": {},
   "source": [
    "# Copying files over"
   ]
  },
  {
   "cell_type": "code",
   "execution_count": 32,
   "metadata": {
    "tags": []
   },
   "outputs": [
    {
     "name": "stdout",
     "output_type": "stream",
     "text": [
      "./20227_rsfMRI_NIFTI/rsfMRI_zip/1000023_20227_2_0.zip\n",
      "./20249_fMRI_NIFTI/fMRI_zip/1000023_20249_2_0.zip\n",
      "./20251_SW_NIFTI/SW_zip/1000023_20251_2_0.zip\n",
      "./20227_rsfMRI_NIFTI/rsfMRI_zip/1000086_20227_2_0.zip\n",
      "./20249_fMRI_NIFTI/fMRI_zip/1000086_20249_2_0.zip\n",
      "./20251_SW_NIFTI/SW_zip/1000086_20251_2_0.zip\n",
      "./20227_rsfMRI_NIFTI/rsfMRI_zip/1000317_20227_2_0.zip\n",
      "./20249_fMRI_NIFTI/fMRI_zip/1000317_20249_2_0.zip\n",
      "./20251_SW_NIFTI/SW_zip/1000317_20251_2_0.zip\n",
      "./20227_rsfMRI_NIFTI/rsfMRI_zip/1000503_20227_2_0.zip\n",
      "./20249_fMRI_NIFTI/fMRI_zip/1000503_20249_2_0.zip\n",
      "./20251_SW_NIFTI/SW_zip/1000503_20251_2_0.zip\n",
      "./20227_rsfMRI_NIFTI/rsfMRI_zip/1000665_20227_2_0.zip\n",
      "./20249_fMRI_NIFTI/fMRI_zip/1000665_20249_2_0.zip\n",
      "./20251_SW_NIFTI/SW_zip/1000665_20251_2_0.zip\n",
      "./20227_rsfMRI_NIFTI/rsfMRI_zip/1000768_20227_2_0.zip\n",
      "./20249_fMRI_NIFTI/fMRI_zip/1000768_20249_2_0.zip\n",
      "./20251_SW_NIFTI/SW_zip/1000768_20251_2_0.zip\n",
      "./20227_rsfMRI_NIFTI/rsfMRI_zip/1000925_20227_2_0.zip\n",
      "./20249_fMRI_NIFTI/fMRI_zip/1000925_20249_2_0.zip\n",
      "./20227_rsfMRI_NIFTI/rsfMRI_zip/1001109_20227_2_0.zip\n",
      "./20249_fMRI_NIFTI/fMRI_zip/1001109_20249_2_0.zip\n",
      "./20251_SW_NIFTI/SW_zip/1001109_20251_2_0.zip\n",
      "./20227_rsfMRI_NIFTI/rsfMRI_zip/1001390_20227_2_0.zip\n",
      "./20249_fMRI_NIFTI/fMRI_zip/1001390_20249_2_0.zip\n",
      "./20251_SW_NIFTI/SW_zip/1001390_20251_2_0.zip\n",
      "./20227_rsfMRI_NIFTI/rsfMRI_zip/1001631_20227_2_0.zip\n",
      "./20249_fMRI_NIFTI/fMRI_zip/1001631_20249_2_0.zip\n",
      "./20251_SW_NIFTI/SW_zip/1001631_20251_2_0.zip\n"
     ]
    }
   ],
   "source": [
    "for subject_ID in top_ten_IDS:\n",
    "    for p in sorted(glob.glob('./*/*/*{}*'.format(subject_ID), recursive=True, root_dir=INPUT_DIR)):\n",
    "        if \"copies\" in p:\n",
    "            continue\n",
    "        print(p)\n",
    "        if os.path.isfile(os.path.join(INPUT_DIR, p)):\n",
    "            os.makedirs(os.path.join(OUTPUT_DIR, os.path.dirname(p)), exist_ok=True)\n",
    "            shutil.copy(os.path.join(INPUT_DIR, p), os.path.join(OUTPUT_DIR, p))\n",
    "\n"
   ]
  },
  {
   "cell_type": "code",
   "execution_count": 16,
   "metadata": {
    "tags": []
   },
   "outputs": [],
   "source": [
    "def unzip_files_recursively(root_dir):\n",
    "    \"\"\"\n",
    "    Recursively walk through root_dir, find .zip files, and unzip them.\n",
    "    If a .zip file is in a folder containing 'zip' in its name, it will be\n",
    "    extracted to a parallel folder with 'unzip' in its name instead.\n",
    "    \"\"\"\n",
    "    for dirpath, dirnames, filenames in os.walk(root_dir):\n",
    "        for filename in filenames:\n",
    "            if filename.lower().endswith('.zip'):\n",
    "                zip_file_path = os.path.join(dirpath, filename)\n",
    "                \n",
    "                # Remove the .zip extension to get the extraction folder name\n",
    "                extraction_folder_name = os.path.splitext(filename)[0]\n",
    "                \n",
    "                # Check if the parent folder name contains 'zip'\n",
    "                parent_folder = os.path.basename(dirpath)\n",
    "                if 'zip' in parent_folder.lower():\n",
    "                    # Replace 'zip' with 'unzip' in the parent folder name\n",
    "                    new_parent_folder = parent_folder.lower().replace('zip', 'unzip')\n",
    "                    \n",
    "                    # The parent of the parent folder\n",
    "                    parent_of_parent = os.path.dirname(dirpath)\n",
    "                    \n",
    "                    # Construct the path to the new folder\n",
    "                    new_unzip_folder_path = os.path.join(parent_of_parent, new_parent_folder)\n",
    "                    \n",
    "                    # Final path: new folder + subfolder named after the ZIP file\n",
    "                    final_extraction_path = os.path.join(new_unzip_folder_path, extraction_folder_name)\n",
    "                    \n",
    "                else:\n",
    "                    # If 'zip' is not in the parent folder, just unzip in the same folder\n",
    "                    final_extraction_path = os.path.join(dirpath, extraction_folder_name)\n",
    "                \n",
    "                # Make sure the target extraction directory exists\n",
    "                os.makedirs(final_extraction_path, exist_ok=True)\n",
    "                \n",
    "                # Unzip the file\n",
    "                with zipfile.ZipFile(zip_file_path, 'r') as zip_ref:\n",
    "                    zip_ref.extractall(final_extraction_path)\n",
    "                \n",
    "                print(f\"Unzipped '{zip_file_path}' to '{final_extraction_path}'\")"
   ]
  },
  {
   "cell_type": "code",
   "execution_count": 33,
   "metadata": {
    "tags": []
   },
   "outputs": [
    {
     "name": "stdout",
     "output_type": "stream",
     "text": [
      "Unzipped '../data/UKB/brain/20249_fMRI_NIFTI/fMRI_zip/1000503_20249_2_0.zip' to '../data/UKB/brain/20249_fMRI_NIFTI/fmri_unzip/1000503_20249_2_0'\n",
      "Unzipped '../data/UKB/brain/20249_fMRI_NIFTI/fMRI_zip/1000665_20249_2_0.zip' to '../data/UKB/brain/20249_fMRI_NIFTI/fmri_unzip/1000665_20249_2_0'\n",
      "Unzipped '../data/UKB/brain/20249_fMRI_NIFTI/fMRI_zip/1000023_20249_2_0.zip' to '../data/UKB/brain/20249_fMRI_NIFTI/fmri_unzip/1000023_20249_2_0'\n",
      "Unzipped '../data/UKB/brain/20249_fMRI_NIFTI/fMRI_zip/1001390_20249_2_0.zip' to '../data/UKB/brain/20249_fMRI_NIFTI/fmri_unzip/1001390_20249_2_0'\n",
      "Unzipped '../data/UKB/brain/20249_fMRI_NIFTI/fMRI_zip/1000317_20249_2_0.zip' to '../data/UKB/brain/20249_fMRI_NIFTI/fmri_unzip/1000317_20249_2_0'\n",
      "Unzipped '../data/UKB/brain/20249_fMRI_NIFTI/fMRI_zip/1001631_20249_2_0.zip' to '../data/UKB/brain/20249_fMRI_NIFTI/fmri_unzip/1001631_20249_2_0'\n",
      "Unzipped '../data/UKB/brain/20249_fMRI_NIFTI/fMRI_zip/1000925_20249_2_0.zip' to '../data/UKB/brain/20249_fMRI_NIFTI/fmri_unzip/1000925_20249_2_0'\n",
      "Unzipped '../data/UKB/brain/20249_fMRI_NIFTI/fMRI_zip/1000768_20249_2_0.zip' to '../data/UKB/brain/20249_fMRI_NIFTI/fmri_unzip/1000768_20249_2_0'\n",
      "Unzipped '../data/UKB/brain/20249_fMRI_NIFTI/fMRI_zip/1000086_20249_2_0.zip' to '../data/UKB/brain/20249_fMRI_NIFTI/fmri_unzip/1000086_20249_2_0'\n",
      "Unzipped '../data/UKB/brain/20249_fMRI_NIFTI/fMRI_zip/1001109_20249_2_0.zip' to '../data/UKB/brain/20249_fMRI_NIFTI/fmri_unzip/1001109_20249_2_0'\n",
      "Unzipped '../data/UKB/brain/20227_rsfMRI_NIFTI/rsfMRI_zip/1000768_20227_2_0.zip' to '../data/UKB/brain/20227_rsfMRI_NIFTI/rsfmri_unzip/1000768_20227_2_0'\n",
      "Unzipped '../data/UKB/brain/20227_rsfMRI_NIFTI/rsfMRI_zip/1000925_20227_2_0.zip' to '../data/UKB/brain/20227_rsfMRI_NIFTI/rsfmri_unzip/1000925_20227_2_0'\n",
      "Unzipped '../data/UKB/brain/20227_rsfMRI_NIFTI/rsfMRI_zip/1000665_20227_2_0.zip' to '../data/UKB/brain/20227_rsfMRI_NIFTI/rsfmri_unzip/1000665_20227_2_0'\n",
      "Unzipped '../data/UKB/brain/20227_rsfMRI_NIFTI/rsfMRI_zip/1000317_20227_2_0.zip' to '../data/UKB/brain/20227_rsfMRI_NIFTI/rsfmri_unzip/1000317_20227_2_0'\n",
      "Unzipped '../data/UKB/brain/20227_rsfMRI_NIFTI/rsfMRI_zip/1001109_20227_2_0.zip' to '../data/UKB/brain/20227_rsfMRI_NIFTI/rsfmri_unzip/1001109_20227_2_0'\n",
      "Unzipped '../data/UKB/brain/20227_rsfMRI_NIFTI/rsfMRI_zip/1000086_20227_2_0.zip' to '../data/UKB/brain/20227_rsfMRI_NIFTI/rsfmri_unzip/1000086_20227_2_0'\n",
      "Unzipped '../data/UKB/brain/20227_rsfMRI_NIFTI/rsfMRI_zip/1001390_20227_2_0.zip' to '../data/UKB/brain/20227_rsfMRI_NIFTI/rsfmri_unzip/1001390_20227_2_0'\n",
      "Unzipped '../data/UKB/brain/20227_rsfMRI_NIFTI/rsfMRI_zip/1001631_20227_2_0.zip' to '../data/UKB/brain/20227_rsfMRI_NIFTI/rsfmri_unzip/1001631_20227_2_0'\n",
      "Unzipped '../data/UKB/brain/20227_rsfMRI_NIFTI/rsfMRI_zip/1000023_20227_2_0.zip' to '../data/UKB/brain/20227_rsfMRI_NIFTI/rsfmri_unzip/1000023_20227_2_0'\n",
      "Unzipped '../data/UKB/brain/20227_rsfMRI_NIFTI/rsfMRI_zip/1000503_20227_2_0.zip' to '../data/UKB/brain/20227_rsfMRI_NIFTI/rsfmri_unzip/1000503_20227_2_0'\n",
      "Unzipped '../data/UKB/brain/20251_SW_NIFTI/SW_zip/1001390_20251_2_0.zip' to '../data/UKB/brain/20251_SW_NIFTI/sw_unzip/1001390_20251_2_0'\n",
      "Unzipped '../data/UKB/brain/20251_SW_NIFTI/SW_zip/1000768_20251_2_0.zip' to '../data/UKB/brain/20251_SW_NIFTI/sw_unzip/1000768_20251_2_0'\n",
      "Unzipped '../data/UKB/brain/20251_SW_NIFTI/SW_zip/1000665_20251_2_0.zip' to '../data/UKB/brain/20251_SW_NIFTI/sw_unzip/1000665_20251_2_0'\n",
      "Unzipped '../data/UKB/brain/20251_SW_NIFTI/SW_zip/1000023_20251_2_0.zip' to '../data/UKB/brain/20251_SW_NIFTI/sw_unzip/1000023_20251_2_0'\n",
      "Unzipped '../data/UKB/brain/20251_SW_NIFTI/SW_zip/1000503_20251_2_0.zip' to '../data/UKB/brain/20251_SW_NIFTI/sw_unzip/1000503_20251_2_0'\n",
      "Unzipped '../data/UKB/brain/20251_SW_NIFTI/SW_zip/1001109_20251_2_0.zip' to '../data/UKB/brain/20251_SW_NIFTI/sw_unzip/1001109_20251_2_0'\n",
      "Unzipped '../data/UKB/brain/20251_SW_NIFTI/SW_zip/1001631_20251_2_0.zip' to '../data/UKB/brain/20251_SW_NIFTI/sw_unzip/1001631_20251_2_0'\n",
      "Unzipped '../data/UKB/brain/20251_SW_NIFTI/SW_zip/1000317_20251_2_0.zip' to '../data/UKB/brain/20251_SW_NIFTI/sw_unzip/1000317_20251_2_0'\n",
      "Unzipped '../data/UKB/brain/20251_SW_NIFTI/SW_zip/1000086_20251_2_0.zip' to '../data/UKB/brain/20251_SW_NIFTI/sw_unzip/1000086_20251_2_0'\n"
     ]
    }
   ],
   "source": [
    "unzip_files_recursively(\"../data/UKB/brain\")"
   ]
  },
  {
   "cell_type": "code",
   "execution_count": 13,
   "metadata": {
    "tags": []
   },
   "outputs": [
    {
     "name": "stdout",
     "output_type": "stream",
     "text": [
      "./20217_fMRI_DICOM/fMRI_dicom_zip/1000556_20217_2_0.zip\n"
     ]
    },
    {
     "ename": "NameError",
     "evalue": "name 'output_directory' is not defined",
     "output_type": "error",
     "traceback": [
      "\u001b[0;31m---------------------------------------------------------------------------\u001b[0m",
      "\u001b[0;31mNameError\u001b[0m                                 Traceback (most recent call last)",
      "Input \u001b[0;32mIn [13]\u001b[0m, in \u001b[0;36m<cell line: 1>\u001b[0;34m()\u001b[0m\n\u001b[1;32m      4\u001b[0m \u001b[38;5;28mprint\u001b[39m(p)\n\u001b[1;32m      5\u001b[0m \u001b[38;5;28;01mif\u001b[39;00m os\u001b[38;5;241m.\u001b[39mpath\u001b[38;5;241m.\u001b[39misfile(os\u001b[38;5;241m.\u001b[39mpath\u001b[38;5;241m.\u001b[39mjoin(INPUT_DIR, p)):\n\u001b[0;32m----> 6\u001b[0m     \u001b[43moutput_directory\u001b[49m \n\u001b[1;32m      7\u001b[0m     \u001b[38;5;66;03m# with zipfile.ZipFile(p, 'r') as zip_ref:\u001b[39;00m\n\u001b[1;32m      8\u001b[0m     \u001b[38;5;66;03m#     zip_ref.extractall(directory_to_extract_to)\u001b[39;00m\n\u001b[1;32m      9\u001b[0m     \u001b[38;5;28;01mbreak\u001b[39;00m\n",
      "\u001b[0;31mNameError\u001b[0m: name 'output_directory' is not defined"
     ]
    }
   ],
   "source": [
    "for p in sorted(glob.glob('./*/*/*.zip', recursive=True, root_dir=OUTPUT_DIR)):\n",
    "        if \"copies\" in p:\n",
    "            continue\n",
    "        print(p)\n",
    "        if os.path.isfile(os.path.join(INPUT_DIR, p)):\n",
    "            output_directory \n",
    "            # with zipfile.ZipFile(p, 'r') as zip_ref:\n",
    "            #     zip_ref.extractall(directory_to_extract_to)\n",
    "            break\n",
    "        #     os.makedirs(os.path.join(OUTPUT_DIR, os.path.dirname(p)), exist_ok=True)\n",
    "        #     shutil.copy(os.path.join(INPUT_DIR, p), os.path.join(OUTPUT_DIR, p))\n"
   ]
  },
  {
   "cell_type": "code",
   "execution_count": null,
   "metadata": {},
   "outputs": [],
   "source": []
  }
 ],
 "metadata": {
  "deepnote": {},
  "deepnote_execution_queue": [],
  "deepnote_notebook_id": "cf8fe3695d074ee7887fdf6459cbf5ce",
  "kernelspec": {
   "display_name": "fastai-2.7.10",
   "language": "python",
   "name": "fastai-2.7.10"
  },
  "language_info": {
   "codemirror_mode": {
    "name": "ipython",
    "version": 3
   },
   "file_extension": ".py",
   "mimetype": "text/x-python",
   "name": "python",
   "nbconvert_exporter": "python",
   "pygments_lexer": "ipython3",
   "version": "3.10.4"
  }
 },
 "nbformat": 4,
 "nbformat_minor": 4
}

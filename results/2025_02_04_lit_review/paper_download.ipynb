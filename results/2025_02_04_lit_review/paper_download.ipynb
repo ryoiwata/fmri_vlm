{
 "cells": [
  {
   "cell_type": "code",
   "execution_count": 1,
   "id": "82ef41fd-81ee-4fbe-80a0-e809e86f2323",
   "metadata": {
    "tags": []
   },
   "outputs": [],
   "source": [
    "import os\n",
    "import zipfile\n",
    "import shutil\n",
    "import subprocess\n",
    "\n",
    "\n",
    "import pandas as pd\n"
   ]
  },
  {
   "cell_type": "code",
   "execution_count": null,
   "id": "e569af5b-050a-4a0c-b536-b3a73ee00adb",
   "metadata": {},
   "outputs": [],
   "source": []
  }
 ],
 "metadata": {
  "kernelspec": {
   "display_name": "nilabel_env",
   "language": "python",
   "name": "nibabel_env"
  },
  "language_info": {
   "codemirror_mode": {
    "name": "ipython",
    "version": 3
   },
   "file_extension": ".py",
   "mimetype": "text/x-python",
   "name": "python",
   "nbconvert_exporter": "python",
   "pygments_lexer": "ipython3",
   "version": "3.13.1"
  }
 },
 "nbformat": 4,
 "nbformat_minor": 5
}

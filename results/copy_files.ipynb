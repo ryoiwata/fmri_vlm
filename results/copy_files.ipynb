{
 "cells": [
  {
   "cell_type": "markdown",
   "metadata": {
    "cell_id": "c3a02adc9e884466bc8c79db549cc3d2",
    "deepnote_cell_type": "text-cell-h1",
    "formattedRanges": [
     {
      "fromCodePoint": 0,
      "marks": {
       "bold": true,
       "underline": true
      },
      "toCodePoint": 17,
      "type": "marks"
     }
    ]
   },
   "source": [
    "# Copy files"
   ]
  },
  {
   "cell_type": "markdown",
   "metadata": {
    "cell_id": "4546bee655b14a5dbf393161f1228e60",
    "deepnote_cell_type": "text-cell-p",
    "formattedRanges": []
   },
   "source": [
    "Brief 1-2 sentence description of notebook."
   ]
  },
  {
   "cell_type": "markdown",
   "metadata": {},
   "source": [
    "TODO: Supplement the description\n",
    "- Notebook that extracts the timestamps and gets the time that tones played"
   ]
  },
  {
   "cell_type": "code",
   "execution_count": 1,
   "metadata": {
    "tags": []
   },
   "outputs": [],
   "source": [
    "# Imports of all used packages and libraries\n",
    "import sys\n",
    "import os\n",
    "import glob\n",
    "from collections import defaultdict"
   ]
  },
  {
   "cell_type": "markdown",
   "metadata": {},
   "source": [
    "# Functions"
   ]
  },
  {
   "cell_type": "markdown",
   "metadata": {
    "cell_id": "d290bac2c17940bfbc0f9296beaf70e5",
    "deepnote_cell_type": "text-cell-h2",
    "formattedRanges": []
   },
   "source": [
    "## Inputs & Data"
   ]
  },
  {
   "cell_type": "markdown",
   "metadata": {
    "cell_id": "e528ce19c608425292151930d380f49f",
    "deepnote_cell_type": "text-cell-p",
    "formattedRanges": []
   },
   "source": [
    "- Explanation of each input and where it comes from."
   ]
  },
  {
   "cell_type": "markdown",
   "metadata": {},
   "source": [
    "Inputs and Required data loading\n",
    "- input variable names are in all caps snake case\n",
    "- Whenever an input changes or is used for processing \n",
    "- The variables are all lower in snake case"
   ]
  },
  {
   "cell_type": "code",
   "execution_count": 17,
   "metadata": {
    "cell_id": "6cf83a5811054461a718a71673d09aab",
    "deepnote_cell_type": "code",
    "deepnote_to_be_reexecuted": false,
    "execution_millis": 373,
    "execution_start": 1691424003628,
    "source_hash": null
   },
   "outputs": [],
   "source": [
    "# Path of the directory that contains the Spike Gadgets recording and the exported timestamp files\n",
    "# Exported with this tool https://docs.spikegadgets.com/en/latest/basic/ExportFunctions.html\n",
    "# Export these files:\n",
    "    # -raw – Continuous raw band export.\n",
    "    # -dio – Digital IO channel state change export.\n",
    "    # -analogio – Continuous analog IO export.\n",
    "# INPUT_DIR = \"/scratch/back_up/reward_competition_extention/final_proc/phy_curation\"\n",
    "# INPUT_DIR = \"/scratch/back_up/reward_competition_extention/data/rce_cohort_3\"\n",
    "INPUT_DIR = \"/orange/ruogu.fang/zeyun.zhao\"\n",
    "OUTPUT_DIR = os.path.join(\"/home/ryoi360/python\") # where data is saved should always be shown in the inputs\n",
    "os.makedirs(OUTPUT_DIR, exist_ok=True)\n"
   ]
  },
  {
   "cell_type": "markdown",
   "metadata": {},
   "source": []
  },
  {
   "cell_type": "markdown",
   "metadata": {},
   "source": [
    "# Processing"
   ]
  },
  {
   "cell_type": "markdown",
   "metadata": {},
   "source": []
  },
  {
   "cell_type": "markdown",
   "metadata": {},
   "source": [
    "# Copying the files over"
   ]
  },
  {
   "cell_type": "code",
   "execution_count": 18,
   "metadata": {},
   "outputs": [],
   "source": [
    "import shutil\n",
    "import glob\n",
    "import os\n",
    "\n"
   ]
  },
  {
   "cell_type": "code",
   "execution_count": 19,
   "metadata": {},
   "outputs": [],
   "source": [
    "\n",
    "# for p in sorted(glob.glob('*/*/*.npy', recursive=True, root_dir=INPUT_DIR)):\n",
    "#     if \"copies\" in p:\n",
    "#         continue\n",
    "#     print(p)\n",
    "#     if os.path.isfile(os.path.join(INPUT_DIR, p)):\n",
    "#         os.makedirs(os.path.join(OUTPUT_DIR, os.path.dirname(p)), exist_ok=True)\n",
    "#         if not os.path.exists(os.path.join(OUTPUT_DIR, p)):\n",
    "#             shutil.copy(os.path.join(INPUT_DIR, p), os.path.join(OUTPUT_DIR, p))\n",
    "#         else:\n",
    "#             print(\"{} exists\".format(os.path.join(OUTPUT_DIR, p)))\n",
    "\n"
   ]
  },
  {
   "cell_type": "code",
   "execution_count": 26,
   "metadata": {
    "tags": []
   },
   "outputs": [
    {
     "name": "stdout",
     "output_type": "stream",
     "text": [
      "FSL/bb_FSL/fsl_sub/fsl_sub_env/lib/python3.8/contextlib.py\n",
      "FSL/bb_FSL/fsl_sub/fsl_sub_env/lib/python3.8/gettext.py\n",
      "FSL/bb_FSL/fsl_sub/fsl_sub_env/lib/python3.8/tempfile.py\n",
      "FSL/bb_FSL/fsl_sub/fsl_sub_env/lib/python3.8/warnings.py\n",
      "FSL/bb_FSL/fsl_sub/fsl_sub_env/lib/python3.8/py_compile.py\n",
      "FSL/bb_FSL/fsl_sub/fsl_sub_env/lib/python3.8/symtable.py\n",
      "FSL/bb_FSL/fsl_sub/fsl_sub_env/lib/python3.8/_sysconfigdata_powerpc64le_conda_cos7_linux_gnu.py\n",
      "FSL/bb_FSL/fsl_sub/fsl_sub_env/lib/python3.8/_sysconfigdata_aarch64_conda_cos7_linux_gnu.py\n",
      "FSL/bb_FSL/fsl_sub/fsl_sub_env/lib/python3.8/sysconfig.py\n",
      "FSL/bb_FSL/fsl_sub/fsl_sub_env/lib/python3.8/_strptime.py\n",
      "FSL/bb_FSL/fsl_sub/fsl_sub_env/lib/python3.8/genericpath.py\n",
      "FSL/bb_FSL/fsl_sub/fsl_sub_env/lib/python3.8/_pydecimal.py\n",
      "FSL/bb_FSL/fsl_sub/fsl_sub_env/lib/python3.8/base64.py\n",
      "FSL/bb_FSL/fsl_sub/fsl_sub_env/lib/python3.8/subprocess.py\n",
      "FSL/bb_FSL/fsl_sub/fsl_sub_env/lib/python3.8/tabnanny.py\n",
      "FSL/bb_FSL/fsl_sub/fsl_sub_env/lib/python3.8/pty.py\n",
      "FSL/bb_FSL/fsl_sub/fsl_sub_env/lib/python3.8/_dummy_thread.py\n",
      "FSL/bb_FSL/fsl_sub/fsl_sub_env/lib/python3.8/_osx_support.py\n",
      "FSL/bb_FSL/fsl_sub/fsl_sub_env/lib/python3.8/_threading_local.py\n",
      "FSL/bb_FSL/fsl_sub/fsl_sub_env/lib/python3.8/typing.py\n",
      "FSL/bb_FSL/fsl_sub/fsl_sub_env/lib/python3.8/nntplib.py\n",
      "FSL/bb_FSL/fsl_sub/fsl_sub_env/lib/python3.8/pyclbr.py\n",
      "FSL/bb_FSL/fsl_sub/fsl_sub_env/lib/python3.8/nturl2path.py\n",
      "FSL/bb_FSL/fsl_sub/fsl_sub_env/lib/python3.8/plistlib.py\n",
      "FSL/bb_FSL/fsl_sub/fsl_sub_env/lib/python3.8/locale.py\n",
      "FSL/bb_FSL/fsl_sub/fsl_sub_env/lib/python3.8/selectors.py\n",
      "FSL/bb_FSL/fsl_sub/fsl_sub_env/lib/python3.8/textwrap.py\n",
      "FSL/bb_FSL/fsl_sub/fsl_sub_env/lib/python3.8/opcode.py\n",
      "FSL/bb_FSL/fsl_sub/fsl_sub_env/lib/python3.8/_sysconfigdata_x86_64_apple_darwin13_4_0.py\n",
      "FSL/bb_FSL/fsl_sub/fsl_sub_env/lib/python3.8/mailbox.py\n",
      "FSL/bb_FSL/fsl_sub/fsl_sub_env/lib/python3.8/asynchat.py\n",
      "FSL/bb_FSL/fsl_sub/fsl_sub_env/lib/python3.8/getpass.py\n",
      "FSL/bb_FSL/fsl_sub/fsl_sub_env/lib/python3.8/zipfile.py\n",
      "FSL/bb_FSL/fsl_sub/fsl_sub_env/lib/python3.8/ntpath.py\n",
      "FSL/bb_FSL/fsl_sub/fsl_sub_env/lib/python3.8/poplib.py\n",
      "FSL/bb_FSL/fsl_sub/fsl_sub_env/lib/python3.8/this.py\n",
      "FSL/bb_FSL/fsl_sub/fsl_sub_env/lib/python3.8/heapq.py\n",
      "FSL/bb_FSL/fsl_sub/fsl_sub_env/lib/python3.8/functools.py\n",
      "FSL/bb_FSL/fsl_sub/fsl_sub_env/lib/python3.8/sre_compile.py\n",
      "FSL/bb_FSL/fsl_sub/fsl_sub_env/lib/python3.8/cgitb.py\n",
      "FSL/bb_FSL/fsl_sub/fsl_sub_env/lib/python3.8/sre_parse.py\n",
      "FSL/bb_FSL/fsl_sub/fsl_sub_env/lib/python3.8/modulefinder.py\n",
      "FSL/bb_FSL/fsl_sub/fsl_sub_env/lib/python3.8/_py_abc.py\n",
      "FSL/bb_FSL/fsl_sub/fsl_sub_env/lib/python3.8/webbrowser.py\n",
      "FSL/bb_FSL/fsl_sub/fsl_sub_env/lib/python3.8/symbol.py\n",
      "FSL/bb_FSL/fsl_sub/fsl_sub_env/lib/python3.8/pipes.py\n",
      "FSL/bb_FSL/fsl_sub/fsl_sub_env/lib/python3.8/dummy_threading.py\n",
      "FSL/bb_FSL/fsl_sub/fsl_sub_env/lib/python3.8/ftplib.py\n",
      "FSL/bb_FSL/fsl_sub/fsl_sub_env/lib/python3.8/telnetlib.py\n",
      "FSL/bb_FSL/fsl_sub/fsl_sub_env/lib/python3.8/tty.py\n",
      "FSL/bb_FSL/fsl_sub/fsl_sub_env/lib/python3.8/bdb.py\n",
      "FSL/bb_FSL/fsl_sub/fsl_sub_env/lib/python3.8/linecache.py\n",
      "FSL/bb_FSL/fsl_sub/fsl_sub_env/lib/python3.8/filecmp.py\n",
      "FSL/bb_FSL/fsl_sub/fsl_sub_env/lib/python3.8/aifc.py\n",
      "FSL/bb_FSL/fsl_sub/fsl_sub_env/lib/python3.8/rlcompleter.py\n",
      "FSL/bb_FSL/fsl_sub/fsl_sub_env/lib/python3.8/zipimport.py\n",
      "FSL/bb_FSL/fsl_sub/fsl_sub_env/lib/python3.8/posixpath.py\n",
      "FSL/bb_FSL/fsl_sub/fsl_sub_env/lib/python3.8/turtle.py\n",
      "FSL/bb_FSL/fsl_sub/fsl_sub_env/lib/python3.8/bisect.py\n",
      "FSL/bb_FSL/fsl_sub/fsl_sub_env/lib/python3.8/tokenize.py\n",
      "FSL/bb_FSL/fsl_sub/fsl_sub_env/lib/python3.8/_sysconfigdata__linux_x86_64-linux-gnu.py\n",
      "FSL/bb_FSL/fsl_sub/fsl_sub_env/lib/python3.8/gzip.py\n",
      "FSL/bb_FSL/fsl_sub/fsl_sub_env/lib/python3.8/wave.py\n",
      "FSL/bb_FSL/fsl_sub/fsl_sub_env/lib/python3.8/keyword.py\n",
      "FSL/bb_FSL/fsl_sub/fsl_sub_env/lib/python3.8/imp.py\n",
      "FSL/bb_FSL/fsl_sub/fsl_sub_env/lib/python3.8/doctest.py\n",
      "FSL/bb_FSL/fsl_sub/fsl_sub_env/lib/python3.8/tarfile.py\n",
      "FSL/bb_FSL/fsl_sub/fsl_sub_env/lib/python3.8/pprint.py\n",
      "FSL/bb_FSL/fsl_sub/fsl_sub_env/lib/python3.8/imaplib.py\n",
      "FSL/bb_FSL/fsl_sub/fsl_sub_env/lib/python3.8/dis.py\n",
      "FSL/bb_FSL/fsl_sub/fsl_sub_env/lib/python3.8/cProfile.py\n",
      "FSL/bb_FSL/fsl_sub/fsl_sub_env/lib/python3.8/antigravity.py\n",
      "FSL/bb_FSL/fsl_sub/fsl_sub_env/lib/python3.8/_sysconfigdata_x86_64_conda_cos6_linux_gnu.py\n",
      "FSL/bb_FSL/fsl_sub/fsl_sub_env/lib/python3.8/__future__.py\n",
      "FSL/bb_FSL/fsl_sub/fsl_sub_env/lib/python3.8/mimetypes.py\n",
      "FSL/bb_FSL/fsl_sub/fsl_sub_env/lib/python3.8/pstats.py\n",
      "FSL/bb_FSL/fsl_sub/fsl_sub_env/lib/python3.8/_compat_pickle.py\n",
      "FSL/bb_FSL/fsl_sub/fsl_sub_env/lib/python3.8/socket.py\n",
      "FSL/bb_FSL/fsl_sub/fsl_sub_env/lib/python3.8/timeit.py\n",
      "FSL/bb_FSL/fsl_sub/fsl_sub_env/lib/python3.8/platform.py\n",
      "FSL/bb_FSL/fsl_sub/fsl_sub_env/lib/python3.8/secrets.py\n",
      "FSL/bb_FSL/fsl_sub/fsl_sub_env/lib/python3.8/pathlib.py\n",
      "FSL/bb_FSL/fsl_sub/fsl_sub_env/lib/python3.8/fnmatch.py\n",
      "FSL/bb_FSL/fsl_sub/fsl_sub_env/lib/python3.8/random.py\n",
      "FSL/bb_FSL/fsl_sub/fsl_sub_env/lib/python3.8/optparse.py\n",
      "FSL/bb_FSL/fsl_sub/fsl_sub_env/lib/python3.8/ssl.py\n",
      "FSL/bb_FSL/fsl_sub/fsl_sub_env/lib/python3.8/netrc.py\n",
      "FSL/bb_FSL/fsl_sub/fsl_sub_env/lib/python3.8/uuid.py\n",
      "FSL/bb_FSL/fsl_sub/fsl_sub_env/lib/python3.8/inspect.py\n",
      "FSL/bb_FSL/fsl_sub/fsl_sub_env/lib/python3.8/_markupbase.py\n",
      "FSL/bb_FSL/fsl_sub/fsl_sub_env/lib/python3.8/struct.py\n",
      "FSL/bb_FSL/fsl_sub/fsl_sub_env/lib/python3.8/re.py\n",
      "FSL/bb_FSL/fsl_sub/fsl_sub_env/lib/python3.8/stringprep.py\n",
      "FSL/bb_FSL/fsl_sub/fsl_sub_env/lib/python3.8/types.py\n",
      "FSL/bb_FSL/fsl_sub/fsl_sub_env/lib/python3.8/pkgutil.py\n",
      "FSL/bb_FSL/fsl_sub/fsl_sub_env/lib/python3.8/smtplib.py\n",
      "FSL/bb_FSL/fsl_sub/fsl_sub_env/lib/python3.8/argparse.py\n",
      "FSL/bb_FSL/fsl_sub/fsl_sub_env/lib/python3.8/site.py\n",
      "FSL/bb_FSL/fsl_sub/fsl_sub_env/lib/python3.8/copy.py\n",
      "FSL/bb_FSL/fsl_sub/fsl_sub_env/lib/python3.8/chunk.py\n",
      "FSL/bb_FSL/fsl_sub/fsl_sub_env/lib/python3.8/contextvars.py\n",
      "FSL/bb_FSL/fsl_sub/fsl_sub_env/lib/python3.8/socketserver.py\n",
      "FSL/bb_FSL/fsl_sub/fsl_sub_env/lib/python3.8/_sysconfigdata_i686_conda_cos6_linux_gnu.py\n",
      "FSL/bb_FSL/fsl_sub/fsl_sub_env/lib/python3.8/sched.py\n",
      "FSL/bb_FSL/fsl_sub/fsl_sub_env/lib/python3.8/profile.py\n",
      "FSL/bb_FSL/fsl_sub/fsl_sub_env/lib/python3.8/__phello__.foo.py\n",
      "FSL/bb_FSL/fsl_sub/fsl_sub_env/lib/python3.8/signal.py\n",
      "FSL/bb_FSL/fsl_sub/fsl_sub_env/lib/python3.8/ast.py\n",
      "FSL/bb_FSL/fsl_sub/fsl_sub_env/lib/python3.8/codecs.py\n",
      "FSL/bb_FSL/fsl_sub/fsl_sub_env/lib/python3.8/io.py\n",
      "FSL/bb_FSL/fsl_sub/fsl_sub_env/lib/python3.8/zipapp.py\n",
      "FSL/bb_FSL/fsl_sub/fsl_sub_env/lib/python3.8/queue.py\n",
      "FSL/bb_FSL/fsl_sub/fsl_sub_env/lib/python3.8/copyreg.py\n",
      "FSL/bb_FSL/fsl_sub/fsl_sub_env/lib/python3.8/formatter.py\n",
      "FSL/bb_FSL/fsl_sub/fsl_sub_env/lib/python3.8/shutil.py\n",
      "FSL/bb_FSL/fsl_sub/fsl_sub_env/lib/python3.8/uu.py\n",
      "FSL/bb_FSL/fsl_sub/fsl_sub_env/lib/python3.8/glob.py\n",
      "FSL/bb_FSL/fsl_sub/fsl_sub_env/lib/python3.8/_pyio.py\n",
      "FSL/bb_FSL/fsl_sub/fsl_sub_env/lib/python3.8/runpy.py\n",
      "FSL/bb_FSL/fsl_sub/fsl_sub_env/lib/python3.8/code.py\n",
      "FSL/bb_FSL/fsl_sub/fsl_sub_env/lib/python3.8/ipaddress.py\n",
      "FSL/bb_FSL/fsl_sub/fsl_sub_env/lib/python3.8/getopt.py\n",
      "FSL/bb_FSL/fsl_sub/fsl_sub_env/lib/python3.8/calendar.py\n",
      "FSL/bb_FSL/fsl_sub/fsl_sub_env/lib/python3.8/hmac.py\n",
      "FSL/bb_FSL/fsl_sub/fsl_sub_env/lib/python3.8/_collections_abc.py\n",
      "FSL/bb_FSL/fsl_sub/fsl_sub_env/lib/python3.8/tracemalloc.py\n",
      "FSL/bb_FSL/fsl_sub/fsl_sub_env/lib/python3.8/dataclasses.py\n",
      "FSL/bb_FSL/fsl_sub/fsl_sub_env/lib/python3.8/cgi.py\n",
      "FSL/bb_FSL/fsl_sub/fsl_sub_env/lib/python3.8/bz2.py\n",
      "FSL/bb_FSL/fsl_sub/fsl_sub_env/lib/python3.8/pydoc.py\n",
      "FSL/bb_FSL/fsl_sub/fsl_sub_env/lib/python3.8/sre_constants.py\n",
      "FSL/bb_FSL/fsl_sub/fsl_sub_env/lib/python3.8/hashlib.py\n",
      "FSL/bb_FSL/fsl_sub/fsl_sub_env/lib/python3.8/fileinput.py\n",
      "FSL/bb_FSL/fsl_sub/fsl_sub_env/lib/python3.8/pdb.py\n",
      "FSL/bb_FSL/fsl_sub/fsl_sub_env/lib/python3.8/_sitebuiltins.py\n",
      "FSL/bb_FSL/fsl_sub/fsl_sub_env/lib/python3.8/sunau.py\n",
      "FSL/bb_FSL/fsl_sub/fsl_sub_env/lib/python3.8/_weakrefset.py\n",
      "FSL/bb_FSL/fsl_sub/fsl_sub_env/lib/python3.8/weakref.py\n",
      "FSL/bb_FSL/fsl_sub/fsl_sub_env/lib/python3.8/binhex.py\n",
      "FSL/bb_FSL/fsl_sub/fsl_sub_env/lib/python3.8/configparser.py\n",
      "FSL/bb_FSL/fsl_sub/fsl_sub_env/lib/python3.8/string.py\n",
      "FSL/bb_FSL/fsl_sub/fsl_sub_env/lib/python3.8/imghdr.py\n",
      "FSL/bb_FSL/fsl_sub/fsl_sub_env/lib/python3.8/statistics.py\n",
      "FSL/bb_FSL/fsl_sub/fsl_sub_env/lib/python3.8/crypt.py\n",
      "FSL/bb_FSL/fsl_sub/fsl_sub_env/lib/python3.8/codeop.py\n",
      "FSL/bb_FSL/fsl_sub/fsl_sub_env/lib/python3.8/operator.py\n",
      "FSL/bb_FSL/fsl_sub/fsl_sub_env/lib/python3.8/decimal.py\n",
      "FSL/bb_FSL/fsl_sub/fsl_sub_env/lib/python3.8/quopri.py\n",
      "FSL/bb_FSL/fsl_sub/fsl_sub_env/lib/python3.8/pickletools.py\n",
      "FSL/bb_FSL/fsl_sub/fsl_sub_env/lib/python3.8/traceback.py\n",
      "FSL/bb_FSL/fsl_sub/fsl_sub_env/lib/python3.8/threading.py\n",
      "FSL/bb_FSL/fsl_sub/fsl_sub_env/lib/python3.8/colorsys.py\n",
      "FSL/bb_FSL/fsl_sub/fsl_sub_env/lib/python3.8/_bootlocale.py\n",
      "FSL/bb_FSL/fsl_sub/fsl_sub_env/lib/python3.8/asyncore.py\n",
      "FSL/bb_FSL/fsl_sub/fsl_sub_env/lib/python3.8/numbers.py\n",
      "FSL/bb_FSL/fsl_sub/fsl_sub_env/lib/python3.8/token.py\n",
      "FSL/bb_FSL/fsl_sub/fsl_sub_env/lib/python3.8/sndhdr.py\n",
      "FSL/bb_FSL/fsl_sub/fsl_sub_env/lib/python3.8/mailcap.py\n",
      "FSL/bb_FSL/fsl_sub/fsl_sub_env/lib/python3.8/compileall.py\n",
      "FSL/bb_FSL/fsl_sub/fsl_sub_env/lib/python3.8/fractions.py\n",
      "FSL/bb_FSL/fsl_sub/fsl_sub_env/lib/python3.8/csv.py\n",
      "FSL/bb_FSL/fsl_sub/fsl_sub_env/lib/python3.8/_compression.py\n",
      "FSL/bb_FSL/fsl_sub/fsl_sub_env/lib/python3.8/smtpd.py\n",
      "FSL/bb_FSL/fsl_sub/fsl_sub_env/lib/python3.8/shelve.py\n",
      "FSL/bb_FSL/fsl_sub/fsl_sub_env/lib/python3.8/cmd.py\n",
      "FSL/bb_FSL/fsl_sub/fsl_sub_env/lib/python3.8/datetime.py\n",
      "FSL/bb_FSL/fsl_sub/fsl_sub_env/lib/python3.8/stat.py\n",
      "FSL/bb_FSL/fsl_sub/fsl_sub_env/lib/python3.8/lzma.py\n",
      "FSL/bb_FSL/fsl_sub/fsl_sub_env/lib/python3.8/os.py\n",
      "FSL/bb_FSL/fsl_sub/fsl_sub_env/lib/python3.8/reprlib.py\n",
      "FSL/bb_FSL/fsl_sub/fsl_sub_env/lib/python3.8/pickle.py\n",
      "FSL/bb_FSL/fsl_sub/fsl_sub_env/lib/python3.8/shlex.py\n",
      "FSL/bb_FSL/fsl_sub/fsl_sub_env/lib/python3.8/xdrlib.py\n",
      "FSL/bb_FSL/fsl_sub/fsl_sub_env/lib/python3.8/difflib.py\n",
      "FSL/bb_FSL/fsl_sub/fsl_sub_env/lib/python3.8/abc.py\n",
      "FSL/bb_FSL/fsl_sub/fsl_sub_env/lib/python3.8/trace.py\n",
      "FSL/bb_FSL/fsl_sub/fsl_sub_env/lib/python3.8/enum.py\n"
     ]
    }
   ],
   "source": [
    "\n",
    "for p in glob.glob('*/*/*/*/*/*/*.py', recursive=True, root_dir=INPUT_DIR):\n",
    "    print(p)\n",
    "    if os.path.isfile(os.path.join(INPUT_DIR, p)):\n",
    "        os.makedirs(os.path.join(OUTPUT_DIR, os.path.dirname(p)), exist_ok=True)\n",
    "        shutil.copy(os.path.join(INPUT_DIR, p), os.path.join(OUTPUT_DIR, p))\n",
    "\n"
   ]
  },
  {
   "cell_type": "code",
   "execution_count": 21,
   "metadata": {
    "tags": []
   },
   "outputs": [
    {
     "data": {
      "text/plain": [
       "'/home/ryoi360/python'"
      ]
     },
     "execution_count": 21,
     "metadata": {},
     "output_type": "execute_result"
    }
   ],
   "source": [
    "OUTPUT_DIR"
   ]
  },
  {
   "cell_type": "code",
   "execution_count": null,
   "metadata": {},
   "outputs": [],
   "source": [
    "raise ValueError()"
   ]
  }
 ],
 "metadata": {
  "deepnote": {},
  "deepnote_execution_queue": [],
  "deepnote_notebook_id": "cf8fe3695d074ee7887fdf6459cbf5ce",
  "kernelspec": {
   "display_name": "fastai-2.7.10",
   "language": "python",
   "name": "fastai-2.7.10"
  },
  "language_info": {
   "codemirror_mode": {
    "name": "ipython",
    "version": 3
   },
   "file_extension": ".py",
   "mimetype": "text/x-python",
   "name": "python",
   "nbconvert_exporter": "python",
   "pygments_lexer": "ipython3",
   "version": "3.10.4"
  }
 },
 "nbformat": 4,
 "nbformat_minor": 4
}

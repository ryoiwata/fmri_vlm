{
 "cells": [
  {
   "cell_type": "code",
   "execution_count": 1,
   "id": "c88126d0-e0bd-47b6-afa8-74046447566d",
   "metadata": {
    "tags": []
   },
   "outputs": [],
   "source": [
    "import pandas as pd\n",
    "import os\n",
    "import glob\n",
    "import numpy as np\n",
    "from sklearn.model_selection import train_test_split"
   ]
  },
  {
   "cell_type": "code",
   "execution_count": 2,
   "id": "2a6ee1a9-e854-45b4-b92c-922e41d18b51",
   "metadata": {
    "tags": []
   },
   "outputs": [],
   "source": [
    "import random"
   ]
  },
  {
   "cell_type": "code",
   "execution_count": 3,
   "id": "e2b29200-9c35-4e36-af0d-f76a7811efbd",
   "metadata": {
    "tags": []
   },
   "outputs": [],
   "source": [
    "def load_dat_file(filepath: str, delimiter: str = '\\t') -> np.ndarray:\n",
    "    \"\"\"\n",
    "    Load a .dat file into a NumPy array.\n",
    "\n",
    "    Args:\n",
    "        filepath (str): Path to the .dat file.\n",
    "        delimiter (str, optional): The delimiter used in the .dat file. \n",
    "                                   Default is tab ('\\\\t').\n",
    "\n",
    "    Returns:\n",
    "        np.ndarray: The data from the .dat file as a NumPy array.\n",
    "    \"\"\"\n",
    "    # loadtxt will automatically infer rows/columns based on the file\n",
    "    data = np.loadtxt(filepath, delimiter=delimiter)\n",
    "    return data"
   ]
  },
  {
   "cell_type": "code",
   "execution_count": 4,
   "id": "5c47d573-ec96-4f33-8f4a-7ecd309e9c9f",
   "metadata": {
    "tags": []
   },
   "outputs": [],
   "source": [
    "def compute_fisher_z(signals: np.ndarray) -> np.ndarray:\n",
    "    \"\"\"\n",
    "    Given time series data of shape (n_timepoints, n_regions),\n",
    "    compute the pairwise Pearson correlation among the columns (i.e., regions),\n",
    "    then apply the Fisher Z-transform to those correlation values.\n",
    "\n",
    "    Args:\n",
    "        signals (np.ndarray): fMRI time-series data of shape (n_timepoints, n_regions),\n",
    "                              where each column is a region, and each row is a timepoint.\n",
    "\n",
    "    Returns:\n",
    "        fisher_z_mat (np.ndarray): (n_regions, n_regions) matrix of\n",
    "                                   Fisher Z-transformed connectivity.\n",
    "    \"\"\"\n",
    "    # Step 1: Compute Pearson correlation among columns (regions)\n",
    "    # rowvar=False => treat each column as a variable\n",
    "    corr_mat = np.corrcoef(signals, rowvar=False)  # shape: (n_regions, n_regions)\n",
    "\n",
    "    # Step 2: Apply Fisher Z-transform\n",
    "    # Z = arctanh(r), i.e. 0.5 * ln((1+r)/(1-r))\n",
    "    # We clamp r to avoid infinity at r=±1\n",
    "    epsilon = 1e-8\n",
    "    corr_mat = np.clip(corr_mat, -1 + epsilon, 1 - epsilon)\n",
    "    fisher_z_mat = np.arctanh(corr_mat)\n",
    "\n",
    "    return fisher_z_mat"
   ]
  },
  {
   "cell_type": "code",
   "execution_count": 5,
   "id": "de5e371e-01f0-43de-a530-74df6dd20fbc",
   "metadata": {
    "tags": []
   },
   "outputs": [],
   "source": [
    "def approximate_tolerance_interval(\n",
    "    hc_values: np.ndarray,\n",
    "    coverage: float = 0.90\n",
    ") -> tuple:\n",
    "    \"\"\"\n",
    "    Approximate a two-sided (100 * coverage)% tolerance interval\n",
    "    by taking the central (coverage)% of the healthy-control values.\n",
    "    Here we simply compute the lower and upper percentiles around the median.\n",
    "    \n",
    "    For example, coverage=0.90 yields the 5th and 95th percentiles.\n",
    "\n",
    "    Args:\n",
    "        hc_values (np.ndarray): 1D array of FC scores for HCs.\n",
    "        coverage (float): Desired coverage proportion (e.g., 0.90 for 90%).\n",
    "\n",
    "    Returns:\n",
    "        (lower_bound, upper_bound) as floats.\n",
    "    \"\"\"\n",
    "    # Sort the healthy control FC values\n",
    "    sorted_vals = np.sort(hc_values)\n",
    "\n",
    "    # We define the \"central coverage\" interval, e.g. 90% => cut 5% on each tail.\n",
    "    lower_percentile = (1.0 - coverage)/2.0 * 100.0  # 5% if coverage=90%\n",
    "    upper_percentile = (1.0 - (1.0 - coverage)/2.0) * 100.0  # 95% if coverage=90%\n",
    "\n",
    "    lower_bound = np.percentile(sorted_vals, lower_percentile)\n",
    "    upper_bound = np.percentile(sorted_vals, upper_percentile)\n",
    "    return (lower_bound, upper_bound)"
   ]
  },
  {
   "cell_type": "code",
   "execution_count": 6,
   "id": "ef2bce82-72e0-4c0a-a0eb-73794982aef2",
   "metadata": {
    "tags": []
   },
   "outputs": [],
   "source": [
    "def compute_tolerance_intervals_for_matrices(\n",
    "    corr_matrices: list[np.ndarray],\n",
    "    coverage: float = 0.90\n",
    ") -> list[list[tuple[float, float]]]:\n",
    "    \"\"\"\n",
    "    Given a list of correlation matrices (each shape (n_regions, n_regions)),\n",
    "    compute an approximate tolerance interval for each cell (i, j) across all matrices.\n",
    "\n",
    "    Steps:\n",
    "      1) Validate that the list is not empty, and all matrices have the same shape.\n",
    "      2) For each (i, j) cell, gather the correlation across all matrices.\n",
    "      3) Call approximate_tolerance_interval(...) => (lo, hi).\n",
    "      4) Return a 2D list of shape (n_regions x n_regions),\n",
    "         where each element is the tuple (low_bound, high_bound).\n",
    "\n",
    "    Args:\n",
    "        corr_matrices (List[np.ndarray]): List of NxN correlation matrices.\n",
    "        coverage (float): coverage proportion, e.g. 0.9.\n",
    "\n",
    "    Returns:\n",
    "        A 2D python list of shape (n_regions x n_regions),\n",
    "        where each element is the tuple (low_bound, high_bound).\n",
    "    \"\"\"\n",
    "    if len(corr_matrices) == 0:\n",
    "        raise ValueError(\"corr_matrices list is empty.\")\n",
    "\n",
    "    # Assume all correlation matrices share the same shape\n",
    "    sample_shape = corr_matrices[0].shape\n",
    "    if any(mat.shape != sample_shape for mat in corr_matrices):\n",
    "        raise ValueError(\"Not all matrices in corr_matrices have the same shape.\")\n",
    "\n",
    "    n_regions = sample_shape[0]\n",
    "    intervals = [[(0.0, 0.0) for _ in range(n_regions)] for __ in range(n_regions)]\n",
    "\n",
    "    for i in range(n_regions):\n",
    "        for j in range(n_regions):\n",
    "            # gather cell (i,j) across all matrices\n",
    "            cell_values = [mat[i, j] for mat in corr_matrices]\n",
    "            cell_values_np = np.array(cell_values)\n",
    "            lo, hi = approximate_tolerance_interval(cell_values_np, coverage=coverage)\n",
    "            intervals[i][j] = (lo, hi)\n",
    "\n",
    "    return np.array(intervals)"
   ]
  },
  {
   "cell_type": "code",
   "execution_count": 7,
   "id": "1742cbd2-9faa-4b5a-a0cc-9892258cc3f9",
   "metadata": {
    "tags": []
   },
   "outputs": [],
   "source": [
    "\n",
    "def flag_outside_range(\n",
    "    subject_corr: np.ndarray, \n",
    "    range_mat: np.ndarray\n",
    ") -> np.ndarray:\n",
    "    \"\"\"\n",
    "    Given:\n",
    "      - subject_corr: shape (166, 166), the subject's correlation matrix\n",
    "      - range_mat: shape (166, 166, 2), where range_mat[i, j, 0] = low, range_mat[i, j, 1] = high\n",
    "\n",
    "    Returns:\n",
    "      A boolean mask of shape (166, 166). True where subject_corr value \n",
    "      is outside the [low, high] range. False otherwise.\n",
    "    \"\"\"\n",
    "    lower_bound = range_mat[:, :, 0]  # shape (166, 166)\n",
    "    upper_bound = range_mat[:, :, 1]  # shape (166, 166)\n",
    "\n",
    "    # Create a boolean mask:\n",
    "    # True means correlation is outside [low, high]\n",
    "    # That is subject_corr < low OR subject_corr > high\n",
    "    outside_mask = (subject_corr < lower_bound) | (subject_corr > upper_bound)\n",
    "\n",
    "    return outside_mask"
   ]
  },
  {
   "cell_type": "code",
   "execution_count": 8,
   "id": "b447c56f-4853-4fe9-a767-b80329bf381e",
   "metadata": {
    "tags": []
   },
   "outputs": [],
   "source": [
    "def repeated_enrichment_analysis(\n",
    "    mdd_masks,  # list of NxN boolean arrays from diseased group\n",
    "    hc_masks,   # list of NxN boolean arrays from healthy controls\n",
    "    coverage=0.9,       # fraction of diseased subjects to subsample each iteration\n",
    "    reps=100,            # number of repeated subsamples\n",
    "    consistency_thr=0.95 # fraction of times an edge must be \"selected\" to be labeled \"extreme\"\n",
    "):\n",
    "    \"\"\"\n",
    "    Demonstration code:\n",
    "      - mdd_masks: list of NxN boolean matrices (one per MDD subject) indicating 'extreme' edges\n",
    "      - hc_masks:  list of NxN boolean matrices (one per HC subject)  indicating 'extreme' edges\n",
    "      - coverage:  fraction of MDD subjects to sample each iteration (e.g. 0.9 => 90% subset)\n",
    "      - reps:      how many random subsamples\n",
    "      - consistency_thr: e.g. 0.95 => we call an edge 'extreme' if it is 'selected' in at least 95% of reps\n",
    "\n",
    "    Returns:\n",
    "      extremes_mask: NxN boolean array telling which edges are 'extreme'\n",
    "      consistency_rate: NxN float array telling the fraction of runs that selected each edge\n",
    "    \"\"\"\n",
    "    n_mdd = len(mdd_masks)\n",
    "    if n_mdd == 0:\n",
    "        raise ValueError(\"No MDD masks provided.\")\n",
    "    n_hc  = len(hc_masks)\n",
    "    if n_hc == 0:\n",
    "        raise ValueError(\"No HC masks provided.\")\n",
    "\n",
    "    # Check the shape of the first matrix for reference\n",
    "    n, _ = mdd_masks[0].shape\n",
    "    # Validate all shapes match\n",
    "    for mat in mdd_masks + hc_masks:\n",
    "        if mat.shape != (n, n):\n",
    "            raise ValueError(\"All matrices must be NxN with the same N.\")\n",
    "\n",
    "    # Summation of edges in all HC => how frequently each edge is 'extreme' in HC\n",
    "    # We'll do a naive check for demonstration\n",
    "    hc_sum = np.zeros((n, n), dtype=int)\n",
    "    for mask in hc_masks:\n",
    "        hc_sum += mask.astype(int)\n",
    "    # fraction in HC\n",
    "    fraction_hc = hc_sum / n_hc\n",
    "\n",
    "    # We'll keep track how many times each edge is 'selected' across the runs\n",
    "    selected_counts = np.zeros((n, n), dtype=int)\n",
    "\n",
    "    sub_size = int(round(coverage * n_mdd))  # e.g. 90% of MDD\n",
    "\n",
    "    for _ in range(reps):\n",
    "        # Randomly choose coverage% MDD\n",
    "        subset_idx = random.sample(range(n_mdd), sub_size)\n",
    "\n",
    "        # Summation of that subset\n",
    "        subset_sum = np.zeros((n, n), dtype=int)\n",
    "        for idx in subset_idx:\n",
    "            subset_sum += mdd_masks[idx].astype(int)\n",
    "        # fraction of that subset that is 'extreme' for each edge\n",
    "        fraction_mdd = subset_sum / sub_size\n",
    "\n",
    "        # Example \"enrichment\" rule:\n",
    "        # \"Select\" an edge if fraction_mdd is strictly greater than fraction_hc\n",
    "        # Real pipeline might do a hypergeom test or p-value threshold\n",
    "        selected_this_run = (fraction_mdd > fraction_hc)\n",
    "\n",
    "        selected_counts += selected_this_run\n",
    "\n",
    "    consistency_rate = selected_counts / reps\n",
    "    extremes_mask = (consistency_rate >= consistency_thr)\n",
    "\n",
    "    return extremes_mask, consistency_rate"
   ]
  },
  {
   "cell_type": "code",
   "execution_count": 9,
   "id": "7e8d6dac-94dc-4e6f-98e1-e3dcda997f1e",
   "metadata": {
    "tags": []
   },
   "outputs": [],
   "source": [
    "abide_df = pd.read_csv(\"./Phenotypic_V1_0b.csv\", index_col=0)"
   ]
  },
  {
   "cell_type": "code",
   "execution_count": 10,
   "id": "cbf92bc7-e66d-4f53-a67f-1db769003e13",
   "metadata": {
    "tags": []
   },
   "outputs": [
    {
     "data": {
      "text/html": [
       "<div>\n",
       "<style scoped>\n",
       "    .dataframe tbody tr th:only-of-type {\n",
       "        vertical-align: middle;\n",
       "    }\n",
       "\n",
       "    .dataframe tbody tr th {\n",
       "        vertical-align: top;\n",
       "    }\n",
       "\n",
       "    .dataframe thead th {\n",
       "        text-align: right;\n",
       "    }\n",
       "</style>\n",
       "<table border=\"1\" class=\"dataframe\">\n",
       "  <thead>\n",
       "    <tr style=\"text-align: right;\">\n",
       "      <th></th>\n",
       "      <th>SITE_ID</th>\n",
       "      <th>SUB_ID</th>\n",
       "      <th>FILE_ID</th>\n",
       "      <th>DX_GROUP</th>\n",
       "      <th>DSM_IV_TR</th>\n",
       "      <th>AGE_AT_SCAN</th>\n",
       "      <th>SEX</th>\n",
       "      <th>HANDEDNESS_CATEGORY</th>\n",
       "      <th>HANDEDNESS_SCORES</th>\n",
       "      <th>FIQ</th>\n",
       "      <th>...</th>\n",
       "      <th>WISC_IV_BLK_DSN_SCALED</th>\n",
       "      <th>WISC_IV_PIC_CON_SCALED</th>\n",
       "      <th>WISC_IV_MATRIX_SCALED</th>\n",
       "      <th>WISC_IV_DIGIT_SPAN_SCALED</th>\n",
       "      <th>WISC_IV_LET_NUM_SCALED</th>\n",
       "      <th>WISC_IV_CODING_SCALED</th>\n",
       "      <th>WISC_IV_SYM_SCALED</th>\n",
       "      <th>EYE_STATUS_AT_SCAN</th>\n",
       "      <th>AGE_AT_MPRAGE</th>\n",
       "      <th>BMI</th>\n",
       "    </tr>\n",
       "  </thead>\n",
       "  <tbody>\n",
       "    <tr>\n",
       "      <th>0</th>\n",
       "      <td>CALTECH</td>\n",
       "      <td>51456</td>\n",
       "      <td>Caltech_0051456</td>\n",
       "      <td>1</td>\n",
       "      <td>4</td>\n",
       "      <td>55.4</td>\n",
       "      <td>1</td>\n",
       "      <td>R</td>\n",
       "      <td>NaN</td>\n",
       "      <td>126.0</td>\n",
       "      <td>...</td>\n",
       "      <td>NaN</td>\n",
       "      <td>NaN</td>\n",
       "      <td>NaN</td>\n",
       "      <td>NaN</td>\n",
       "      <td>NaN</td>\n",
       "      <td>NaN</td>\n",
       "      <td>NaN</td>\n",
       "      <td>2</td>\n",
       "      <td>NaN</td>\n",
       "      <td>NaN</td>\n",
       "    </tr>\n",
       "    <tr>\n",
       "      <th>1</th>\n",
       "      <td>CALTECH</td>\n",
       "      <td>51457</td>\n",
       "      <td>Caltech_0051457</td>\n",
       "      <td>1</td>\n",
       "      <td>4</td>\n",
       "      <td>22.9</td>\n",
       "      <td>1</td>\n",
       "      <td>Ambi</td>\n",
       "      <td>NaN</td>\n",
       "      <td>107.0</td>\n",
       "      <td>...</td>\n",
       "      <td>NaN</td>\n",
       "      <td>NaN</td>\n",
       "      <td>NaN</td>\n",
       "      <td>NaN</td>\n",
       "      <td>NaN</td>\n",
       "      <td>NaN</td>\n",
       "      <td>NaN</td>\n",
       "      <td>2</td>\n",
       "      <td>NaN</td>\n",
       "      <td>NaN</td>\n",
       "    </tr>\n",
       "    <tr>\n",
       "      <th>2</th>\n",
       "      <td>CALTECH</td>\n",
       "      <td>51458</td>\n",
       "      <td>Caltech_0051458</td>\n",
       "      <td>1</td>\n",
       "      <td>1</td>\n",
       "      <td>39.2</td>\n",
       "      <td>1</td>\n",
       "      <td>R</td>\n",
       "      <td>NaN</td>\n",
       "      <td>93.0</td>\n",
       "      <td>...</td>\n",
       "      <td>NaN</td>\n",
       "      <td>NaN</td>\n",
       "      <td>NaN</td>\n",
       "      <td>NaN</td>\n",
       "      <td>NaN</td>\n",
       "      <td>NaN</td>\n",
       "      <td>NaN</td>\n",
       "      <td>2</td>\n",
       "      <td>NaN</td>\n",
       "      <td>NaN</td>\n",
       "    </tr>\n",
       "    <tr>\n",
       "      <th>3</th>\n",
       "      <td>CALTECH</td>\n",
       "      <td>51459</td>\n",
       "      <td>Caltech_0051459</td>\n",
       "      <td>1</td>\n",
       "      <td>1</td>\n",
       "      <td>22.8</td>\n",
       "      <td>1</td>\n",
       "      <td>R</td>\n",
       "      <td>NaN</td>\n",
       "      <td>106.0</td>\n",
       "      <td>...</td>\n",
       "      <td>NaN</td>\n",
       "      <td>NaN</td>\n",
       "      <td>NaN</td>\n",
       "      <td>NaN</td>\n",
       "      <td>NaN</td>\n",
       "      <td>NaN</td>\n",
       "      <td>NaN</td>\n",
       "      <td>2</td>\n",
       "      <td>NaN</td>\n",
       "      <td>NaN</td>\n",
       "    </tr>\n",
       "    <tr>\n",
       "      <th>4</th>\n",
       "      <td>CALTECH</td>\n",
       "      <td>51460</td>\n",
       "      <td>Caltech_0051460</td>\n",
       "      <td>1</td>\n",
       "      <td>1</td>\n",
       "      <td>34.6</td>\n",
       "      <td>2</td>\n",
       "      <td>Ambi</td>\n",
       "      <td>NaN</td>\n",
       "      <td>133.0</td>\n",
       "      <td>...</td>\n",
       "      <td>NaN</td>\n",
       "      <td>NaN</td>\n",
       "      <td>NaN</td>\n",
       "      <td>NaN</td>\n",
       "      <td>NaN</td>\n",
       "      <td>NaN</td>\n",
       "      <td>NaN</td>\n",
       "      <td>2</td>\n",
       "      <td>NaN</td>\n",
       "      <td>NaN</td>\n",
       "    </tr>\n",
       "  </tbody>\n",
       "</table>\n",
       "<p>5 rows × 75 columns</p>\n",
       "</div>"
      ],
      "text/plain": [
       "   SITE_ID  SUB_ID          FILE_ID  DX_GROUP  DSM_IV_TR  AGE_AT_SCAN  SEX  \\\n",
       "0  CALTECH   51456  Caltech_0051456         1          4         55.4    1   \n",
       "1  CALTECH   51457  Caltech_0051457         1          4         22.9    1   \n",
       "2  CALTECH   51458  Caltech_0051458         1          1         39.2    1   \n",
       "3  CALTECH   51459  Caltech_0051459         1          1         22.8    1   \n",
       "4  CALTECH   51460  Caltech_0051460         1          1         34.6    2   \n",
       "\n",
       "  HANDEDNESS_CATEGORY  HANDEDNESS_SCORES    FIQ  ...  WISC_IV_BLK_DSN_SCALED  \\\n",
       "0                   R                NaN  126.0  ...                     NaN   \n",
       "1                Ambi                NaN  107.0  ...                     NaN   \n",
       "2                   R                NaN   93.0  ...                     NaN   \n",
       "3                   R                NaN  106.0  ...                     NaN   \n",
       "4                Ambi                NaN  133.0  ...                     NaN   \n",
       "\n",
       "   WISC_IV_PIC_CON_SCALED WISC_IV_MATRIX_SCALED WISC_IV_DIGIT_SPAN_SCALED  \\\n",
       "0                     NaN                   NaN                       NaN   \n",
       "1                     NaN                   NaN                       NaN   \n",
       "2                     NaN                   NaN                       NaN   \n",
       "3                     NaN                   NaN                       NaN   \n",
       "4                     NaN                   NaN                       NaN   \n",
       "\n",
       "  WISC_IV_LET_NUM_SCALED  WISC_IV_CODING_SCALED  WISC_IV_SYM_SCALED  \\\n",
       "0                    NaN                    NaN                 NaN   \n",
       "1                    NaN                    NaN                 NaN   \n",
       "2                    NaN                    NaN                 NaN   \n",
       "3                    NaN                    NaN                 NaN   \n",
       "4                    NaN                    NaN                 NaN   \n",
       "\n",
       "   EYE_STATUS_AT_SCAN  AGE_AT_MPRAGE  BMI  \n",
       "0                   2            NaN  NaN  \n",
       "1                   2            NaN  NaN  \n",
       "2                   2            NaN  NaN  \n",
       "3                   2            NaN  NaN  \n",
       "4                   2            NaN  NaN  \n",
       "\n",
       "[5 rows x 75 columns]"
      ]
     },
     "execution_count": 10,
     "metadata": {},
     "output_type": "execute_result"
    }
   ],
   "source": [
    "abide_df.head()"
   ]
  },
  {
   "cell_type": "code",
   "execution_count": 11,
   "id": "42274dc1-4f7c-4420-a2f4-8c2c01e82fd0",
   "metadata": {
    "tags": []
   },
   "outputs": [],
   "source": [
    "all_dat_file = glob.glob(\"/blue/ruogu.fang/ryoi360/projects/fmri_vlm/data/ABIDE_parcelled_yeo17/*\")"
   ]
  },
  {
   "cell_type": "code",
   "execution_count": 12,
   "id": "564b1050-413c-49cc-8fd9-1b7b51224c77",
   "metadata": {
    "tags": []
   },
   "outputs": [],
   "source": [
    "subj_to_fmri_arr = {os.path.basename(path).replace(\"_MNI_2mm.dat\", \"\"): load_dat_file(path) for path in all_dat_file}"
   ]
  },
  {
   "cell_type": "code",
   "execution_count": 13,
   "id": "896faef5-59b1-4627-abd0-9c4cc9e70ea8",
   "metadata": {
    "tags": []
   },
   "outputs": [],
   "source": [
    "abide_df[\"fmri_arr\"] = abide_df[\"FILE_ID\"].map(subj_to_fmri_arr)"
   ]
  },
  {
   "cell_type": "code",
   "execution_count": 14,
   "id": "f935d4ad-260e-4f01-b20e-d1381919f4a6",
   "metadata": {
    "tags": []
   },
   "outputs": [
    {
     "data": {
      "text/plain": [
       "array([[-1.01231891e-02, -3.46075718e+00, -3.49284756e+01, ...,\n",
       "         2.19633155e+00, -4.73039578e+00,  4.28631490e+00],\n",
       "       [-1.74925499e-02, -2.22421529e+00, -4.03677604e+01, ...,\n",
       "         6.64559158e+00, -3.10425970e+00,  9.73879194e+00],\n",
       "       [-2.09682972e-02, -5.14201400e-01, -3.27705525e+01, ...,\n",
       "         5.81919052e+00, -6.05617235e-01, -1.81072118e+00],\n",
       "       ...,\n",
       "       [ 2.53874102e-03,  2.18767997e+00,  5.57620185e+01, ...,\n",
       "         2.64041631e+01,  3.95058809e+00,  1.97457896e+01],\n",
       "       [-1.27511507e-02,  1.17814194e-01,  4.82443158e+01, ...,\n",
       "         2.54738583e+01,  6.02349804e+00, -1.14388751e+01],\n",
       "       [-1.74437400e-02, -1.22939262e+00,  2.75592267e+01, ...,\n",
       "         1.62567343e+01,  4.70006554e+00, -2.61908430e+01]],\n",
       "      shape=(146, 17))"
      ]
     },
     "execution_count": 14,
     "metadata": {},
     "output_type": "execute_result"
    }
   ],
   "source": [
    "abide_df[\"fmri_arr\"].iloc[0]"
   ]
  },
  {
   "cell_type": "code",
   "execution_count": 15,
   "id": "f1075810-51c7-4825-aa39-d18bd33132c5",
   "metadata": {
    "tags": []
   },
   "outputs": [],
   "source": [
    "abide_df = abide_df.dropna(subset=[\"fmri_arr\"])"
   ]
  },
  {
   "cell_type": "code",
   "execution_count": 16,
   "id": "771a0268-8090-4211-ac2a-3e58c51db5f7",
   "metadata": {
    "tags": []
   },
   "outputs": [
    {
     "name": "stderr",
     "output_type": "stream",
     "text": [
      "/blue/ruogu.fang/ryoi360/projects/fmri_vlm/bin/conda/nibabel_env/lib/python3.13/site-packages/numpy/lib/_function_base_impl.py:3045: RuntimeWarning: invalid value encountered in divide\n",
      "  c /= stddev[:, None]\n",
      "/blue/ruogu.fang/ryoi360/projects/fmri_vlm/bin/conda/nibabel_env/lib/python3.13/site-packages/numpy/lib/_function_base_impl.py:3046: RuntimeWarning: invalid value encountered in divide\n",
      "  c /= stddev[None, :]\n"
     ]
    }
   ],
   "source": [
    "abide_df[\"corr_matrix\"] = abide_df[\"fmri_arr\"].apply(lambda x: compute_fisher_z(x))"
   ]
  },
  {
   "cell_type": "code",
   "execution_count": 17,
   "id": "cc531239-890e-4dd6-ac17-3e37a9207bb7",
   "metadata": {
    "tags": []
   },
   "outputs": [
    {
     "data": {
      "text/plain": [
       "(17, 17)"
      ]
     },
     "execution_count": 17,
     "metadata": {},
     "output_type": "execute_result"
    }
   ],
   "source": [
    "abide_df[\"corr_matrix\"].iloc[0].shape"
   ]
  },
  {
   "cell_type": "code",
   "execution_count": 18,
   "id": "42f83433-bd76-4bfe-8e74-cd034efb47e2",
   "metadata": {
    "tags": []
   },
   "outputs": [],
   "source": [
    "control_df = abide_df[abide_df[\"DX_GROUP\"] == 2].copy()"
   ]
  },
  {
   "cell_type": "code",
   "execution_count": 19,
   "id": "aaf7480d-715b-4b59-9b63-c7fcb41679b4",
   "metadata": {
    "tags": []
   },
   "outputs": [],
   "source": [
    "# Split data, allocating 30% to the test set\n",
    "X_train, X_test = train_test_split(control_df, test_size=0.3, random_state=42)"
   ]
  },
  {
   "cell_type": "code",
   "execution_count": 20,
   "id": "4d487376-a420-4b23-830b-48ea2c92f52a",
   "metadata": {
    "tags": []
   },
   "outputs": [],
   "source": [
    "all_tolerance_intervals = compute_tolerance_intervals_for_matrices(X_train[\"corr_matrix\"].to_list())"
   ]
  },
  {
   "cell_type": "code",
   "execution_count": 24,
   "id": "32b0e3c3-9d5d-4f96-9c23-02316b91d17c",
   "metadata": {
    "tags": []
   },
   "outputs": [
    {
     "data": {
      "text/plain": [
       "array([[[ 9.55691396e+00,  9.55691396e+00],\n",
       "        [ 3.19137994e-01,  1.30347764e+00],\n",
       "        [ 1.48646114e-01,  1.13626907e+00],\n",
       "        [-4.26211075e-02,  9.21887195e-01],\n",
       "        [ 1.11325873e-02,  1.00778669e+00],\n",
       "        [-1.02369954e-01,  7.68863726e-01],\n",
       "        [-1.82066776e-01,  5.59207708e-01],\n",
       "        [-1.60046486e-01,  6.59321914e-01],\n",
       "        [-1.36635505e-01,  5.56322148e-01],\n",
       "        [-9.22196447e-02,  6.79279743e-01],\n",
       "        [ 4.26453080e-03,  8.91466787e-01],\n",
       "        [-4.68835066e-02,  7.67614630e-01],\n",
       "        [-5.81180889e-02,  8.03281709e-01],\n",
       "        [-1.52558735e-01,  6.51783899e-01],\n",
       "        [-1.55492875e-01,  6.51822490e-01],\n",
       "        [-1.76932845e-01,  5.48545036e-01],\n",
       "        [-1.69850321e-01,  6.23972136e-01]],\n",
       "\n",
       "       [[ 3.19137994e-01,  1.30347764e+00],\n",
       "        [ 9.55691396e+00,  9.55691396e+00],\n",
       "        [ 3.28636132e-01,  1.18805107e+00],\n",
       "        [ 3.47057279e-01,  1.17655514e+00],\n",
       "        [ 2.96090615e-01,  1.29596223e+00],\n",
       "        [ 6.98673045e-03,  8.66324253e-01],\n",
       "        [-1.03733203e-01,  7.27633689e-01],\n",
       "        [-1.00967968e-01,  7.46622819e-01],\n",
       "        [-6.87390218e-02,  6.64140096e-01],\n",
       "        [ 1.93938104e-02,  8.00812866e-01],\n",
       "        [ 4.37386564e-01,  1.29394191e+00],\n",
       "        [ 2.57869925e-01,  1.19831695e+00],\n",
       "        [ 8.82843471e-02,  1.05863978e+00],\n",
       "        [-9.94204044e-02,  8.77823929e-01],\n",
       "        [-6.52779726e-02,  8.13138148e-01],\n",
       "        [-7.16284397e-02,  6.78206696e-01],\n",
       "        [-5.50308618e-02,  6.76968969e-01]],\n",
       "\n",
       "       [[ 1.48646114e-01,  1.13626907e+00],\n",
       "        [ 3.28636132e-01,  1.18805107e+00],\n",
       "        [ 9.55691396e+00,  9.55691396e+00],\n",
       "        [ 4.27746810e-01,  1.55766915e+00],\n",
       "        [ 6.18500518e-01,  1.60911214e+00],\n",
       "        [-1.04370824e-01,  7.78652816e-01],\n",
       "        [-1.26106674e-01,  6.25129583e-01],\n",
       "        [-7.48503829e-02,  7.16764097e-01],\n",
       "        [-8.21022213e-02,  6.84051099e-01],\n",
       "        [-3.06794514e-02,  7.81525831e-01],\n",
       "        [ 8.55491074e-04,  8.70695622e-01],\n",
       "        [ 8.09743464e-02,  9.08585370e-01],\n",
       "        [ 1.68848177e-02,  8.29999263e-01],\n",
       "        [-1.07713571e-01,  7.09405767e-01],\n",
       "        [-1.24446692e-01,  7.17250510e-01],\n",
       "        [-9.68346489e-02,  6.46668951e-01],\n",
       "        [-1.21610357e-01,  6.34475810e-01]],\n",
       "\n",
       "       [[-4.26211075e-02,  9.21887195e-01],\n",
       "        [ 3.47057279e-01,  1.17655514e+00],\n",
       "        [ 4.27746810e-01,  1.55766915e+00],\n",
       "        [ 9.55691396e+00,  9.55691396e+00],\n",
       "        [ 6.15853615e-01,  1.52929814e+00],\n",
       "        [-8.40740213e-03,  8.76526426e-01],\n",
       "        [-3.78550122e-02,  7.36950343e-01],\n",
       "        [-1.48602817e-02,  8.21837384e-01],\n",
       "        [-6.53198805e-02,  7.23202653e-01],\n",
       "        [ 5.08181031e-03,  8.70489865e-01],\n",
       "        [ 1.19140179e-01,  1.02326238e+00],\n",
       "        [ 1.47995071e-01,  1.05886894e+00],\n",
       "        [ 4.67714105e-02,  9.09458797e-01],\n",
       "        [-3.33956724e-02,  8.03872874e-01],\n",
       "        [-3.34961312e-02,  7.88457269e-01],\n",
       "        [-3.02490328e-02,  6.84423205e-01],\n",
       "        [-1.06600276e-01,  6.20303584e-01]],\n",
       "\n",
       "       [[ 1.11325873e-02,  1.00778669e+00],\n",
       "        [ 2.96090615e-01,  1.29596223e+00],\n",
       "        [ 6.18500518e-01,  1.60911214e+00],\n",
       "        [ 6.15853615e-01,  1.52929814e+00],\n",
       "        [ 9.55691396e+00,  9.55691396e+00],\n",
       "        [-3.22967272e-02,  9.27959636e-01],\n",
       "        [-5.60054254e-02,  7.55833042e-01],\n",
       "        [-1.74780158e-02,  8.04080731e-01],\n",
       "        [-9.20543742e-02,  6.70704741e-01],\n",
       "        [ 1.68847734e-02,  7.83070037e-01],\n",
       "        [ 8.72772135e-02,  9.85908449e-01],\n",
       "        [ 1.32484596e-01,  1.11133820e+00],\n",
       "        [ 2.67240521e-02,  1.00019727e+00],\n",
       "        [-9.11274672e-02,  7.98589502e-01],\n",
       "        [-4.85269122e-02,  8.57734842e-01],\n",
       "        [-9.07954078e-02,  7.34444359e-01],\n",
       "        [-1.14222925e-01,  6.37705731e-01]],\n",
       "\n",
       "       [[-1.02369954e-01,  7.68863726e-01],\n",
       "        [ 6.98673045e-03,  8.66324253e-01],\n",
       "        [-1.04370824e-01,  7.78652816e-01],\n",
       "        [-8.40740213e-03,  8.76526426e-01],\n",
       "        [-3.22967272e-02,  9.27959636e-01],\n",
       "        [ 9.55691396e+00,  9.55691396e+00],\n",
       "        [ 1.43069964e-01,  1.10443605e+00],\n",
       "        [ 2.95286320e-01,  1.14632135e+00],\n",
       "        [ 8.17009216e-02,  9.54163993e-01],\n",
       "        [ 1.53221570e-01,  1.03013627e+00],\n",
       "        [ 1.15470988e-01,  8.92125136e-01],\n",
       "        [-1.03329052e-02,  8.08190751e-01],\n",
       "        [ 3.04752806e-02,  9.11520393e-01],\n",
       "        [ 2.75542584e-02,  8.28869954e-01],\n",
       "        [ 3.38945511e-01,  1.31325943e+00],\n",
       "        [ 1.94347447e-01,  1.08242743e+00],\n",
       "        [ 1.03146186e-02,  7.90114378e-01]],\n",
       "\n",
       "       [[-1.82066776e-01,  5.59207708e-01],\n",
       "        [-1.03733203e-01,  7.27633689e-01],\n",
       "        [-1.26106674e-01,  6.25129583e-01],\n",
       "        [-3.78550122e-02,  7.36950343e-01],\n",
       "        [-5.60054254e-02,  7.55833042e-01],\n",
       "        [ 1.43069964e-01,  1.10443605e+00],\n",
       "        [ 9.55691396e+00,  9.55691396e+00],\n",
       "        [ 2.90837594e-01,  1.17309102e+00],\n",
       "        [ 2.47845339e-02,  7.37410809e-01],\n",
       "        [ 1.02569534e-01,  9.42421971e-01],\n",
       "        [-5.62231463e-02,  7.10645221e-01],\n",
       "        [-1.12416869e-01,  6.18978820e-01],\n",
       "        [-1.26077431e-01,  6.41125537e-01],\n",
       "        [-9.21655429e-02,  6.43232064e-01],\n",
       "        [-4.27676921e-02,  8.15633732e-01],\n",
       "        [-8.31974061e-02,  7.00596020e-01],\n",
       "        [-5.63822894e-02,  7.70343680e-01]],\n",
       "\n",
       "       [[-1.60046486e-01,  6.59321914e-01],\n",
       "        [-1.00967968e-01,  7.46622819e-01],\n",
       "        [-7.48503829e-02,  7.16764097e-01],\n",
       "        [-1.48602817e-02,  8.21837384e-01],\n",
       "        [-1.74780158e-02,  8.04080731e-01],\n",
       "        [ 2.95286320e-01,  1.14632135e+00],\n",
       "        [ 2.90837594e-01,  1.17309102e+00],\n",
       "        [ 9.55691396e+00,  9.55691396e+00],\n",
       "        [ 1.93427360e-01,  9.98607380e-01],\n",
       "        [ 6.09371174e-01,  1.46579982e+00],\n",
       "        [-2.89620036e-02,  8.16413407e-01],\n",
       "        [-1.32185914e-01,  7.00617072e-01],\n",
       "        [-2.27220639e-01,  6.33422025e-01],\n",
       "        [-3.71985322e-02,  7.69867309e-01],\n",
       "        [ 6.92417070e-02,  8.97833288e-01],\n",
       "        [-6.60998905e-02,  7.79017833e-01],\n",
       "        [-3.20734077e-02,  7.91428596e-01]],\n",
       "\n",
       "       [[-1.36635505e-01,  5.56322148e-01],\n",
       "        [-6.87390218e-02,  6.64140096e-01],\n",
       "        [-8.21022213e-02,  6.84051099e-01],\n",
       "        [-6.53198805e-02,  7.23202653e-01],\n",
       "        [-9.20543742e-02,  6.70704741e-01],\n",
       "        [ 8.17009216e-02,  9.54163993e-01],\n",
       "        [ 2.47845339e-02,  7.37410809e-01],\n",
       "        [ 1.93427360e-01,  9.98607380e-01],\n",
       "        [ 9.55691396e+00,  9.55691396e+00],\n",
       "        [ 2.16429721e-01,  1.07117376e+00],\n",
       "        [-3.48964276e-02,  7.35502761e-01],\n",
       "        [-7.51362123e-02,  6.11268891e-01],\n",
       "        [-1.20519770e-01,  5.81170800e-01],\n",
       "        [-3.36360467e-02,  6.42182550e-01],\n",
       "        [-1.54724968e-02,  7.49238108e-01],\n",
       "        [-6.44528316e-02,  6.71440057e-01],\n",
       "        [-8.35804635e-02,  6.49180522e-01]],\n",
       "\n",
       "       [[-9.22196447e-02,  6.79279743e-01],\n",
       "        [ 1.93938104e-02,  8.00812866e-01],\n",
       "        [-3.06794514e-02,  7.81525831e-01],\n",
       "        [ 5.08181031e-03,  8.70489865e-01],\n",
       "        [ 1.68847734e-02,  7.83070037e-01],\n",
       "        [ 1.53221570e-01,  1.03013627e+00],\n",
       "        [ 1.02569534e-01,  9.42421971e-01],\n",
       "        [ 6.09371174e-01,  1.46579982e+00],\n",
       "        [ 2.16429721e-01,  1.07117376e+00],\n",
       "        [ 9.55691396e+00,  9.55691396e+00],\n",
       "        [ 3.65622639e-02,  8.59732763e-01],\n",
       "        [-7.65104356e-02,  7.49218415e-01],\n",
       "        [-1.50630817e-01,  6.95673034e-01],\n",
       "        [ 2.87601327e-02,  7.87248378e-01],\n",
       "        [ 1.33841749e-02,  8.13505347e-01],\n",
       "        [-5.55973535e-02,  7.33002155e-01],\n",
       "        [-5.69379311e-02,  7.26092771e-01]],\n",
       "\n",
       "       [[ 4.26453080e-03,  8.91466787e-01],\n",
       "        [ 4.37386564e-01,  1.29394191e+00],\n",
       "        [ 8.55491074e-04,  8.70695622e-01],\n",
       "        [ 1.19140179e-01,  1.02326238e+00],\n",
       "        [ 8.72772135e-02,  9.85908449e-01],\n",
       "        [ 1.15470988e-01,  8.92125136e-01],\n",
       "        [-5.62231463e-02,  7.10645221e-01],\n",
       "        [-2.89620036e-02,  8.16413407e-01],\n",
       "        [-3.48964276e-02,  7.35502761e-01],\n",
       "        [ 3.65622639e-02,  8.59732763e-01],\n",
       "        [ 9.55691396e+00,  9.55691396e+00],\n",
       "        [ 3.47545179e-01,  1.18264128e+00],\n",
       "        [ 1.73646160e-01,  1.03952129e+00],\n",
       "        [ 1.42407228e-01,  1.08433744e+00],\n",
       "        [ 1.50078361e-01,  1.02833058e+00],\n",
       "        [ 5.99016267e-02,  7.92307190e-01],\n",
       "        [ 2.61493902e-03,  7.79521641e-01]],\n",
       "\n",
       "       [[-4.68835066e-02,  7.67614630e-01],\n",
       "        [ 2.57869925e-01,  1.19831695e+00],\n",
       "        [ 8.09743464e-02,  9.08585370e-01],\n",
       "        [ 1.47995071e-01,  1.05886894e+00],\n",
       "        [ 1.32484596e-01,  1.11133820e+00],\n",
       "        [-1.03329052e-02,  8.08190751e-01],\n",
       "        [-1.12416869e-01,  6.18978820e-01],\n",
       "        [-1.32185914e-01,  7.00617072e-01],\n",
       "        [-7.51362123e-02,  6.11268891e-01],\n",
       "        [-7.65104356e-02,  7.49218415e-01],\n",
       "        [ 3.47545179e-01,  1.18264128e+00],\n",
       "        [ 9.55691396e+00,  9.55691396e+00],\n",
       "        [ 3.20574846e-01,  1.23128017e+00],\n",
       "        [ 1.09706305e-01,  1.02138975e+00],\n",
       "        [ 7.98797952e-02,  9.38699508e-01],\n",
       "        [ 6.23519135e-02,  8.29941901e-01],\n",
       "        [-7.21076904e-02,  7.20822574e-01]],\n",
       "\n",
       "       [[-5.81180889e-02,  8.03281709e-01],\n",
       "        [ 8.82843471e-02,  1.05863978e+00],\n",
       "        [ 1.68848177e-02,  8.29999263e-01],\n",
       "        [ 4.67714105e-02,  9.09458797e-01],\n",
       "        [ 2.67240521e-02,  1.00019727e+00],\n",
       "        [ 3.04752806e-02,  9.11520393e-01],\n",
       "        [-1.26077431e-01,  6.41125537e-01],\n",
       "        [-2.27220639e-01,  6.33422025e-01],\n",
       "        [-1.20519770e-01,  5.81170800e-01],\n",
       "        [-1.50630817e-01,  6.95673034e-01],\n",
       "        [ 1.73646160e-01,  1.03952129e+00],\n",
       "        [ 3.20574846e-01,  1.23128017e+00],\n",
       "        [ 9.55691396e+00,  9.55691396e+00],\n",
       "        [-9.84142940e-02,  8.32964855e-01],\n",
       "        [ 3.67594406e-01,  1.25977883e+00],\n",
       "        [ 2.33571383e-01,  1.03430207e+00],\n",
       "        [ 4.04123692e-02,  8.67894215e-01]],\n",
       "\n",
       "       [[-1.52558735e-01,  6.51783899e-01],\n",
       "        [-9.94204044e-02,  8.77823929e-01],\n",
       "        [-1.07713571e-01,  7.09405767e-01],\n",
       "        [-3.33956724e-02,  8.03872874e-01],\n",
       "        [-9.11274672e-02,  7.98589502e-01],\n",
       "        [ 2.75542584e-02,  8.28869954e-01],\n",
       "        [-9.21655429e-02,  6.43232064e-01],\n",
       "        [-3.71985322e-02,  7.69867309e-01],\n",
       "        [-3.36360467e-02,  6.42182550e-01],\n",
       "        [ 2.87601327e-02,  7.87248378e-01],\n",
       "        [ 1.42407228e-01,  1.08433744e+00],\n",
       "        [ 1.09706305e-01,  1.02138975e+00],\n",
       "        [-9.84142940e-02,  8.32964855e-01],\n",
       "        [ 9.55691396e+00,  9.55691396e+00],\n",
       "        [-7.26423566e-03,  9.22708783e-01],\n",
       "        [-3.12816579e-02,  7.59159935e-01],\n",
       "        [-1.26896018e-01,  6.66550936e-01]],\n",
       "\n",
       "       [[-1.55492875e-01,  6.51822490e-01],\n",
       "        [-6.52779726e-02,  8.13138148e-01],\n",
       "        [-1.24446692e-01,  7.17250510e-01],\n",
       "        [-3.34961312e-02,  7.88457269e-01],\n",
       "        [-4.85269122e-02,  8.57734842e-01],\n",
       "        [ 3.38945511e-01,  1.31325943e+00],\n",
       "        [-4.27676921e-02,  8.15633732e-01],\n",
       "        [ 6.92417070e-02,  8.97833288e-01],\n",
       "        [-1.54724968e-02,  7.49238108e-01],\n",
       "        [ 1.33841749e-02,  8.13505347e-01],\n",
       "        [ 1.50078361e-01,  1.02833058e+00],\n",
       "        [ 7.98797952e-02,  9.38699508e-01],\n",
       "        [ 3.67594406e-01,  1.25977883e+00],\n",
       "        [-7.26423566e-03,  9.22708783e-01],\n",
       "        [ 9.55691396e+00,  9.55691396e+00],\n",
       "        [ 3.76605483e-01,  1.23733914e+00],\n",
       "        [ 1.02776838e-01,  9.62857028e-01]],\n",
       "\n",
       "       [[-1.76932845e-01,  5.48545036e-01],\n",
       "        [-7.16284397e-02,  6.78206696e-01],\n",
       "        [-9.68346489e-02,  6.46668951e-01],\n",
       "        [-3.02490328e-02,  6.84423205e-01],\n",
       "        [-9.07954078e-02,  7.34444359e-01],\n",
       "        [ 1.94347447e-01,  1.08242743e+00],\n",
       "        [-8.31974061e-02,  7.00596020e-01],\n",
       "        [-6.60998905e-02,  7.79017833e-01],\n",
       "        [-6.44528316e-02,  6.71440057e-01],\n",
       "        [-5.55973535e-02,  7.33002155e-01],\n",
       "        [ 5.99016267e-02,  7.92307190e-01],\n",
       "        [ 6.23519135e-02,  8.29941901e-01],\n",
       "        [ 2.33571383e-01,  1.03430207e+00],\n",
       "        [-3.12816579e-02,  7.59159935e-01],\n",
       "        [ 3.76605483e-01,  1.23733914e+00],\n",
       "        [ 9.55691396e+00,  9.55691396e+00],\n",
       "        [ 9.66376457e-02,  8.61668983e-01]],\n",
       "\n",
       "       [[-1.69850321e-01,  6.23972136e-01],\n",
       "        [-5.50308618e-02,  6.76968969e-01],\n",
       "        [-1.21610357e-01,  6.34475810e-01],\n",
       "        [-1.06600276e-01,  6.20303584e-01],\n",
       "        [-1.14222925e-01,  6.37705731e-01],\n",
       "        [ 1.03146186e-02,  7.90114378e-01],\n",
       "        [-5.63822894e-02,  7.70343680e-01],\n",
       "        [-3.20734077e-02,  7.91428596e-01],\n",
       "        [-8.35804635e-02,  6.49180522e-01],\n",
       "        [-5.69379311e-02,  7.26092771e-01],\n",
       "        [ 2.61493902e-03,  7.79521641e-01],\n",
       "        [-7.21076904e-02,  7.20822574e-01],\n",
       "        [ 4.04123692e-02,  8.67894215e-01],\n",
       "        [-1.26896018e-01,  6.66550936e-01],\n",
       "        [ 1.02776838e-01,  9.62857028e-01],\n",
       "        [ 9.66376457e-02,  8.61668983e-01],\n",
       "        [ 9.55691396e+00,  9.55691396e+00]]])"
      ]
     },
     "execution_count": 24,
     "metadata": {},
     "output_type": "execute_result"
    }
   ],
   "source": [
    "all_tolerance_intervals"
   ]
  },
  {
   "cell_type": "code",
   "execution_count": 21,
   "id": "be52205c-59f2-4f90-ae5f-d298cc38eed8",
   "metadata": {},
   "outputs": [
    {
     "ename": "NameError",
     "evalue": "name 'ValueErrors' is not defined",
     "output_type": "error",
     "traceback": [
      "\u001b[0;31m---------------------------------------------------------------------------\u001b[0m",
      "\u001b[0;31mNameError\u001b[0m                                 Traceback (most recent call last)",
      "Cell \u001b[0;32mIn[21], line 1\u001b[0m\n\u001b[0;32m----> 1\u001b[0m \u001b[38;5;28;01mraise\u001b[39;00m \u001b[43mValueErrors\u001b[49m()\n",
      "\u001b[0;31mNameError\u001b[0m: name 'ValueErrors' is not defined"
     ]
    }
   ],
   "source": [
    "raise ValueErrors()"
   ]
  },
  {
   "cell_type": "code",
   "execution_count": null,
   "id": "1c545dfc-fb40-4111-b268-de262c968326",
   "metadata": {
    "tags": []
   },
   "outputs": [],
   "source": [
    "abide_df[\"extreme_corr_mask\"] = abide_df[\"corr_matrix\"].apply(lambda x: flag_outside_range(x, all_tolerance_intervals))"
   ]
  },
  {
   "cell_type": "code",
   "execution_count": null,
   "id": "21c8751a-3cdc-45ee-8ac4-d8bb89c5f1ba",
   "metadata": {
    "tags": []
   },
   "outputs": [],
   "source": [
    "hc_corr_mask = abide_df.loc[X_test.index][\"extreme_corr_mask\"].to_list()\n",
    "ASD_corr_mask = abide_df[abide_df[\"DX_GROUP\"] == 1][\"extreme_corr_mask\"].to_list()"
   ]
  },
  {
   "cell_type": "code",
   "execution_count": null,
   "id": "01c07865-ead0-414d-9673-42b154dc4a22",
   "metadata": {
    "tags": []
   },
   "outputs": [],
   "source": [
    "abide_df[\"extreme_corr_mask\"].iloc[0]"
   ]
  },
  {
   "cell_type": "raw",
   "id": "db3160c5-e7a5-4030-b661-3128ac3384de",
   "metadata": {
    "tags": []
   },
   "source": [
    "aal3_dictionary = pd.read_csv(\"./aal3_dictionary.txt\", delimiter=\"\\t\")"
   ]
  },
  {
   "cell_type": "raw",
   "id": "3a073c41-9374-4520-82aa-af8f9ea4c07e",
   "metadata": {
    "tags": []
   },
   "source": [
    "aal3_dictionary[\"yeo17_network\"].unique()"
   ]
  },
  {
   "cell_type": "raw",
   "id": "1db1902e-de0a-4289-900e-1c3b4acc0a7c",
   "metadata": {
    "tags": []
   },
   "source": [
    "aal3_dictionary.head()"
   ]
  },
  {
   "cell_type": "raw",
   "id": "82dba105-8138-4f25-bf8a-09269ddac953",
   "metadata": {
    "tags": []
   },
   "source": [
    "aal3_dictionary = aal3_dictionary.reset_index().sort_values([\"yeo17_network\", \"nom_l\"])"
   ]
  },
  {
   "cell_type": "raw",
   "id": "e5f782c5-fe23-46ae-bf6b-6a82deae8fa0",
   "metadata": {
    "tags": []
   },
   "source": [
    "aal3_dictionary.head()"
   ]
  },
  {
   "cell_type": "code",
   "execution_count": null,
   "id": "6b1868d4-5daa-4f2f-adda-630d0260d4dd",
   "metadata": {
    "tags": []
   },
   "outputs": [],
   "source": [
    "abide_df"
   ]
  },
  {
   "cell_type": "code",
   "execution_count": null,
   "id": "8b67589f-e022-4a49-90f7-277bd621544b",
   "metadata": {
    "tags": []
   },
   "outputs": [],
   "source": [
    "def plot_functional_matrix(matrix, title=\"Functional Connectivity Matrix\", colormap=\"coolwarm\", vmin=None, vmax=None):\n",
    "    \"\"\"\n",
    "    Visualizes a functional connectivity matrix using a heatmap with adjustable color range.\n",
    "\n",
    "    Parameters:\n",
    "    - matrix (np.ndarray): 2D NumPy array representing the connectivity matrix.\n",
    "    - title (str): Title of the plot.\n",
    "    - colormap (str): Matplotlib colormap for visualization.\n",
    "    - vmin (float, optional): Minimum value for color scale (default is matrix min).\n",
    "    - vmax (float, optional): Maximum value for color scale (default is matrix max).\n",
    "    \"\"\"\n",
    "    plt.figure(figsize=(10, 8))\n",
    "    plt.imshow(matrix, cmap=colormap, interpolation=\"nearest\", aspect=\"auto\", vmin=vmin, vmax=vmax)\n",
    "    plt.colorbar(label=\"Connectivity Strength\")\n",
    "    plt.title(title)\n",
    "    plt.xlabel(\"Brain Region Index\")\n",
    "    plt.ylabel(\"Brain Region Index\")\n",
    "    plt.xticks(range(matrix.shape[0]))\n",
    "    plt.yticks(range(matrix.shape[1]))\n",
    "    plt.grid(False)\n",
    "    plt.show()"
   ]
  },
  {
   "cell_type": "code",
   "execution_count": null,
   "id": "ab26abab-b1ee-4af2-a3b1-05861123c6ec",
   "metadata": {
    "tags": []
   },
   "outputs": [],
   "source": [
    "np.median(abide_df[\"corr_matrix\"].iloc[0])"
   ]
  },
  {
   "cell_type": "code",
   "execution_count": null,
   "id": "5b90c513-6e91-4258-9e77-af2bc4657937",
   "metadata": {
    "tags": []
   },
   "outputs": [],
   "source": [
    "plot_functional_matrix(abide_df[abide_df[\"DX_GROUP\"] == 2][\"corr_matrix\"].iloc[1], vmin=0, vmax=2)"
   ]
  },
  {
   "cell_type": "code",
   "execution_count": null,
   "id": "a576b13a-b80a-4231-a604-36de805d4f20",
   "metadata": {
    "tags": []
   },
   "outputs": [],
   "source": [
    "plot_functional_matrix(abide_df[abide_df[\"DX_GROUP\"] == 1][\"corr_matrix\"].iloc[1], vmin=0, vmax=2)"
   ]
  },
  {
   "cell_type": "code",
   "execution_count": null,
   "id": "ba48efd8-ec01-4001-bd36-9ef87d21c234",
   "metadata": {
    "tags": []
   },
   "outputs": [],
   "source": [
    "extremes_mask, consistency_rate = repeated_enrichment_analysis(ASD_corr_mask, hc_corr_mask)"
   ]
  },
  {
   "cell_type": "code",
   "execution_count": null,
   "id": "aad2412e-28df-4b92-b160-f5d247ba1e7d",
   "metadata": {
    "tags": []
   },
   "outputs": [],
   "source": [
    "sum(extremes_mask)"
   ]
  },
  {
   "cell_type": "code",
   "execution_count": null,
   "id": "97c814f3-6af3-4047-b098-32a1d486b675",
   "metadata": {},
   "outputs": [],
   "source": []
  },
  {
   "cell_type": "code",
   "execution_count": null,
   "id": "0ecac877-c211-4d61-bdc5-f2f0e743761e",
   "metadata": {},
   "outputs": [],
   "source": [
    "raise ValueError()"
   ]
  },
  {
   "cell_type": "code",
   "execution_count": null,
   "id": "8f451efc-1130-44ac-abb7-9c414bf422b4",
   "metadata": {
    "tags": []
   },
   "outputs": [],
   "source": [
    "import numpy as np\n",
    "from nilearn import datasets\n",
    "from nilearn.connectome import ConnectivityMeasure\n",
    "\n",
    "# Load fMRI data (replace with your actual data)\n",
    "rest_dataset = datasets.fetch_atlas_harvard_oxford(\"cort-maxprob-thr0-1mm\")\n",
    "time_series = np.random.rand(100, 48) # Example: 100 time points, 48 regions\n",
    "\n",
    "# Define the connectivity measure\n",
    "connectivity_measure = ConnectivityMeasure(kind='correlation')\n",
    "\n",
    "# Compute the connectivity matrix\n",
    "correlation_matrix = connectivity_measure.fit_transform([time_series])[0]\n",
    "\n",
    "# Print or visualize the matrix\n",
    "print(correlation_matrix.shape)\n",
    "print(correlation_matrix)"
   ]
  },
  {
   "cell_type": "code",
   "execution_count": null,
   "id": "a7d971ec-5788-4cdc-b6fa-abfc22482d93",
   "metadata": {},
   "outputs": [],
   "source": []
  },
  {
   "cell_type": "code",
   "execution_count": null,
   "id": "466b2214-2465-4d58-bd0f-a9a328a6fceb",
   "metadata": {
    "tags": []
   },
   "outputs": [],
   "source": [
    "np.array(all_tolerance_intervals)"
   ]
  },
  {
   "cell_type": "code",
   "execution_count": null,
   "id": "8e7e44c6-b5ea-4191-ace4-236e1b531e69",
   "metadata": {
    "tags": []
   },
   "outputs": [],
   "source": [
    "control_df"
   ]
  },
  {
   "cell_type": "code",
   "execution_count": null,
   "id": "65c13bc8-0373-4f7b-bcaf-b52b2616e0a2",
   "metadata": {
    "tags": []
   },
   "outputs": [],
   "source": [
    "len(df[\"SUB_ID\"].unique())"
   ]
  },
  {
   "cell_type": "code",
   "execution_count": null,
   "id": "521d34b7-fda8-4db2-b428-d1ad5fd635c6",
   "metadata": {},
   "outputs": [],
   "source": [
    "df[\"SITE_ID\"].unique()"
   ]
  },
  {
   "cell_type": "code",
   "execution_count": null,
   "id": "f42e96cf-4df9-4fdf-a99e-c5d867b5f333",
   "metadata": {
    "tags": []
   },
   "outputs": [],
   "source": [
    "df[\"DX_GROUP\"].unique()"
   ]
  },
  {
   "cell_type": "code",
   "execution_count": null,
   "id": "bbcfdab0-a239-40bd-8c8e-09d7532ba1c6",
   "metadata": {
    "tags": []
   },
   "outputs": [],
   "source": [
    "df.columns"
   ]
  },
  {
   "cell_type": "code",
   "execution_count": null,
   "id": "d35837f6-a163-448a-859b-e3090da79e6c",
   "metadata": {
    "tags": []
   },
   "outputs": [],
   "source": [
    "preprocessed_metadata_df = pd.read_csv(\"/blue/ruogu.fang/ryoi360/projects/fmri_vlm/results/2025_02_25_ABIDE_processing/Phenotypic_V1_0b_preprocessed1.csv\")"
   ]
  },
  {
   "cell_type": "code",
   "execution_count": null,
   "id": "0f0b8635-ae09-47e9-93f6-3e4ec655cd66",
   "metadata": {
    "tags": []
   },
   "outputs": [],
   "source": [
    "for col in preprocessed_metadata_df.columns:\n",
    "    print(col)"
   ]
  },
  {
   "cell_type": "code",
   "execution_count": null,
   "id": "e05132c9-ef3c-4999-942a-fe05f7a9e5ff",
   "metadata": {
    "tags": []
   },
   "outputs": [],
   "source": [
    "motion_filtered_df = preprocessed_metadata_df[(preprocessed_metadata_df['func_mean_fd'] <= 0.2) & (preprocessed_metadata_df['func_num_fd'] < 20)]\n",
    "\n",
    "print(f\"Subjects after stricter filtering: {len(motion_filtered_df)}\")"
   ]
  },
  {
   "cell_type": "code",
   "execution_count": null,
   "id": "290e81cb-20b4-4edc-9f8c-10a9f8ca6721",
   "metadata": {
    "tags": []
   },
   "outputs": [],
   "source": [
    "len(preprocessed_metadata_df.columns)"
   ]
  },
  {
   "cell_type": "code",
   "execution_count": null,
   "id": "3ebd4d70-7982-47f6-9b04-5da9f56575fb",
   "metadata": {
    "tags": []
   },
   "outputs": [],
   "source": [
    "preprocessed_metadata_df[\"func_mean_fd\"]"
   ]
  },
  {
   "cell_type": "code",
   "execution_count": null,
   "id": "d39ebbd9-293f-47e7-9167-4678fe35aa7c",
   "metadata": {
    "tags": []
   },
   "outputs": [],
   "source": [
    "preprocessed_metadata_df[\"func_fwhm\"].max()"
   ]
  },
  {
   "cell_type": "code",
   "execution_count": null,
   "id": "20545cfc-fb47-4a33-a801-fe4664dd3d56",
   "metadata": {
    "tags": []
   },
   "outputs": [],
   "source": [
    "import glob"
   ]
  },
  {
   "cell_type": "code",
   "execution_count": null,
   "id": "5667c5b9-d64f-4c91-b38b-6b0840dde23d",
   "metadata": {
    "tags": []
   },
   "outputs": [],
   "source": [
    "abide_files = glob.glob(\"/orange/ruogu.fang/ryoi360/ABIDE/*\")"
   ]
  },
  {
   "cell_type": "code",
   "execution_count": null,
   "id": "de8274fc-96af-414d-862c-2d610b4050db",
   "metadata": {
    "tags": []
   },
   "outputs": [],
   "source": [
    "len(abide_files)"
   ]
  },
  {
   "cell_type": "code",
   "execution_count": null,
   "id": "7a7892f4-7dee-4a8a-b994-3791df45cb1e",
   "metadata": {
    "tags": []
   },
   "outputs": [],
   "source": [
    "import numpy as np\n",
    "import nibabel as nib\n",
    "from nilearn import plotting\n",
    "import matplotlib.pyplot as plt"
   ]
  },
  {
   "cell_type": "code",
   "execution_count": null,
   "id": "20049441-258c-4119-8e43-9a12f042236f",
   "metadata": {
    "tags": []
   },
   "outputs": [],
   "source": [
    "fmri_img = nib.load(abide_files[0])\n",
    "fmri_data = fmri_img.get_fdata()"
   ]
  },
  {
   "cell_type": "code",
   "execution_count": null,
   "id": "1f3182e2-e867-47fa-866a-709987278cb0",
   "metadata": {
    "tags": []
   },
   "outputs": [],
   "source": [
    "fmri_data.shape"
   ]
  },
  {
   "cell_type": "code",
   "execution_count": null,
   "id": "940701ed-44a5-40b4-b02e-22ee8ac70953",
   "metadata": {
    "tags": []
   },
   "outputs": [],
   "source": [
    "# Get the voxel size from the affine transformation matrix\n",
    "voxel_size = np.sqrt(np.sum(fmri_img.affine[:3, :3] ** 2, axis=0))\n",
    "print(\"Original Voxel Size (mm):\", voxel_size)"
   ]
  },
  {
   "cell_type": "code",
   "execution_count": null,
   "id": "8b288a84-e956-413e-889d-f16ed92027fd",
   "metadata": {},
   "outputs": [],
   "source": [
    "1. Install Required Packages\n",
    "If you haven't installed Nipype, Nibabel, and NiLearn, do so using:\n",
    "\n",
    "bash\n",
    "Copy\n",
    "Edit\n",
    "pip install nipype nibabel nilearn numpy scipy\n"
   ]
  },
  {
   "cell_type": "code",
   "execution_count": null,
   "id": "e58581f4-646d-4b58-a50b-6a004fa5679d",
   "metadata": {},
   "outputs": [],
   "source": [
    "2. Preprocessing Steps in Python\n",
    "Step 1: Rigid Body Motion Correction\n",
    "Use SPM's Realign function via Nipype.\n",
    "Alternatively, use FSL's MCFLIRT.\n",
    "SPM12 (via Nipype)\n",
    "python\n",
    "Copy\n",
    "Edit\n",
    "from nipype.interfaces.spm import Realign\n",
    "\n",
    "realign = Realign()\n",
    "realign.inputs.in_files = 'subject_func.nii'  # Replace with your file path\n",
    "realign.inputs.register_to_mean = True\n",
    "realign.run()\n",
    "FSL Alternative\n",
    "python\n",
    "Copy\n",
    "Edit\n",
    "from nipype.interfaces.fsl import MCFLIRT\n",
    "\n",
    "mcflirt = MCFLIRT()\n",
    "mcflirt.inputs.in_file = 'subject_func.nii'\n",
    "mcflirt.inputs.out_file = 'motion_corrected.nii'\n",
    "mcflirt.run()\n",
    "Step 2: Slice Timing Correction\n",
    "Adjusts for differences in slice acquisition time.\n",
    "Requires TR (repetition time) and slice order.\n",
    "python\n",
    "Copy\n",
    "Edit\n",
    "from nipype.interfaces.spm import SliceTiming\n",
    "\n",
    "slice_timing = SliceTiming()\n",
    "slice_timing.inputs.in_files = 'motion_corrected.nii'\n",
    "slice_timing.inputs.time_repetition = 2.0  # Set the correct TR\n",
    "slice_timing.run()\n",
    "Step 3: Normalization to MNI Space\n",
    "Warp the functional data into MNI152 template.\n",
    "Use SPM's Normalize or FSL's FLIRT/FNIRT.\n",
    "SPM Normalization\n",
    "python\n",
    "Copy\n",
    "Edit\n",
    "from nipype.interfaces.spm import Normalize12\n",
    "\n",
    "normalize = Normalize12()\n",
    "normalize.inputs.image_to_align = 'slice_time_corrected.nii'\n",
    "normalize.inputs.apply_to_files = ['slice_time_corrected.nii']\n",
    "normalize.inputs.jobtype = 'estwrite'  # Estimate and apply transformation\n",
    "normalize.run()\n",
    "FSL FLIRT Alternative\n",
    "python\n",
    "Copy\n",
    "Edit\n",
    "from nipype.interfaces.fsl import FLIRT\n",
    "\n",
    "flirt = FLIRT()\n",
    "flirt.inputs.in_file = 'slice_time_corrected.nii'\n",
    "flirt.inputs.reference = '/usr/local/fsl/data/standard/MNI152_T1_2mm_brain.nii.gz'\n",
    "flirt.inputs.out_file = 'normalized.nii'\n",
    "flirt.run()\n",
    "Step 4: Resampling to 3×3×3 mm³\n",
    "Use NiLearn for resampling.\n",
    "python\n",
    "Copy\n",
    "Edit\n",
    "from nilearn.image import resample_img\n",
    "import nibabel as nib\n",
    "\n",
    "img = nib.load(\"normalized.nii\")\n",
    "\n",
    "resampled_img = resample_img(img, target_affine=np.diag([3, 3, 3, 1]))\n",
    "nib.save(resampled_img, \"resampled_3mm.nii\")\n",
    "Step 5: Spatial Smoothing (FWHM = 6 mm)\n",
    "Apply Gaussian smoothing using NiLearn.\n",
    "python\n",
    "Copy\n",
    "Edit\n",
    "from nilearn.image import smooth_img\n",
    "\n",
    "smoothed_img = smooth_img(\"resampled_3mm.nii\", fwhm=6)\n",
    "smoothed_img.to_filename(\"smoothed.nii\")\n"
   ]
  },
  {
   "cell_type": "code",
   "execution_count": null,
   "id": "14084270-635f-420d-bc8e-092d69ec081e",
   "metadata": {},
   "outputs": [],
   "source": []
  },
  {
   "cell_type": "code",
   "execution_count": null,
   "id": "b607fa7e-49be-4e90-8af1-662dcc87ef38",
   "metadata": {},
   "outputs": [],
   "source": []
  },
  {
   "cell_type": "code",
   "execution_count": null,
   "id": "ddda79c1-0261-40ec-a0de-e14f8945a2bf",
   "metadata": {},
   "outputs": [],
   "source": []
  },
  {
   "cell_type": "code",
   "execution_count": null,
   "id": "68818b9c-bbed-41bc-9bf2-b310731897be",
   "metadata": {},
   "outputs": [],
   "source": []
  }
 ],
 "metadata": {
  "kernelspec": {
   "display_name": "nilabel_env",
   "language": "python",
   "name": "nibabel_env"
  },
  "language_info": {
   "codemirror_mode": {
    "name": "ipython",
    "version": 3
   },
   "file_extension": ".py",
   "mimetype": "text/x-python",
   "name": "python",
   "nbconvert_exporter": "python",
   "pygments_lexer": "ipython3",
   "version": "3.13.1"
  }
 },
 "nbformat": 4,
 "nbformat_minor": 5
}

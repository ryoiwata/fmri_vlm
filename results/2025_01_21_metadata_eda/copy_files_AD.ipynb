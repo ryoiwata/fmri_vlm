{
 "cells": [
  {
   "cell_type": "markdown",
   "metadata": {
    "cell_id": "c3a02adc9e884466bc8c79db549cc3d2",
    "deepnote_cell_type": "text-cell-h1",
    "formattedRanges": [
     {
      "fromCodePoint": 0,
      "marks": {
       "bold": true,
       "underline": true
      },
      "toCodePoint": 17,
      "type": "marks"
     }
    ]
   },
   "source": [
    "# Copy files"
   ]
  },
  {
   "cell_type": "markdown",
   "metadata": {
    "cell_id": "4546bee655b14a5dbf393161f1228e60",
    "deepnote_cell_type": "text-cell-p",
    "formattedRanges": []
   },
   "source": [
    "Brief 1-2 sentence description of notebook."
   ]
  },
  {
   "cell_type": "markdown",
   "metadata": {},
   "source": [
    "TODO: Supplement the description\n",
    "- Notebook that extracts the timestamps and gets the time that tones played"
   ]
  },
  {
   "cell_type": "code",
   "execution_count": 1,
   "metadata": {
    "tags": []
   },
   "outputs": [],
   "source": [
    "# Imports of all used packages and libraries\n",
    "import sys\n",
    "import os\n",
    "import glob\n",
    "from collections import defaultdict"
   ]
  },
  {
   "cell_type": "code",
   "execution_count": 2,
   "metadata": {
    "tags": []
   },
   "outputs": [],
   "source": [
    "import zipfile\n"
   ]
  },
  {
   "cell_type": "markdown",
   "metadata": {},
   "source": [
    "# Functions"
   ]
  },
  {
   "cell_type": "markdown",
   "metadata": {
    "cell_id": "d290bac2c17940bfbc0f9296beaf70e5",
    "deepnote_cell_type": "text-cell-h2",
    "formattedRanges": []
   },
   "source": [
    "## Inputs & Data"
   ]
  },
  {
   "cell_type": "markdown",
   "metadata": {
    "cell_id": "e528ce19c608425292151930d380f49f",
    "deepnote_cell_type": "text-cell-p",
    "formattedRanges": []
   },
   "source": [
    "- Explanation of each input and where it comes from."
   ]
  },
  {
   "cell_type": "markdown",
   "metadata": {},
   "source": [
    "Inputs and Required data loading\n",
    "- input variable names are in all caps snake case\n",
    "- Whenever an input changes or is used for processing \n",
    "- The variables are all lower in snake case"
   ]
  },
  {
   "cell_type": "code",
   "execution_count": 3,
   "metadata": {
    "cell_id": "6cf83a5811054461a718a71673d09aab",
    "deepnote_cell_type": "code",
    "deepnote_to_be_reexecuted": false,
    "execution_millis": 373,
    "execution_start": 1691424003628,
    "source_hash": null,
    "tags": []
   },
   "outputs": [],
   "source": [
    "# Path of the directory that contains the Spike Gadgets recording and the exported timestamp files\n",
    "# Exported with this tool https://docs.spikegadgets.com/en/latest/basic/ExportFunctions.html\n",
    "# Export these files:\n",
    "    # -raw – Continuous raw band export.\n",
    "    # -dio – Digital IO channel state change export.\n",
    "    # -analogio – Continuous analog IO export.\n",
    "# INPUT_DIR = \"/scratch/back_up/reward_competition_extention/final_proc/phy_curation\"\n",
    "# INPUT_DIR = \"/scratch/back_up/reward_competition_extention/data/rce_cohort_3\"\n",
    "INPUT_DIR = \"/orange/ruogu.fang/data/UKB/brain\"\n",
    "OUTPUT_DIR = os.path.join(\"/blue/ruogu.fang/ryoi360/projects/fmri_vlm/data/UKB/brain\") # where data is saved should always be shown in the inputs\n",
    "os.makedirs(OUTPUT_DIR, exist_ok=True)\n"
   ]
  },
  {
   "cell_type": "markdown",
   "metadata": {},
   "source": []
  },
  {
   "cell_type": "markdown",
   "metadata": {},
   "source": [
    "# Processing"
   ]
  },
  {
   "cell_type": "markdown",
   "metadata": {},
   "source": []
  },
  {
   "cell_type": "markdown",
   "metadata": {},
   "source": [
    "# Copying the files over"
   ]
  },
  {
   "cell_type": "code",
   "execution_count": 4,
   "metadata": {
    "tags": []
   },
   "outputs": [],
   "source": [
    "import shutil\n",
    "import glob\n",
    "import os\n",
    "\n"
   ]
  },
  {
   "cell_type": "code",
   "execution_count": 5,
   "metadata": {},
   "outputs": [],
   "source": [
    "\n",
    "# for p in sorted(glob.glob('*/*/*.npy', recursive=True, root_dir=INPUT_DIR)):\n",
    "#     if \"copies\" in p:\n",
    "#         continue\n",
    "#     print(p)\n",
    "#     if os.path.isfile(os.path.join(INPUT_DIR, p)):\n",
    "#         os.makedirs(os.path.join(OUTPUT_DIR, os.path.dirname(p)), exist_ok=True)\n",
    "#         if not os.path.exists(os.path.join(OUTPUT_DIR, p)):\n",
    "#             shutil.copy(os.path.join(INPUT_DIR, p), os.path.join(OUTPUT_DIR, p))\n",
    "#         else:\n",
    "#             print(\"{} exists\".format(os.path.join(OUTPUT_DIR, p)))\n",
    "\n"
   ]
  },
  {
   "cell_type": "code",
   "execution_count": 6,
   "metadata": {
    "tags": []
   },
   "outputs": [],
   "source": [
    "import pandas as pd"
   ]
  },
  {
   "cell_type": "code",
   "execution_count": 7,
   "metadata": {
    "tags": []
   },
   "outputs": [],
   "source": [
    "diagnosis_df = pd.read_pickle(\"./proc/trimmed_icd.pkl\")"
   ]
  },
  {
   "cell_type": "code",
   "execution_count": 8,
   "metadata": {
    "tags": []
   },
   "outputs": [
    {
     "data": {
      "text/html": [
       "<div>\n",
       "<style scoped>\n",
       "    .dataframe tbody tr th:only-of-type {\n",
       "        vertical-align: middle;\n",
       "    }\n",
       "\n",
       "    .dataframe tbody tr th {\n",
       "        vertical-align: top;\n",
       "    }\n",
       "\n",
       "    .dataframe thead th {\n",
       "        text-align: right;\n",
       "    }\n",
       "</style>\n",
       "<table border=\"1\" class=\"dataframe\">\n",
       "  <thead>\n",
       "    <tr style=\"text-align: right;\">\n",
       "      <th></th>\n",
       "      <th>eid</th>\n",
       "      <th>31-0.0</th>\n",
       "      <th>21022-0.0</th>\n",
       "      <th>all_diagnoses</th>\n",
       "      <th>mental_and_neural_diagnoses</th>\n",
       "      <th>has_any_diagnosis</th>\n",
       "      <th>has_mental_or_neural_diagnosis</th>\n",
       "      <th>has_PD</th>\n",
       "      <th>has_AD</th>\n",
       "    </tr>\n",
       "  </thead>\n",
       "  <tbody>\n",
       "    <tr>\n",
       "      <th>0</th>\n",
       "      <td>1000014</td>\n",
       "      <td>1</td>\n",
       "      <td>63</td>\n",
       "      <td>[I10, K20, K227, K30, K449, N300, R101, R31, R...</td>\n",
       "      <td>[]</td>\n",
       "      <td>True</td>\n",
       "      <td>False</td>\n",
       "      <td>False</td>\n",
       "      <td>False</td>\n",
       "    </tr>\n",
       "    <tr>\n",
       "      <th>1</th>\n",
       "      <td>1000023</td>\n",
       "      <td>1</td>\n",
       "      <td>48</td>\n",
       "      <td>[M179, N359, R31, Z302]</td>\n",
       "      <td>[]</td>\n",
       "      <td>True</td>\n",
       "      <td>False</td>\n",
       "      <td>False</td>\n",
       "      <td>False</td>\n",
       "    </tr>\n",
       "    <tr>\n",
       "      <th>2</th>\n",
       "      <td>1000030</td>\n",
       "      <td>0</td>\n",
       "      <td>65</td>\n",
       "      <td>[D051, D509, K224, K573, R69]</td>\n",
       "      <td>[]</td>\n",
       "      <td>True</td>\n",
       "      <td>False</td>\n",
       "      <td>False</td>\n",
       "      <td>False</td>\n",
       "    </tr>\n",
       "    <tr>\n",
       "      <th>3</th>\n",
       "      <td>1000041</td>\n",
       "      <td>0</td>\n",
       "      <td>53</td>\n",
       "      <td>[H269, H353, M2323]</td>\n",
       "      <td>[]</td>\n",
       "      <td>True</td>\n",
       "      <td>False</td>\n",
       "      <td>False</td>\n",
       "      <td>False</td>\n",
       "    </tr>\n",
       "    <tr>\n",
       "      <th>4</th>\n",
       "      <td>1000059</td>\n",
       "      <td>0</td>\n",
       "      <td>48</td>\n",
       "      <td>[]</td>\n",
       "      <td>[]</td>\n",
       "      <td>False</td>\n",
       "      <td>False</td>\n",
       "      <td>False</td>\n",
       "      <td>False</td>\n",
       "    </tr>\n",
       "    <tr>\n",
       "      <th>...</th>\n",
       "      <td>...</td>\n",
       "      <td>...</td>\n",
       "      <td>...</td>\n",
       "      <td>...</td>\n",
       "      <td>...</td>\n",
       "      <td>...</td>\n",
       "      <td>...</td>\n",
       "      <td>...</td>\n",
       "      <td>...</td>\n",
       "    </tr>\n",
       "    <tr>\n",
       "      <th>502304</th>\n",
       "      <td>6025359</td>\n",
       "      <td>1</td>\n",
       "      <td>62</td>\n",
       "      <td>[I251, M4806, N40, N47, R798]</td>\n",
       "      <td>[]</td>\n",
       "      <td>True</td>\n",
       "      <td>False</td>\n",
       "      <td>False</td>\n",
       "      <td>False</td>\n",
       "    </tr>\n",
       "    <tr>\n",
       "      <th>502305</th>\n",
       "      <td>6025362</td>\n",
       "      <td>0</td>\n",
       "      <td>53</td>\n",
       "      <td>[M169, Z038]</td>\n",
       "      <td>[]</td>\n",
       "      <td>True</td>\n",
       "      <td>False</td>\n",
       "      <td>False</td>\n",
       "      <td>False</td>\n",
       "    </tr>\n",
       "    <tr>\n",
       "      <th>502306</th>\n",
       "      <td>6025377</td>\n",
       "      <td>1</td>\n",
       "      <td>58</td>\n",
       "      <td>[]</td>\n",
       "      <td>[]</td>\n",
       "      <td>False</td>\n",
       "      <td>False</td>\n",
       "      <td>False</td>\n",
       "      <td>False</td>\n",
       "    </tr>\n",
       "    <tr>\n",
       "      <th>502307</th>\n",
       "      <td>6025386</td>\n",
       "      <td>0</td>\n",
       "      <td>43</td>\n",
       "      <td>[]</td>\n",
       "      <td>[]</td>\n",
       "      <td>False</td>\n",
       "      <td>False</td>\n",
       "      <td>False</td>\n",
       "      <td>False</td>\n",
       "    </tr>\n",
       "    <tr>\n",
       "      <th>502308</th>\n",
       "      <td>6025395</td>\n",
       "      <td>1</td>\n",
       "      <td>40</td>\n",
       "      <td>[]</td>\n",
       "      <td>[]</td>\n",
       "      <td>False</td>\n",
       "      <td>False</td>\n",
       "      <td>False</td>\n",
       "      <td>False</td>\n",
       "    </tr>\n",
       "  </tbody>\n",
       "</table>\n",
       "<p>502309 rows × 9 columns</p>\n",
       "</div>"
      ],
      "text/plain": [
       "            eid  31-0.0  21022-0.0  \\\n",
       "0       1000014       1         63   \n",
       "1       1000023       1         48   \n",
       "2       1000030       0         65   \n",
       "3       1000041       0         53   \n",
       "4       1000059       0         48   \n",
       "...         ...     ...        ...   \n",
       "502304  6025359       1         62   \n",
       "502305  6025362       0         53   \n",
       "502306  6025377       1         58   \n",
       "502307  6025386       0         43   \n",
       "502308  6025395       1         40   \n",
       "\n",
       "                                            all_diagnoses  \\\n",
       "0       [I10, K20, K227, K30, K449, N300, R101, R31, R...   \n",
       "1                                 [M179, N359, R31, Z302]   \n",
       "2                           [D051, D509, K224, K573, R69]   \n",
       "3                                     [H269, H353, M2323]   \n",
       "4                                                      []   \n",
       "...                                                   ...   \n",
       "502304                      [I251, M4806, N40, N47, R798]   \n",
       "502305                                       [M169, Z038]   \n",
       "502306                                                 []   \n",
       "502307                                                 []   \n",
       "502308                                                 []   \n",
       "\n",
       "       mental_and_neural_diagnoses  has_any_diagnosis  \\\n",
       "0                               []               True   \n",
       "1                               []               True   \n",
       "2                               []               True   \n",
       "3                               []               True   \n",
       "4                               []              False   \n",
       "...                            ...                ...   \n",
       "502304                          []               True   \n",
       "502305                          []               True   \n",
       "502306                          []              False   \n",
       "502307                          []              False   \n",
       "502308                          []              False   \n",
       "\n",
       "        has_mental_or_neural_diagnosis  has_PD  has_AD  \n",
       "0                                False   False   False  \n",
       "1                                False   False   False  \n",
       "2                                False   False   False  \n",
       "3                                False   False   False  \n",
       "4                                False   False   False  \n",
       "...                                ...     ...     ...  \n",
       "502304                           False   False   False  \n",
       "502305                           False   False   False  \n",
       "502306                           False   False   False  \n",
       "502307                           False   False   False  \n",
       "502308                           False   False   False  \n",
       "\n",
       "[502309 rows x 9 columns]"
      ]
     },
     "execution_count": 8,
     "metadata": {},
     "output_type": "execute_result"
    }
   ],
   "source": [
    "diagnosis_df"
   ]
  },
  {
   "cell_type": "code",
   "execution_count": 9,
   "metadata": {
    "tags": []
   },
   "outputs": [
    {
     "data": {
      "text/html": [
       "<div>\n",
       "<style scoped>\n",
       "    .dataframe tbody tr th:only-of-type {\n",
       "        vertical-align: middle;\n",
       "    }\n",
       "\n",
       "    .dataframe tbody tr th {\n",
       "        vertical-align: top;\n",
       "    }\n",
       "\n",
       "    .dataframe thead th {\n",
       "        text-align: right;\n",
       "    }\n",
       "</style>\n",
       "<table border=\"1\" class=\"dataframe\">\n",
       "  <thead>\n",
       "    <tr style=\"text-align: right;\">\n",
       "      <th></th>\n",
       "      <th>eid</th>\n",
       "      <th>31-0.0</th>\n",
       "      <th>21022-0.0</th>\n",
       "      <th>all_diagnoses</th>\n",
       "      <th>mental_and_neural_diagnoses</th>\n",
       "      <th>has_any_diagnosis</th>\n",
       "      <th>has_mental_or_neural_diagnosis</th>\n",
       "      <th>has_PD</th>\n",
       "      <th>has_AD</th>\n",
       "    </tr>\n",
       "  </thead>\n",
       "  <tbody>\n",
       "    <tr>\n",
       "      <th>479</th>\n",
       "      <td>1004807</td>\n",
       "      <td>1</td>\n",
       "      <td>65</td>\n",
       "      <td>[G309, N138, N390, R619, S510]</td>\n",
       "      <td>[G309]</td>\n",
       "      <td>True</td>\n",
       "      <td>True</td>\n",
       "      <td>False</td>\n",
       "      <td>True</td>\n",
       "    </tr>\n",
       "    <tr>\n",
       "      <th>877</th>\n",
       "      <td>1008780</td>\n",
       "      <td>0</td>\n",
       "      <td>63</td>\n",
       "      <td>[G309, J189, J22, L720, R13]</td>\n",
       "      <td>[G309]</td>\n",
       "      <td>True</td>\n",
       "      <td>True</td>\n",
       "      <td>False</td>\n",
       "      <td>True</td>\n",
       "    </tr>\n",
       "    <tr>\n",
       "      <th>1216</th>\n",
       "      <td>1012179</td>\n",
       "      <td>1</td>\n",
       "      <td>58</td>\n",
       "      <td>[G309, Z138]</td>\n",
       "      <td>[G309]</td>\n",
       "      <td>True</td>\n",
       "      <td>True</td>\n",
       "      <td>False</td>\n",
       "      <td>True</td>\n",
       "    </tr>\n",
       "    <tr>\n",
       "      <th>2967</th>\n",
       "      <td>1029681</td>\n",
       "      <td>1</td>\n",
       "      <td>67</td>\n",
       "      <td>[G309, H020, H251, I251, I340, J189, K29, K409...</td>\n",
       "      <td>[G309]</td>\n",
       "      <td>True</td>\n",
       "      <td>True</td>\n",
       "      <td>False</td>\n",
       "      <td>True</td>\n",
       "    </tr>\n",
       "    <tr>\n",
       "      <th>3690</th>\n",
       "      <td>1036913</td>\n",
       "      <td>0</td>\n",
       "      <td>68</td>\n",
       "      <td>[G309, L989, N950, R55, S000]</td>\n",
       "      <td>[G309]</td>\n",
       "      <td>True</td>\n",
       "      <td>True</td>\n",
       "      <td>False</td>\n",
       "      <td>True</td>\n",
       "    </tr>\n",
       "  </tbody>\n",
       "</table>\n",
       "</div>"
      ],
      "text/plain": [
       "          eid  31-0.0  21022-0.0  \\\n",
       "479   1004807       1         65   \n",
       "877   1008780       0         63   \n",
       "1216  1012179       1         58   \n",
       "2967  1029681       1         67   \n",
       "3690  1036913       0         68   \n",
       "\n",
       "                                          all_diagnoses  \\\n",
       "479                      [G309, N138, N390, R619, S510]   \n",
       "877                        [G309, J189, J22, L720, R13]   \n",
       "1216                                       [G309, Z138]   \n",
       "2967  [G309, H020, H251, I251, I340, J189, K29, K409...   \n",
       "3690                      [G309, L989, N950, R55, S000]   \n",
       "\n",
       "     mental_and_neural_diagnoses  has_any_diagnosis  \\\n",
       "479                       [G309]               True   \n",
       "877                       [G309]               True   \n",
       "1216                      [G309]               True   \n",
       "2967                      [G309]               True   \n",
       "3690                      [G309]               True   \n",
       "\n",
       "      has_mental_or_neural_diagnosis  has_PD  has_AD  \n",
       "479                             True   False    True  \n",
       "877                             True   False    True  \n",
       "1216                            True   False    True  \n",
       "2967                            True   False    True  \n",
       "3690                            True   False    True  "
      ]
     },
     "execution_count": 9,
     "metadata": {},
     "output_type": "execute_result"
    }
   ],
   "source": [
    "diagnosis_df[diagnosis_df[\"has_AD\"]].head()"
   ]
  },
  {
   "cell_type": "code",
   "execution_count": 10,
   "metadata": {
    "tags": []
   },
   "outputs": [],
   "source": [
    "no_diagnosis_IDS = diagnosis_df[diagnosis_df[\"has_AD\"]][\"eid\"].astype(str).to_list()"
   ]
  },
  {
   "cell_type": "code",
   "execution_count": 11,
   "metadata": {
    "tags": []
   },
   "outputs": [
    {
     "data": {
      "text/plain": [
       "['1004807',\n",
       " '1008780',\n",
       " '1012179',\n",
       " '1029681',\n",
       " '1036913',\n",
       " '1040387',\n",
       " '1080034',\n",
       " '1101431',\n",
       " '1114766',\n",
       " '1127354']"
      ]
     },
     "execution_count": 11,
     "metadata": {},
     "output_type": "execute_result"
    }
   ],
   "source": [
    "no_diagnosis_IDS[:10]"
   ]
  },
  {
   "cell_type": "code",
   "execution_count": 12,
   "metadata": {
    "tags": []
   },
   "outputs": [],
   "source": [
    "all_IDS = sorted(glob.glob('/orange/ruogu.fang/data/UKB/brain/20227_rsfMRI_NIFTI/rsfMRI_zip/*', recursive=True, root_dir=INPUT_DIR))"
   ]
  },
  {
   "cell_type": "markdown",
   "metadata": {},
   "source": [
    "- Getting all the file paths for healthy ADs"
   ]
  },
  {
   "cell_type": "code",
   "execution_count": 13,
   "metadata": {
    "tags": []
   },
   "outputs": [],
   "source": [
    "filtered_IDS = [string for string in all_IDS if any(keyword in string for keyword in no_diagnosis_IDS[:500])][:20]\n"
   ]
  },
  {
   "cell_type": "code",
   "execution_count": 14,
   "metadata": {
    "tags": []
   },
   "outputs": [
    {
     "data": {
      "text/plain": [
       "['/orange/ruogu.fang/data/UKB/brain/20227_rsfMRI_NIFTI/rsfMRI_zip/1565751_20227_2_0.zip',\n",
       " '/orange/ruogu.fang/data/UKB/brain/20227_rsfMRI_NIFTI/rsfMRI_zip/1714333_20227_2_0.zip']"
      ]
     },
     "execution_count": 14,
     "metadata": {},
     "output_type": "execute_result"
    }
   ],
   "source": [
    "filtered_IDS"
   ]
  },
  {
   "cell_type": "code",
   "execution_count": 15,
   "metadata": {
    "tags": []
   },
   "outputs": [],
   "source": [
    "filtered_IDS = [os.path.basename(path).split(\"_\")[0] for path in filtered_IDS]"
   ]
  },
  {
   "cell_type": "code",
   "execution_count": 16,
   "metadata": {
    "tags": []
   },
   "outputs": [
    {
     "data": {
      "text/plain": [
       "['1565751', '1714333']"
      ]
     },
     "execution_count": 16,
     "metadata": {},
     "output_type": "execute_result"
    }
   ],
   "source": [
    "filtered_IDS"
   ]
  },
  {
   "cell_type": "markdown",
   "metadata": {},
   "source": [
    "# Copying files over"
   ]
  },
  {
   "cell_type": "code",
   "execution_count": 17,
   "metadata": {
    "tags": []
   },
   "outputs": [
    {
     "data": {
      "text/plain": [
       "'/blue/ruogu.fang/ryoi360/projects/fmri_vlm/data/UKB/brain/AD'"
      ]
     },
     "execution_count": 17,
     "metadata": {},
     "output_type": "execute_result"
    }
   ],
   "source": [
    "os.path.join(OUTPUT_DIR, \"AD\")"
   ]
  },
  {
   "cell_type": "code",
   "execution_count": 18,
   "metadata": {
    "tags": []
   },
   "outputs": [
    {
     "name": "stdout",
     "output_type": "stream",
     "text": [
      "./20227_rsfMRI_NIFTI/rsfMRI_zip/1565751_20227_2_0.zip\n",
      "./20249_fMRI_NIFTI/fMRI_zip/1565751_20249_2_0.zip\n",
      "./20251_SW_NIFTI/SW_zip/1565751_20251_2_0.zip\n",
      "./20227_rsfMRI_NIFTI/rsfMRI_zip/1714333_20227_2_0.zip\n",
      "./20249_fMRI_NIFTI/fMRI_zip/1714333_20249_2_0.zip\n",
      "./20251_SW_NIFTI/SW_zip/1714333_20251_2_0.zip\n"
     ]
    }
   ],
   "source": [
    "for subject_ID in filtered_IDS:\n",
    "    for p in sorted(glob.glob('./*/*/*{}*'.format(subject_ID), recursive=True, root_dir=INPUT_DIR)):\n",
    "        if \"copies\" in p:\n",
    "            continue\n",
    "        print(p)\n",
    "        if os.path.isfile(os.path.join(INPUT_DIR, p)):\n",
    "            os.makedirs(os.path.join(os.path.join(OUTPUT_DIR, \"AD\"), os.path.dirname(p)), exist_ok=True)\n",
    "            shutil.copy(os.path.join(INPUT_DIR, p), os.path.join(os.path.join(OUTPUT_DIR, \"AD\"), p))\n",
    "\n"
   ]
  },
  {
   "cell_type": "code",
   "execution_count": 19,
   "metadata": {
    "tags": []
   },
   "outputs": [],
   "source": [
    "def unzip_files_recursively(root_dir):\n",
    "    \"\"\"\n",
    "    Recursively walk through root_dir, find .zip files, and unzip them.\n",
    "    If a .zip file is in a folder containing 'zip' in its name, it will be\n",
    "    extracted to a parallel folder with 'unzip' in its name instead.\n",
    "    \"\"\"\n",
    "    for dirpath, dirnames, filenames in os.walk(root_dir):\n",
    "        for filename in filenames:\n",
    "            if filename.lower().endswith('.zip'):\n",
    "                zip_file_path = os.path.join(dirpath, filename)\n",
    "                \n",
    "                # Remove the .zip extension to get the extraction folder name\n",
    "                extraction_folder_name = os.path.splitext(filename)[0]\n",
    "                \n",
    "                # Check if the parent folder name contains 'zip'\n",
    "                parent_folder = os.path.basename(dirpath)\n",
    "                if 'zip' in parent_folder.lower():\n",
    "                    # Replace 'zip' with 'unzip' in the parent folder name\n",
    "                    new_parent_folder = parent_folder.lower().replace('zip', 'unzip')\n",
    "                    \n",
    "                    # The parent of the parent folder\n",
    "                    parent_of_parent = os.path.dirname(dirpath)\n",
    "                    \n",
    "                    # Construct the path to the new folder\n",
    "                    new_unzip_folder_path = os.path.join(parent_of_parent, new_parent_folder)\n",
    "                    \n",
    "                    # Final path: new folder + subfolder named after the ZIP file\n",
    "                    final_extraction_path = os.path.join(new_unzip_folder_path, extraction_folder_name)\n",
    "                    \n",
    "                else:\n",
    "                    # If 'zip' is not in the parent folder, just unzip in the same folder\n",
    "                    final_extraction_path = os.path.join(dirpath, extraction_folder_name)\n",
    "                \n",
    "                # Make sure the target extraction directory exists\n",
    "                os.makedirs(final_extraction_path, exist_ok=True)\n",
    "                \n",
    "                # Unzip the file\n",
    "                with zipfile.ZipFile(zip_file_path, 'r') as zip_ref:\n",
    "                    zip_ref.extractall(final_extraction_path)\n",
    "                \n",
    "                print(f\"Unzipped '{zip_file_path}' to '{final_extraction_path}'\")"
   ]
  },
  {
   "cell_type": "code",
   "execution_count": 20,
   "metadata": {
    "tags": []
   },
   "outputs": [
    {
     "name": "stdout",
     "output_type": "stream",
     "text": [
      "Unzipped '../../data/UKB/brain/AD/20249_fMRI_NIFTI/fMRI_zip/1714333_20249_2_0.zip' to '../../data/UKB/brain/AD/20249_fMRI_NIFTI/fmri_unzip/1714333_20249_2_0'\n",
      "Unzipped '../../data/UKB/brain/AD/20249_fMRI_NIFTI/fMRI_zip/1565751_20249_2_0.zip' to '../../data/UKB/brain/AD/20249_fMRI_NIFTI/fmri_unzip/1565751_20249_2_0'\n",
      "Unzipped '../../data/UKB/brain/AD/20227_rsfMRI_NIFTI/rsfMRI_zip/1714333_20227_2_0.zip' to '../../data/UKB/brain/AD/20227_rsfMRI_NIFTI/rsfmri_unzip/1714333_20227_2_0'\n",
      "Unzipped '../../data/UKB/brain/AD/20227_rsfMRI_NIFTI/rsfMRI_zip/1565751_20227_2_0.zip' to '../../data/UKB/brain/AD/20227_rsfMRI_NIFTI/rsfmri_unzip/1565751_20227_2_0'\n",
      "Unzipped '../../data/UKB/brain/AD/20251_SW_NIFTI/SW_zip/1565751_20251_2_0.zip' to '../../data/UKB/brain/AD/20251_SW_NIFTI/sw_unzip/1565751_20251_2_0'\n",
      "Unzipped '../../data/UKB/brain/AD/20251_SW_NIFTI/SW_zip/1714333_20251_2_0.zip' to '../../data/UKB/brain/AD/20251_SW_NIFTI/sw_unzip/1714333_20251_2_0'\n"
     ]
    }
   ],
   "source": [
    "unzip_files_recursively(\"../../data/UKB/brain/AD\")"
   ]
  },
  {
   "cell_type": "code",
   "execution_count": null,
   "metadata": {},
   "outputs": [],
   "source": []
  }
 ],
 "metadata": {
  "deepnote": {},
  "deepnote_execution_queue": [],
  "deepnote_notebook_id": "cf8fe3695d074ee7887fdf6459cbf5ce",
  "kernelspec": {
   "display_name": "fastai-2.7.10",
   "language": "python",
   "name": "fastai-2.7.10"
  },
  "language_info": {
   "codemirror_mode": {
    "name": "ipython",
    "version": 3
   },
   "file_extension": ".py",
   "mimetype": "text/x-python",
   "name": "python",
   "nbconvert_exporter": "python",
   "pygments_lexer": "ipython3",
   "version": "3.10.4"
  }
 },
 "nbformat": 4,
 "nbformat_minor": 4
}

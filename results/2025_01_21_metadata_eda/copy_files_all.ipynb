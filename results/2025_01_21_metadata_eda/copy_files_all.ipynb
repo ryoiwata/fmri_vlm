{
 "cells": [
  {
   "cell_type": "markdown",
   "metadata": {
    "cell_id": "c3a02adc9e884466bc8c79db549cc3d2",
    "deepnote_cell_type": "text-cell-h1",
    "formattedRanges": [
     {
      "fromCodePoint": 0,
      "marks": {
       "bold": true,
       "underline": true
      },
      "toCodePoint": 17,
      "type": "marks"
     }
    ]
   },
   "source": [
    "# Copy files"
   ]
  },
  {
   "cell_type": "markdown",
   "metadata": {
    "cell_id": "4546bee655b14a5dbf393161f1228e60",
    "deepnote_cell_type": "text-cell-p",
    "formattedRanges": []
   },
   "source": [
    "Brief 1-2 sentence description of notebook."
   ]
  },
  {
   "cell_type": "markdown",
   "metadata": {},
   "source": [
    "TODO: Supplement the description\n",
    "- Notebook that extracts the timestamps and gets the time that tones played"
   ]
  },
  {
   "cell_type": "code",
   "execution_count": 1,
   "metadata": {
    "tags": []
   },
   "outputs": [],
   "source": [
    "# Imports of all used packages and libraries\n",
    "import sys\n",
    "import os\n",
    "import glob\n",
    "from collections import defaultdict"
   ]
  },
  {
   "cell_type": "code",
   "execution_count": 2,
   "metadata": {
    "tags": []
   },
   "outputs": [],
   "source": [
    "import zipfile\n"
   ]
  },
  {
   "cell_type": "markdown",
   "metadata": {},
   "source": [
    "# Functions"
   ]
  },
  {
   "cell_type": "markdown",
   "metadata": {
    "cell_id": "d290bac2c17940bfbc0f9296beaf70e5",
    "deepnote_cell_type": "text-cell-h2",
    "formattedRanges": []
   },
   "source": [
    "## Inputs & Data"
   ]
  },
  {
   "cell_type": "markdown",
   "metadata": {
    "cell_id": "e528ce19c608425292151930d380f49f",
    "deepnote_cell_type": "text-cell-p",
    "formattedRanges": []
   },
   "source": [
    "- Explanation of each input and where it comes from."
   ]
  },
  {
   "cell_type": "markdown",
   "metadata": {},
   "source": [
    "Inputs and Required data loading\n",
    "- input variable names are in all caps snake case\n",
    "- Whenever an input changes or is used for processing \n",
    "- The variables are all lower in snake case"
   ]
  },
  {
   "cell_type": "code",
   "execution_count": 3,
   "metadata": {
    "cell_id": "6cf83a5811054461a718a71673d09aab",
    "deepnote_cell_type": "code",
    "deepnote_to_be_reexecuted": false,
    "execution_millis": 373,
    "execution_start": 1691424003628,
    "source_hash": null,
    "tags": []
   },
   "outputs": [],
   "source": [
    "# Path of the directory that contains the Spike Gadgets recording and the exported timestamp files\n",
    "# Exported with this tool https://docs.spikegadgets.com/en/latest/basic/ExportFunctions.html\n",
    "# Export these files:\n",
    "    # -raw – Continuous raw band export.\n",
    "    # -dio – Digital IO channel state change export.\n",
    "    # -analogio – Continuous analog IO export.\n",
    "# INPUT_DIR = \"/scratch/back_up/reward_competition_extention/final_proc/phy_curation\"\n",
    "# INPUT_DIR = \"/scratch/back_up/reward_competition_extention/data/rce_cohort_3\"\n",
    "INPUT_DIR = \"/orange/ruogu.fang/data/UKB/brain\"\n",
    "OUTPUT_DIR = os.path.join(\"/blue/ruogu.fang/ryoi360/projects/fmri_vlm/data/UKB/brain/20227_rsfMRI_NIFTI\") # where data is saved should always be shown in the inputs\n",
    "os.makedirs(OUTPUT_DIR, exist_ok=True)\n"
   ]
  },
  {
   "cell_type": "markdown",
   "metadata": {},
   "source": []
  },
  {
   "cell_type": "markdown",
   "metadata": {},
   "source": [
    "# Processing"
   ]
  },
  {
   "cell_type": "markdown",
   "metadata": {},
   "source": []
  },
  {
   "cell_type": "markdown",
   "metadata": {},
   "source": [
    "# Copying the files over"
   ]
  },
  {
   "cell_type": "code",
   "execution_count": 4,
   "metadata": {
    "tags": []
   },
   "outputs": [],
   "source": [
    "import shutil\n",
    "import glob\n",
    "import os\n",
    "\n"
   ]
  },
  {
   "cell_type": "code",
   "execution_count": 5,
   "metadata": {},
   "outputs": [],
   "source": [
    "\n",
    "# for p in sorted(glob.glob('*/*/*.npy', recursive=True, root_dir=INPUT_DIR)):\n",
    "#     if \"copies\" in p:\n",
    "#         continue\n",
    "#     print(p)\n",
    "#     if os.path.isfile(os.path.join(INPUT_DIR, p)):\n",
    "#         os.makedirs(os.path.join(OUTPUT_DIR, os.path.dirname(p)), exist_ok=True)\n",
    "#         if not os.path.exists(os.path.join(OUTPUT_DIR, p)):\n",
    "#             shutil.copy(os.path.join(INPUT_DIR, p), os.path.join(OUTPUT_DIR, p))\n",
    "#         else:\n",
    "#             print(\"{} exists\".format(os.path.join(OUTPUT_DIR, p)))\n",
    "\n"
   ]
  },
  {
   "cell_type": "code",
   "execution_count": 6,
   "metadata": {
    "tags": []
   },
   "outputs": [],
   "source": [
    "import pandas as pd\n",
    "import matplotlib.pyplot as plt\n"
   ]
  },
  {
   "cell_type": "code",
   "execution_count": 7,
   "metadata": {
    "tags": []
   },
   "outputs": [],
   "source": [
    "diagnosis_df = pd.read_pickle(\"./proc/trimmed_icd.pkl\")"
   ]
  },
  {
   "cell_type": "code",
   "execution_count": 8,
   "metadata": {
    "tags": []
   },
   "outputs": [
    {
     "data": {
      "text/html": [
       "<div>\n",
       "<style scoped>\n",
       "    .dataframe tbody tr th:only-of-type {\n",
       "        vertical-align: middle;\n",
       "    }\n",
       "\n",
       "    .dataframe tbody tr th {\n",
       "        vertical-align: top;\n",
       "    }\n",
       "\n",
       "    .dataframe thead th {\n",
       "        text-align: right;\n",
       "    }\n",
       "</style>\n",
       "<table border=\"1\" class=\"dataframe\">\n",
       "  <thead>\n",
       "    <tr style=\"text-align: right;\">\n",
       "      <th></th>\n",
       "      <th>eid</th>\n",
       "      <th>31-0.0</th>\n",
       "      <th>21022-0.0</th>\n",
       "      <th>all_diagnoses</th>\n",
       "      <th>mental_and_neural_diagnoses</th>\n",
       "      <th>has_any_diagnosis</th>\n",
       "      <th>has_mental_or_neural_diagnosis</th>\n",
       "      <th>has_PD</th>\n",
       "      <th>has_AD</th>\n",
       "      <th>has_BPD</th>\n",
       "      <th>has_SZ</th>\n",
       "      <th>has_ASD</th>\n",
       "      <th>has_MCI</th>\n",
       "      <th>has_MDD</th>\n",
       "    </tr>\n",
       "  </thead>\n",
       "  <tbody>\n",
       "    <tr>\n",
       "      <th>0</th>\n",
       "      <td>1000014</td>\n",
       "      <td>1</td>\n",
       "      <td>63</td>\n",
       "      <td>[I10, K20, K227, K30, K449, N300, R101, R31, R...</td>\n",
       "      <td>[]</td>\n",
       "      <td>True</td>\n",
       "      <td>False</td>\n",
       "      <td>False</td>\n",
       "      <td>False</td>\n",
       "      <td>False</td>\n",
       "      <td>False</td>\n",
       "      <td>False</td>\n",
       "      <td>False</td>\n",
       "      <td>False</td>\n",
       "    </tr>\n",
       "    <tr>\n",
       "      <th>1</th>\n",
       "      <td>1000023</td>\n",
       "      <td>1</td>\n",
       "      <td>48</td>\n",
       "      <td>[M179, N359, R31, Z302]</td>\n",
       "      <td>[]</td>\n",
       "      <td>True</td>\n",
       "      <td>False</td>\n",
       "      <td>False</td>\n",
       "      <td>False</td>\n",
       "      <td>False</td>\n",
       "      <td>False</td>\n",
       "      <td>False</td>\n",
       "      <td>False</td>\n",
       "      <td>False</td>\n",
       "    </tr>\n",
       "    <tr>\n",
       "      <th>2</th>\n",
       "      <td>1000030</td>\n",
       "      <td>0</td>\n",
       "      <td>65</td>\n",
       "      <td>[D051, D509, K224, K573, R69]</td>\n",
       "      <td>[]</td>\n",
       "      <td>True</td>\n",
       "      <td>False</td>\n",
       "      <td>False</td>\n",
       "      <td>False</td>\n",
       "      <td>False</td>\n",
       "      <td>False</td>\n",
       "      <td>False</td>\n",
       "      <td>False</td>\n",
       "      <td>False</td>\n",
       "    </tr>\n",
       "    <tr>\n",
       "      <th>3</th>\n",
       "      <td>1000041</td>\n",
       "      <td>0</td>\n",
       "      <td>53</td>\n",
       "      <td>[H269, H353, M2323]</td>\n",
       "      <td>[]</td>\n",
       "      <td>True</td>\n",
       "      <td>False</td>\n",
       "      <td>False</td>\n",
       "      <td>False</td>\n",
       "      <td>False</td>\n",
       "      <td>False</td>\n",
       "      <td>False</td>\n",
       "      <td>False</td>\n",
       "      <td>False</td>\n",
       "    </tr>\n",
       "    <tr>\n",
       "      <th>4</th>\n",
       "      <td>1000059</td>\n",
       "      <td>0</td>\n",
       "      <td>48</td>\n",
       "      <td>[]</td>\n",
       "      <td>[]</td>\n",
       "      <td>False</td>\n",
       "      <td>False</td>\n",
       "      <td>False</td>\n",
       "      <td>False</td>\n",
       "      <td>False</td>\n",
       "      <td>False</td>\n",
       "      <td>False</td>\n",
       "      <td>False</td>\n",
       "      <td>False</td>\n",
       "    </tr>\n",
       "    <tr>\n",
       "      <th>...</th>\n",
       "      <td>...</td>\n",
       "      <td>...</td>\n",
       "      <td>...</td>\n",
       "      <td>...</td>\n",
       "      <td>...</td>\n",
       "      <td>...</td>\n",
       "      <td>...</td>\n",
       "      <td>...</td>\n",
       "      <td>...</td>\n",
       "      <td>...</td>\n",
       "      <td>...</td>\n",
       "      <td>...</td>\n",
       "      <td>...</td>\n",
       "      <td>...</td>\n",
       "    </tr>\n",
       "    <tr>\n",
       "      <th>502304</th>\n",
       "      <td>6025359</td>\n",
       "      <td>1</td>\n",
       "      <td>62</td>\n",
       "      <td>[I251, M4806, N40, N47, R798]</td>\n",
       "      <td>[]</td>\n",
       "      <td>True</td>\n",
       "      <td>False</td>\n",
       "      <td>False</td>\n",
       "      <td>False</td>\n",
       "      <td>False</td>\n",
       "      <td>False</td>\n",
       "      <td>False</td>\n",
       "      <td>False</td>\n",
       "      <td>False</td>\n",
       "    </tr>\n",
       "    <tr>\n",
       "      <th>502305</th>\n",
       "      <td>6025362</td>\n",
       "      <td>0</td>\n",
       "      <td>53</td>\n",
       "      <td>[M169, Z038]</td>\n",
       "      <td>[]</td>\n",
       "      <td>True</td>\n",
       "      <td>False</td>\n",
       "      <td>False</td>\n",
       "      <td>False</td>\n",
       "      <td>False</td>\n",
       "      <td>False</td>\n",
       "      <td>False</td>\n",
       "      <td>False</td>\n",
       "      <td>False</td>\n",
       "    </tr>\n",
       "    <tr>\n",
       "      <th>502306</th>\n",
       "      <td>6025377</td>\n",
       "      <td>1</td>\n",
       "      <td>58</td>\n",
       "      <td>[]</td>\n",
       "      <td>[]</td>\n",
       "      <td>False</td>\n",
       "      <td>False</td>\n",
       "      <td>False</td>\n",
       "      <td>False</td>\n",
       "      <td>False</td>\n",
       "      <td>False</td>\n",
       "      <td>False</td>\n",
       "      <td>False</td>\n",
       "      <td>False</td>\n",
       "    </tr>\n",
       "    <tr>\n",
       "      <th>502307</th>\n",
       "      <td>6025386</td>\n",
       "      <td>0</td>\n",
       "      <td>43</td>\n",
       "      <td>[]</td>\n",
       "      <td>[]</td>\n",
       "      <td>False</td>\n",
       "      <td>False</td>\n",
       "      <td>False</td>\n",
       "      <td>False</td>\n",
       "      <td>False</td>\n",
       "      <td>False</td>\n",
       "      <td>False</td>\n",
       "      <td>False</td>\n",
       "      <td>False</td>\n",
       "    </tr>\n",
       "    <tr>\n",
       "      <th>502308</th>\n",
       "      <td>6025395</td>\n",
       "      <td>1</td>\n",
       "      <td>40</td>\n",
       "      <td>[]</td>\n",
       "      <td>[]</td>\n",
       "      <td>False</td>\n",
       "      <td>False</td>\n",
       "      <td>False</td>\n",
       "      <td>False</td>\n",
       "      <td>False</td>\n",
       "      <td>False</td>\n",
       "      <td>False</td>\n",
       "      <td>False</td>\n",
       "      <td>False</td>\n",
       "    </tr>\n",
       "  </tbody>\n",
       "</table>\n",
       "<p>502309 rows × 14 columns</p>\n",
       "</div>"
      ],
      "text/plain": [
       "            eid  31-0.0  21022-0.0  \\\n",
       "0       1000014       1         63   \n",
       "1       1000023       1         48   \n",
       "2       1000030       0         65   \n",
       "3       1000041       0         53   \n",
       "4       1000059       0         48   \n",
       "...         ...     ...        ...   \n",
       "502304  6025359       1         62   \n",
       "502305  6025362       0         53   \n",
       "502306  6025377       1         58   \n",
       "502307  6025386       0         43   \n",
       "502308  6025395       1         40   \n",
       "\n",
       "                                            all_diagnoses  \\\n",
       "0       [I10, K20, K227, K30, K449, N300, R101, R31, R...   \n",
       "1                                 [M179, N359, R31, Z302]   \n",
       "2                           [D051, D509, K224, K573, R69]   \n",
       "3                                     [H269, H353, M2323]   \n",
       "4                                                      []   \n",
       "...                                                   ...   \n",
       "502304                      [I251, M4806, N40, N47, R798]   \n",
       "502305                                       [M169, Z038]   \n",
       "502306                                                 []   \n",
       "502307                                                 []   \n",
       "502308                                                 []   \n",
       "\n",
       "       mental_and_neural_diagnoses  has_any_diagnosis  \\\n",
       "0                               []               True   \n",
       "1                               []               True   \n",
       "2                               []               True   \n",
       "3                               []               True   \n",
       "4                               []              False   \n",
       "...                            ...                ...   \n",
       "502304                          []               True   \n",
       "502305                          []               True   \n",
       "502306                          []              False   \n",
       "502307                          []              False   \n",
       "502308                          []              False   \n",
       "\n",
       "        has_mental_or_neural_diagnosis  has_PD  has_AD  has_BPD  has_SZ  \\\n",
       "0                                False   False   False    False   False   \n",
       "1                                False   False   False    False   False   \n",
       "2                                False   False   False    False   False   \n",
       "3                                False   False   False    False   False   \n",
       "4                                False   False   False    False   False   \n",
       "...                                ...     ...     ...      ...     ...   \n",
       "502304                           False   False   False    False   False   \n",
       "502305                           False   False   False    False   False   \n",
       "502306                           False   False   False    False   False   \n",
       "502307                           False   False   False    False   False   \n",
       "502308                           False   False   False    False   False   \n",
       "\n",
       "        has_ASD  has_MCI  has_MDD  \n",
       "0         False    False    False  \n",
       "1         False    False    False  \n",
       "2         False    False    False  \n",
       "3         False    False    False  \n",
       "4         False    False    False  \n",
       "...         ...      ...      ...  \n",
       "502304    False    False    False  \n",
       "502305    False    False    False  \n",
       "502306    False    False    False  \n",
       "502307    False    False    False  \n",
       "502308    False    False    False  \n",
       "\n",
       "[502309 rows x 14 columns]"
      ]
     },
     "execution_count": 8,
     "metadata": {},
     "output_type": "execute_result"
    }
   ],
   "source": [
    "diagnosis_df"
   ]
  },
  {
   "cell_type": "markdown",
   "metadata": {},
   "source": [
    "- Checking which rows we have data for"
   ]
  },
  {
   "cell_type": "code",
   "execution_count": 109,
   "metadata": {
    "tags": []
   },
   "outputs": [],
   "source": [
    "all_files = sorted(glob.glob('/orange/ruogu.fang/data/UKB/brain/20227_rsfMRI_NIFTI/rsfMRI_zip/*', recursive=True, root_dir=INPUT_DIR))"
   ]
  },
  {
   "cell_type": "code",
   "execution_count": 110,
   "metadata": {
    "tags": []
   },
   "outputs": [],
   "source": [
    "all_IDS = [os.path.basename(path).split(\"_\")[0] for path in all_files]"
   ]
  },
  {
   "cell_type": "code",
   "execution_count": 111,
   "metadata": {
    "tags": []
   },
   "outputs": [
    {
     "data": {
      "text/plain": [
       "['1000023',\n",
       " '1000086',\n",
       " '1000317',\n",
       " '1000503',\n",
       " '1000665',\n",
       " '1000768',\n",
       " '1000925',\n",
       " '1001109',\n",
       " '1001390',\n",
       " '1001631',\n",
       " '1001784',\n",
       " '1001851',\n",
       " '1001900',\n",
       " '1002112',\n",
       " '1002308',\n",
       " '1002819',\n",
       " '1003319',\n",
       " '1003639',\n",
       " '1003750',\n",
       " '1004075']"
      ]
     },
     "execution_count": 111,
     "metadata": {},
     "output_type": "execute_result"
    }
   ],
   "source": [
    "all_IDS[:20]"
   ]
  },
  {
   "cell_type": "code",
   "execution_count": 112,
   "metadata": {
    "tags": []
   },
   "outputs": [],
   "source": [
    "diagnosis_df[\"file_downloaded\"] = diagnosis_df[\"eid\"].astype(str).isin(all_IDS)"
   ]
  },
  {
   "cell_type": "code",
   "execution_count": 114,
   "metadata": {
    "tags": []
   },
   "outputs": [],
   "source": [
    "diagnosis_df = diagnosis_df[diagnosis_df[\"file_downloaded\"]].copy()"
   ]
  },
  {
   "cell_type": "code",
   "execution_count": 115,
   "metadata": {
    "tags": []
   },
   "outputs": [
    {
     "data": {
      "text/plain": [
       "(array([1255., 1837., 2068., 2296., 2613., 2887., 3281., 2985., 1952.,\n",
       "        1107.]),\n",
       " array([40., 43., 46., 49., 52., 55., 58., 61., 64., 67., 70.]),\n",
       " <BarContainer object of 10 artists>)"
      ]
     },
     "execution_count": 115,
     "metadata": {},
     "output_type": "execute_result"
    },
    {
     "data": {
      "image/png": "[encoded data removed]",
      "text/plain": [
       "<Figure size 432x288 with 1 Axes>"
      ]
     },
     "metadata": {
      "needs_background": "light"
     },
     "output_type": "display_data"
    }
   ],
   "source": [
    "plt.hist(diagnosis_df[\"21022-0.0\"])"
   ]
  },
  {
   "cell_type": "code",
   "execution_count": 116,
   "metadata": {
    "tags": []
   },
   "outputs": [
    {
     "data": {
      "text/plain": [
       "(array([1., 0., 0., 0., 0., 0., 1., 1., 2., 1.]),\n",
       " array([42. , 44.5, 47. , 49.5, 52. , 54.5, 57. , 59.5, 62. , 64.5, 67. ]),\n",
       " <BarContainer object of 10 artists>)"
      ]
     },
     "execution_count": 116,
     "metadata": {},
     "output_type": "execute_result"
    },
    {
     "data": {
      "image/png": "[encoded data removed]",
      "text/plain": [
       "<Figure size 432x288 with 1 Axes>"
      ]
     },
     "metadata": {
      "needs_background": "light"
     },
     "output_type": "display_data"
    }
   ],
   "source": [
    "plt.hist(diagnosis_df[diagnosis_df[\"has_AD\"]][\"21022-0.0\"])"
   ]
  },
  {
   "cell_type": "code",
   "execution_count": 145,
   "metadata": {
    "tags": []
   },
   "outputs": [],
   "source": [
    "# filtered_diagnosis_df = diagnosis_df[(diagnosis_df[\"31-0.0\"] == 0) & (diagnosis_df[\"21022-0.0\"] >= 50) & (diagnosis_df[\"21022-0.0\"] <= 70)]\n",
    "filtered_diagnosis_df = diagnosis_df"
   ]
  },
  {
   "cell_type": "code",
   "execution_count": 146,
   "metadata": {
    "tags": []
   },
   "outputs": [
    {
     "data": {
      "text/plain": [
       "(array([1255., 1837., 2068., 2296., 2613., 2887., 3281., 2985., 1952.,\n",
       "        1107.]),\n",
       " array([40., 43., 46., 49., 52., 55., 58., 61., 64., 67., 70.]),\n",
       " <BarContainer object of 10 artists>)"
      ]
     },
     "execution_count": 146,
     "metadata": {},
     "output_type": "execute_result"
    },
    {
     "data": {
      "image/png": "[encoded data removed]",
      "text/plain": [
       "<Figure size 432x288 with 1 Axes>"
      ]
     },
     "metadata": {
      "needs_background": "light"
     },
     "output_type": "display_data"
    }
   ],
   "source": [
    "plt.hist(filtered_diagnosis_df[\"21022-0.0\"])"
   ]
  },
  {
   "cell_type": "code",
   "execution_count": 147,
   "metadata": {
    "tags": []
   },
   "outputs": [
    {
     "data": {
      "text/plain": [
       "(array([1., 0., 0., 0., 0., 0., 1., 1., 2., 1.]),\n",
       " array([42. , 44.5, 47. , 49.5, 52. , 54.5, 57. , 59.5, 62. , 64.5, 67. ]),\n",
       " <BarContainer object of 10 artists>)"
      ]
     },
     "execution_count": 147,
     "metadata": {},
     "output_type": "execute_result"
    },
    {
     "data": {
      "image/png": "[encoded data removed]",
      "text/plain": [
       "<Figure size 432x288 with 1 Axes>"
      ]
     },
     "metadata": {
      "needs_background": "light"
     },
     "output_type": "display_data"
    }
   ],
   "source": [
    "plt.hist(filtered_diagnosis_df[filtered_diagnosis_df[\"has_AD\"]][\"21022-0.0\"])"
   ]
  },
  {
   "cell_type": "code",
   "execution_count": 148,
   "metadata": {
    "tags": []
   },
   "outputs": [],
   "source": [
    "has_columns = [col for col in filtered_diagnosis_df.columns if \"has\" in col] \n",
    "\n",
    "\n",
    "# filtered_diagnosis_df.head()"
   ]
  },
  {
   "cell_type": "code",
   "execution_count": 149,
   "metadata": {
    "tags": []
   },
   "outputs": [
    {
     "data": {
      "text/plain": [
       "['has_any_diagnosis',\n",
       " 'has_mental_or_neural_diagnosis',\n",
       " 'has_PD',\n",
       " 'has_AD',\n",
       " 'has_BPD',\n",
       " 'has_SZ',\n",
       " 'has_ASD',\n",
       " 'has_MCI',\n",
       " 'has_MDD']"
      ]
     },
     "execution_count": 149,
     "metadata": {},
     "output_type": "execute_result"
    }
   ],
   "source": [
    "has_columns"
   ]
  },
  {
   "cell_type": "code",
   "execution_count": 150,
   "metadata": {
    "tags": []
   },
   "outputs": [
    {
     "name": "stdout",
     "output_type": "stream",
     "text": [
      "Column: has_any_diagnosis\n",
      "True     19358\n",
      "False     2923\n",
      "Name: has_any_diagnosis, dtype: int64\n",
      "------------------------------\n",
      "Column: has_mental_or_neural_diagnosis\n",
      "False    20651\n",
      "True      1630\n",
      "Name: has_mental_or_neural_diagnosis, dtype: int64\n",
      "------------------------------\n",
      "Column: has_PD\n",
      "False    22276\n",
      "True         5\n",
      "Name: has_PD, dtype: int64\n",
      "------------------------------\n",
      "Column: has_AD\n",
      "False    22275\n",
      "True         6\n",
      "Name: has_AD, dtype: int64\n",
      "------------------------------\n",
      "Column: has_BPD\n",
      "False    22261\n",
      "True        20\n",
      "Name: has_BPD, dtype: int64\n",
      "------------------------------\n",
      "Column: has_SZ\n",
      "False    22276\n",
      "True         5\n",
      "Name: has_SZ, dtype: int64\n",
      "------------------------------\n",
      "Column: has_ASD\n",
      "False    22280\n",
      "True         1\n",
      "Name: has_ASD, dtype: int64\n",
      "------------------------------\n",
      "Column: has_MCI\n",
      "False    22280\n",
      "True         1\n",
      "Name: has_MCI, dtype: int64\n",
      "------------------------------\n",
      "Column: has_MDD\n",
      "False    22261\n",
      "True        20\n",
      "Name: has_MDD, dtype: int64\n",
      "------------------------------\n"
     ]
    }
   ],
   "source": [
    "# Print group counts for each \"has\" column\n",
    "for col in has_columns:\n",
    "    print(f\"Column: {col}\")\n",
    "    print(filtered_diagnosis_df[col].value_counts())\n",
    "    print(\"-\" * 30)"
   ]
  },
  {
   "cell_type": "code",
   "execution_count": 152,
   "metadata": {
    "tags": []
   },
   "outputs": [
    {
     "data": {
      "text/html": [
       "<div>\n",
       "<style scoped>\n",
       "    .dataframe tbody tr th:only-of-type {\n",
       "        vertical-align: middle;\n",
       "    }\n",
       "\n",
       "    .dataframe tbody tr th {\n",
       "        vertical-align: top;\n",
       "    }\n",
       "\n",
       "    .dataframe thead th {\n",
       "        text-align: right;\n",
       "    }\n",
       "</style>\n",
       "<table border=\"1\" class=\"dataframe\">\n",
       "  <thead>\n",
       "    <tr style=\"text-align: right;\">\n",
       "      <th></th>\n",
       "      <th>eid</th>\n",
       "      <th>31-0.0</th>\n",
       "      <th>21022-0.0</th>\n",
       "      <th>all_diagnoses</th>\n",
       "      <th>mental_and_neural_diagnoses</th>\n",
       "      <th>has_any_diagnosis</th>\n",
       "      <th>has_mental_or_neural_diagnosis</th>\n",
       "      <th>has_PD</th>\n",
       "      <th>has_AD</th>\n",
       "      <th>has_BPD</th>\n",
       "      <th>has_SZ</th>\n",
       "      <th>has_ASD</th>\n",
       "      <th>has_MCI</th>\n",
       "      <th>has_MDD</th>\n",
       "      <th>file_downloaded</th>\n",
       "    </tr>\n",
       "  </thead>\n",
       "  <tbody>\n",
       "    <tr>\n",
       "      <th>534</th>\n",
       "      <td>1005351</td>\n",
       "      <td>0</td>\n",
       "      <td>62</td>\n",
       "      <td>[G459, L024, R410]</td>\n",
       "      <td>[G459]</td>\n",
       "      <td>True</td>\n",
       "      <td>True</td>\n",
       "      <td>False</td>\n",
       "      <td>False</td>\n",
       "      <td>False</td>\n",
       "      <td>False</td>\n",
       "      <td>False</td>\n",
       "      <td>False</td>\n",
       "      <td>False</td>\n",
       "      <td>True</td>\n",
       "    </tr>\n",
       "    <tr>\n",
       "      <th>581</th>\n",
       "      <td>1005828</td>\n",
       "      <td>0</td>\n",
       "      <td>46</td>\n",
       "      <td>[F229, N921, R69]</td>\n",
       "      <td>[F229]</td>\n",
       "      <td>True</td>\n",
       "      <td>True</td>\n",
       "      <td>False</td>\n",
       "      <td>False</td>\n",
       "      <td>False</td>\n",
       "      <td>False</td>\n",
       "      <td>False</td>\n",
       "      <td>False</td>\n",
       "      <td>False</td>\n",
       "      <td>True</td>\n",
       "    </tr>\n",
       "    <tr>\n",
       "      <th>695</th>\n",
       "      <td>1006964</td>\n",
       "      <td>0</td>\n",
       "      <td>51</td>\n",
       "      <td>[G560]</td>\n",
       "      <td>[G560]</td>\n",
       "      <td>True</td>\n",
       "      <td>True</td>\n",
       "      <td>False</td>\n",
       "      <td>False</td>\n",
       "      <td>False</td>\n",
       "      <td>False</td>\n",
       "      <td>False</td>\n",
       "      <td>False</td>\n",
       "      <td>False</td>\n",
       "      <td>True</td>\n",
       "    </tr>\n",
       "    <tr>\n",
       "      <th>842</th>\n",
       "      <td>1008431</td>\n",
       "      <td>1</td>\n",
       "      <td>52</td>\n",
       "      <td>[D333, G933, J051, K449, R073, R101, R104]</td>\n",
       "      <td>[G933]</td>\n",
       "      <td>True</td>\n",
       "      <td>True</td>\n",
       "      <td>False</td>\n",
       "      <td>False</td>\n",
       "      <td>False</td>\n",
       "      <td>False</td>\n",
       "      <td>False</td>\n",
       "      <td>False</td>\n",
       "      <td>False</td>\n",
       "      <td>True</td>\n",
       "    </tr>\n",
       "    <tr>\n",
       "      <th>964</th>\n",
       "      <td>1009657</td>\n",
       "      <td>0</td>\n",
       "      <td>67</td>\n",
       "      <td>[G576, R101, R104, S0600]</td>\n",
       "      <td>[G576]</td>\n",
       "      <td>True</td>\n",
       "      <td>True</td>\n",
       "      <td>False</td>\n",
       "      <td>False</td>\n",
       "      <td>False</td>\n",
       "      <td>False</td>\n",
       "      <td>False</td>\n",
       "      <td>False</td>\n",
       "      <td>False</td>\n",
       "      <td>True</td>\n",
       "    </tr>\n",
       "    <tr>\n",
       "      <th>...</th>\n",
       "      <td>...</td>\n",
       "      <td>...</td>\n",
       "      <td>...</td>\n",
       "      <td>...</td>\n",
       "      <td>...</td>\n",
       "      <td>...</td>\n",
       "      <td>...</td>\n",
       "      <td>...</td>\n",
       "      <td>...</td>\n",
       "      <td>...</td>\n",
       "      <td>...</td>\n",
       "      <td>...</td>\n",
       "      <td>...</td>\n",
       "      <td>...</td>\n",
       "      <td>...</td>\n",
       "    </tr>\n",
       "    <tr>\n",
       "      <th>501438</th>\n",
       "      <td>6016692</td>\n",
       "      <td>0</td>\n",
       "      <td>55</td>\n",
       "      <td>[D220, G510, L989]</td>\n",
       "      <td>[G510]</td>\n",
       "      <td>True</td>\n",
       "      <td>True</td>\n",
       "      <td>False</td>\n",
       "      <td>False</td>\n",
       "      <td>False</td>\n",
       "      <td>False</td>\n",
       "      <td>False</td>\n",
       "      <td>False</td>\n",
       "      <td>False</td>\n",
       "      <td>True</td>\n",
       "    </tr>\n",
       "    <tr>\n",
       "      <th>501705</th>\n",
       "      <td>6019366</td>\n",
       "      <td>0</td>\n",
       "      <td>57</td>\n",
       "      <td>[G560, M179, M1997, M2323]</td>\n",
       "      <td>[G560]</td>\n",
       "      <td>True</td>\n",
       "      <td>True</td>\n",
       "      <td>False</td>\n",
       "      <td>False</td>\n",
       "      <td>False</td>\n",
       "      <td>False</td>\n",
       "      <td>False</td>\n",
       "      <td>False</td>\n",
       "      <td>False</td>\n",
       "      <td>True</td>\n",
       "    </tr>\n",
       "    <tr>\n",
       "      <th>501907</th>\n",
       "      <td>6021387</td>\n",
       "      <td>0</td>\n",
       "      <td>60</td>\n",
       "      <td>[G560, K638]</td>\n",
       "      <td>[G560]</td>\n",
       "      <td>True</td>\n",
       "      <td>True</td>\n",
       "      <td>False</td>\n",
       "      <td>False</td>\n",
       "      <td>False</td>\n",
       "      <td>False</td>\n",
       "      <td>False</td>\n",
       "      <td>False</td>\n",
       "      <td>False</td>\n",
       "      <td>True</td>\n",
       "    </tr>\n",
       "    <tr>\n",
       "      <th>501933</th>\n",
       "      <td>6021640</td>\n",
       "      <td>0</td>\n",
       "      <td>53</td>\n",
       "      <td>[G454]</td>\n",
       "      <td>[G454]</td>\n",
       "      <td>True</td>\n",
       "      <td>True</td>\n",
       "      <td>False</td>\n",
       "      <td>False</td>\n",
       "      <td>False</td>\n",
       "      <td>False</td>\n",
       "      <td>False</td>\n",
       "      <td>False</td>\n",
       "      <td>False</td>\n",
       "      <td>True</td>\n",
       "    </tr>\n",
       "    <tr>\n",
       "      <th>502021</th>\n",
       "      <td>6022527</td>\n",
       "      <td>1</td>\n",
       "      <td>66</td>\n",
       "      <td>[C447, G933, K221, K400, M2323, R104, Z092]</td>\n",
       "      <td>[G933]</td>\n",
       "      <td>True</td>\n",
       "      <td>True</td>\n",
       "      <td>False</td>\n",
       "      <td>False</td>\n",
       "      <td>False</td>\n",
       "      <td>False</td>\n",
       "      <td>False</td>\n",
       "      <td>False</td>\n",
       "      <td>False</td>\n",
       "      <td>True</td>\n",
       "    </tr>\n",
       "  </tbody>\n",
       "</table>\n",
       "<p>1630 rows × 15 columns</p>\n",
       "</div>"
      ],
      "text/plain": [
       "            eid  31-0.0  21022-0.0  \\\n",
       "534     1005351       0         62   \n",
       "581     1005828       0         46   \n",
       "695     1006964       0         51   \n",
       "842     1008431       1         52   \n",
       "964     1009657       0         67   \n",
       "...         ...     ...        ...   \n",
       "501438  6016692       0         55   \n",
       "501705  6019366       0         57   \n",
       "501907  6021387       0         60   \n",
       "501933  6021640       0         53   \n",
       "502021  6022527       1         66   \n",
       "\n",
       "                                      all_diagnoses  \\\n",
       "534                              [G459, L024, R410]   \n",
       "581                               [F229, N921, R69]   \n",
       "695                                          [G560]   \n",
       "842      [D333, G933, J051, K449, R073, R101, R104]   \n",
       "964                       [G576, R101, R104, S0600]   \n",
       "...                                             ...   \n",
       "501438                           [D220, G510, L989]   \n",
       "501705                   [G560, M179, M1997, M2323]   \n",
       "501907                                 [G560, K638]   \n",
       "501933                                       [G454]   \n",
       "502021  [C447, G933, K221, K400, M2323, R104, Z092]   \n",
       "\n",
       "       mental_and_neural_diagnoses  has_any_diagnosis  \\\n",
       "534                         [G459]               True   \n",
       "581                         [F229]               True   \n",
       "695                         [G560]               True   \n",
       "842                         [G933]               True   \n",
       "964                         [G576]               True   \n",
       "...                            ...                ...   \n",
       "501438                      [G510]               True   \n",
       "501705                      [G560]               True   \n",
       "501907                      [G560]               True   \n",
       "501933                      [G454]               True   \n",
       "502021                      [G933]               True   \n",
       "\n",
       "        has_mental_or_neural_diagnosis  has_PD  has_AD  has_BPD  has_SZ  \\\n",
       "534                               True   False   False    False   False   \n",
       "581                               True   False   False    False   False   \n",
       "695                               True   False   False    False   False   \n",
       "842                               True   False   False    False   False   \n",
       "964                               True   False   False    False   False   \n",
       "...                                ...     ...     ...      ...     ...   \n",
       "501438                            True   False   False    False   False   \n",
       "501705                            True   False   False    False   False   \n",
       "501907                            True   False   False    False   False   \n",
       "501933                            True   False   False    False   False   \n",
       "502021                            True   False   False    False   False   \n",
       "\n",
       "        has_ASD  has_MCI  has_MDD  file_downloaded  \n",
       "534       False    False    False             True  \n",
       "581       False    False    False             True  \n",
       "695       False    False    False             True  \n",
       "842       False    False    False             True  \n",
       "964       False    False    False             True  \n",
       "...         ...      ...      ...              ...  \n",
       "501438    False    False    False             True  \n",
       "501705    False    False    False             True  \n",
       "501907    False    False    False             True  \n",
       "501933    False    False    False             True  \n",
       "502021    False    False    False             True  \n",
       "\n",
       "[1630 rows x 15 columns]"
      ]
     },
     "execution_count": 152,
     "metadata": {},
     "output_type": "execute_result"
    }
   ],
   "source": [
    "filtered_diagnosis_df[filtered_diagnosis_df[\"has_mental_or_neural_diagnosis\"]]"
   ]
  },
  {
   "cell_type": "code",
   "execution_count": 153,
   "metadata": {
    "tags": []
   },
   "outputs": [],
   "source": [
    "# Convert lists to individual rows and count occurrences\n",
    "counts = filtered_diagnosis_df[\"mental_and_neural_diagnoses\"].explode().value_counts()"
   ]
  },
  {
   "cell_type": "code",
   "execution_count": 154,
   "metadata": {
    "tags": []
   },
   "outputs": [],
   "source": [
    "counts_df = pd.DataFrame(counts)"
   ]
  },
  {
   "cell_type": "code",
   "execution_count": 155,
   "metadata": {
    "tags": []
   },
   "outputs": [
    {
     "data": {
      "text/html": [
       "<div>\n",
       "<style scoped>\n",
       "    .dataframe tbody tr th:only-of-type {\n",
       "        vertical-align: middle;\n",
       "    }\n",
       "\n",
       "    .dataframe tbody tr th {\n",
       "        vertical-align: top;\n",
       "    }\n",
       "\n",
       "    .dataframe thead th {\n",
       "        text-align: right;\n",
       "    }\n",
       "</style>\n",
       "<table border=\"1\" class=\"dataframe\">\n",
       "  <thead>\n",
       "    <tr style=\"text-align: right;\">\n",
       "      <th></th>\n",
       "      <th>mental_and_neural_diagnoses</th>\n",
       "    </tr>\n",
       "  </thead>\n",
       "  <tbody>\n",
       "    <tr>\n",
       "      <th>G560</th>\n",
       "      <td>512</td>\n",
       "    </tr>\n",
       "    <tr>\n",
       "      <th>G459</th>\n",
       "      <td>124</td>\n",
       "    </tr>\n",
       "    <tr>\n",
       "      <th>G439</th>\n",
       "      <td>115</td>\n",
       "    </tr>\n",
       "    <tr>\n",
       "      <th>G473</th>\n",
       "      <td>86</td>\n",
       "    </tr>\n",
       "    <tr>\n",
       "      <th>G576</th>\n",
       "      <td>76</td>\n",
       "    </tr>\n",
       "    <tr>\n",
       "      <th>G562</th>\n",
       "      <td>60</td>\n",
       "    </tr>\n",
       "    <tr>\n",
       "      <th>G454</th>\n",
       "      <td>39</td>\n",
       "    </tr>\n",
       "    <tr>\n",
       "      <th>G35</th>\n",
       "      <td>35</td>\n",
       "    </tr>\n",
       "    <tr>\n",
       "      <th>G479</th>\n",
       "      <td>34</td>\n",
       "    </tr>\n",
       "    <tr>\n",
       "      <th>G510</th>\n",
       "      <td>28</td>\n",
       "    </tr>\n",
       "    <tr>\n",
       "      <th>F329</th>\n",
       "      <td>26</td>\n",
       "    </tr>\n",
       "    <tr>\n",
       "      <th>G442</th>\n",
       "      <td>25</td>\n",
       "    </tr>\n",
       "    <tr>\n",
       "      <th>F419</th>\n",
       "      <td>23</td>\n",
       "    </tr>\n",
       "    <tr>\n",
       "      <th>G819</th>\n",
       "      <td>22</td>\n",
       "    </tr>\n",
       "    <tr>\n",
       "      <th>G551</th>\n",
       "      <td>20</td>\n",
       "    </tr>\n",
       "    <tr>\n",
       "      <th>G409</th>\n",
       "      <td>19</td>\n",
       "    </tr>\n",
       "    <tr>\n",
       "      <th>G122</th>\n",
       "      <td>17</td>\n",
       "    </tr>\n",
       "    <tr>\n",
       "      <th>F100</th>\n",
       "      <td>16</td>\n",
       "    </tr>\n",
       "    <tr>\n",
       "      <th>G431</th>\n",
       "      <td>16</td>\n",
       "    </tr>\n",
       "    <tr>\n",
       "      <th>F458</th>\n",
       "      <td>16</td>\n",
       "    </tr>\n",
       "  </tbody>\n",
       "</table>\n",
       "</div>"
      ],
      "text/plain": [
       "      mental_and_neural_diagnoses\n",
       "G560                          512\n",
       "G459                          124\n",
       "G439                          115\n",
       "G473                           86\n",
       "G576                           76\n",
       "G562                           60\n",
       "G454                           39\n",
       "G35                            35\n",
       "G479                           34\n",
       "G510                           28\n",
       "F329                           26\n",
       "G442                           25\n",
       "F419                           23\n",
       "G819                           22\n",
       "G551                           20\n",
       "G409                           19\n",
       "G122                           17\n",
       "F100                           16\n",
       "G431                           16\n",
       "F458                           16"
      ]
     },
     "execution_count": 155,
     "metadata": {},
     "output_type": "execute_result"
    }
   ],
   "source": [
    "counts_df.sort_values([\"mental_and_neural_diagnoses\"], ascending=False).head(n=20)"
   ]
  },
  {
   "cell_type": "markdown",
   "metadata": {},
   "source": [
    "- Neurological diseases that can be used\n",
    "    - MDD\n",
    "    - BPD\n",
    "    - AD\n",
    "    - PD\n",
    "        - 100 each\n",
    "- 600 healthy controls"
   ]
  },
  {
   "cell_type": "markdown",
   "metadata": {},
   "source": [
    "## Selecting the relevant subjects"
   ]
  },
  {
   "cell_type": "markdown",
   "metadata": {},
   "source": [
    "## MDD"
   ]
  },
  {
   "cell_type": "markdown",
   "metadata": {},
   "source": [
    "- Including\n",
    "\n",
    "F33.0 Recurrent depressive disorder, current episode mild67\n",
    "F33.1 Recurrent depressive disorder, current episode moderate207\n",
    "F33.2 Recurrent depressive disorder, current episode severe without psychotic symptoms203\n",
    "F33.8 Other recurrent depressive disorders6\n",
    "F33.9 Recurrent depressive disorder, unspecified\n",
    "\n",
    "- Not including\n",
    "\n",
    "F33.3 Recurrent depressive disorder, current episode severe with psychotic symptoms178\n",
    "F33.4 Recurrent depressive disorder, currently in remission17\n"
   ]
  },
  {
   "cell_type": "code",
   "execution_count": 123,
   "metadata": {
    "tags": []
   },
   "outputs": [],
   "source": [
    "# List of ICD-10 codes to check\n",
    "disease_codes = {\"F330\", \"F331\", \"F332\", \"F338\", \"F339\"}  # Use a set for faster lookup\n",
    "\n",
    "# Filter the DataFrame\n",
    "MDD_filtered_diagnosis_df = filtered_diagnosis_df[\n",
    "    filtered_diagnosis_df[\"mental_and_neural_diagnoses\"].apply(\n",
    "        lambda x: any(code in x for code in disease_codes) and len(x) <= 2\n",
    "    )\n",
    "].copy()"
   ]
  },
  {
   "cell_type": "code",
   "execution_count": 124,
   "metadata": {
    "tags": []
   },
   "outputs": [
    {
     "data": {
      "text/plain": [
       "(1, 15)"
      ]
     },
     "execution_count": 124,
     "metadata": {},
     "output_type": "execute_result"
    }
   ],
   "source": [
    "MDD_filtered_diagnosis_df.shape"
   ]
  },
  {
   "cell_type": "code",
   "execution_count": null,
   "metadata": {},
   "outputs": [],
   "source": []
  },
  {
   "cell_type": "code",
   "execution_count": null,
   "metadata": {},
   "outputs": [],
   "source": []
  },
  {
   "cell_type": "markdown",
   "metadata": {},
   "source": [
    "## BPD"
   ]
  },
  {
   "cell_type": "markdown",
   "metadata": {},
   "source": [
    "- Including\n",
    "\n",
    "F31.0 Bipolar affective disorder, current episode hypomanic219\n",
    "F31.1 Bipolar affective disorder, current episode manic without psychotic symptoms207\n",
    "F31.2 Bipolar affective disorder, current episode manic with psychotic symptoms190\n",
    "F31.6 Bipolar affective disorder, current episode mixed71\n",
    "F31.9 Bipolar affective disorder, unspecified\n",
    "\n",
    "- Not including\n",
    "F31.3 Bipolar affective disorder, current episode mild or moderate depression124\n",
    "F31.4 Bipolar affective disorder, current episode severe depression without psychotic symptoms75\n",
    "F31.5 Bipolar affective disorder, current episode severe depression with psychotic symptoms52\n",
    "F31.7 Bipolar affective disorder, currently in remission41\n",
    "F31.8 Other bipolar affective disorders25"
   ]
  },
  {
   "cell_type": "code",
   "execution_count": 66,
   "metadata": {
    "tags": []
   },
   "outputs": [],
   "source": [
    "# List of ICD-10 codes to check\n",
    "disease_codes = {\"F310\", \"F311\", \"F312\", \"F316\", \"F319\"}  # Use a set for faster lookup\n",
    "\n",
    "# Filter the DataFrame\n",
    "BPD_filtered_diagnosis_df = filtered_diagnosis_df[\n",
    "    filtered_diagnosis_df[\"mental_and_neural_diagnoses\"].apply(\n",
    "        lambda x: any(code in x for code in disease_codes) and len(x) <= 2\n",
    "    )\n",
    "].copy()"
   ]
  },
  {
   "cell_type": "code",
   "execution_count": 67,
   "metadata": {
    "tags": []
   },
   "outputs": [
    {
     "data": {
      "text/plain": [
       "(80, 14)"
      ]
     },
     "execution_count": 67,
     "metadata": {},
     "output_type": "execute_result"
    }
   ],
   "source": [
    "BPD_filtered_diagnosis_df.shape"
   ]
  },
  {
   "cell_type": "code",
   "execution_count": null,
   "metadata": {},
   "outputs": [],
   "source": []
  },
  {
   "cell_type": "code",
   "execution_count": null,
   "metadata": {},
   "outputs": [],
   "source": []
  },
  {
   "cell_type": "markdown",
   "metadata": {},
   "source": [
    "## AD"
   ]
  },
  {
   "cell_type": "markdown",
   "metadata": {},
   "source": [
    "- Including\n",
    "G30.0 Alzheimer's disease with early onset50\n",
    "G30.1 Alzheimer's disease with late onset58\n",
    "G30.8 Other Alzheimer's disease147\n",
    "G30.9 Alzheimer's disease, unspecified"
   ]
  },
  {
   "cell_type": "code",
   "execution_count": 83,
   "metadata": {
    "tags": []
   },
   "outputs": [],
   "source": [
    "# List of ICD-10 codes to check\n",
    "disease_codes = {\"G309\"}  # Use a set for faster lookup\n",
    "\n",
    "# Filter the DataFrame\n",
    "AD_filtered_diagnosis_df = filtered_diagnosis_df[\n",
    "    filtered_diagnosis_df[\"mental_and_neural_diagnoses\"].apply(\n",
    "        lambda x: any(code in x for code in disease_codes) and len(x) <= 1\n",
    "    )\n",
    "].copy()"
   ]
  },
  {
   "cell_type": "code",
   "execution_count": 84,
   "metadata": {
    "tags": []
   },
   "outputs": [
    {
     "data": {
      "text/plain": [
       "(126, 14)"
      ]
     },
     "execution_count": 84,
     "metadata": {},
     "output_type": "execute_result"
    }
   ],
   "source": [
    "AD_filtered_diagnosis_df.shape"
   ]
  },
  {
   "cell_type": "code",
   "execution_count": null,
   "metadata": {},
   "outputs": [],
   "source": []
  },
  {
   "cell_type": "code",
   "execution_count": null,
   "metadata": {},
   "outputs": [],
   "source": []
  },
  {
   "cell_type": "markdown",
   "metadata": {},
   "source": [
    "## PD"
   ]
  },
  {
   "cell_type": "markdown",
   "metadata": {},
   "source": [
    "- Including\n",
    "\n",
    "G20 Parkinson's disease"
   ]
  },
  {
   "cell_type": "code",
   "execution_count": 80,
   "metadata": {
    "tags": []
   },
   "outputs": [],
   "source": [
    "# List of ICD-10 codes to check\n",
    "disease_codes = {\"G20\"}  # Use a set for faster lookup\n",
    "\n",
    "# Filter the DataFrame\n",
    "PD_filtered_diagnosis_df = filtered_diagnosis_df[\n",
    "    filtered_diagnosis_df[\"mental_and_neural_diagnoses\"].apply(\n",
    "        lambda x: any(code in x for code in disease_codes) and len(x) <= 1\n",
    "    )\n",
    "].copy()"
   ]
  },
  {
   "cell_type": "code",
   "execution_count": 81,
   "metadata": {
    "tags": []
   },
   "outputs": [
    {
     "data": {
      "text/plain": [
       "(165, 14)"
      ]
     },
     "execution_count": 81,
     "metadata": {},
     "output_type": "execute_result"
    }
   ],
   "source": [
    "PD_filtered_diagnosis_df.shape"
   ]
  },
  {
   "cell_type": "code",
   "execution_count": 82,
   "metadata": {
    "tags": []
   },
   "outputs": [
    {
     "data": {
      "text/plain": [
       "(114667, 14)"
      ]
     },
     "execution_count": 82,
     "metadata": {},
     "output_type": "execute_result"
    }
   ],
   "source": [
    "filtered_diagnosis_df.shape"
   ]
  },
  {
   "cell_type": "code",
   "execution_count": null,
   "metadata": {},
   "outputs": [],
   "source": []
  },
  {
   "cell_type": "markdown",
   "metadata": {
    "tags": []
   },
   "source": [
    "## Healthy controls"
   ]
  },
  {
   "cell_type": "code",
   "execution_count": 88,
   "metadata": {
    "tags": []
   },
   "outputs": [],
   "source": [
    "# Filter the DataFrame\n",
    "controls_filtered_diagnosis_df = filtered_diagnosis_df[\n",
    "    filtered_diagnosis_df[\"all_diagnoses\"].apply(\n",
    "        lambda x: len(x) <= 0\n",
    "    )\n",
    "].copy()"
   ]
  },
  {
   "cell_type": "code",
   "execution_count": 89,
   "metadata": {
    "tags": []
   },
   "outputs": [
    {
     "data": {
      "text/html": [
       "<div>\n",
       "<style scoped>\n",
       "    .dataframe tbody tr th:only-of-type {\n",
       "        vertical-align: middle;\n",
       "    }\n",
       "\n",
       "    .dataframe tbody tr th {\n",
       "        vertical-align: top;\n",
       "    }\n",
       "\n",
       "    .dataframe thead th {\n",
       "        text-align: right;\n",
       "    }\n",
       "</style>\n",
       "<table border=\"1\" class=\"dataframe\">\n",
       "  <thead>\n",
       "    <tr style=\"text-align: right;\">\n",
       "      <th></th>\n",
       "      <th>eid</th>\n",
       "      <th>31-0.0</th>\n",
       "      <th>21022-0.0</th>\n",
       "      <th>all_diagnoses</th>\n",
       "      <th>mental_and_neural_diagnoses</th>\n",
       "      <th>has_any_diagnosis</th>\n",
       "      <th>has_mental_or_neural_diagnosis</th>\n",
       "      <th>has_PD</th>\n",
       "      <th>has_AD</th>\n",
       "      <th>has_BPD</th>\n",
       "      <th>has_SZ</th>\n",
       "      <th>has_ASD</th>\n",
       "      <th>has_MCI</th>\n",
       "      <th>has_MDD</th>\n",
       "    </tr>\n",
       "  </thead>\n",
       "  <tbody>\n",
       "    <tr>\n",
       "      <th>185</th>\n",
       "      <td>1001865</td>\n",
       "      <td>0</td>\n",
       "      <td>63</td>\n",
       "      <td>[]</td>\n",
       "      <td>[]</td>\n",
       "      <td>False</td>\n",
       "      <td>False</td>\n",
       "      <td>False</td>\n",
       "      <td>False</td>\n",
       "      <td>False</td>\n",
       "      <td>False</td>\n",
       "      <td>False</td>\n",
       "      <td>False</td>\n",
       "      <td>False</td>\n",
       "    </tr>\n",
       "    <tr>\n",
       "      <th>195</th>\n",
       "      <td>1001969</td>\n",
       "      <td>0</td>\n",
       "      <td>63</td>\n",
       "      <td>[]</td>\n",
       "      <td>[]</td>\n",
       "      <td>False</td>\n",
       "      <td>False</td>\n",
       "      <td>False</td>\n",
       "      <td>False</td>\n",
       "      <td>False</td>\n",
       "      <td>False</td>\n",
       "      <td>False</td>\n",
       "      <td>False</td>\n",
       "      <td>False</td>\n",
       "    </tr>\n",
       "    <tr>\n",
       "      <th>331</th>\n",
       "      <td>1003325</td>\n",
       "      <td>0</td>\n",
       "      <td>63</td>\n",
       "      <td>[]</td>\n",
       "      <td>[]</td>\n",
       "      <td>False</td>\n",
       "      <td>False</td>\n",
       "      <td>False</td>\n",
       "      <td>False</td>\n",
       "      <td>False</td>\n",
       "      <td>False</td>\n",
       "      <td>False</td>\n",
       "      <td>False</td>\n",
       "      <td>False</td>\n",
       "    </tr>\n",
       "    <tr>\n",
       "      <th>457</th>\n",
       "      <td>1004582</td>\n",
       "      <td>0</td>\n",
       "      <td>63</td>\n",
       "      <td>[]</td>\n",
       "      <td>[]</td>\n",
       "      <td>False</td>\n",
       "      <td>False</td>\n",
       "      <td>False</td>\n",
       "      <td>False</td>\n",
       "      <td>False</td>\n",
       "      <td>False</td>\n",
       "      <td>False</td>\n",
       "      <td>False</td>\n",
       "      <td>False</td>\n",
       "    </tr>\n",
       "    <tr>\n",
       "      <th>616</th>\n",
       "      <td>1006179</td>\n",
       "      <td>0</td>\n",
       "      <td>64</td>\n",
       "      <td>[]</td>\n",
       "      <td>[]</td>\n",
       "      <td>False</td>\n",
       "      <td>False</td>\n",
       "      <td>False</td>\n",
       "      <td>False</td>\n",
       "      <td>False</td>\n",
       "      <td>False</td>\n",
       "      <td>False</td>\n",
       "      <td>False</td>\n",
       "      <td>False</td>\n",
       "    </tr>\n",
       "    <tr>\n",
       "      <th>...</th>\n",
       "      <td>...</td>\n",
       "      <td>...</td>\n",
       "      <td>...</td>\n",
       "      <td>...</td>\n",
       "      <td>...</td>\n",
       "      <td>...</td>\n",
       "      <td>...</td>\n",
       "      <td>...</td>\n",
       "      <td>...</td>\n",
       "      <td>...</td>\n",
       "      <td>...</td>\n",
       "      <td>...</td>\n",
       "      <td>...</td>\n",
       "      <td>...</td>\n",
       "    </tr>\n",
       "    <tr>\n",
       "      <th>502120</th>\n",
       "      <td>6023511</td>\n",
       "      <td>0</td>\n",
       "      <td>60</td>\n",
       "      <td>[]</td>\n",
       "      <td>[]</td>\n",
       "      <td>False</td>\n",
       "      <td>False</td>\n",
       "      <td>False</td>\n",
       "      <td>False</td>\n",
       "      <td>False</td>\n",
       "      <td>False</td>\n",
       "      <td>False</td>\n",
       "      <td>False</td>\n",
       "      <td>False</td>\n",
       "    </tr>\n",
       "    <tr>\n",
       "      <th>502135</th>\n",
       "      <td>6023665</td>\n",
       "      <td>0</td>\n",
       "      <td>62</td>\n",
       "      <td>[]</td>\n",
       "      <td>[]</td>\n",
       "      <td>False</td>\n",
       "      <td>False</td>\n",
       "      <td>False</td>\n",
       "      <td>False</td>\n",
       "      <td>False</td>\n",
       "      <td>False</td>\n",
       "      <td>False</td>\n",
       "      <td>False</td>\n",
       "      <td>False</td>\n",
       "    </tr>\n",
       "    <tr>\n",
       "      <th>502136</th>\n",
       "      <td>6023679</td>\n",
       "      <td>0</td>\n",
       "      <td>60</td>\n",
       "      <td>[]</td>\n",
       "      <td>[]</td>\n",
       "      <td>False</td>\n",
       "      <td>False</td>\n",
       "      <td>False</td>\n",
       "      <td>False</td>\n",
       "      <td>False</td>\n",
       "      <td>False</td>\n",
       "      <td>False</td>\n",
       "      <td>False</td>\n",
       "      <td>False</td>\n",
       "    </tr>\n",
       "    <tr>\n",
       "      <th>502192</th>\n",
       "      <td>6024234</td>\n",
       "      <td>0</td>\n",
       "      <td>60</td>\n",
       "      <td>[]</td>\n",
       "      <td>[]</td>\n",
       "      <td>False</td>\n",
       "      <td>False</td>\n",
       "      <td>False</td>\n",
       "      <td>False</td>\n",
       "      <td>False</td>\n",
       "      <td>False</td>\n",
       "      <td>False</td>\n",
       "      <td>False</td>\n",
       "      <td>False</td>\n",
       "    </tr>\n",
       "    <tr>\n",
       "      <th>502202</th>\n",
       "      <td>6024339</td>\n",
       "      <td>0</td>\n",
       "      <td>62</td>\n",
       "      <td>[]</td>\n",
       "      <td>[]</td>\n",
       "      <td>False</td>\n",
       "      <td>False</td>\n",
       "      <td>False</td>\n",
       "      <td>False</td>\n",
       "      <td>False</td>\n",
       "      <td>False</td>\n",
       "      <td>False</td>\n",
       "      <td>False</td>\n",
       "      <td>False</td>\n",
       "    </tr>\n",
       "  </tbody>\n",
       "</table>\n",
       "<p>7788 rows × 14 columns</p>\n",
       "</div>"
      ],
      "text/plain": [
       "            eid  31-0.0  21022-0.0 all_diagnoses mental_and_neural_diagnoses  \\\n",
       "185     1001865       0         63            []                          []   \n",
       "195     1001969       0         63            []                          []   \n",
       "331     1003325       0         63            []                          []   \n",
       "457     1004582       0         63            []                          []   \n",
       "616     1006179       0         64            []                          []   \n",
       "...         ...     ...        ...           ...                         ...   \n",
       "502120  6023511       0         60            []                          []   \n",
       "502135  6023665       0         62            []                          []   \n",
       "502136  6023679       0         60            []                          []   \n",
       "502192  6024234       0         60            []                          []   \n",
       "502202  6024339       0         62            []                          []   \n",
       "\n",
       "        has_any_diagnosis  has_mental_or_neural_diagnosis  has_PD  has_AD  \\\n",
       "185                 False                           False   False   False   \n",
       "195                 False                           False   False   False   \n",
       "331                 False                           False   False   False   \n",
       "457                 False                           False   False   False   \n",
       "616                 False                           False   False   False   \n",
       "...                   ...                             ...     ...     ...   \n",
       "502120              False                           False   False   False   \n",
       "502135              False                           False   False   False   \n",
       "502136              False                           False   False   False   \n",
       "502192              False                           False   False   False   \n",
       "502202              False                           False   False   False   \n",
       "\n",
       "        has_BPD  has_SZ  has_ASD  has_MCI  has_MDD  \n",
       "185       False   False    False    False    False  \n",
       "195       False   False    False    False    False  \n",
       "331       False   False    False    False    False  \n",
       "457       False   False    False    False    False  \n",
       "616       False   False    False    False    False  \n",
       "...         ...     ...      ...      ...      ...  \n",
       "502120    False   False    False    False    False  \n",
       "502135    False   False    False    False    False  \n",
       "502136    False   False    False    False    False  \n",
       "502192    False   False    False    False    False  \n",
       "502202    False   False    False    False    False  \n",
       "\n",
       "[7788 rows x 14 columns]"
      ]
     },
     "execution_count": 89,
     "metadata": {},
     "output_type": "execute_result"
    }
   ],
   "source": [
    "controls_filtered_diagnosis_df"
   ]
  },
  {
   "cell_type": "markdown",
   "metadata": {},
   "source": [
    "- Stratified sampling for age"
   ]
  },
  {
   "cell_type": "code",
   "execution_count": 96,
   "metadata": {
    "tags": []
   },
   "outputs": [],
   "source": [
    "controls_filtered_diagnosis_df = controls_filtered_diagnosis_df.groupby('21022-0.0').apply(\n",
    "    lambda x: x.sample(frac=0.1)\n",
    ").reset_index(drop=True)"
   ]
  },
  {
   "cell_type": "markdown",
   "metadata": {},
   "source": [
    "## Copying files over"
   ]
  },
  {
   "cell_type": "markdown",
   "metadata": {},
   "source": [
    "- Putting together all dataframes"
   ]
  },
  {
   "cell_type": "code",
   "execution_count": 99,
   "metadata": {
    "tags": []
   },
   "outputs": [],
   "source": [
    "all_filtered_diagnosis_df = pd.concat([MDD_filtered_diagnosis_df, BPD_filtered_diagnosis_df, PD_filtered_diagnosis_df, AD_filtered_diagnosis_df, controls_filtered_diagnosis_df]).sort_values([\"eid\"]).reset_index()"
   ]
  },
  {
   "cell_type": "code",
   "execution_count": 100,
   "metadata": {
    "tags": []
   },
   "outputs": [
    {
     "data": {
      "text/html": [
       "<div>\n",
       "<style scoped>\n",
       "    .dataframe tbody tr th:only-of-type {\n",
       "        vertical-align: middle;\n",
       "    }\n",
       "\n",
       "    .dataframe tbody tr th {\n",
       "        vertical-align: top;\n",
       "    }\n",
       "\n",
       "    .dataframe thead th {\n",
       "        text-align: right;\n",
       "    }\n",
       "</style>\n",
       "<table border=\"1\" class=\"dataframe\">\n",
       "  <thead>\n",
       "    <tr style=\"text-align: right;\">\n",
       "      <th></th>\n",
       "      <th>index</th>\n",
       "      <th>eid</th>\n",
       "      <th>31-0.0</th>\n",
       "      <th>21022-0.0</th>\n",
       "      <th>all_diagnoses</th>\n",
       "      <th>mental_and_neural_diagnoses</th>\n",
       "      <th>has_any_diagnosis</th>\n",
       "      <th>has_mental_or_neural_diagnosis</th>\n",
       "      <th>has_PD</th>\n",
       "      <th>has_AD</th>\n",
       "      <th>has_BPD</th>\n",
       "      <th>has_SZ</th>\n",
       "      <th>has_ASD</th>\n",
       "      <th>has_MCI</th>\n",
       "      <th>has_MDD</th>\n",
       "    </tr>\n",
       "  </thead>\n",
       "  <tbody>\n",
       "    <tr>\n",
       "      <th>0</th>\n",
       "      <td>156</td>\n",
       "      <td>1001578</td>\n",
       "      <td>0</td>\n",
       "      <td>63</td>\n",
       "      <td>[G20, L022, R100]</td>\n",
       "      <td>[G20]</td>\n",
       "      <td>True</td>\n",
       "      <td>True</td>\n",
       "      <td>True</td>\n",
       "      <td>False</td>\n",
       "      <td>False</td>\n",
       "      <td>False</td>\n",
       "      <td>False</td>\n",
       "      <td>False</td>\n",
       "      <td>False</td>\n",
       "    </tr>\n",
       "    <tr>\n",
       "      <th>1</th>\n",
       "      <td>157</td>\n",
       "      <td>1001583</td>\n",
       "      <td>0</td>\n",
       "      <td>69</td>\n",
       "      <td>[E041, F332, H269, H531, H810, I634, J459, K29...</td>\n",
       "      <td>[F332]</td>\n",
       "      <td>True</td>\n",
       "      <td>True</td>\n",
       "      <td>False</td>\n",
       "      <td>False</td>\n",
       "      <td>False</td>\n",
       "      <td>False</td>\n",
       "      <td>False</td>\n",
       "      <td>False</td>\n",
       "      <td>True</td>\n",
       "    </tr>\n",
       "    <tr>\n",
       "      <th>2</th>\n",
       "      <td>430</td>\n",
       "      <td>1001865</td>\n",
       "      <td>0</td>\n",
       "      <td>63</td>\n",
       "      <td>[]</td>\n",
       "      <td>[]</td>\n",
       "      <td>False</td>\n",
       "      <td>False</td>\n",
       "      <td>False</td>\n",
       "      <td>False</td>\n",
       "      <td>False</td>\n",
       "      <td>False</td>\n",
       "      <td>False</td>\n",
       "      <td>False</td>\n",
       "      <td>False</td>\n",
       "    </tr>\n",
       "    <tr>\n",
       "      <th>3</th>\n",
       "      <td>877</td>\n",
       "      <td>1008780</td>\n",
       "      <td>0</td>\n",
       "      <td>63</td>\n",
       "      <td>[G309, J189, J22, L720, R13]</td>\n",
       "      <td>[G309]</td>\n",
       "      <td>True</td>\n",
       "      <td>True</td>\n",
       "      <td>False</td>\n",
       "      <td>True</td>\n",
       "      <td>False</td>\n",
       "      <td>False</td>\n",
       "      <td>False</td>\n",
       "      <td>False</td>\n",
       "      <td>False</td>\n",
       "    </tr>\n",
       "    <tr>\n",
       "      <th>4</th>\n",
       "      <td>1187</td>\n",
       "      <td>1011886</td>\n",
       "      <td>0</td>\n",
       "      <td>64</td>\n",
       "      <td>[G20, H258, H264, R400, R55]</td>\n",
       "      <td>[G20]</td>\n",
       "      <td>True</td>\n",
       "      <td>True</td>\n",
       "      <td>True</td>\n",
       "      <td>False</td>\n",
       "      <td>False</td>\n",
       "      <td>False</td>\n",
       "      <td>False</td>\n",
       "      <td>False</td>\n",
       "      <td>False</td>\n",
       "    </tr>\n",
       "    <tr>\n",
       "      <th>...</th>\n",
       "      <td>...</td>\n",
       "      <td>...</td>\n",
       "      <td>...</td>\n",
       "      <td>...</td>\n",
       "      <td>...</td>\n",
       "      <td>...</td>\n",
       "      <td>...</td>\n",
       "      <td>...</td>\n",
       "      <td>...</td>\n",
       "      <td>...</td>\n",
       "      <td>...</td>\n",
       "      <td>...</td>\n",
       "      <td>...</td>\n",
       "      <td>...</td>\n",
       "      <td>...</td>\n",
       "    </tr>\n",
       "    <tr>\n",
       "      <th>1223</th>\n",
       "      <td>500534</td>\n",
       "      <td>6007654</td>\n",
       "      <td>0</td>\n",
       "      <td>68</td>\n",
       "      <td>[D509, G20, J22, K029, K623, M1397, M189, M549...</td>\n",
       "      <td>[G20]</td>\n",
       "      <td>True</td>\n",
       "      <td>True</td>\n",
       "      <td>True</td>\n",
       "      <td>False</td>\n",
       "      <td>False</td>\n",
       "      <td>False</td>\n",
       "      <td>False</td>\n",
       "      <td>False</td>\n",
       "      <td>False</td>\n",
       "    </tr>\n",
       "    <tr>\n",
       "      <th>1224</th>\n",
       "      <td>180</td>\n",
       "      <td>6011781</td>\n",
       "      <td>0</td>\n",
       "      <td>61</td>\n",
       "      <td>[]</td>\n",
       "      <td>[]</td>\n",
       "      <td>False</td>\n",
       "      <td>False</td>\n",
       "      <td>False</td>\n",
       "      <td>False</td>\n",
       "      <td>False</td>\n",
       "      <td>False</td>\n",
       "      <td>False</td>\n",
       "      <td>False</td>\n",
       "      <td>False</td>\n",
       "    </tr>\n",
       "    <tr>\n",
       "      <th>1225</th>\n",
       "      <td>100</td>\n",
       "      <td>6014958</td>\n",
       "      <td>0</td>\n",
       "      <td>60</td>\n",
       "      <td>[]</td>\n",
       "      <td>[]</td>\n",
       "      <td>False</td>\n",
       "      <td>False</td>\n",
       "      <td>False</td>\n",
       "      <td>False</td>\n",
       "      <td>False</td>\n",
       "      <td>False</td>\n",
       "      <td>False</td>\n",
       "      <td>False</td>\n",
       "      <td>False</td>\n",
       "    </tr>\n",
       "    <tr>\n",
       "      <th>1226</th>\n",
       "      <td>501715</td>\n",
       "      <td>6019462</td>\n",
       "      <td>0</td>\n",
       "      <td>65</td>\n",
       "      <td>[G309, I269, K297, K30, K573, M169, N840, R104...</td>\n",
       "      <td>[G309]</td>\n",
       "      <td>True</td>\n",
       "      <td>True</td>\n",
       "      <td>False</td>\n",
       "      <td>True</td>\n",
       "      <td>False</td>\n",
       "      <td>False</td>\n",
       "      <td>False</td>\n",
       "      <td>False</td>\n",
       "      <td>False</td>\n",
       "    </tr>\n",
       "    <tr>\n",
       "      <th>1227</th>\n",
       "      <td>502064</td>\n",
       "      <td>6022950</td>\n",
       "      <td>0</td>\n",
       "      <td>60</td>\n",
       "      <td>[D069, F331, M150, M159, M171, M2336, M2351, M...</td>\n",
       "      <td>[F331]</td>\n",
       "      <td>True</td>\n",
       "      <td>True</td>\n",
       "      <td>False</td>\n",
       "      <td>False</td>\n",
       "      <td>False</td>\n",
       "      <td>False</td>\n",
       "      <td>False</td>\n",
       "      <td>False</td>\n",
       "      <td>True</td>\n",
       "    </tr>\n",
       "  </tbody>\n",
       "</table>\n",
       "<p>1228 rows × 15 columns</p>\n",
       "</div>"
      ],
      "text/plain": [
       "       index      eid  31-0.0  21022-0.0  \\\n",
       "0        156  1001578       0         63   \n",
       "1        157  1001583       0         69   \n",
       "2        430  1001865       0         63   \n",
       "3        877  1008780       0         63   \n",
       "4       1187  1011886       0         64   \n",
       "...      ...      ...     ...        ...   \n",
       "1223  500534  6007654       0         68   \n",
       "1224     180  6011781       0         61   \n",
       "1225     100  6014958       0         60   \n",
       "1226  501715  6019462       0         65   \n",
       "1227  502064  6022950       0         60   \n",
       "\n",
       "                                          all_diagnoses  \\\n",
       "0                                     [G20, L022, R100]   \n",
       "1     [E041, F332, H269, H531, H810, I634, J459, K29...   \n",
       "2                                                    []   \n",
       "3                          [G309, J189, J22, L720, R13]   \n",
       "4                          [G20, H258, H264, R400, R55]   \n",
       "...                                                 ...   \n",
       "1223  [D509, G20, J22, K029, K623, M1397, M189, M549...   \n",
       "1224                                                 []   \n",
       "1225                                                 []   \n",
       "1226  [G309, I269, K297, K30, K573, M169, N840, R104...   \n",
       "1227  [D069, F331, M150, M159, M171, M2336, M2351, M...   \n",
       "\n",
       "     mental_and_neural_diagnoses  has_any_diagnosis  \\\n",
       "0                          [G20]               True   \n",
       "1                         [F332]               True   \n",
       "2                             []              False   \n",
       "3                         [G309]               True   \n",
       "4                          [G20]               True   \n",
       "...                          ...                ...   \n",
       "1223                       [G20]               True   \n",
       "1224                          []              False   \n",
       "1225                          []              False   \n",
       "1226                      [G309]               True   \n",
       "1227                      [F331]               True   \n",
       "\n",
       "      has_mental_or_neural_diagnosis  has_PD  has_AD  has_BPD  has_SZ  \\\n",
       "0                               True    True   False    False   False   \n",
       "1                               True   False   False    False   False   \n",
       "2                              False   False   False    False   False   \n",
       "3                               True   False    True    False   False   \n",
       "4                               True    True   False    False   False   \n",
       "...                              ...     ...     ...      ...     ...   \n",
       "1223                            True    True   False    False   False   \n",
       "1224                           False   False   False    False   False   \n",
       "1225                           False   False   False    False   False   \n",
       "1226                            True   False    True    False   False   \n",
       "1227                            True   False   False    False   False   \n",
       "\n",
       "      has_ASD  has_MCI  has_MDD  \n",
       "0       False    False    False  \n",
       "1       False    False     True  \n",
       "2       False    False    False  \n",
       "3       False    False    False  \n",
       "4       False    False    False  \n",
       "...       ...      ...      ...  \n",
       "1223    False    False    False  \n",
       "1224    False    False    False  \n",
       "1225    False    False    False  \n",
       "1226    False    False    False  \n",
       "1227    False    False     True  \n",
       "\n",
       "[1228 rows x 15 columns]"
      ]
     },
     "execution_count": 100,
     "metadata": {},
     "output_type": "execute_result"
    }
   ],
   "source": [
    "all_filtered_diagnosis_df"
   ]
  },
  {
   "cell_type": "code",
   "execution_count": 101,
   "metadata": {
    "tags": []
   },
   "outputs": [],
   "source": [
    "all_files = sorted(glob.glob('/orange/ruogu.fang/data/UKB/brain/20227_rsfMRI_NIFTI/rsfMRI_zip/*', recursive=True, root_dir=INPUT_DIR))"
   ]
  },
  {
   "cell_type": "code",
   "execution_count": null,
   "metadata": {},
   "outputs": [],
   "source": []
  },
  {
   "cell_type": "code",
   "execution_count": 102,
   "metadata": {
    "tags": []
   },
   "outputs": [],
   "source": [
    "all_IDS = [os.path.basename(path).split(\"_\")[0] for path in all_files]"
   ]
  },
  {
   "cell_type": "code",
   "execution_count": 103,
   "metadata": {
    "tags": []
   },
   "outputs": [
    {
     "data": {
      "text/plain": [
       "['1000023',\n",
       " '1000086',\n",
       " '1000317',\n",
       " '1000503',\n",
       " '1000665',\n",
       " '1000768',\n",
       " '1000925',\n",
       " '1001109',\n",
       " '1001390',\n",
       " '1001631',\n",
       " '1001784',\n",
       " '1001851',\n",
       " '1001900',\n",
       " '1002112',\n",
       " '1002308',\n",
       " '1002819',\n",
       " '1003319',\n",
       " '1003639',\n",
       " '1003750',\n",
       " '1004075']"
      ]
     },
     "execution_count": 103,
     "metadata": {},
     "output_type": "execute_result"
    }
   ],
   "source": [
    "all_IDS[:20]"
   ]
  },
  {
   "cell_type": "markdown",
   "metadata": {},
   "source": [
    "- Getting all the file paths for healthy ADs"
   ]
  },
  {
   "cell_type": "code",
   "execution_count": 104,
   "metadata": {
    "tags": []
   },
   "outputs": [],
   "source": [
    "# Convert diagnosis_df[\"eid\"] to a set for O(1) lookups\n",
    "eid_set = set(all_filtered_diagnosis_df[\"eid\"].astype(str))\n",
    "\n",
    "# Use list comprehension with set lookup\n",
    "filtered_IDS = [string for string in all_IDS if string in eid_set]"
   ]
  },
  {
   "cell_type": "code",
   "execution_count": 108,
   "metadata": {
    "tags": []
   },
   "outputs": [
    {
     "data": {
      "text/plain": [
       "1228"
      ]
     },
     "execution_count": 108,
     "metadata": {},
     "output_type": "execute_result"
    }
   ],
   "source": [
    "len(eid_set)"
   ]
  },
  {
   "cell_type": "code",
   "execution_count": 105,
   "metadata": {
    "tags": []
   },
   "outputs": [
    {
     "data": {
      "text/plain": [
       "38"
      ]
     },
     "execution_count": 105,
     "metadata": {},
     "output_type": "execute_result"
    }
   ],
   "source": [
    "len(filtered_IDS)"
   ]
  },
  {
   "cell_type": "code",
   "execution_count": 106,
   "metadata": {
    "tags": []
   },
   "outputs": [
    {
     "data": {
      "text/plain": [
       "22288"
      ]
     },
     "execution_count": 106,
     "metadata": {},
     "output_type": "execute_result"
    }
   ],
   "source": [
    "len(all_files)"
   ]
  },
  {
   "cell_type": "markdown",
   "metadata": {},
   "source": [
    "# Copying files over"
   ]
  },
  {
   "cell_type": "code",
   "execution_count": 15,
   "metadata": {
    "tags": []
   },
   "outputs": [],
   "source": [
    "import zipfile\n",
    "import os"
   ]
  },
  {
   "cell_type": "code",
   "execution_count": 16,
   "metadata": {
    "tags": []
   },
   "outputs": [
    {
     "data": {
      "text/plain": [
       "'/orange/ruogu.fang/data/UKB/brain'"
      ]
     },
     "execution_count": 16,
     "metadata": {},
     "output_type": "execute_result"
    }
   ],
   "source": [
    "INPUT_DIR"
   ]
  },
  {
   "cell_type": "code",
   "execution_count": 17,
   "metadata": {
    "tags": []
   },
   "outputs": [
    {
     "data": {
      "text/plain": [
       "'/blue/ruogu.fang/ryoi360/projects/fmri_vlm/data/UKB/brain/20227_rsfMRI_NIFTI'"
      ]
     },
     "execution_count": 17,
     "metadata": {},
     "output_type": "execute_result"
    }
   ],
   "source": [
    "OUTPUT_DIR"
   ]
  },
  {
   "cell_type": "code",
   "execution_count": 21,
   "metadata": {
    "tags": []
   },
   "outputs": [
    {
     "name": "stdout",
     "output_type": "stream",
     "text": [
      "Processing: 1 / 22281\n",
      "Processing: /orange/ruogu.fang/data/UKB/brain/20227_rsfMRI_NIFTI/rsfMRI_zip/1000023_20227_2_0.zip\n",
      "Extracted: /blue/ruogu.fang/ryoi360/projects/fmri_vlm/data/UKB/brain/20227_rsfMRI_NIFTI/1000023/fMRI/rfMRI.ica/filtered_func_data_clean.nii.gz\n",
      "Processing: 2 / 22281\n",
      "Processing: /orange/ruogu.fang/data/UKB/brain/20227_rsfMRI_NIFTI/rsfMRI_zip/1000086_20227_2_0.zip\n",
      "Extracted: /blue/ruogu.fang/ryoi360/projects/fmri_vlm/data/UKB/brain/20227_rsfMRI_NIFTI/1000086/fMRI/rfMRI.ica/filtered_func_data_clean.nii.gz\n",
      "Processing: 3 / 22281\n",
      "Processing: /orange/ruogu.fang/data/UKB/brain/20227_rsfMRI_NIFTI/rsfMRI_zip/1000317_20227_2_0.zip\n",
      "Extracted: /blue/ruogu.fang/ryoi360/projects/fmri_vlm/data/UKB/brain/20227_rsfMRI_NIFTI/1000317/fMRI/rfMRI.ica/filtered_func_data_clean.nii.gz\n",
      "Processing: 4 / 22281\n",
      "Processing: /orange/ruogu.fang/data/UKB/brain/20227_rsfMRI_NIFTI/rsfMRI_zip/1000503_20227_2_0.zip\n",
      "Extracted: /blue/ruogu.fang/ryoi360/projects/fmri_vlm/data/UKB/brain/20227_rsfMRI_NIFTI/1000503/fMRI/rfMRI.ica/filtered_func_data_clean.nii.gz\n",
      "Processing: 5 / 22281\n",
      "Processing: /orange/ruogu.fang/data/UKB/brain/20227_rsfMRI_NIFTI/rsfMRI_zip/1000665_20227_2_0.zip\n",
      "Extracted: /blue/ruogu.fang/ryoi360/projects/fmri_vlm/data/UKB/brain/20227_rsfMRI_NIFTI/1000665/fMRI/rfMRI.ica/filtered_func_data_clean.nii.gz\n",
      "Processing: 6 / 22281\n",
      "Processing: /orange/ruogu.fang/data/UKB/brain/20227_rsfMRI_NIFTI/rsfMRI_zip/1000768_20227_2_0.zip\n",
      "Extracted: /blue/ruogu.fang/ryoi360/projects/fmri_vlm/data/UKB/brain/20227_rsfMRI_NIFTI/1000768/fMRI/rfMRI.ica/filtered_func_data_clean.nii.gz\n",
      "Processing: 7 / 22281\n",
      "Processing: /orange/ruogu.fang/data/UKB/brain/20227_rsfMRI_NIFTI/rsfMRI_zip/1000925_20227_2_0.zip\n",
      "Target file not found in /orange/ruogu.fang/data/UKB/brain/20227_rsfMRI_NIFTI/rsfMRI_zip/1000925_20227_2_0.zip\n",
      "Processing: 8 / 22281\n",
      "Processing: /orange/ruogu.fang/data/UKB/brain/20227_rsfMRI_NIFTI/rsfMRI_zip/1001109_20227_2_0.zip\n",
      "Extracted: /blue/ruogu.fang/ryoi360/projects/fmri_vlm/data/UKB/brain/20227_rsfMRI_NIFTI/1001109/fMRI/rfMRI.ica/filtered_func_data_clean.nii.gz\n",
      "Processing: 9 / 22281\n",
      "Processing: /orange/ruogu.fang/data/UKB/brain/20227_rsfMRI_NIFTI/rsfMRI_zip/1001390_20227_2_0.zip\n",
      "Extracted: /blue/ruogu.fang/ryoi360/projects/fmri_vlm/data/UKB/brain/20227_rsfMRI_NIFTI/1001390/fMRI/rfMRI.ica/filtered_func_data_clean.nii.gz\n",
      "Processing: 10 / 22281\n",
      "Processing: /orange/ruogu.fang/data/UKB/brain/20227_rsfMRI_NIFTI/rsfMRI_zip/1001631_20227_2_0.zip\n",
      "Extracted: /blue/ruogu.fang/ryoi360/projects/fmri_vlm/data/UKB/brain/20227_rsfMRI_NIFTI/1001631/fMRI/rfMRI.ica/filtered_func_data_clean.nii.gz\n",
      "Processing: 11 / 22281\n",
      "Processing: /orange/ruogu.fang/data/UKB/brain/20227_rsfMRI_NIFTI/rsfMRI_zip/1001784_20227_2_0.zip\n",
      "Target file not found in /orange/ruogu.fang/data/UKB/brain/20227_rsfMRI_NIFTI/rsfMRI_zip/1001784_20227_2_0.zip\n",
      "Processing: 12 / 22281\n",
      "Processing: /orange/ruogu.fang/data/UKB/brain/20227_rsfMRI_NIFTI/rsfMRI_zip/1001851_20227_2_0.zip\n",
      "Extracted: /blue/ruogu.fang/ryoi360/projects/fmri_vlm/data/UKB/brain/20227_rsfMRI_NIFTI/1001851/fMRI/rfMRI.ica/filtered_func_data_clean.nii.gz\n",
      "Processing: 13 / 22281\n",
      "Processing: /orange/ruogu.fang/data/UKB/brain/20227_rsfMRI_NIFTI/rsfMRI_zip/1001900_20227_2_0.zip\n",
      "Extracted: /blue/ruogu.fang/ryoi360/projects/fmri_vlm/data/UKB/brain/20227_rsfMRI_NIFTI/1001900/fMRI/rfMRI.ica/filtered_func_data_clean.nii.gz\n",
      "Processing: 14 / 22281\n",
      "Processing: /orange/ruogu.fang/data/UKB/brain/20227_rsfMRI_NIFTI/rsfMRI_zip/1002112_20227_2_0.zip\n",
      "Extracted: /blue/ruogu.fang/ryoi360/projects/fmri_vlm/data/UKB/brain/20227_rsfMRI_NIFTI/1002112/fMRI/rfMRI.ica/filtered_func_data_clean.nii.gz\n",
      "Processing: 15 / 22281\n",
      "Processing: /orange/ruogu.fang/data/UKB/brain/20227_rsfMRI_NIFTI/rsfMRI_zip/1002308_20227_2_0.zip\n",
      "Extracted: /blue/ruogu.fang/ryoi360/projects/fmri_vlm/data/UKB/brain/20227_rsfMRI_NIFTI/1002308/fMRI/rfMRI.ica/filtered_func_data_clean.nii.gz\n",
      "Processing: 16 / 22281\n",
      "Processing: /orange/ruogu.fang/data/UKB/brain/20227_rsfMRI_NIFTI/rsfMRI_zip/1002819_20227_2_0.zip\n",
      "Extracted: /blue/ruogu.fang/ryoi360/projects/fmri_vlm/data/UKB/brain/20227_rsfMRI_NIFTI/1002819/fMRI/rfMRI.ica/filtered_func_data_clean.nii.gz\n",
      "Processing: 17 / 22281\n",
      "Processing: /orange/ruogu.fang/data/UKB/brain/20227_rsfMRI_NIFTI/rsfMRI_zip/1003319_20227_2_0.zip\n",
      "Target file not found in /orange/ruogu.fang/data/UKB/brain/20227_rsfMRI_NIFTI/rsfMRI_zip/1003319_20227_2_0.zip\n",
      "Processing: 18 / 22281\n",
      "Processing: /orange/ruogu.fang/data/UKB/brain/20227_rsfMRI_NIFTI/rsfMRI_zip/1003639_20227_2_0.zip\n",
      "Extracted: /blue/ruogu.fang/ryoi360/projects/fmri_vlm/data/UKB/brain/20227_rsfMRI_NIFTI/1003639/fMRI/rfMRI.ica/filtered_func_data_clean.nii.gz\n",
      "Processing: 19 / 22281\n",
      "Processing: /orange/ruogu.fang/data/UKB/brain/20227_rsfMRI_NIFTI/rsfMRI_zip/1003750_20227_2_0.zip\n",
      "Extracted: /blue/ruogu.fang/ryoi360/projects/fmri_vlm/data/UKB/brain/20227_rsfMRI_NIFTI/1003750/fMRI/rfMRI.ica/filtered_func_data_clean.nii.gz\n",
      "Processing: 20 / 22281\n",
      "Processing: /orange/ruogu.fang/data/UKB/brain/20227_rsfMRI_NIFTI/rsfMRI_zip/1004075_20227_2_0.zip\n",
      "Extracted: /blue/ruogu.fang/ryoi360/projects/fmri_vlm/data/UKB/brain/20227_rsfMRI_NIFTI/1004075/fMRI/rfMRI.ica/filtered_func_data_clean.nii.gz\n",
      "Processing: 21 / 22281\n",
      "Processing: /orange/ruogu.fang/data/UKB/brain/20227_rsfMRI_NIFTI/rsfMRI_zip/1004457_20227_2_0.zip\n",
      "Extracted: /blue/ruogu.fang/ryoi360/projects/fmri_vlm/data/UKB/brain/20227_rsfMRI_NIFTI/1004457/fMRI/rfMRI.ica/filtered_func_data_clean.nii.gz\n",
      "Processing: 22 / 22281\n",
      "Processing: /orange/ruogu.fang/data/UKB/brain/20227_rsfMRI_NIFTI/rsfMRI_zip/1004842_20227_2_0.zip\n",
      "Extracted: /blue/ruogu.fang/ryoi360/projects/fmri_vlm/data/UKB/brain/20227_rsfMRI_NIFTI/1004842/fMRI/rfMRI.ica/filtered_func_data_clean.nii.gz\n",
      "Processing: 23 / 22281\n",
      "Processing: /orange/ruogu.fang/data/UKB/brain/20227_rsfMRI_NIFTI/rsfMRI_zip/1004927_20227_2_0.zip\n",
      "Extracted: /blue/ruogu.fang/ryoi360/projects/fmri_vlm/data/UKB/brain/20227_rsfMRI_NIFTI/1004927/fMRI/rfMRI.ica/filtered_func_data_clean.nii.gz\n",
      "Processing: 24 / 22281\n",
      "Processing: /orange/ruogu.fang/data/UKB/brain/20227_rsfMRI_NIFTI/rsfMRI_zip/1005032_20227_2_0.zip\n",
      "Target file not found in /orange/ruogu.fang/data/UKB/brain/20227_rsfMRI_NIFTI/rsfMRI_zip/1005032_20227_2_0.zip\n",
      "Processing: 25 / 22281\n",
      "Processing: /orange/ruogu.fang/data/UKB/brain/20227_rsfMRI_NIFTI/rsfMRI_zip/1005351_20227_2_0.zip\n",
      "Extracted: /blue/ruogu.fang/ryoi360/projects/fmri_vlm/data/UKB/brain/20227_rsfMRI_NIFTI/1005351/fMRI/rfMRI.ica/filtered_func_data_clean.nii.gz\n",
      "Processing: 26 / 22281\n",
      "Processing: /orange/ruogu.fang/data/UKB/brain/20227_rsfMRI_NIFTI/rsfMRI_zip/1005440_20227_2_0.zip\n",
      "Extracted: /blue/ruogu.fang/ryoi360/projects/fmri_vlm/data/UKB/brain/20227_rsfMRI_NIFTI/1005440/fMRI/rfMRI.ica/filtered_func_data_clean.nii.gz\n",
      "Processing: 27 / 22281\n",
      "Processing: /orange/ruogu.fang/data/UKB/brain/20227_rsfMRI_NIFTI/rsfMRI_zip/1005592_20227_2_0.zip\n",
      "Target file not found in /orange/ruogu.fang/data/UKB/brain/20227_rsfMRI_NIFTI/rsfMRI_zip/1005592_20227_2_0.zip\n",
      "Processing: 28 / 22281\n",
      "Processing: /orange/ruogu.fang/data/UKB/brain/20227_rsfMRI_NIFTI/rsfMRI_zip/1005674_20227_2_0.zip\n",
      "Extracted: /blue/ruogu.fang/ryoi360/projects/fmri_vlm/data/UKB/brain/20227_rsfMRI_NIFTI/1005674/fMRI/rfMRI.ica/filtered_func_data_clean.nii.gz\n",
      "Processing: 29 / 22281\n",
      "Processing: /orange/ruogu.fang/data/UKB/brain/20227_rsfMRI_NIFTI/rsfMRI_zip/1005778_20227_2_0.zip\n",
      "Extracted: /blue/ruogu.fang/ryoi360/projects/fmri_vlm/data/UKB/brain/20227_rsfMRI_NIFTI/1005778/fMRI/rfMRI.ica/filtered_func_data_clean.nii.gz\n",
      "Processing: 30 / 22281\n",
      "Processing: /orange/ruogu.fang/data/UKB/brain/20227_rsfMRI_NIFTI/rsfMRI_zip/1005828_20227_2_0.zip\n",
      "Extracted: /blue/ruogu.fang/ryoi360/projects/fmri_vlm/data/UKB/brain/20227_rsfMRI_NIFTI/1005828/fMRI/rfMRI.ica/filtered_func_data_clean.nii.gz\n",
      "Processing: 31 / 22281\n",
      "Processing: /orange/ruogu.fang/data/UKB/brain/20227_rsfMRI_NIFTI/rsfMRI_zip/1005844_20227_2_0.zip\n",
      "Extracted: /blue/ruogu.fang/ryoi360/projects/fmri_vlm/data/UKB/brain/20227_rsfMRI_NIFTI/1005844/fMRI/rfMRI.ica/filtered_func_data_clean.nii.gz\n",
      "Processing: 32 / 22281\n",
      "Processing: /orange/ruogu.fang/data/UKB/brain/20227_rsfMRI_NIFTI/rsfMRI_zip/1005889_20227_2_0.zip\n",
      "Extracted: /blue/ruogu.fang/ryoi360/projects/fmri_vlm/data/UKB/brain/20227_rsfMRI_NIFTI/1005889/fMRI/rfMRI.ica/filtered_func_data_clean.nii.gz\n",
      "Processing: 33 / 22281\n",
      "Processing: /orange/ruogu.fang/data/UKB/brain/20227_rsfMRI_NIFTI/rsfMRI_zip/1006423_20227_2_0.zip\n",
      "Target file not found in /orange/ruogu.fang/data/UKB/brain/20227_rsfMRI_NIFTI/rsfMRI_zip/1006423_20227_2_0.zip\n",
      "Processing: 34 / 22281\n",
      "Processing: /orange/ruogu.fang/data/UKB/brain/20227_rsfMRI_NIFTI/rsfMRI_zip/1006822_20227_2_0.zip\n",
      "Extracted: /blue/ruogu.fang/ryoi360/projects/fmri_vlm/data/UKB/brain/20227_rsfMRI_NIFTI/1006822/fMRI/rfMRI.ica/filtered_func_data_clean.nii.gz\n",
      "Processing: 35 / 22281\n",
      "Processing: /orange/ruogu.fang/data/UKB/brain/20227_rsfMRI_NIFTI/rsfMRI_zip/1006964_20227_2_0.zip\n",
      "Extracted: /blue/ruogu.fang/ryoi360/projects/fmri_vlm/data/UKB/brain/20227_rsfMRI_NIFTI/1006964/fMRI/rfMRI.ica/filtered_func_data_clean.nii.gz\n",
      "Processing: 36 / 22281\n",
      "Processing: /orange/ruogu.fang/data/UKB/brain/20227_rsfMRI_NIFTI/rsfMRI_zip/1007005_20227_2_0.zip\n",
      "Extracted: /blue/ruogu.fang/ryoi360/projects/fmri_vlm/data/UKB/brain/20227_rsfMRI_NIFTI/1007005/fMRI/rfMRI.ica/filtered_func_data_clean.nii.gz\n",
      "Processing: 37 / 22281\n",
      "Processing: /orange/ruogu.fang/data/UKB/brain/20227_rsfMRI_NIFTI/rsfMRI_zip/1007189_20227_2_0.zip\n",
      "Extracted: /blue/ruogu.fang/ryoi360/projects/fmri_vlm/data/UKB/brain/20227_rsfMRI_NIFTI/1007189/fMRI/rfMRI.ica/filtered_func_data_clean.nii.gz\n",
      "Processing: 38 / 22281\n",
      "Processing: /orange/ruogu.fang/data/UKB/brain/20227_rsfMRI_NIFTI/rsfMRI_zip/1007630_20227_2_0.zip\n",
      "Extracted: /blue/ruogu.fang/ryoi360/projects/fmri_vlm/data/UKB/brain/20227_rsfMRI_NIFTI/1007630/fMRI/rfMRI.ica/filtered_func_data_clean.nii.gz\n",
      "Processing: 39 / 22281\n",
      "Processing: /orange/ruogu.fang/data/UKB/brain/20227_rsfMRI_NIFTI/rsfMRI_zip/1007815_20227_2_0.zip\n",
      "Extracted: /blue/ruogu.fang/ryoi360/projects/fmri_vlm/data/UKB/brain/20227_rsfMRI_NIFTI/1007815/fMRI/rfMRI.ica/filtered_func_data_clean.nii.gz\n",
      "Processing: 40 / 22281\n",
      "Processing: /orange/ruogu.fang/data/UKB/brain/20227_rsfMRI_NIFTI/rsfMRI_zip/1007991_20227_2_0.zip\n",
      "Target file not found in /orange/ruogu.fang/data/UKB/brain/20227_rsfMRI_NIFTI/rsfMRI_zip/1007991_20227_2_0.zip\n",
      "Processing: 41 / 22281\n",
      "Processing: /orange/ruogu.fang/data/UKB/brain/20227_rsfMRI_NIFTI/rsfMRI_zip/1008067_20227_2_0.zip\n",
      "Extracted: /blue/ruogu.fang/ryoi360/projects/fmri_vlm/data/UKB/brain/20227_rsfMRI_NIFTI/1008067/fMRI/rfMRI.ica/filtered_func_data_clean.nii.gz\n",
      "Processing: 42 / 22281\n",
      "Processing: /orange/ruogu.fang/data/UKB/brain/20227_rsfMRI_NIFTI/rsfMRI_zip/1008184_20227_2_0.zip\n",
      "Extracted: /blue/ruogu.fang/ryoi360/projects/fmri_vlm/data/UKB/brain/20227_rsfMRI_NIFTI/1008184/fMRI/rfMRI.ica/filtered_func_data_clean.nii.gz\n",
      "Processing: 43 / 22281\n",
      "Processing: /orange/ruogu.fang/data/UKB/brain/20227_rsfMRI_NIFTI/rsfMRI_zip/1008299_20227_2_0.zip\n",
      "Extracted: /blue/ruogu.fang/ryoi360/projects/fmri_vlm/data/UKB/brain/20227_rsfMRI_NIFTI/1008299/fMRI/rfMRI.ica/filtered_func_data_clean.nii.gz\n",
      "Processing: 44 / 22281\n",
      "Processing: /orange/ruogu.fang/data/UKB/brain/20227_rsfMRI_NIFTI/rsfMRI_zip/1008339_20227_2_0.zip\n",
      "Extracted: /blue/ruogu.fang/ryoi360/projects/fmri_vlm/data/UKB/brain/20227_rsfMRI_NIFTI/1008339/fMRI/rfMRI.ica/filtered_func_data_clean.nii.gz\n",
      "Processing: 45 / 22281\n",
      "Processing: /orange/ruogu.fang/data/UKB/brain/20227_rsfMRI_NIFTI/rsfMRI_zip/1008431_20227_2_0.zip\n",
      "Extracted: /blue/ruogu.fang/ryoi360/projects/fmri_vlm/data/UKB/brain/20227_rsfMRI_NIFTI/1008431/fMRI/rfMRI.ica/filtered_func_data_clean.nii.gz\n",
      "Processing: 46 / 22281\n",
      "Processing: /orange/ruogu.fang/data/UKB/brain/20227_rsfMRI_NIFTI/rsfMRI_zip/1008508_20227_2_0.zip\n",
      "Target file not found in /orange/ruogu.fang/data/UKB/brain/20227_rsfMRI_NIFTI/rsfMRI_zip/1008508_20227_2_0.zip\n",
      "Processing: 47 / 22281\n",
      "Processing: /orange/ruogu.fang/data/UKB/brain/20227_rsfMRI_NIFTI/rsfMRI_zip/1008559_20227_2_0.zip\n",
      "Extracted: /blue/ruogu.fang/ryoi360/projects/fmri_vlm/data/UKB/brain/20227_rsfMRI_NIFTI/1008559/fMRI/rfMRI.ica/filtered_func_data_clean.nii.gz\n",
      "Processing: 48 / 22281\n",
      "Processing: /orange/ruogu.fang/data/UKB/brain/20227_rsfMRI_NIFTI/rsfMRI_zip/1009352_20227_2_0.zip\n",
      "Target file not found in /orange/ruogu.fang/data/UKB/brain/20227_rsfMRI_NIFTI/rsfMRI_zip/1009352_20227_2_0.zip\n",
      "Processing: 49 / 22281\n",
      "Processing: /orange/ruogu.fang/data/UKB/brain/20227_rsfMRI_NIFTI/rsfMRI_zip/1009381_20227_2_0.zip\n",
      "Extracted: /blue/ruogu.fang/ryoi360/projects/fmri_vlm/data/UKB/brain/20227_rsfMRI_NIFTI/1009381/fMRI/rfMRI.ica/filtered_func_data_clean.nii.gz\n",
      "Processing: 50 / 22281\n",
      "Processing: /orange/ruogu.fang/data/UKB/brain/20227_rsfMRI_NIFTI/rsfMRI_zip/1009605_20227_2_0.zip\n",
      "Extracted: /blue/ruogu.fang/ryoi360/projects/fmri_vlm/data/UKB/brain/20227_rsfMRI_NIFTI/1009605/fMRI/rfMRI.ica/filtered_func_data_clean.nii.gz\n",
      "Processing: 51 / 22281\n",
      "Processing: /orange/ruogu.fang/data/UKB/brain/20227_rsfMRI_NIFTI/rsfMRI_zip/1009657_20227_2_0.zip\n",
      "Extracted: /blue/ruogu.fang/ryoi360/projects/fmri_vlm/data/UKB/brain/20227_rsfMRI_NIFTI/1009657/fMRI/rfMRI.ica/filtered_func_data_clean.nii.gz\n",
      "Processing: 52 / 22281\n",
      "Processing: /orange/ruogu.fang/data/UKB/brain/20227_rsfMRI_NIFTI/rsfMRI_zip/1010128_20227_2_0.zip\n",
      "Extracted: /blue/ruogu.fang/ryoi360/projects/fmri_vlm/data/UKB/brain/20227_rsfMRI_NIFTI/1010128/fMRI/rfMRI.ica/filtered_func_data_clean.nii.gz\n",
      "Processing: 53 / 22281\n",
      "Processing: /orange/ruogu.fang/data/UKB/brain/20227_rsfMRI_NIFTI/rsfMRI_zip/1010167_20227_2_0.zip\n",
      "Extracted: /blue/ruogu.fang/ryoi360/projects/fmri_vlm/data/UKB/brain/20227_rsfMRI_NIFTI/1010167/fMRI/rfMRI.ica/filtered_func_data_clean.nii.gz\n",
      "Processing: 54 / 22281\n",
      "Processing: /orange/ruogu.fang/data/UKB/brain/20227_rsfMRI_NIFTI/rsfMRI_zip/1010271_20227_2_0.zip\n",
      "Target file not found in /orange/ruogu.fang/data/UKB/brain/20227_rsfMRI_NIFTI/rsfMRI_zip/1010271_20227_2_0.zip\n",
      "Processing: 55 / 22281\n",
      "Processing: /orange/ruogu.fang/data/UKB/brain/20227_rsfMRI_NIFTI/rsfMRI_zip/1010469_20227_2_0.zip\n",
      "Extracted: /blue/ruogu.fang/ryoi360/projects/fmri_vlm/data/UKB/brain/20227_rsfMRI_NIFTI/1010469/fMRI/rfMRI.ica/filtered_func_data_clean.nii.gz\n",
      "Processing: 56 / 22281\n",
      "Processing: /orange/ruogu.fang/data/UKB/brain/20227_rsfMRI_NIFTI/rsfMRI_zip/1010695_20227_2_0.zip\n",
      "Extracted: /blue/ruogu.fang/ryoi360/projects/fmri_vlm/data/UKB/brain/20227_rsfMRI_NIFTI/1010695/fMRI/rfMRI.ica/filtered_func_data_clean.nii.gz\n",
      "Processing: 57 / 22281\n",
      "Processing: /orange/ruogu.fang/data/UKB/brain/20227_rsfMRI_NIFTI/rsfMRI_zip/1010864_20227_2_0.zip\n",
      "Extracted: /blue/ruogu.fang/ryoi360/projects/fmri_vlm/data/UKB/brain/20227_rsfMRI_NIFTI/1010864/fMRI/rfMRI.ica/filtered_func_data_clean.nii.gz\n",
      "Processing: 58 / 22281\n",
      "Processing: /orange/ruogu.fang/data/UKB/brain/20227_rsfMRI_NIFTI/rsfMRI_zip/1010963_20227_2_0.zip\n",
      "Extracted: /blue/ruogu.fang/ryoi360/projects/fmri_vlm/data/UKB/brain/20227_rsfMRI_NIFTI/1010963/fMRI/rfMRI.ica/filtered_func_data_clean.nii.gz\n",
      "Processing: 59 / 22281\n",
      "Processing: /orange/ruogu.fang/data/UKB/brain/20227_rsfMRI_NIFTI/rsfMRI_zip/1011079_20227_2_0.zip\n",
      "Extracted: /blue/ruogu.fang/ryoi360/projects/fmri_vlm/data/UKB/brain/20227_rsfMRI_NIFTI/1011079/fMRI/rfMRI.ica/filtered_func_data_clean.nii.gz\n",
      "Processing: 60 / 22281\n",
      "Processing: /orange/ruogu.fang/data/UKB/brain/20227_rsfMRI_NIFTI/rsfMRI_zip/1011685_20227_2_0.zip\n",
      "Extracted: /blue/ruogu.fang/ryoi360/projects/fmri_vlm/data/UKB/brain/20227_rsfMRI_NIFTI/1011685/fMRI/rfMRI.ica/filtered_func_data_clean.nii.gz\n",
      "Processing: 61 / 22281\n",
      "Processing: /orange/ruogu.fang/data/UKB/brain/20227_rsfMRI_NIFTI/rsfMRI_zip/1011903_20227_2_0.zip\n",
      "Extracted: /blue/ruogu.fang/ryoi360/projects/fmri_vlm/data/UKB/brain/20227_rsfMRI_NIFTI/1011903/fMRI/rfMRI.ica/filtered_func_data_clean.nii.gz\n",
      "Processing: 62 / 22281\n",
      "Processing: /orange/ruogu.fang/data/UKB/brain/20227_rsfMRI_NIFTI/rsfMRI_zip/1011956_20227_2_0.zip\n",
      "Extracted: /blue/ruogu.fang/ryoi360/projects/fmri_vlm/data/UKB/brain/20227_rsfMRI_NIFTI/1011956/fMRI/rfMRI.ica/filtered_func_data_clean.nii.gz\n",
      "Processing: 63 / 22281\n",
      "Processing: /orange/ruogu.fang/data/UKB/brain/20227_rsfMRI_NIFTI/rsfMRI_zip/1012026_20227_2_0.zip\n",
      "Extracted: /blue/ruogu.fang/ryoi360/projects/fmri_vlm/data/UKB/brain/20227_rsfMRI_NIFTI/1012026/fMRI/rfMRI.ica/filtered_func_data_clean.nii.gz\n",
      "Processing: 64 / 22281\n",
      "Processing: /orange/ruogu.fang/data/UKB/brain/20227_rsfMRI_NIFTI/rsfMRI_zip/1012116_20227_2_0.zip\n",
      "Extracted: /blue/ruogu.fang/ryoi360/projects/fmri_vlm/data/UKB/brain/20227_rsfMRI_NIFTI/1012116/fMRI/rfMRI.ica/filtered_func_data_clean.nii.gz\n",
      "Processing: 65 / 22281\n",
      "Processing: /orange/ruogu.fang/data/UKB/brain/20227_rsfMRI_NIFTI/rsfMRI_zip/1013014_20227_2_0.zip\n",
      "Extracted: /blue/ruogu.fang/ryoi360/projects/fmri_vlm/data/UKB/brain/20227_rsfMRI_NIFTI/1013014/fMRI/rfMRI.ica/filtered_func_data_clean.nii.gz\n",
      "Processing: 66 / 22281\n",
      "Processing: /orange/ruogu.fang/data/UKB/brain/20227_rsfMRI_NIFTI/rsfMRI_zip/1013264_20227_2_0.zip\n",
      "Target file not found in /orange/ruogu.fang/data/UKB/brain/20227_rsfMRI_NIFTI/rsfMRI_zip/1013264_20227_2_0.zip\n",
      "Processing: 67 / 22281\n",
      "Processing: /orange/ruogu.fang/data/UKB/brain/20227_rsfMRI_NIFTI/rsfMRI_zip/1013273_20227_2_0.zip\n",
      "Extracted: /blue/ruogu.fang/ryoi360/projects/fmri_vlm/data/UKB/brain/20227_rsfMRI_NIFTI/1013273/fMRI/rfMRI.ica/filtered_func_data_clean.nii.gz\n",
      "Processing: 68 / 22281\n",
      "Processing: /orange/ruogu.fang/data/UKB/brain/20227_rsfMRI_NIFTI/rsfMRI_zip/1013317_20227_2_0.zip\n",
      "Extracted: /blue/ruogu.fang/ryoi360/projects/fmri_vlm/data/UKB/brain/20227_rsfMRI_NIFTI/1013317/fMRI/rfMRI.ica/filtered_func_data_clean.nii.gz\n",
      "Processing: 69 / 22281\n",
      "Processing: /orange/ruogu.fang/data/UKB/brain/20227_rsfMRI_NIFTI/rsfMRI_zip/1013407_20227_2_0.zip\n",
      "Extracted: /blue/ruogu.fang/ryoi360/projects/fmri_vlm/data/UKB/brain/20227_rsfMRI_NIFTI/1013407/fMRI/rfMRI.ica/filtered_func_data_clean.nii.gz\n",
      "Processing: 70 / 22281\n",
      "Processing: /orange/ruogu.fang/data/UKB/brain/20227_rsfMRI_NIFTI/rsfMRI_zip/1013637_20227_2_0.zip\n",
      "Extracted: /blue/ruogu.fang/ryoi360/projects/fmri_vlm/data/UKB/brain/20227_rsfMRI_NIFTI/1013637/fMRI/rfMRI.ica/filtered_func_data_clean.nii.gz\n",
      "Processing: 71 / 22281\n",
      "Processing: /orange/ruogu.fang/data/UKB/brain/20227_rsfMRI_NIFTI/rsfMRI_zip/1013665_20227_2_0.zip\n",
      "Extracted: /blue/ruogu.fang/ryoi360/projects/fmri_vlm/data/UKB/brain/20227_rsfMRI_NIFTI/1013665/fMRI/rfMRI.ica/filtered_func_data_clean.nii.gz\n",
      "Processing: 72 / 22281\n",
      "Processing: /orange/ruogu.fang/data/UKB/brain/20227_rsfMRI_NIFTI/rsfMRI_zip/1013805_20227_2_0.zip\n",
      "Extracted: /blue/ruogu.fang/ryoi360/projects/fmri_vlm/data/UKB/brain/20227_rsfMRI_NIFTI/1013805/fMRI/rfMRI.ica/filtered_func_data_clean.nii.gz\n",
      "Processing: 73 / 22281\n",
      "Processing: /orange/ruogu.fang/data/UKB/brain/20227_rsfMRI_NIFTI/rsfMRI_zip/1014011_20227_2_0.zip\n",
      "Extracted: /blue/ruogu.fang/ryoi360/projects/fmri_vlm/data/UKB/brain/20227_rsfMRI_NIFTI/1014011/fMRI/rfMRI.ica/filtered_func_data_clean.nii.gz\n",
      "Processing: 74 / 22281\n",
      "Processing: /orange/ruogu.fang/data/UKB/brain/20227_rsfMRI_NIFTI/rsfMRI_zip/1014278_20227_2_0.zip\n",
      "Extracted: /blue/ruogu.fang/ryoi360/projects/fmri_vlm/data/UKB/brain/20227_rsfMRI_NIFTI/1014278/fMRI/rfMRI.ica/filtered_func_data_clean.nii.gz\n",
      "Processing: 75 / 22281\n",
      "Processing: /orange/ruogu.fang/data/UKB/brain/20227_rsfMRI_NIFTI/rsfMRI_zip/1014415_20227_2_0.zip\n",
      "Extracted: /blue/ruogu.fang/ryoi360/projects/fmri_vlm/data/UKB/brain/20227_rsfMRI_NIFTI/1014415/fMRI/rfMRI.ica/filtered_func_data_clean.nii.gz\n",
      "Processing: 76 / 22281\n",
      "Processing: /orange/ruogu.fang/data/UKB/brain/20227_rsfMRI_NIFTI/rsfMRI_zip/1014648_20227_2_0.zip\n",
      "Extracted: /blue/ruogu.fang/ryoi360/projects/fmri_vlm/data/UKB/brain/20227_rsfMRI_NIFTI/1014648/fMRI/rfMRI.ica/filtered_func_data_clean.nii.gz\n",
      "Processing: 77 / 22281\n",
      "Processing: /orange/ruogu.fang/data/UKB/brain/20227_rsfMRI_NIFTI/rsfMRI_zip/1014654_20227_2_0.zip\n",
      "Extracted: /blue/ruogu.fang/ryoi360/projects/fmri_vlm/data/UKB/brain/20227_rsfMRI_NIFTI/1014654/fMRI/rfMRI.ica/filtered_func_data_clean.nii.gz\n",
      "Processing: 78 / 22281\n",
      "Processing: /orange/ruogu.fang/data/UKB/brain/20227_rsfMRI_NIFTI/rsfMRI_zip/1015022_20227_2_0.zip\n",
      "Extracted: /blue/ruogu.fang/ryoi360/projects/fmri_vlm/data/UKB/brain/20227_rsfMRI_NIFTI/1015022/fMRI/rfMRI.ica/filtered_func_data_clean.nii.gz\n",
      "Processing: 79 / 22281\n",
      "Processing: /orange/ruogu.fang/data/UKB/brain/20227_rsfMRI_NIFTI/rsfMRI_zip/1015290_20227_2_0.zip\n",
      "Extracted: /blue/ruogu.fang/ryoi360/projects/fmri_vlm/data/UKB/brain/20227_rsfMRI_NIFTI/1015290/fMRI/rfMRI.ica/filtered_func_data_clean.nii.gz\n",
      "Processing: 80 / 22281\n",
      "Processing: /orange/ruogu.fang/data/UKB/brain/20227_rsfMRI_NIFTI/rsfMRI_zip/1015323_20227_2_0.zip\n",
      "Extracted: /blue/ruogu.fang/ryoi360/projects/fmri_vlm/data/UKB/brain/20227_rsfMRI_NIFTI/1015323/fMRI/rfMRI.ica/filtered_func_data_clean.nii.gz\n",
      "Processing: 81 / 22281\n",
      "Processing: /orange/ruogu.fang/data/UKB/brain/20227_rsfMRI_NIFTI/rsfMRI_zip/1015588_20227_2_0.zip\n",
      "Extracted: /blue/ruogu.fang/ryoi360/projects/fmri_vlm/data/UKB/brain/20227_rsfMRI_NIFTI/1015588/fMRI/rfMRI.ica/filtered_func_data_clean.nii.gz\n",
      "Processing: 82 / 22281\n",
      "Processing: /orange/ruogu.fang/data/UKB/brain/20227_rsfMRI_NIFTI/rsfMRI_zip/1015683_20227_2_0.zip\n",
      "Extracted: /blue/ruogu.fang/ryoi360/projects/fmri_vlm/data/UKB/brain/20227_rsfMRI_NIFTI/1015683/fMRI/rfMRI.ica/filtered_func_data_clean.nii.gz\n",
      "Processing: 83 / 22281\n",
      "Processing: /orange/ruogu.fang/data/UKB/brain/20227_rsfMRI_NIFTI/rsfMRI_zip/1015970_20227_2_0.zip\n",
      "Extracted: /blue/ruogu.fang/ryoi360/projects/fmri_vlm/data/UKB/brain/20227_rsfMRI_NIFTI/1015970/fMRI/rfMRI.ica/filtered_func_data_clean.nii.gz\n",
      "Processing: 84 / 22281\n",
      "Processing: /orange/ruogu.fang/data/UKB/brain/20227_rsfMRI_NIFTI/rsfMRI_zip/1016364_20227_2_0.zip\n",
      "Extracted: /blue/ruogu.fang/ryoi360/projects/fmri_vlm/data/UKB/brain/20227_rsfMRI_NIFTI/1016364/fMRI/rfMRI.ica/filtered_func_data_clean.nii.gz\n",
      "Processing: 85 / 22281\n",
      "Processing: /orange/ruogu.fang/data/UKB/brain/20227_rsfMRI_NIFTI/rsfMRI_zip/1017193_20227_2_0.zip\n",
      "Extracted: /blue/ruogu.fang/ryoi360/projects/fmri_vlm/data/UKB/brain/20227_rsfMRI_NIFTI/1017193/fMRI/rfMRI.ica/filtered_func_data_clean.nii.gz\n",
      "Processing: 86 / 22281\n",
      "Processing: /orange/ruogu.fang/data/UKB/brain/20227_rsfMRI_NIFTI/rsfMRI_zip/1017216_20227_2_0.zip\n",
      "Extracted: /blue/ruogu.fang/ryoi360/projects/fmri_vlm/data/UKB/brain/20227_rsfMRI_NIFTI/1017216/fMRI/rfMRI.ica/filtered_func_data_clean.nii.gz\n",
      "Processing: 87 / 22281\n",
      "Processing: /orange/ruogu.fang/data/UKB/brain/20227_rsfMRI_NIFTI/rsfMRI_zip/1018093_20227_2_0.zip\n",
      "Extracted: /blue/ruogu.fang/ryoi360/projects/fmri_vlm/data/UKB/brain/20227_rsfMRI_NIFTI/1018093/fMRI/rfMRI.ica/filtered_func_data_clean.nii.gz\n",
      "Processing: 88 / 22281\n",
      "Processing: /orange/ruogu.fang/data/UKB/brain/20227_rsfMRI_NIFTI/rsfMRI_zip/1018131_20227_2_0.zip\n",
      "Extracted: /blue/ruogu.fang/ryoi360/projects/fmri_vlm/data/UKB/brain/20227_rsfMRI_NIFTI/1018131/fMRI/rfMRI.ica/filtered_func_data_clean.nii.gz\n",
      "Processing: 89 / 22281\n",
      "Processing: /orange/ruogu.fang/data/UKB/brain/20227_rsfMRI_NIFTI/rsfMRI_zip/1018297_20227_2_0.zip\n",
      "Extracted: /blue/ruogu.fang/ryoi360/projects/fmri_vlm/data/UKB/brain/20227_rsfMRI_NIFTI/1018297/fMRI/rfMRI.ica/filtered_func_data_clean.nii.gz\n",
      "Processing: 90 / 22281\n",
      "Processing: /orange/ruogu.fang/data/UKB/brain/20227_rsfMRI_NIFTI/rsfMRI_zip/1018337_20227_2_0.zip\n",
      "Target file not found in /orange/ruogu.fang/data/UKB/brain/20227_rsfMRI_NIFTI/rsfMRI_zip/1018337_20227_2_0.zip\n",
      "Processing: 91 / 22281\n",
      "Processing: /orange/ruogu.fang/data/UKB/brain/20227_rsfMRI_NIFTI/rsfMRI_zip/1018663_20227_2_0.zip\n",
      "Extracted: /blue/ruogu.fang/ryoi360/projects/fmri_vlm/data/UKB/brain/20227_rsfMRI_NIFTI/1018663/fMRI/rfMRI.ica/filtered_func_data_clean.nii.gz\n",
      "Processing: 92 / 22281\n",
      "Processing: /orange/ruogu.fang/data/UKB/brain/20227_rsfMRI_NIFTI/rsfMRI_zip/1019311_20227_2_0.zip\n",
      "Target file not found in /orange/ruogu.fang/data/UKB/brain/20227_rsfMRI_NIFTI/rsfMRI_zip/1019311_20227_2_0.zip\n",
      "Processing: 93 / 22281\n",
      "Processing: /orange/ruogu.fang/data/UKB/brain/20227_rsfMRI_NIFTI/rsfMRI_zip/1019367_20227_2_0.zip\n",
      "Extracted: /blue/ruogu.fang/ryoi360/projects/fmri_vlm/data/UKB/brain/20227_rsfMRI_NIFTI/1019367/fMRI/rfMRI.ica/filtered_func_data_clean.nii.gz\n",
      "Processing: 94 / 22281\n",
      "Processing: /orange/ruogu.fang/data/UKB/brain/20227_rsfMRI_NIFTI/rsfMRI_zip/1019561_20227_2_0.zip\n",
      "Target file not found in /orange/ruogu.fang/data/UKB/brain/20227_rsfMRI_NIFTI/rsfMRI_zip/1019561_20227_2_0.zip\n",
      "Processing: 95 / 22281\n",
      "Processing: /orange/ruogu.fang/data/UKB/brain/20227_rsfMRI_NIFTI/rsfMRI_zip/1019721_20227_2_0.zip\n",
      "Extracted: /blue/ruogu.fang/ryoi360/projects/fmri_vlm/data/UKB/brain/20227_rsfMRI_NIFTI/1019721/fMRI/rfMRI.ica/filtered_func_data_clean.nii.gz\n",
      "Processing: 96 / 22281\n",
      "Processing: /orange/ruogu.fang/data/UKB/brain/20227_rsfMRI_NIFTI/rsfMRI_zip/1019837_20227_2_0.zip\n",
      "Extracted: /blue/ruogu.fang/ryoi360/projects/fmri_vlm/data/UKB/brain/20227_rsfMRI_NIFTI/1019837/fMRI/rfMRI.ica/filtered_func_data_clean.nii.gz\n",
      "Processing: 97 / 22281\n",
      "Processing: /orange/ruogu.fang/data/UKB/brain/20227_rsfMRI_NIFTI/rsfMRI_zip/1019882_20227_2_0.zip\n",
      "Extracted: /blue/ruogu.fang/ryoi360/projects/fmri_vlm/data/UKB/brain/20227_rsfMRI_NIFTI/1019882/fMRI/rfMRI.ica/filtered_func_data_clean.nii.gz\n",
      "Processing: 98 / 22281\n",
      "Processing: /orange/ruogu.fang/data/UKB/brain/20227_rsfMRI_NIFTI/rsfMRI_zip/1020838_20227_2_0.zip\n",
      "Extracted: /blue/ruogu.fang/ryoi360/projects/fmri_vlm/data/UKB/brain/20227_rsfMRI_NIFTI/1020838/fMRI/rfMRI.ica/filtered_func_data_clean.nii.gz\n",
      "Processing: 99 / 22281\n",
      "Processing: /orange/ruogu.fang/data/UKB/brain/20227_rsfMRI_NIFTI/rsfMRI_zip/1021168_20227_2_0.zip\n",
      "Extracted: /blue/ruogu.fang/ryoi360/projects/fmri_vlm/data/UKB/brain/20227_rsfMRI_NIFTI/1021168/fMRI/rfMRI.ica/filtered_func_data_clean.nii.gz\n",
      "Processing: 100 / 22281\n",
      "Processing: /orange/ruogu.fang/data/UKB/brain/20227_rsfMRI_NIFTI/rsfMRI_zip/1021171_20227_2_0.zip\n",
      "Extracted: /blue/ruogu.fang/ryoi360/projects/fmri_vlm/data/UKB/brain/20227_rsfMRI_NIFTI/1021171/fMRI/rfMRI.ica/filtered_func_data_clean.nii.gz\n",
      "Processing: 101 / 22281\n",
      "Processing: /orange/ruogu.fang/data/UKB/brain/20227_rsfMRI_NIFTI/rsfMRI_zip/1021256_20227_2_0.zip\n",
      "Extracted: /blue/ruogu.fang/ryoi360/projects/fmri_vlm/data/UKB/brain/20227_rsfMRI_NIFTI/1021256/fMRI/rfMRI.ica/filtered_func_data_clean.nii.gz\n",
      "Processing: 102 / 22281\n",
      "Processing: /orange/ruogu.fang/data/UKB/brain/20227_rsfMRI_NIFTI/rsfMRI_zip/1021678_20227_2_0.zip\n",
      "Extracted: /blue/ruogu.fang/ryoi360/projects/fmri_vlm/data/UKB/brain/20227_rsfMRI_NIFTI/1021678/fMRI/rfMRI.ica/filtered_func_data_clean.nii.gz\n",
      "Processing: 103 / 22281\n",
      "Processing: /orange/ruogu.fang/data/UKB/brain/20227_rsfMRI_NIFTI/rsfMRI_zip/1022071_20227_2_0.zip\n",
      "Extracted: /blue/ruogu.fang/ryoi360/projects/fmri_vlm/data/UKB/brain/20227_rsfMRI_NIFTI/1022071/fMRI/rfMRI.ica/filtered_func_data_clean.nii.gz\n",
      "Processing: 104 / 22281\n",
      "Processing: /orange/ruogu.fang/data/UKB/brain/20227_rsfMRI_NIFTI/rsfMRI_zip/1022191_20227_2_0.zip\n",
      "Extracted: /blue/ruogu.fang/ryoi360/projects/fmri_vlm/data/UKB/brain/20227_rsfMRI_NIFTI/1022191/fMRI/rfMRI.ica/filtered_func_data_clean.nii.gz\n",
      "Processing: 105 / 22281\n",
      "Processing: /orange/ruogu.fang/data/UKB/brain/20227_rsfMRI_NIFTI/rsfMRI_zip/1022448_20227_2_0.zip\n",
      "Extracted: /blue/ruogu.fang/ryoi360/projects/fmri_vlm/data/UKB/brain/20227_rsfMRI_NIFTI/1022448/fMRI/rfMRI.ica/filtered_func_data_clean.nii.gz\n",
      "Processing: 106 / 22281\n",
      "Processing: /orange/ruogu.fang/data/UKB/brain/20227_rsfMRI_NIFTI/rsfMRI_zip/1022816_20227_2_0.zip\n",
      "Extracted: /blue/ruogu.fang/ryoi360/projects/fmri_vlm/data/UKB/brain/20227_rsfMRI_NIFTI/1022816/fMRI/rfMRI.ica/filtered_func_data_clean.nii.gz\n",
      "Processing: 107 / 22281\n",
      "Processing: /orange/ruogu.fang/data/UKB/brain/20227_rsfMRI_NIFTI/rsfMRI_zip/1023054_20227_2_0.zip\n",
      "Extracted: /blue/ruogu.fang/ryoi360/projects/fmri_vlm/data/UKB/brain/20227_rsfMRI_NIFTI/1023054/fMRI/rfMRI.ica/filtered_func_data_clean.nii.gz\n",
      "Processing: 108 / 22281\n",
      "Processing: /orange/ruogu.fang/data/UKB/brain/20227_rsfMRI_NIFTI/rsfMRI_zip/1023060_20227_2_0.zip\n",
      "Extracted: /blue/ruogu.fang/ryoi360/projects/fmri_vlm/data/UKB/brain/20227_rsfMRI_NIFTI/1023060/fMRI/rfMRI.ica/filtered_func_data_clean.nii.gz\n",
      "Processing: 109 / 22281\n",
      "Processing: /orange/ruogu.fang/data/UKB/brain/20227_rsfMRI_NIFTI/rsfMRI_zip/1023494_20227_2_0.zip\n",
      "Extracted: /blue/ruogu.fang/ryoi360/projects/fmri_vlm/data/UKB/brain/20227_rsfMRI_NIFTI/1023494/fMRI/rfMRI.ica/filtered_func_data_clean.nii.gz\n",
      "Processing: 110 / 22281\n",
      "Processing: /orange/ruogu.fang/data/UKB/brain/20227_rsfMRI_NIFTI/rsfMRI_zip/1023636_20227_2_0.zip\n",
      "Extracted: /blue/ruogu.fang/ryoi360/projects/fmri_vlm/data/UKB/brain/20227_rsfMRI_NIFTI/1023636/fMRI/rfMRI.ica/filtered_func_data_clean.nii.gz\n",
      "Processing: 111 / 22281\n",
      "Processing: /orange/ruogu.fang/data/UKB/brain/20227_rsfMRI_NIFTI/rsfMRI_zip/1023778_20227_2_0.zip\n",
      "Extracted: /blue/ruogu.fang/ryoi360/projects/fmri_vlm/data/UKB/brain/20227_rsfMRI_NIFTI/1023778/fMRI/rfMRI.ica/filtered_func_data_clean.nii.gz\n",
      "Processing: 112 / 22281\n",
      "Processing: /orange/ruogu.fang/data/UKB/brain/20227_rsfMRI_NIFTI/rsfMRI_zip/1023986_20227_2_0.zip\n",
      "Extracted: /blue/ruogu.fang/ryoi360/projects/fmri_vlm/data/UKB/brain/20227_rsfMRI_NIFTI/1023986/fMRI/rfMRI.ica/filtered_func_data_clean.nii.gz\n",
      "Processing: 113 / 22281\n",
      "Processing: /orange/ruogu.fang/data/UKB/brain/20227_rsfMRI_NIFTI/rsfMRI_zip/1024400_20227_2_0.zip\n",
      "Extracted: /blue/ruogu.fang/ryoi360/projects/fmri_vlm/data/UKB/brain/20227_rsfMRI_NIFTI/1024400/fMRI/rfMRI.ica/filtered_func_data_clean.nii.gz\n",
      "Processing: 114 / 22281\n",
      "Processing: /orange/ruogu.fang/data/UKB/brain/20227_rsfMRI_NIFTI/rsfMRI_zip/1024608_20227_2_0.zip\n",
      "Extracted: /blue/ruogu.fang/ryoi360/projects/fmri_vlm/data/UKB/brain/20227_rsfMRI_NIFTI/1024608/fMRI/rfMRI.ica/filtered_func_data_clean.nii.gz\n",
      "Processing: 115 / 22281\n",
      "Processing: /orange/ruogu.fang/data/UKB/brain/20227_rsfMRI_NIFTI/rsfMRI_zip/1024909_20227_2_0.zip\n",
      "Target file not found in /orange/ruogu.fang/data/UKB/brain/20227_rsfMRI_NIFTI/rsfMRI_zip/1024909_20227_2_0.zip\n",
      "Processing: 116 / 22281\n",
      "Processing: /orange/ruogu.fang/data/UKB/brain/20227_rsfMRI_NIFTI/rsfMRI_zip/1024945_20227_2_0.zip\n",
      "Extracted: /blue/ruogu.fang/ryoi360/projects/fmri_vlm/data/UKB/brain/20227_rsfMRI_NIFTI/1024945/fMRI/rfMRI.ica/filtered_func_data_clean.nii.gz\n",
      "Processing: 117 / 22281\n",
      "Processing: /orange/ruogu.fang/data/UKB/brain/20227_rsfMRI_NIFTI/rsfMRI_zip/1025199_20227_2_0.zip\n",
      "Extracted: /blue/ruogu.fang/ryoi360/projects/fmri_vlm/data/UKB/brain/20227_rsfMRI_NIFTI/1025199/fMRI/rfMRI.ica/filtered_func_data_clean.nii.gz\n",
      "Processing: 118 / 22281\n",
      "Processing: /orange/ruogu.fang/data/UKB/brain/20227_rsfMRI_NIFTI/rsfMRI_zip/1025319_20227_2_0.zip\n",
      "Extracted: /blue/ruogu.fang/ryoi360/projects/fmri_vlm/data/UKB/brain/20227_rsfMRI_NIFTI/1025319/fMRI/rfMRI.ica/filtered_func_data_clean.nii.gz\n",
      "Processing: 119 / 22281\n",
      "Processing: /orange/ruogu.fang/data/UKB/brain/20227_rsfMRI_NIFTI/rsfMRI_zip/1026237_20227_2_0.zip\n",
      "Target file not found in /orange/ruogu.fang/data/UKB/brain/20227_rsfMRI_NIFTI/rsfMRI_zip/1026237_20227_2_0.zip\n",
      "Processing: 120 / 22281\n",
      "Processing: /orange/ruogu.fang/data/UKB/brain/20227_rsfMRI_NIFTI/rsfMRI_zip/1026563_20227_2_0.zip\n",
      "Target file not found in /orange/ruogu.fang/data/UKB/brain/20227_rsfMRI_NIFTI/rsfMRI_zip/1026563_20227_2_0.zip\n",
      "Processing: 121 / 22281\n",
      "Processing: /orange/ruogu.fang/data/UKB/brain/20227_rsfMRI_NIFTI/rsfMRI_zip/1027396_20227_2_0.zip\n",
      "Extracted: /blue/ruogu.fang/ryoi360/projects/fmri_vlm/data/UKB/brain/20227_rsfMRI_NIFTI/1027396/fMRI/rfMRI.ica/filtered_func_data_clean.nii.gz\n",
      "Processing: 122 / 22281\n",
      "Processing: /orange/ruogu.fang/data/UKB/brain/20227_rsfMRI_NIFTI/rsfMRI_zip/1027834_20227_2_0.zip\n",
      "Extracted: /blue/ruogu.fang/ryoi360/projects/fmri_vlm/data/UKB/brain/20227_rsfMRI_NIFTI/1027834/fMRI/rfMRI.ica/filtered_func_data_clean.nii.gz\n",
      "Processing: 123 / 22281\n",
      "Processing: /orange/ruogu.fang/data/UKB/brain/20227_rsfMRI_NIFTI/rsfMRI_zip/1027861_20227_2_0.zip\n",
      "Extracted: /blue/ruogu.fang/ryoi360/projects/fmri_vlm/data/UKB/brain/20227_rsfMRI_NIFTI/1027861/fMRI/rfMRI.ica/filtered_func_data_clean.nii.gz\n",
      "Processing: 124 / 22281\n",
      "Processing: /orange/ruogu.fang/data/UKB/brain/20227_rsfMRI_NIFTI/rsfMRI_zip/1028288_20227_2_0.zip\n",
      "Extracted: /blue/ruogu.fang/ryoi360/projects/fmri_vlm/data/UKB/brain/20227_rsfMRI_NIFTI/1028288/fMRI/rfMRI.ica/filtered_func_data_clean.nii.gz\n",
      "Processing: 125 / 22281\n",
      "Processing: /orange/ruogu.fang/data/UKB/brain/20227_rsfMRI_NIFTI/rsfMRI_zip/1028925_20227_2_0.zip\n",
      "Extracted: /blue/ruogu.fang/ryoi360/projects/fmri_vlm/data/UKB/brain/20227_rsfMRI_NIFTI/1028925/fMRI/rfMRI.ica/filtered_func_data_clean.nii.gz\n",
      "Processing: 126 / 22281\n",
      "Processing: /orange/ruogu.fang/data/UKB/brain/20227_rsfMRI_NIFTI/rsfMRI_zip/1029042_20227_2_0.zip\n",
      "Extracted: /blue/ruogu.fang/ryoi360/projects/fmri_vlm/data/UKB/brain/20227_rsfMRI_NIFTI/1029042/fMRI/rfMRI.ica/filtered_func_data_clean.nii.gz\n",
      "Processing: 127 / 22281\n",
      "Processing: /orange/ruogu.fang/data/UKB/brain/20227_rsfMRI_NIFTI/rsfMRI_zip/1029287_20227_2_0.zip\n",
      "Target file not found in /orange/ruogu.fang/data/UKB/brain/20227_rsfMRI_NIFTI/rsfMRI_zip/1029287_20227_2_0.zip\n",
      "Processing: 128 / 22281\n",
      "Processing: /orange/ruogu.fang/data/UKB/brain/20227_rsfMRI_NIFTI/rsfMRI_zip/1029392_20227_2_0.zip\n",
      "Extracted: /blue/ruogu.fang/ryoi360/projects/fmri_vlm/data/UKB/brain/20227_rsfMRI_NIFTI/1029392/fMRI/rfMRI.ica/filtered_func_data_clean.nii.gz\n",
      "Processing: 129 / 22281\n",
      "Processing: /orange/ruogu.fang/data/UKB/brain/20227_rsfMRI_NIFTI/rsfMRI_zip/1029459_20227_2_0.zip\n",
      "Target file not found in /orange/ruogu.fang/data/UKB/brain/20227_rsfMRI_NIFTI/rsfMRI_zip/1029459_20227_2_0.zip\n",
      "Processing: 130 / 22281\n",
      "Processing: /orange/ruogu.fang/data/UKB/brain/20227_rsfMRI_NIFTI/rsfMRI_zip/1029744_20227_2_0.zip\n",
      "Extracted: /blue/ruogu.fang/ryoi360/projects/fmri_vlm/data/UKB/brain/20227_rsfMRI_NIFTI/1029744/fMRI/rfMRI.ica/filtered_func_data_clean.nii.gz\n",
      "Processing: 131 / 22281\n",
      "Processing: /orange/ruogu.fang/data/UKB/brain/20227_rsfMRI_NIFTI/rsfMRI_zip/1029874_20227_2_0.zip\n",
      "Extracted: /blue/ruogu.fang/ryoi360/projects/fmri_vlm/data/UKB/brain/20227_rsfMRI_NIFTI/1029874/fMRI/rfMRI.ica/filtered_func_data_clean.nii.gz\n",
      "Processing: 132 / 22281\n",
      "Processing: /orange/ruogu.fang/data/UKB/brain/20227_rsfMRI_NIFTI/rsfMRI_zip/1030115_20227_2_0.zip\n",
      "Extracted: /blue/ruogu.fang/ryoi360/projects/fmri_vlm/data/UKB/brain/20227_rsfMRI_NIFTI/1030115/fMRI/rfMRI.ica/filtered_func_data_clean.nii.gz\n",
      "Processing: 133 / 22281\n",
      "Processing: /orange/ruogu.fang/data/UKB/brain/20227_rsfMRI_NIFTI/rsfMRI_zip/1030549_20227_2_0.zip\n",
      "Extracted: /blue/ruogu.fang/ryoi360/projects/fmri_vlm/data/UKB/brain/20227_rsfMRI_NIFTI/1030549/fMRI/rfMRI.ica/filtered_func_data_clean.nii.gz\n",
      "Processing: 134 / 22281\n",
      "Processing: /orange/ruogu.fang/data/UKB/brain/20227_rsfMRI_NIFTI/rsfMRI_zip/1030707_20227_2_0.zip\n",
      "Extracted: /blue/ruogu.fang/ryoi360/projects/fmri_vlm/data/UKB/brain/20227_rsfMRI_NIFTI/1030707/fMRI/rfMRI.ica/filtered_func_data_clean.nii.gz\n",
      "Processing: 135 / 22281\n",
      "Processing: /orange/ruogu.fang/data/UKB/brain/20227_rsfMRI_NIFTI/rsfMRI_zip/1030844_20227_2_0.zip\n",
      "Extracted: /blue/ruogu.fang/ryoi360/projects/fmri_vlm/data/UKB/brain/20227_rsfMRI_NIFTI/1030844/fMRI/rfMRI.ica/filtered_func_data_clean.nii.gz\n",
      "Processing: 136 / 22281\n",
      "Processing: /orange/ruogu.fang/data/UKB/brain/20227_rsfMRI_NIFTI/rsfMRI_zip/1030941_20227_2_0.zip\n",
      "Extracted: /blue/ruogu.fang/ryoi360/projects/fmri_vlm/data/UKB/brain/20227_rsfMRI_NIFTI/1030941/fMRI/rfMRI.ica/filtered_func_data_clean.nii.gz\n",
      "Processing: 137 / 22281\n",
      "Processing: /orange/ruogu.fang/data/UKB/brain/20227_rsfMRI_NIFTI/rsfMRI_zip/1031495_20227_2_0.zip\n",
      "Target file not found in /orange/ruogu.fang/data/UKB/brain/20227_rsfMRI_NIFTI/rsfMRI_zip/1031495_20227_2_0.zip\n",
      "Processing: 138 / 22281\n",
      "Processing: /orange/ruogu.fang/data/UKB/brain/20227_rsfMRI_NIFTI/rsfMRI_zip/1031553_20227_2_0.zip\n",
      "Target file not found in /orange/ruogu.fang/data/UKB/brain/20227_rsfMRI_NIFTI/rsfMRI_zip/1031553_20227_2_0.zip\n",
      "Processing: 139 / 22281\n",
      "Processing: /orange/ruogu.fang/data/UKB/brain/20227_rsfMRI_NIFTI/rsfMRI_zip/1031675_20227_2_0.zip\n",
      "Extracted: /blue/ruogu.fang/ryoi360/projects/fmri_vlm/data/UKB/brain/20227_rsfMRI_NIFTI/1031675/fMRI/rfMRI.ica/filtered_func_data_clean.nii.gz\n",
      "Processing: 140 / 22281\n",
      "Processing: /orange/ruogu.fang/data/UKB/brain/20227_rsfMRI_NIFTI/rsfMRI_zip/1031809_20227_2_0.zip\n",
      "Extracted: /blue/ruogu.fang/ryoi360/projects/fmri_vlm/data/UKB/brain/20227_rsfMRI_NIFTI/1031809/fMRI/rfMRI.ica/filtered_func_data_clean.nii.gz\n",
      "Processing: 141 / 22281\n",
      "Processing: /orange/ruogu.fang/data/UKB/brain/20227_rsfMRI_NIFTI/rsfMRI_zip/1031874_20227_2_0.zip\n",
      "Extracted: /blue/ruogu.fang/ryoi360/projects/fmri_vlm/data/UKB/brain/20227_rsfMRI_NIFTI/1031874/fMRI/rfMRI.ica/filtered_func_data_clean.nii.gz\n",
      "Processing: 142 / 22281\n",
      "Processing: /orange/ruogu.fang/data/UKB/brain/20227_rsfMRI_NIFTI/rsfMRI_zip/1032301_20227_2_0.zip\n",
      "Extracted: /blue/ruogu.fang/ryoi360/projects/fmri_vlm/data/UKB/brain/20227_rsfMRI_NIFTI/1032301/fMRI/rfMRI.ica/filtered_func_data_clean.nii.gz\n",
      "Processing: 143 / 22281\n",
      "Processing: /orange/ruogu.fang/data/UKB/brain/20227_rsfMRI_NIFTI/rsfMRI_zip/1032513_20227_2_0.zip\n",
      "Extracted: /blue/ruogu.fang/ryoi360/projects/fmri_vlm/data/UKB/brain/20227_rsfMRI_NIFTI/1032513/fMRI/rfMRI.ica/filtered_func_data_clean.nii.gz\n",
      "Processing: 144 / 22281\n",
      "Processing: /orange/ruogu.fang/data/UKB/brain/20227_rsfMRI_NIFTI/rsfMRI_zip/1032653_20227_2_0.zip\n",
      "Extracted: /blue/ruogu.fang/ryoi360/projects/fmri_vlm/data/UKB/brain/20227_rsfMRI_NIFTI/1032653/fMRI/rfMRI.ica/filtered_func_data_clean.nii.gz\n",
      "Processing: 145 / 22281\n",
      "Processing: /orange/ruogu.fang/data/UKB/brain/20227_rsfMRI_NIFTI/rsfMRI_zip/1032729_20227_2_0.zip\n",
      "Extracted: /blue/ruogu.fang/ryoi360/projects/fmri_vlm/data/UKB/brain/20227_rsfMRI_NIFTI/1032729/fMRI/rfMRI.ica/filtered_func_data_clean.nii.gz\n",
      "Processing: 146 / 22281\n",
      "Processing: /orange/ruogu.fang/data/UKB/brain/20227_rsfMRI_NIFTI/rsfMRI_zip/1032903_20227_2_0.zip\n",
      "Extracted: /blue/ruogu.fang/ryoi360/projects/fmri_vlm/data/UKB/brain/20227_rsfMRI_NIFTI/1032903/fMRI/rfMRI.ica/filtered_func_data_clean.nii.gz\n",
      "Processing: 147 / 22281\n",
      "Processing: /orange/ruogu.fang/data/UKB/brain/20227_rsfMRI_NIFTI/rsfMRI_zip/1033058_20227_2_0.zip\n",
      "Extracted: /blue/ruogu.fang/ryoi360/projects/fmri_vlm/data/UKB/brain/20227_rsfMRI_NIFTI/1033058/fMRI/rfMRI.ica/filtered_func_data_clean.nii.gz\n",
      "Processing: 148 / 22281\n",
      "Processing: /orange/ruogu.fang/data/UKB/brain/20227_rsfMRI_NIFTI/rsfMRI_zip/1033194_20227_2_0.zip\n",
      "Extracted: /blue/ruogu.fang/ryoi360/projects/fmri_vlm/data/UKB/brain/20227_rsfMRI_NIFTI/1033194/fMRI/rfMRI.ica/filtered_func_data_clean.nii.gz\n",
      "Processing: 149 / 22281\n",
      "Processing: /orange/ruogu.fang/data/UKB/brain/20227_rsfMRI_NIFTI/rsfMRI_zip/1034031_20227_2_0.zip\n",
      "Extracted: /blue/ruogu.fang/ryoi360/projects/fmri_vlm/data/UKB/brain/20227_rsfMRI_NIFTI/1034031/fMRI/rfMRI.ica/filtered_func_data_clean.nii.gz\n",
      "Processing: 150 / 22281\n",
      "Processing: /orange/ruogu.fang/data/UKB/brain/20227_rsfMRI_NIFTI/rsfMRI_zip/1034369_20227_2_0.zip\n",
      "Extracted: /blue/ruogu.fang/ryoi360/projects/fmri_vlm/data/UKB/brain/20227_rsfMRI_NIFTI/1034369/fMRI/rfMRI.ica/filtered_func_data_clean.nii.gz\n",
      "Processing: 151 / 22281\n",
      "Processing: /orange/ruogu.fang/data/UKB/brain/20227_rsfMRI_NIFTI/rsfMRI_zip/1034684_20227_2_0.zip\n",
      "Extracted: /blue/ruogu.fang/ryoi360/projects/fmri_vlm/data/UKB/brain/20227_rsfMRI_NIFTI/1034684/fMRI/rfMRI.ica/filtered_func_data_clean.nii.gz\n",
      "Processing: 152 / 22281\n",
      "Processing: /orange/ruogu.fang/data/UKB/brain/20227_rsfMRI_NIFTI/rsfMRI_zip/1034942_20227_2_0.zip\n",
      "Extracted: /blue/ruogu.fang/ryoi360/projects/fmri_vlm/data/UKB/brain/20227_rsfMRI_NIFTI/1034942/fMRI/rfMRI.ica/filtered_func_data_clean.nii.gz\n",
      "Processing: 153 / 22281\n",
      "Processing: /orange/ruogu.fang/data/UKB/brain/20227_rsfMRI_NIFTI/rsfMRI_zip/1035041_20227_2_0.zip\n",
      "Extracted: /blue/ruogu.fang/ryoi360/projects/fmri_vlm/data/UKB/brain/20227_rsfMRI_NIFTI/1035041/fMRI/rfMRI.ica/filtered_func_data_clean.nii.gz\n",
      "Processing: 154 / 22281\n",
      "Processing: /orange/ruogu.fang/data/UKB/brain/20227_rsfMRI_NIFTI/rsfMRI_zip/1035095_20227_2_0.zip\n",
      "Extracted: /blue/ruogu.fang/ryoi360/projects/fmri_vlm/data/UKB/brain/20227_rsfMRI_NIFTI/1035095/fMRI/rfMRI.ica/filtered_func_data_clean.nii.gz\n",
      "Processing: 155 / 22281\n",
      "Processing: /orange/ruogu.fang/data/UKB/brain/20227_rsfMRI_NIFTI/rsfMRI_zip/1035175_20227_2_0.zip\n",
      "Extracted: /blue/ruogu.fang/ryoi360/projects/fmri_vlm/data/UKB/brain/20227_rsfMRI_NIFTI/1035175/fMRI/rfMRI.ica/filtered_func_data_clean.nii.gz\n",
      "Processing: 156 / 22281\n",
      "Processing: /orange/ruogu.fang/data/UKB/brain/20227_rsfMRI_NIFTI/rsfMRI_zip/1035511_20227_2_0.zip\n",
      "Extracted: /blue/ruogu.fang/ryoi360/projects/fmri_vlm/data/UKB/brain/20227_rsfMRI_NIFTI/1035511/fMRI/rfMRI.ica/filtered_func_data_clean.nii.gz\n",
      "Processing: 157 / 22281\n",
      "Processing: /orange/ruogu.fang/data/UKB/brain/20227_rsfMRI_NIFTI/rsfMRI_zip/1035643_20227_2_0.zip\n",
      "Extracted: /blue/ruogu.fang/ryoi360/projects/fmri_vlm/data/UKB/brain/20227_rsfMRI_NIFTI/1035643/fMRI/rfMRI.ica/filtered_func_data_clean.nii.gz\n",
      "Processing: 158 / 22281\n",
      "Processing: /orange/ruogu.fang/data/UKB/brain/20227_rsfMRI_NIFTI/rsfMRI_zip/1036208_20227_2_0.zip\n",
      "Extracted: /blue/ruogu.fang/ryoi360/projects/fmri_vlm/data/UKB/brain/20227_rsfMRI_NIFTI/1036208/fMRI/rfMRI.ica/filtered_func_data_clean.nii.gz\n",
      "Processing: 159 / 22281\n",
      "Processing: /orange/ruogu.fang/data/UKB/brain/20227_rsfMRI_NIFTI/rsfMRI_zip/1036460_20227_2_0.zip\n",
      "Extracted: /blue/ruogu.fang/ryoi360/projects/fmri_vlm/data/UKB/brain/20227_rsfMRI_NIFTI/1036460/fMRI/rfMRI.ica/filtered_func_data_clean.nii.gz\n",
      "Processing: 160 / 22281\n",
      "Processing: /orange/ruogu.fang/data/UKB/brain/20227_rsfMRI_NIFTI/rsfMRI_zip/1036487_20227_2_0.zip\n",
      "Extracted: /blue/ruogu.fang/ryoi360/projects/fmri_vlm/data/UKB/brain/20227_rsfMRI_NIFTI/1036487/fMRI/rfMRI.ica/filtered_func_data_clean.nii.gz\n",
      "Processing: 161 / 22281\n",
      "Processing: /orange/ruogu.fang/data/UKB/brain/20227_rsfMRI_NIFTI/rsfMRI_zip/1036673_20227_2_0.zip\n",
      "Extracted: /blue/ruogu.fang/ryoi360/projects/fmri_vlm/data/UKB/brain/20227_rsfMRI_NIFTI/1036673/fMRI/rfMRI.ica/filtered_func_data_clean.nii.gz\n",
      "Processing: 162 / 22281\n",
      "Processing: /orange/ruogu.fang/data/UKB/brain/20227_rsfMRI_NIFTI/rsfMRI_zip/1036705_20227_2_0.zip\n",
      "Extracted: /blue/ruogu.fang/ryoi360/projects/fmri_vlm/data/UKB/brain/20227_rsfMRI_NIFTI/1036705/fMRI/rfMRI.ica/filtered_func_data_clean.nii.gz\n",
      "Processing: 163 / 22281\n",
      "Processing: /orange/ruogu.fang/data/UKB/brain/20227_rsfMRI_NIFTI/rsfMRI_zip/1036733_20227_2_0.zip\n",
      "Target file not found in /orange/ruogu.fang/data/UKB/brain/20227_rsfMRI_NIFTI/rsfMRI_zip/1036733_20227_2_0.zip\n",
      "Processing: 164 / 22281\n",
      "Processing: /orange/ruogu.fang/data/UKB/brain/20227_rsfMRI_NIFTI/rsfMRI_zip/1037089_20227_2_0.zip\n",
      "Extracted: /blue/ruogu.fang/ryoi360/projects/fmri_vlm/data/UKB/brain/20227_rsfMRI_NIFTI/1037089/fMRI/rfMRI.ica/filtered_func_data_clean.nii.gz\n",
      "Processing: 165 / 22281\n",
      "Processing: /orange/ruogu.fang/data/UKB/brain/20227_rsfMRI_NIFTI/rsfMRI_zip/1037192_20227_2_0.zip\n",
      "Extracted: /blue/ruogu.fang/ryoi360/projects/fmri_vlm/data/UKB/brain/20227_rsfMRI_NIFTI/1037192/fMRI/rfMRI.ica/filtered_func_data_clean.nii.gz\n",
      "Processing: 166 / 22281\n",
      "Processing: /orange/ruogu.fang/data/UKB/brain/20227_rsfMRI_NIFTI/rsfMRI_zip/1037353_20227_2_0.zip\n",
      "Extracted: /blue/ruogu.fang/ryoi360/projects/fmri_vlm/data/UKB/brain/20227_rsfMRI_NIFTI/1037353/fMRI/rfMRI.ica/filtered_func_data_clean.nii.gz\n",
      "Processing: 167 / 22281\n",
      "Processing: /orange/ruogu.fang/data/UKB/brain/20227_rsfMRI_NIFTI/rsfMRI_zip/1037881_20227_2_0.zip\n",
      "Target file not found in /orange/ruogu.fang/data/UKB/brain/20227_rsfMRI_NIFTI/rsfMRI_zip/1037881_20227_2_0.zip\n",
      "Processing: 168 / 22281\n",
      "Processing: /orange/ruogu.fang/data/UKB/brain/20227_rsfMRI_NIFTI/rsfMRI_zip/1037982_20227_2_0.zip\n",
      "Extracted: /blue/ruogu.fang/ryoi360/projects/fmri_vlm/data/UKB/brain/20227_rsfMRI_NIFTI/1037982/fMRI/rfMRI.ica/filtered_func_data_clean.nii.gz\n",
      "Processing: 169 / 22281\n",
      "Processing: /orange/ruogu.fang/data/UKB/brain/20227_rsfMRI_NIFTI/rsfMRI_zip/1038452_20227_2_0.zip\n",
      "Extracted: /blue/ruogu.fang/ryoi360/projects/fmri_vlm/data/UKB/brain/20227_rsfMRI_NIFTI/1038452/fMRI/rfMRI.ica/filtered_func_data_clean.nii.gz\n",
      "Processing: 170 / 22281\n",
      "Processing: /orange/ruogu.fang/data/UKB/brain/20227_rsfMRI_NIFTI/rsfMRI_zip/1038831_20227_2_0.zip\n",
      "Extracted: /blue/ruogu.fang/ryoi360/projects/fmri_vlm/data/UKB/brain/20227_rsfMRI_NIFTI/1038831/fMRI/rfMRI.ica/filtered_func_data_clean.nii.gz\n",
      "Processing: 171 / 22281\n",
      "Processing: /orange/ruogu.fang/data/UKB/brain/20227_rsfMRI_NIFTI/rsfMRI_zip/1038850_20227_2_0.zip\n",
      "Extracted: /blue/ruogu.fang/ryoi360/projects/fmri_vlm/data/UKB/brain/20227_rsfMRI_NIFTI/1038850/fMRI/rfMRI.ica/filtered_func_data_clean.nii.gz\n",
      "Processing: 172 / 22281\n",
      "Processing: /orange/ruogu.fang/data/UKB/brain/20227_rsfMRI_NIFTI/rsfMRI_zip/1039013_20227_2_0.zip\n",
      "Target file not found in /orange/ruogu.fang/data/UKB/brain/20227_rsfMRI_NIFTI/rsfMRI_zip/1039013_20227_2_0.zip\n",
      "Processing: 173 / 22281\n",
      "Processing: /orange/ruogu.fang/data/UKB/brain/20227_rsfMRI_NIFTI/rsfMRI_zip/1039222_20227_2_0.zip\n",
      "Extracted: /blue/ruogu.fang/ryoi360/projects/fmri_vlm/data/UKB/brain/20227_rsfMRI_NIFTI/1039222/fMRI/rfMRI.ica/filtered_func_data_clean.nii.gz\n",
      "Processing: 174 / 22281\n",
      "Processing: /orange/ruogu.fang/data/UKB/brain/20227_rsfMRI_NIFTI/rsfMRI_zip/1039302_20227_2_0.zip\n",
      "Extracted: /blue/ruogu.fang/ryoi360/projects/fmri_vlm/data/UKB/brain/20227_rsfMRI_NIFTI/1039302/fMRI/rfMRI.ica/filtered_func_data_clean.nii.gz\n",
      "Processing: 175 / 22281\n",
      "Processing: /orange/ruogu.fang/data/UKB/brain/20227_rsfMRI_NIFTI/rsfMRI_zip/1039373_20227_2_0.zip\n",
      "Extracted: /blue/ruogu.fang/ryoi360/projects/fmri_vlm/data/UKB/brain/20227_rsfMRI_NIFTI/1039373/fMRI/rfMRI.ica/filtered_func_data_clean.nii.gz\n",
      "Processing: 176 / 22281\n",
      "Processing: /orange/ruogu.fang/data/UKB/brain/20227_rsfMRI_NIFTI/rsfMRI_zip/1039656_20227_2_0.zip\n",
      "Extracted: /blue/ruogu.fang/ryoi360/projects/fmri_vlm/data/UKB/brain/20227_rsfMRI_NIFTI/1039656/fMRI/rfMRI.ica/filtered_func_data_clean.nii.gz\n",
      "Processing: 177 / 22281\n",
      "Processing: /orange/ruogu.fang/data/UKB/brain/20227_rsfMRI_NIFTI/rsfMRI_zip/1040142_20227_2_0.zip\n",
      "Extracted: /blue/ruogu.fang/ryoi360/projects/fmri_vlm/data/UKB/brain/20227_rsfMRI_NIFTI/1040142/fMRI/rfMRI.ica/filtered_func_data_clean.nii.gz\n",
      "Processing: 178 / 22281\n",
      "Processing: /orange/ruogu.fang/data/UKB/brain/20227_rsfMRI_NIFTI/rsfMRI_zip/1040606_20227_2_0.zip\n",
      "Extracted: /blue/ruogu.fang/ryoi360/projects/fmri_vlm/data/UKB/brain/20227_rsfMRI_NIFTI/1040606/fMRI/rfMRI.ica/filtered_func_data_clean.nii.gz\n",
      "Processing: 179 / 22281\n",
      "Processing: /orange/ruogu.fang/data/UKB/brain/20227_rsfMRI_NIFTI/rsfMRI_zip/1041871_20227_2_0.zip\n",
      "Extracted: /blue/ruogu.fang/ryoi360/projects/fmri_vlm/data/UKB/brain/20227_rsfMRI_NIFTI/1041871/fMRI/rfMRI.ica/filtered_func_data_clean.nii.gz\n",
      "Processing: 180 / 22281\n",
      "Processing: /orange/ruogu.fang/data/UKB/brain/20227_rsfMRI_NIFTI/rsfMRI_zip/1042054_20227_2_0.zip\n",
      "Extracted: /blue/ruogu.fang/ryoi360/projects/fmri_vlm/data/UKB/brain/20227_rsfMRI_NIFTI/1042054/fMRI/rfMRI.ica/filtered_func_data_clean.nii.gz\n",
      "Processing: 181 / 22281\n",
      "Processing: /orange/ruogu.fang/data/UKB/brain/20227_rsfMRI_NIFTI/rsfMRI_zip/1042115_20227_2_0.zip\n",
      "Extracted: /blue/ruogu.fang/ryoi360/projects/fmri_vlm/data/UKB/brain/20227_rsfMRI_NIFTI/1042115/fMRI/rfMRI.ica/filtered_func_data_clean.nii.gz\n",
      "Processing: 182 / 22281\n",
      "Processing: /orange/ruogu.fang/data/UKB/brain/20227_rsfMRI_NIFTI/rsfMRI_zip/1042173_20227_2_0.zip\n",
      "Extracted: /blue/ruogu.fang/ryoi360/projects/fmri_vlm/data/UKB/brain/20227_rsfMRI_NIFTI/1042173/fMRI/rfMRI.ica/filtered_func_data_clean.nii.gz\n",
      "Processing: 183 / 22281\n",
      "Processing: /orange/ruogu.fang/data/UKB/brain/20227_rsfMRI_NIFTI/rsfMRI_zip/1042224_20227_2_0.zip\n",
      "Extracted: /blue/ruogu.fang/ryoi360/projects/fmri_vlm/data/UKB/brain/20227_rsfMRI_NIFTI/1042224/fMRI/rfMRI.ica/filtered_func_data_clean.nii.gz\n",
      "Processing: 184 / 22281\n",
      "Processing: /orange/ruogu.fang/data/UKB/brain/20227_rsfMRI_NIFTI/rsfMRI_zip/1042246_20227_2_0.zip\n",
      "Extracted: /blue/ruogu.fang/ryoi360/projects/fmri_vlm/data/UKB/brain/20227_rsfMRI_NIFTI/1042246/fMRI/rfMRI.ica/filtered_func_data_clean.nii.gz\n",
      "Processing: 185 / 22281\n",
      "Processing: /orange/ruogu.fang/data/UKB/brain/20227_rsfMRI_NIFTI/rsfMRI_zip/1042412_20227_2_0.zip\n",
      "Extracted: /blue/ruogu.fang/ryoi360/projects/fmri_vlm/data/UKB/brain/20227_rsfMRI_NIFTI/1042412/fMRI/rfMRI.ica/filtered_func_data_clean.nii.gz\n",
      "Processing: 186 / 22281\n",
      "Processing: /orange/ruogu.fang/data/UKB/brain/20227_rsfMRI_NIFTI/rsfMRI_zip/1042636_20227_2_0.zip\n",
      "Extracted: /blue/ruogu.fang/ryoi360/projects/fmri_vlm/data/UKB/brain/20227_rsfMRI_NIFTI/1042636/fMRI/rfMRI.ica/filtered_func_data_clean.nii.gz\n",
      "Processing: 187 / 22281\n",
      "Processing: /orange/ruogu.fang/data/UKB/brain/20227_rsfMRI_NIFTI/rsfMRI_zip/1042726_20227_2_0.zip\n",
      "Extracted: /blue/ruogu.fang/ryoi360/projects/fmri_vlm/data/UKB/brain/20227_rsfMRI_NIFTI/1042726/fMRI/rfMRI.ica/filtered_func_data_clean.nii.gz\n",
      "Processing: 188 / 22281\n",
      "Processing: /orange/ruogu.fang/data/UKB/brain/20227_rsfMRI_NIFTI/rsfMRI_zip/1042889_20227_2_0.zip\n",
      "Extracted: /blue/ruogu.fang/ryoi360/projects/fmri_vlm/data/UKB/brain/20227_rsfMRI_NIFTI/1042889/fMRI/rfMRI.ica/filtered_func_data_clean.nii.gz\n",
      "Processing: 189 / 22281\n",
      "Processing: /orange/ruogu.fang/data/UKB/brain/20227_rsfMRI_NIFTI/rsfMRI_zip/1043425_20227_2_0.zip\n",
      "Extracted: /blue/ruogu.fang/ryoi360/projects/fmri_vlm/data/UKB/brain/20227_rsfMRI_NIFTI/1043425/fMRI/rfMRI.ica/filtered_func_data_clean.nii.gz\n",
      "Processing: 190 / 22281\n",
      "Processing: /orange/ruogu.fang/data/UKB/brain/20227_rsfMRI_NIFTI/rsfMRI_zip/1043542_20227_2_0.zip\n",
      "Extracted: /blue/ruogu.fang/ryoi360/projects/fmri_vlm/data/UKB/brain/20227_rsfMRI_NIFTI/1043542/fMRI/rfMRI.ica/filtered_func_data_clean.nii.gz\n",
      "Processing: 191 / 22281\n",
      "Processing: /orange/ruogu.fang/data/UKB/brain/20227_rsfMRI_NIFTI/rsfMRI_zip/1043770_20227_2_0.zip\n",
      "Extracted: /blue/ruogu.fang/ryoi360/projects/fmri_vlm/data/UKB/brain/20227_rsfMRI_NIFTI/1043770/fMRI/rfMRI.ica/filtered_func_data_clean.nii.gz\n",
      "Processing: 192 / 22281\n",
      "Processing: /orange/ruogu.fang/data/UKB/brain/20227_rsfMRI_NIFTI/rsfMRI_zip/1044638_20227_2_0.zip\n",
      "Extracted: /blue/ruogu.fang/ryoi360/projects/fmri_vlm/data/UKB/brain/20227_rsfMRI_NIFTI/1044638/fMRI/rfMRI.ica/filtered_func_data_clean.nii.gz\n",
      "Processing: 193 / 22281\n",
      "Processing: /orange/ruogu.fang/data/UKB/brain/20227_rsfMRI_NIFTI/rsfMRI_zip/1044681_20227_2_0.zip\n",
      "Extracted: /blue/ruogu.fang/ryoi360/projects/fmri_vlm/data/UKB/brain/20227_rsfMRI_NIFTI/1044681/fMRI/rfMRI.ica/filtered_func_data_clean.nii.gz\n",
      "Processing: 194 / 22281\n",
      "Processing: /orange/ruogu.fang/data/UKB/brain/20227_rsfMRI_NIFTI/rsfMRI_zip/1044950_20227_2_0.zip\n",
      "Extracted: /blue/ruogu.fang/ryoi360/projects/fmri_vlm/data/UKB/brain/20227_rsfMRI_NIFTI/1044950/fMRI/rfMRI.ica/filtered_func_data_clean.nii.gz\n",
      "Processing: 195 / 22281\n",
      "Processing: /orange/ruogu.fang/data/UKB/brain/20227_rsfMRI_NIFTI/rsfMRI_zip/1045072_20227_2_0.zip\n",
      "Extracted: /blue/ruogu.fang/ryoi360/projects/fmri_vlm/data/UKB/brain/20227_rsfMRI_NIFTI/1045072/fMRI/rfMRI.ica/filtered_func_data_clean.nii.gz\n",
      "Processing: 196 / 22281\n",
      "Processing: /orange/ruogu.fang/data/UKB/brain/20227_rsfMRI_NIFTI/rsfMRI_zip/1045192_20227_2_0.zip\n",
      "Extracted: /blue/ruogu.fang/ryoi360/projects/fmri_vlm/data/UKB/brain/20227_rsfMRI_NIFTI/1045192/fMRI/rfMRI.ica/filtered_func_data_clean.nii.gz\n",
      "Processing: 197 / 22281\n",
      "Processing: /orange/ruogu.fang/data/UKB/brain/20227_rsfMRI_NIFTI/rsfMRI_zip/1045385_20227_2_0.zip\n",
      "Extracted: /blue/ruogu.fang/ryoi360/projects/fmri_vlm/data/UKB/brain/20227_rsfMRI_NIFTI/1045385/fMRI/rfMRI.ica/filtered_func_data_clean.nii.gz\n",
      "Processing: 198 / 22281\n",
      "Processing: /orange/ruogu.fang/data/UKB/brain/20227_rsfMRI_NIFTI/rsfMRI_zip/1045791_20227_2_0.zip\n",
      "Extracted: /blue/ruogu.fang/ryoi360/projects/fmri_vlm/data/UKB/brain/20227_rsfMRI_NIFTI/1045791/fMRI/rfMRI.ica/filtered_func_data_clean.nii.gz\n",
      "Processing: 199 / 22281\n",
      "Processing: /orange/ruogu.fang/data/UKB/brain/20227_rsfMRI_NIFTI/rsfMRI_zip/1045813_20227_2_0.zip\n",
      "Extracted: /blue/ruogu.fang/ryoi360/projects/fmri_vlm/data/UKB/brain/20227_rsfMRI_NIFTI/1045813/fMRI/rfMRI.ica/filtered_func_data_clean.nii.gz\n",
      "Processing: 200 / 22281\n",
      "Processing: /orange/ruogu.fang/data/UKB/brain/20227_rsfMRI_NIFTI/rsfMRI_zip/1046359_20227_2_0.zip\n",
      "Extracted: /blue/ruogu.fang/ryoi360/projects/fmri_vlm/data/UKB/brain/20227_rsfMRI_NIFTI/1046359/fMRI/rfMRI.ica/filtered_func_data_clean.nii.gz\n",
      "Processing: 201 / 22281\n",
      "Processing: /orange/ruogu.fang/data/UKB/brain/20227_rsfMRI_NIFTI/rsfMRI_zip/1046404_20227_2_0.zip\n",
      "Extracted: /blue/ruogu.fang/ryoi360/projects/fmri_vlm/data/UKB/brain/20227_rsfMRI_NIFTI/1046404/fMRI/rfMRI.ica/filtered_func_data_clean.nii.gz\n",
      "Processing: 202 / 22281\n",
      "Processing: /orange/ruogu.fang/data/UKB/brain/20227_rsfMRI_NIFTI/rsfMRI_zip/1046678_20227_2_0.zip\n",
      "Extracted: /blue/ruogu.fang/ryoi360/projects/fmri_vlm/data/UKB/brain/20227_rsfMRI_NIFTI/1046678/fMRI/rfMRI.ica/filtered_func_data_clean.nii.gz\n",
      "Processing: 203 / 22281\n",
      "Processing: /orange/ruogu.fang/data/UKB/brain/20227_rsfMRI_NIFTI/rsfMRI_zip/1046738_20227_2_0.zip\n",
      "Extracted: /blue/ruogu.fang/ryoi360/projects/fmri_vlm/data/UKB/brain/20227_rsfMRI_NIFTI/1046738/fMRI/rfMRI.ica/filtered_func_data_clean.nii.gz\n",
      "Processing: 204 / 22281\n",
      "Processing: /orange/ruogu.fang/data/UKB/brain/20227_rsfMRI_NIFTI/rsfMRI_zip/1046949_20227_2_0.zip\n",
      "Target file not found in /orange/ruogu.fang/data/UKB/brain/20227_rsfMRI_NIFTI/rsfMRI_zip/1046949_20227_2_0.zip\n",
      "Processing: 205 / 22281\n",
      "Processing: /orange/ruogu.fang/data/UKB/brain/20227_rsfMRI_NIFTI/rsfMRI_zip/1047062_20227_2_0.zip\n",
      "Target file not found in /orange/ruogu.fang/data/UKB/brain/20227_rsfMRI_NIFTI/rsfMRI_zip/1047062_20227_2_0.zip\n",
      "Processing: 206 / 22281\n",
      "Processing: /orange/ruogu.fang/data/UKB/brain/20227_rsfMRI_NIFTI/rsfMRI_zip/1047100_20227_2_0.zip\n",
      "Extracted: /blue/ruogu.fang/ryoi360/projects/fmri_vlm/data/UKB/brain/20227_rsfMRI_NIFTI/1047100/fMRI/rfMRI.ica/filtered_func_data_clean.nii.gz\n",
      "Processing: 207 / 22281\n",
      "Processing: /orange/ruogu.fang/data/UKB/brain/20227_rsfMRI_NIFTI/rsfMRI_zip/1047317_20227_2_0.zip\n",
      "Extracted: /blue/ruogu.fang/ryoi360/projects/fmri_vlm/data/UKB/brain/20227_rsfMRI_NIFTI/1047317/fMRI/rfMRI.ica/filtered_func_data_clean.nii.gz\n",
      "Processing: 208 / 22281\n",
      "Processing: /orange/ruogu.fang/data/UKB/brain/20227_rsfMRI_NIFTI/rsfMRI_zip/1047616_20227_2_0.zip\n",
      "Extracted: /blue/ruogu.fang/ryoi360/projects/fmri_vlm/data/UKB/brain/20227_rsfMRI_NIFTI/1047616/fMRI/rfMRI.ica/filtered_func_data_clean.nii.gz\n",
      "Processing: 209 / 22281\n",
      "Processing: /orange/ruogu.fang/data/UKB/brain/20227_rsfMRI_NIFTI/rsfMRI_zip/1047679_20227_2_0.zip\n",
      "Extracted: /blue/ruogu.fang/ryoi360/projects/fmri_vlm/data/UKB/brain/20227_rsfMRI_NIFTI/1047679/fMRI/rfMRI.ica/filtered_func_data_clean.nii.gz\n",
      "Processing: 210 / 22281\n",
      "Processing: /orange/ruogu.fang/data/UKB/brain/20227_rsfMRI_NIFTI/rsfMRI_zip/1047727_20227_2_0.zip\n",
      "Target file not found in /orange/ruogu.fang/data/UKB/brain/20227_rsfMRI_NIFTI/rsfMRI_zip/1047727_20227_2_0.zip\n",
      "Processing: 211 / 22281\n",
      "Processing: /orange/ruogu.fang/data/UKB/brain/20227_rsfMRI_NIFTI/rsfMRI_zip/1047821_20227_2_0.zip\n",
      "Extracted: /blue/ruogu.fang/ryoi360/projects/fmri_vlm/data/UKB/brain/20227_rsfMRI_NIFTI/1047821/fMRI/rfMRI.ica/filtered_func_data_clean.nii.gz\n",
      "Processing: 212 / 22281\n",
      "Processing: /orange/ruogu.fang/data/UKB/brain/20227_rsfMRI_NIFTI/rsfMRI_zip/1048222_20227_2_0.zip\n",
      "Extracted: /blue/ruogu.fang/ryoi360/projects/fmri_vlm/data/UKB/brain/20227_rsfMRI_NIFTI/1048222/fMRI/rfMRI.ica/filtered_func_data_clean.nii.gz\n",
      "Processing: 213 / 22281\n",
      "Processing: /orange/ruogu.fang/data/UKB/brain/20227_rsfMRI_NIFTI/rsfMRI_zip/1048754_20227_2_0.zip\n",
      "Extracted: /blue/ruogu.fang/ryoi360/projects/fmri_vlm/data/UKB/brain/20227_rsfMRI_NIFTI/1048754/fMRI/rfMRI.ica/filtered_func_data_clean.nii.gz\n",
      "Processing: 214 / 22281\n",
      "Processing: /orange/ruogu.fang/data/UKB/brain/20227_rsfMRI_NIFTI/rsfMRI_zip/1048776_20227_2_0.zip\n",
      "Extracted: /blue/ruogu.fang/ryoi360/projects/fmri_vlm/data/UKB/brain/20227_rsfMRI_NIFTI/1048776/fMRI/rfMRI.ica/filtered_func_data_clean.nii.gz\n",
      "Processing: 215 / 22281\n",
      "Processing: /orange/ruogu.fang/data/UKB/brain/20227_rsfMRI_NIFTI/rsfMRI_zip/1048834_20227_2_0.zip\n",
      "Extracted: /blue/ruogu.fang/ryoi360/projects/fmri_vlm/data/UKB/brain/20227_rsfMRI_NIFTI/1048834/fMRI/rfMRI.ica/filtered_func_data_clean.nii.gz\n",
      "Processing: 216 / 22281\n",
      "Processing: /orange/ruogu.fang/data/UKB/brain/20227_rsfMRI_NIFTI/rsfMRI_zip/1049268_20227_2_0.zip\n",
      "Extracted: /blue/ruogu.fang/ryoi360/projects/fmri_vlm/data/UKB/brain/20227_rsfMRI_NIFTI/1049268/fMRI/rfMRI.ica/filtered_func_data_clean.nii.gz\n",
      "Processing: 217 / 22281\n",
      "Processing: /orange/ruogu.fang/data/UKB/brain/20227_rsfMRI_NIFTI/rsfMRI_zip/1050295_20227_2_0.zip\n",
      "Extracted: /blue/ruogu.fang/ryoi360/projects/fmri_vlm/data/UKB/brain/20227_rsfMRI_NIFTI/1050295/fMRI/rfMRI.ica/filtered_func_data_clean.nii.gz\n",
      "Processing: 218 / 22281\n",
      "Processing: /orange/ruogu.fang/data/UKB/brain/20227_rsfMRI_NIFTI/rsfMRI_zip/1050542_20227_2_0.zip\n",
      "Extracted: /blue/ruogu.fang/ryoi360/projects/fmri_vlm/data/UKB/brain/20227_rsfMRI_NIFTI/1050542/fMRI/rfMRI.ica/filtered_func_data_clean.nii.gz\n",
      "Processing: 219 / 22281\n",
      "Processing: /orange/ruogu.fang/data/UKB/brain/20227_rsfMRI_NIFTI/rsfMRI_zip/1050664_20227_2_0.zip\n",
      "Extracted: /blue/ruogu.fang/ryoi360/projects/fmri_vlm/data/UKB/brain/20227_rsfMRI_NIFTI/1050664/fMRI/rfMRI.ica/filtered_func_data_clean.nii.gz\n",
      "Processing: 220 / 22281\n",
      "Processing: /orange/ruogu.fang/data/UKB/brain/20227_rsfMRI_NIFTI/rsfMRI_zip/1050879_20227_2_0.zip\n",
      "Extracted: /blue/ruogu.fang/ryoi360/projects/fmri_vlm/data/UKB/brain/20227_rsfMRI_NIFTI/1050879/fMRI/rfMRI.ica/filtered_func_data_clean.nii.gz\n",
      "Processing: 221 / 22281\n",
      "Processing: /orange/ruogu.fang/data/UKB/brain/20227_rsfMRI_NIFTI/rsfMRI_zip/1051446_20227_2_0.zip\n",
      "Extracted: /blue/ruogu.fang/ryoi360/projects/fmri_vlm/data/UKB/brain/20227_rsfMRI_NIFTI/1051446/fMRI/rfMRI.ica/filtered_func_data_clean.nii.gz\n",
      "Processing: 222 / 22281\n",
      "Processing: /orange/ruogu.fang/data/UKB/brain/20227_rsfMRI_NIFTI/rsfMRI_zip/1051560_20227_2_0.zip\n",
      "Extracted: /blue/ruogu.fang/ryoi360/projects/fmri_vlm/data/UKB/brain/20227_rsfMRI_NIFTI/1051560/fMRI/rfMRI.ica/filtered_func_data_clean.nii.gz\n",
      "Processing: 223 / 22281\n",
      "Processing: /orange/ruogu.fang/data/UKB/brain/20227_rsfMRI_NIFTI/rsfMRI_zip/1052118_20227_2_0.zip\n",
      "Extracted: /blue/ruogu.fang/ryoi360/projects/fmri_vlm/data/UKB/brain/20227_rsfMRI_NIFTI/1052118/fMRI/rfMRI.ica/filtered_func_data_clean.nii.gz\n",
      "Processing: 224 / 22281\n",
      "Processing: /orange/ruogu.fang/data/UKB/brain/20227_rsfMRI_NIFTI/rsfMRI_zip/1052255_20227_2_0.zip\n"
     ]
    },
    {
     "ename": "KeyboardInterrupt",
     "evalue": "",
     "output_type": "error",
     "traceback": [
      "\u001b[0;31m---------------------------------------------------------------------------\u001b[0m",
      "\u001b[0;31mKeyboardInterrupt\u001b[0m                         Traceback (most recent call last)",
      "Input \u001b[0;32mIn [21]\u001b[0m, in \u001b[0;36m<cell line: 5>\u001b[0;34m()\u001b[0m\n\u001b[1;32m     23\u001b[0m     os\u001b[38;5;241m.\u001b[39mmakedirs(subject_output_dir, exist_ok\u001b[38;5;241m=\u001b[39m\u001b[38;5;28;01mTrue\u001b[39;00m)\n\u001b[1;32m     25\u001b[0m     \u001b[38;5;66;03m# Extract only the target file\u001b[39;00m\n\u001b[0;32m---> 26\u001b[0m     extracted_path \u001b[38;5;241m=\u001b[39m \u001b[43mzip_ref\u001b[49m\u001b[38;5;241;43m.\u001b[39;49m\u001b[43mextract\u001b[49m\u001b[43m(\u001b[49m\u001b[43mTARGET_FILE\u001b[49m\u001b[43m,\u001b[49m\u001b[43m \u001b[49m\u001b[43msubject_output_dir\u001b[49m\u001b[43m)\u001b[49m\n\u001b[1;32m     27\u001b[0m     \u001b[38;5;28mprint\u001b[39m(\u001b[38;5;124mf\u001b[39m\u001b[38;5;124m\"\u001b[39m\u001b[38;5;124mExtracted: \u001b[39m\u001b[38;5;132;01m{\u001b[39;00mextracted_path\u001b[38;5;132;01m}\u001b[39;00m\u001b[38;5;124m\"\u001b[39m)\n\u001b[1;32m     28\u001b[0m \u001b[38;5;28;01melse\u001b[39;00m:\n",
      "File \u001b[0;32m/apps/fastai/2.7.10/lib/python3.10/zipfile.py:1626\u001b[0m, in \u001b[0;36mZipFile.extract\u001b[0;34m(self, member, path, pwd)\u001b[0m\n\u001b[1;32m   1623\u001b[0m \u001b[38;5;28;01melse\u001b[39;00m:\n\u001b[1;32m   1624\u001b[0m     path \u001b[38;5;241m=\u001b[39m os\u001b[38;5;241m.\u001b[39mfspath(path)\n\u001b[0;32m-> 1626\u001b[0m \u001b[38;5;28;01mreturn\u001b[39;00m \u001b[38;5;28;43mself\u001b[39;49m\u001b[38;5;241;43m.\u001b[39;49m\u001b[43m_extract_member\u001b[49m\u001b[43m(\u001b[49m\u001b[43mmember\u001b[49m\u001b[43m,\u001b[49m\u001b[43m \u001b[49m\u001b[43mpath\u001b[49m\u001b[43m,\u001b[49m\u001b[43m \u001b[49m\u001b[43mpwd\u001b[49m\u001b[43m)\u001b[49m\n",
      "File \u001b[0;32m/apps/fastai/2.7.10/lib/python3.10/zipfile.py:1698\u001b[0m, in \u001b[0;36mZipFile._extract_member\u001b[0;34m(self, member, targetpath, pwd)\u001b[0m\n\u001b[1;32m   1694\u001b[0m     \u001b[38;5;28;01mreturn\u001b[39;00m targetpath\n\u001b[1;32m   1696\u001b[0m \u001b[38;5;28;01mwith\u001b[39;00m \u001b[38;5;28mself\u001b[39m\u001b[38;5;241m.\u001b[39mopen(member, pwd\u001b[38;5;241m=\u001b[39mpwd) \u001b[38;5;28;01mas\u001b[39;00m source, \\\n\u001b[1;32m   1697\u001b[0m      \u001b[38;5;28mopen\u001b[39m(targetpath, \u001b[38;5;124m\"\u001b[39m\u001b[38;5;124mwb\u001b[39m\u001b[38;5;124m\"\u001b[39m) \u001b[38;5;28;01mas\u001b[39;00m target:\n\u001b[0;32m-> 1698\u001b[0m     \u001b[43mshutil\u001b[49m\u001b[38;5;241;43m.\u001b[39;49m\u001b[43mcopyfileobj\u001b[49m\u001b[43m(\u001b[49m\u001b[43msource\u001b[49m\u001b[43m,\u001b[49m\u001b[43m \u001b[49m\u001b[43mtarget\u001b[49m\u001b[43m)\u001b[49m\n\u001b[1;32m   1700\u001b[0m \u001b[38;5;28;01mreturn\u001b[39;00m targetpath\n",
      "File \u001b[0;32m/apps/fastai/2.7.10/lib/python3.10/shutil.py:195\u001b[0m, in \u001b[0;36mcopyfileobj\u001b[0;34m(fsrc, fdst, length)\u001b[0m\n\u001b[1;32m    193\u001b[0m fdst_write \u001b[38;5;241m=\u001b[39m fdst\u001b[38;5;241m.\u001b[39mwrite\n\u001b[1;32m    194\u001b[0m \u001b[38;5;28;01mwhile\u001b[39;00m \u001b[38;5;28;01mTrue\u001b[39;00m:\n\u001b[0;32m--> 195\u001b[0m     buf \u001b[38;5;241m=\u001b[39m \u001b[43mfsrc_read\u001b[49m\u001b[43m(\u001b[49m\u001b[43mlength\u001b[49m\u001b[43m)\u001b[49m\n\u001b[1;32m    196\u001b[0m     \u001b[38;5;28;01mif\u001b[39;00m \u001b[38;5;129;01mnot\u001b[39;00m buf:\n\u001b[1;32m    197\u001b[0m         \u001b[38;5;28;01mbreak\u001b[39;00m\n",
      "File \u001b[0;32m/apps/fastai/2.7.10/lib/python3.10/zipfile.py:925\u001b[0m, in \u001b[0;36mZipExtFile.read\u001b[0;34m(self, n)\u001b[0m\n\u001b[1;32m    923\u001b[0m \u001b[38;5;28mself\u001b[39m\u001b[38;5;241m.\u001b[39m_offset \u001b[38;5;241m=\u001b[39m \u001b[38;5;241m0\u001b[39m\n\u001b[1;32m    924\u001b[0m \u001b[38;5;28;01mwhile\u001b[39;00m n \u001b[38;5;241m>\u001b[39m \u001b[38;5;241m0\u001b[39m \u001b[38;5;129;01mand\u001b[39;00m \u001b[38;5;129;01mnot\u001b[39;00m \u001b[38;5;28mself\u001b[39m\u001b[38;5;241m.\u001b[39m_eof:\n\u001b[0;32m--> 925\u001b[0m     data \u001b[38;5;241m=\u001b[39m \u001b[38;5;28;43mself\u001b[39;49m\u001b[38;5;241;43m.\u001b[39;49m\u001b[43m_read1\u001b[49m\u001b[43m(\u001b[49m\u001b[43mn\u001b[49m\u001b[43m)\u001b[49m\n\u001b[1;32m    926\u001b[0m     \u001b[38;5;28;01mif\u001b[39;00m n \u001b[38;5;241m<\u001b[39m \u001b[38;5;28mlen\u001b[39m(data):\n\u001b[1;32m    927\u001b[0m         \u001b[38;5;28mself\u001b[39m\u001b[38;5;241m.\u001b[39m_readbuffer \u001b[38;5;241m=\u001b[39m data\n",
      "File \u001b[0;32m/apps/fastai/2.7.10/lib/python3.10/zipfile.py:1001\u001b[0m, in \u001b[0;36mZipExtFile._read1\u001b[0;34m(self, n)\u001b[0m\n\u001b[1;32m    999\u001b[0m \u001b[38;5;28;01melif\u001b[39;00m \u001b[38;5;28mself\u001b[39m\u001b[38;5;241m.\u001b[39m_compress_type \u001b[38;5;241m==\u001b[39m ZIP_DEFLATED:\n\u001b[1;32m   1000\u001b[0m     n \u001b[38;5;241m=\u001b[39m \u001b[38;5;28mmax\u001b[39m(n, \u001b[38;5;28mself\u001b[39m\u001b[38;5;241m.\u001b[39mMIN_READ_SIZE)\n\u001b[0;32m-> 1001\u001b[0m     data \u001b[38;5;241m=\u001b[39m \u001b[38;5;28;43mself\u001b[39;49m\u001b[38;5;241;43m.\u001b[39;49m\u001b[43m_decompressor\u001b[49m\u001b[38;5;241;43m.\u001b[39;49m\u001b[43mdecompress\u001b[49m\u001b[43m(\u001b[49m\u001b[43mdata\u001b[49m\u001b[43m,\u001b[49m\u001b[43m \u001b[49m\u001b[43mn\u001b[49m\u001b[43m)\u001b[49m\n\u001b[1;32m   1002\u001b[0m     \u001b[38;5;28mself\u001b[39m\u001b[38;5;241m.\u001b[39m_eof \u001b[38;5;241m=\u001b[39m (\u001b[38;5;28mself\u001b[39m\u001b[38;5;241m.\u001b[39m_decompressor\u001b[38;5;241m.\u001b[39meof \u001b[38;5;129;01mor\u001b[39;00m\n\u001b[1;32m   1003\u001b[0m                  \u001b[38;5;28mself\u001b[39m\u001b[38;5;241m.\u001b[39m_compress_left \u001b[38;5;241m<\u001b[39m\u001b[38;5;241m=\u001b[39m \u001b[38;5;241m0\u001b[39m \u001b[38;5;129;01mand\u001b[39;00m\n\u001b[1;32m   1004\u001b[0m                  \u001b[38;5;129;01mnot\u001b[39;00m \u001b[38;5;28mself\u001b[39m\u001b[38;5;241m.\u001b[39m_decompressor\u001b[38;5;241m.\u001b[39munconsumed_tail)\n\u001b[1;32m   1005\u001b[0m     \u001b[38;5;28;01mif\u001b[39;00m \u001b[38;5;28mself\u001b[39m\u001b[38;5;241m.\u001b[39m_eof:\n",
      "\u001b[0;31mKeyboardInterrupt\u001b[0m: "
     ]
    }
   ],
   "source": [
    "# Define the target file path inside each zip\n",
    "TARGET_FILE = \"fMRI/rfMRI.ica/filtered_func_data_clean.nii.gz\"\n",
    "\n",
    "current_subject = 0\n",
    "for subject_ID in filtered_IDS:\n",
    "    current_subject += 1\n",
    "    for zip_path in sorted(glob.glob(f\"{INPUT_DIR}/20227_rsfMRI_NIFTI/**/*{subject_ID}*.zip\", recursive=True)):\n",
    "        print(f\"Processing: {current_subject} / {len(filtered_IDS)}\")\n",
    "        print(f\"Processing: {zip_path}\")\n",
    "\n",
    "        # Check if the zip file exists and is a valid zip\n",
    "        if not os.path.isfile(zip_path):\n",
    "            print(f\"Error: ZIP file not found: {zip_path}\")\n",
    "            continue  # Skip this file and move to the next\n",
    "\n",
    "        try:\n",
    "            # Open the ZIP file\n",
    "            with zipfile.ZipFile(zip_path, \"r\") as zip_ref:\n",
    "                # Check if the target file exists in the ZIP archive\n",
    "                if TARGET_FILE in zip_ref.namelist():\n",
    "                    # Define the extraction path\n",
    "                    subject_output_dir = os.path.join(OUTPUT_DIR, subject_ID)\n",
    "                    os.makedirs(subject_output_dir, exist_ok=True)\n",
    "\n",
    "                    # Extract only the target file\n",
    "                    extracted_path = zip_ref.extract(TARGET_FILE, subject_output_dir)\n",
    "                    print(f\"Extracted: {extracted_path}\")\n",
    "                else:\n",
    "                    print(f\"Target file not found in {zip_path}\")\n",
    "        except zipfile.BadZipFile:\n",
    "            print(f\"Error: Invalid ZIP file: {zip_path}\")\n",
    "        except zipfile.LargeZipFile:\n",
    "            print(f\"Error: ZIP file is too large and requires ZIP64 support: {zip_path}\")\n",
    "        except Exception as e:\n",
    "            print(f\"Unexpected error processing {zip_path}: {str(e)}\")\n"
   ]
  },
  {
   "cell_type": "code",
   "execution_count": null,
   "metadata": {
    "tags": []
   },
   "outputs": [],
   "source": [
    "def unzip_files_recursively(root_dir):\n",
    "    \"\"\"\n",
    "    Recursively walk through root_dir, find .zip files, and unzip them.\n",
    "    If a .zip file is in a folder containing 'zip' in its name, it will be\n",
    "    extracted to a parallel folder with 'unzip' in its name instead.\n",
    "    \"\"\"\n",
    "    for dirpath, dirnames, filenames in os.walk(root_dir):\n",
    "        for filename in filenames:\n",
    "            if filename.lower().endswith('.zip'):\n",
    "                zip_file_path = os.path.join(dirpath, filename)\n",
    "                \n",
    "                # Remove the .zip extension to get the extraction folder name\n",
    "                extraction_folder_name = os.path.splitext(filename)[0]\n",
    "                \n",
    "                # Check if the parent folder name contains 'zip'\n",
    "                parent_folder = os.path.basename(dirpath)\n",
    "                if 'zip' in parent_folder.lower():\n",
    "                    # Replace 'zip' with 'unzip' in the parent folder name\n",
    "                    new_parent_folder = parent_folder.lower().replace('zip', 'unzip')\n",
    "                    \n",
    "                    # The parent of the parent folder\n",
    "                    parent_of_parent = os.path.dirname(dirpath)\n",
    "                    \n",
    "                    # Construct the path to the new folder\n",
    "                    new_unzip_folder_path = os.path.join(parent_of_parent, new_parent_folder)\n",
    "                    \n",
    "                    # Final path: new folder + subfolder named after the ZIP file\n",
    "                    final_extraction_path = os.path.join(new_unzip_folder_path, extraction_folder_name)\n",
    "                    \n",
    "                else:\n",
    "                    # If 'zip' is not in the parent folder, just unzip in the same folder\n",
    "                    final_extraction_path = os.path.join(dirpath, extraction_folder_name)\n",
    "                \n",
    "                # Make sure the target extraction directory exists\n",
    "                os.makedirs(final_extraction_path, exist_ok=True)\n",
    "                \n",
    "                # Unzip the file\n",
    "                with zipfile.ZipFile(zip_file_path, 'r') as zip_ref:\n",
    "                    zip_ref.extractall(final_extraction_path)\n",
    "                \n",
    "                print(f\"Unzipped '{zip_file_path}' to '{final_extraction_path}'\")"
   ]
  },
  {
   "cell_type": "code",
   "execution_count": null,
   "metadata": {
    "tags": []
   },
   "outputs": [],
   "source": [
    "# unzip_files_recursively(\"../../data/UKB/brain/AD\")"
   ]
  },
  {
   "cell_type": "code",
   "execution_count": null,
   "metadata": {},
   "outputs": [],
   "source": []
  }
 ],
 "metadata": {
  "deepnote": {},
  "deepnote_execution_queue": [],
  "deepnote_notebook_id": "cf8fe3695d074ee7887fdf6459cbf5ce",
  "kernelspec": {
   "display_name": "fastai-2.7.10",
   "language": "python",
   "name": "fastai-2.7.10"
  },
  "language_info": {
   "codemirror_mode": {
    "name": "ipython",
    "version": 3
   },
   "file_extension": ".py",
   "mimetype": "text/x-python",
   "name": "python",
   "nbconvert_exporter": "python",
   "pygments_lexer": "ipython3",
   "version": "3.10.4"
  }
 },
 "nbformat": 4,
 "nbformat_minor": 4
}

{
 "cells": [
  {
   "cell_type": "code",
   "execution_count": 1,
   "id": "82ef41fd-81ee-4fbe-80a0-e809e86f2323",
   "metadata": {
    "tags": []
   },
   "outputs": [],
   "source": [
    "import os\n",
    "import zipfile\n",
    "import shutil\n",
    "import subprocess\n",
    "\n",
    "\n",
    "\n"
   ]
  },
  {
   "cell_type": "code",
   "execution_count": 2,
   "id": "4b64a257-c8c8-45c9-ad81-09bce9fd7ff2",
   "metadata": {
    "tags": []
   },
   "outputs": [],
   "source": [
    "#!/usr/bin/env python3\n",
    "\"\"\"\n",
    "This script provides utilities for:\n",
    "\n",
    "1. Converting fMRI volumes into AAL3-based parcellations and saving time-series data (.dat files).\n",
    "2. Visualizing the AAL3 atlas.\n",
    "3. Generating example subsequences from fMRI data for modeling or analysis.\n",
    "\n",
    "Author: [Your Name]\n",
    "Date: [Optional: YYYY-MM-DD]\n",
    "\n",
    "Dependencies:\n",
    "- numpy\n",
    "- nibabel\n",
    "- nilearn\n",
    "- matplotlib\n",
    "- ipdb (optional, for debugging)\n",
    "- pandas\n",
    "- python >= 3.6\n",
    "\"\"\"\n",
    "\n",
    "import os\n",
    "import argparse\n",
    "import glob\n",
    "import pickle\n",
    "\n",
    "import numpy as np\n",
    "import nibabel as nib\n",
    "from nilearn import plotting\n",
    "import matplotlib.pyplot as plt\n",
    "\n",
    "from ipdb import set_trace\n",
    "\n",
    "\n"
   ]
  },
  {
   "cell_type": "code",
   "execution_count": 3,
   "id": "ce45261e-9d6f-47e8-81ed-b77182d8296c",
   "metadata": {
    "tags": []
   },
   "outputs": [],
   "source": [
    "# def convert_fMRIvols_to_AAL3(data_path, output_path):\n",
    "#     \"\"\"\n",
    "#     Convert 4D fMRI volumes into AAL3 parcellations.\n",
    "\n",
    "#     This function:\n",
    "#       1) Scans a given directory (data_path) for .nii.gz files.\n",
    "#       2) For each matching file, it loads an AAL3 atlas (hardcoded path) and the fMRI data.\n",
    "#       3) Reshapes the 4D fMRI volume into [n_voxels, n_timepoints], then extracts\n",
    "#          average time-series data for each AAL3 parcel (1 to 170).\n",
    "#       4) Saves the resulting time-series as a .dat file in 'output_path'.\n",
    "\n",
    "#     Args:\n",
    "#         data_path (str): Directory containing preprocessed fMRI volumes (.nii.gz).\n",
    "#         output_path (str): Directory where the parcellated time-series (.dat) files are saved.\n",
    "\n",
    "#     Notes:\n",
    "#         - The path for the AAL3 atlas is currently hardcoded as:\n",
    "#             '/orange/ruogu.fang/zeyun.zhao/FSL/bb_FSL/data/standard/AAL/AAL3.nii.gz'\n",
    "#         - The function is set to skip files unless they match a specific substring\n",
    "#           (\"1000023_20227_2_0_fMRI_in_MNI_space.nii.gz\") in this example code; adapt as needed.\n",
    "#         - Each .dat file is named after the original fMRI filename with '.nii.gz' removed.\n",
    "\n",
    "#     Returns:\n",
    "#         None\n",
    "#     \"\"\"\n",
    "#     paths = os.listdir(data_path)\n",
    "#     print(\"fMRI data path specified:\", data_path)\n",
    "#     print(\"Number of fMRI files found:\", len(paths))\n",
    "\n",
    "#     # Hardcoded AAL3 atlas path\n",
    "#     aal_path = '/orange/ruogu.fang/zeyun.zhao/FSL/bb_FSL/data/standard/AAL/AAL3.nii.gz'\n",
    "#     print(\"Atlas file:\", aal_path)\n",
    "\n",
    "#     # Load the atlas\n",
    "#     try:\n",
    "#         label_img = nib.load(aal_path)\n",
    "#         label_data = label_img.get_fdata()\n",
    "#         label_data = label_data.flatten()  # Flatten into 1D\n",
    "#         print(\"Atlas successfully loaded.\")\n",
    "#     except Exception as e:\n",
    "#         print(f'Error loading AAL3 atlas at {aal_path}: {str(e)}')\n",
    "#         return\n",
    "\n",
    "#     # Loop over all files in the directory\n",
    "#     for f in paths:\n",
    "#         file_path = os.path.join(data_path, f)\n",
    "\n",
    "#         # Example filter: proceed only if filename contains a specific substring\n",
    "#         if \"1000023_20227_2_0_fMRI_in_MNI_space.nii.gz\" not in f:\n",
    "#             continue\n",
    "\n",
    "#         # Process only .nii.gz files\n",
    "#         if \".nii.gz\" in f:\n",
    "#             print(f'Loading 4D image from {file_path}')\n",
    "#             try:\n",
    "#                 dts_img = nib.load(file_path)\n",
    "#                 dts_data = dts_img.get_fdata()\n",
    "#                 print(\"Loaded fMRI data.\")\n",
    "#             except Exception as e:\n",
    "#                 print(f'Error loading 4D fMRI file \"{f}\": {str(e)}')\n",
    "#                 continue\n",
    "\n",
    "#             try:\n",
    "#                 print(f\"Extracting AAL3 parcels for {f}...\")\n",
    "#                 # Reshape from (X, Y, Z, T) to (T, X*Y*Z)\n",
    "#                 flattened = dts_data.reshape((-1, dts_data.shape[-1])).T\n",
    "#                 n_timepoints = flattened.shape[0]\n",
    "\n",
    "#                 # AAL3 has 170 parcels (labeled 1 through 170)\n",
    "#                 n_parcels = 170\n",
    "#                 pmTS = np.zeros((n_timepoints, n_parcels))\n",
    "\n",
    "#                 # Compute mean signal for each parcel i\n",
    "#                 # The label_data is also flattened (same shape in spatial dims).\n",
    "#                 for i in range(1, n_parcels + 1):\n",
    "#                     parcel_mask = (label_data == i)\n",
    "#                     y = flattened[:, parcel_mask]\n",
    "#                     pmTS[:, i - 1] = np.nanmean(y, axis=1)\n",
    "\n",
    "#                 # Replace NaNs with 0\n",
    "#                 pmTS[np.isnan(pmTS)] = 0\n",
    "\n",
    "#                 # Save time series as .dat\n",
    "#                 save_name = f.split('.nii.gz')[0]\n",
    "#                 out_file = os.path.join(output_path, f'{save_name}.dat')\n",
    "#                 print(f\"Saving {out_file} with shape {pmTS.shape} (timepoints x parcels).\")\n",
    "#                 np.savetxt(out_file, pmTS, delimiter='\\t')\n",
    "\n",
    "#                 set_trace()  # Debug if needed\n",
    "#             except Exception as e:\n",
    "#                 print(f\"Error extracting or saving parcels for {f}: {str(e)}\")\n",
    "#         else:\n",
    "#             print(f\"Skipping non-NIfTI file: {f}\")\n",
    "\n",
    "\n",
    "# def show_AAL3(aal_template_path, save_dir):\n",
    "#     \"\"\"\n",
    "#     Visualize each region in the AAL3 atlas by generating separate PNGs.\n",
    "\n",
    "#     This function:\n",
    "#       - Loads the AAL3 template.\n",
    "#       - Iterates over all possible region indices (0 to 169 in this script).\n",
    "#       - For each region, creates a binary mask image, then uses nilearn.plotting.plot_roi\n",
    "#         to produce an orthographic display, saved as a PNG.\n",
    "\n",
    "#     Args:\n",
    "#         aal_template_path (str): Path to the AAL3 atlas NIfTI file (e.g., AAL3.nii.gz).\n",
    "#         save_dir (str): Directory where the visualization PNG files are saved.\n",
    "\n",
    "#     Returns:\n",
    "#         None\n",
    "#     \"\"\"\n",
    "#     output_image_path = os.path.join(save_dir, \"AAL.jpg\")\n",
    "\n",
    "#     try:\n",
    "#         label_img = nib.load(aal_template_path)\n",
    "#         label_data = label_img.get_fdata().reshape(91, 109, 91, 1)\n",
    "#     except Exception as e:\n",
    "#         print(f\"Error loading AAL3 atlas at {aal_template_path}: {str(e)}\")\n",
    "#         return\n",
    "\n",
    "#     set_trace()  # Debug if needed\n",
    "\n",
    "#     # AAL3 has 170 regions by default; adjust if needed\n",
    "#     for roi_index in range(170):\n",
    "#         # Create a binary mask for the current ROI\n",
    "#         roi_mask_data = (label_data == roi_index).astype(np.int16)\n",
    "#         roi_mask_img = nib.Nifti1Image(roi_mask_data, affine=label_img.affine)\n",
    "\n",
    "#         # Show ROI in an orthographic view\n",
    "#         display = plotting.plot_roi(\n",
    "#             roi_mask_img,\n",
    "#             title=f\"ROI Index {roi_index}\",\n",
    "#             display_mode='ortho',\n",
    "#             colorbar=True\n",
    "#         )\n",
    "#         # Save figure\n",
    "#         output_path = os.path.join(save_dir, f\"{roi_index}.png\")\n",
    "#         display.savefig(output_path)\n",
    "#         display.close()\n",
    "\n",
    "\n",
    "def generate_subsequences(fmri_data, subsequence_length=200, segment_length=20, num_segments=10):\n",
    "    \"\"\"\n",
    "    Sample random subsequences and segment them for each region of the fMRI data.\n",
    "\n",
    "    Given an fMRI dataset shaped (timepoints, regions):\n",
    "      1) Randomly sample a subsequence of length = subsequence_length (default 200) from the time dimension.\n",
    "      2) Split that subsequence into multiple (num_segments) segments, each of length segment_length.\n",
    "\n",
    "    Args:\n",
    "        fmri_data (np.ndarray): fMRI data shaped (T, R), where T=number of timepoints, R=number of regions.\n",
    "        subsequence_length (int): Length of the randomly sampled subsequence (default=200).\n",
    "        segment_length (int): Size of each segment (default=20).\n",
    "        num_segments (int): Number of segments per subsequence (default=10).\n",
    "\n",
    "    Returns:\n",
    "        list of np.ndarray:\n",
    "            A list containing one set of segments for each region. Each set is\n",
    "            a list of `num_segments` arrays, each of shape (segment_length,).\n",
    "\n",
    "    Raises:\n",
    "        AssertionError: If the split does not produce the expected number of segments.\n",
    "    \"\"\"\n",
    "    num_timesteps, num_regions = fmri_data.shape\n",
    "    subsequences = []\n",
    "\n",
    "    set_trace()  # Debug if needed\n",
    "\n",
    "    for i in range(num_regions):\n",
    "        # Random start index for the subsequence\n",
    "        start_idx = np.random.randint(0, num_timesteps - subsequence_length)\n",
    "        # Extract the subsequence for region i\n",
    "        subsequence = fmri_data[start_idx:start_idx + subsequence_length, i]\n",
    "        # Split the subsequence into smaller segments\n",
    "        segments = [subsequence[j:j + segment_length] for j in range(0, subsequence_length, segment_length)]\n",
    "        # Check we have exactly num_segments segments\n",
    "        assert len(segments) == num_segments, f\"Expected {num_segments} segments, got {len(segments)}\"\n",
    "        subsequences.append(segments)\n",
    "\n",
    "    return subsequences\n",
    "\n",
    "\n",
    "# def main():\n",
    "#     \"\"\"\n",
    "#     Main execution flow for testing and demonstration.\n",
    "\n",
    "#     1) Defines paths for the AAL3 template, an fMRI data directory, and an output directory.\n",
    "#     2) Optionally calls the show_AAL3() function to visualize the AAL3 atlas.\n",
    "#     3) Optionally calls the convert_fMRIvols_to_AAL3() function to parcellate .nii.gz data into .dat files.\n",
    "#     4) Demonstrates how to generate random subsequences from artificially-created fMRI data (490 timepoints, 90 regions).\n",
    "#     \"\"\"\n",
    "#     aal_template_path = '/orange/ruogu.fang/zeyun.zhao/FSL/bb_FSL/data/standard/AAL/AAL3.nii.gz'  \n",
    "#     output_path = \"/orange/ruogu.fang/zeyun.zhao/DATA/UKB_sub/rsfMRI_processed_nii/imgs\"\n",
    "#     fmri_data_path = '/orange/ruogu.fang/zeyun.zhao/DATA/UKB_sub/rsfMRI_processed_nii/Affined'\n",
    "\n",
    "#     # Uncomment if you want to visualize AAL3 regions\n",
    "#     # show_AAL3(aal_template_path, output_path)\n",
    "\n",
    "#     # Uncomment if you want to convert volumes in fmri_data_path\n",
    "#     # convert_fMRIvols_to_AAL3(fmri_data_path, output_path)\n",
    "\n",
    "#     # Example usage of generate_subsequences:\n",
    "#     print(\"Generating random example subsequences from mock data...\")\n",
    "#     fmri_data = np.random.rand(490, 90)  # (timepoints=490, regions=90)\n",
    "#     subsequences = generate_subsequences(fmri_data)\n",
    "#     set_trace()\n",
    "\n",
    "\n"
   ]
  },
  {
   "cell_type": "code",
   "execution_count": 4,
   "id": "0bf19f65-1311-4065-b9a6-99b59135a899",
   "metadata": {
    "tags": []
   },
   "outputs": [],
   "source": [
    "import os\n",
    "import numpy as np\n",
    "import nibabel as nib\n",
    "from typing import List\n",
    "\n"
   ]
  },
  {
   "cell_type": "code",
   "execution_count": 5,
   "id": "edfcf791-9281-4422-be7c-b261b6f8b728",
   "metadata": {
    "tags": []
   },
   "outputs": [],
   "source": [
    "\n",
    "# def list_nifti_files(\n",
    "#     data_path: str,\n",
    "#     filename_substring: str = None,\n",
    "#     extension: str = \".nii.gz\"\n",
    "# ) -> List[str]:\n",
    "#     \"\"\"\n",
    "#     Return a list of file paths in `data_path` that match the given extension\n",
    "#     and optionally contain a specified substring in the filename.\n",
    "#     \"\"\"\n",
    "#     files = []\n",
    "#     for fname in os.listdir(data_path):\n",
    "#         if fname.endswith(extension):\n",
    "#             if filename_substring is None or filename_substring in fname:\n",
    "#                 files.append(os.path.join(data_path, fname))\n",
    "#     return files\n",
    "\n",
    "def list_nifti_files(\n",
    "    data_path: str,\n",
    "    filename_substring: str = None,\n",
    "    extension: str = \".nii.gz\"\n",
    ") -> List[str]:\n",
    "    \"\"\"\n",
    "    Recursively search `data_path` for files matching a specific extension\n",
    "    (default: .nii.gz) and optionally filter by a substring in the filename.\n",
    "\n",
    "    Args:\n",
    "        data_path (str): The root directory to search.\n",
    "        filename_substring (str, optional): Only return files that contain this substring.\n",
    "        extension (str, optional): The file extension to match (default: '.nii.gz').\n",
    "\n",
    "    Returns:\n",
    "        List[str]: A list of full file paths that match the criteria.\n",
    "    \"\"\"\n",
    "    # Construct a pattern to match all files with the given extension in any subdirectory\n",
    "    pattern = os.path.join(data_path, '**', f'*{extension}')\n",
    "    \n",
    "    # Use glob with recursive=True to find all matching files\n",
    "    matched_files = glob.glob(pattern, recursive=True)\n",
    "\n",
    "    # If a substring is specified, filter further\n",
    "    if filename_substring is not None:\n",
    "        matched_files = [\n",
    "            f for f in matched_files\n",
    "            if filename_substring in os.path.basename(f)\n",
    "        ]\n",
    "\n",
    "    return matched_files\n",
    "\n",
    "def load_atlas(atlas_path: str) -> np.ndarray:\n",
    "    \"\"\"\n",
    "    Load a NIfTI atlas from `atlas_path` and return it as a flattened NumPy array.\n",
    "    \"\"\"\n",
    "    try:\n",
    "        atlas_img = nib.load(atlas_path)\n",
    "        atlas_data = atlas_img.get_fdata()\n",
    "        return atlas_data.flatten()\n",
    "    except Exception as e:\n",
    "        raise IOError(f\"Failed to load atlas at {atlas_path}: {str(e)}\")\n",
    "\n",
    "def extract_parcel_timeseries(\n",
    "    fmri_path: str,\n",
    "    label_data: np.ndarray,\n",
    "    n_parcels: int = 170\n",
    ") -> np.ndarray:\n",
    "    \"\"\"\n",
    "    Load a 4D fMRI volume from `fmri_path`, reshape it, and compute mean time series\n",
    "    for each of the `n_parcels` in `label_data`. Assumes labels 1..n_parcels.\n",
    "    Returns a 2D array of shape (timepoints, parcels).\n",
    "    \"\"\"\n",
    "    fmri_img = nib.load(fmri_path)\n",
    "    fmri_data = fmri_img.get_fdata()\n",
    "    \n",
    "    # Flatten spatial dimensions, transpose so shape is (timepoints, voxels)\n",
    "    flattened = fmri_data.reshape((-1, fmri_data.shape[-1])).T\n",
    "    n_timepoints = flattened.shape[0]\n",
    "\n",
    "    # Initialize output array\n",
    "    pmTS = np.zeros((n_timepoints, n_parcels))\n",
    "\n",
    "    for i in range(1, n_parcels + 1):\n",
    "        parcel_mask = (label_data == i)\n",
    "        y = flattened[:, parcel_mask]  # shape: (timepoints, #voxels_in_parcel)\n",
    "        pmTS[:, i - 1] = np.nanmean(y, axis=1)\n",
    "\n",
    "    # Replace NaNs with 0\n",
    "    pmTS[np.isnan(pmTS)] = 0\n",
    "    return pmTS\n",
    "\n",
    "def save_timeseries(pmTS: np.ndarray, out_file: str):\n",
    "    \"\"\"\n",
    "    Save time series (2D NumPy array) to a .dat file using tab delimiters.\n",
    "    \"\"\"\n",
    "    np.savetxt(out_file, pmTS, delimiter='\\t')\n",
    "\n",
    "def convert_fMRIvols_to_parcels(\n",
    "    data_path: str,\n",
    "    atlas_path: str,\n",
    "    filename_substring: str = None,\n",
    "    n_parcels: int = 170\n",
    ") -> None:\n",
    "    \"\"\"\n",
    "    Convert 4D fMRI volumes into parcel-based time series using a provided atlas,\n",
    "    and store the output .dat files in the SAME folder as the input .nii.gz files.\n",
    "\n",
    "    Steps:\n",
    "      1) List .nii.gz files in `data_path`. Optionally filter by `filename_substring`.\n",
    "      2) Load `atlas_path` as a flattened array of integer labels.\n",
    "      3) For each fMRI file, load and reshape the 4D volume to (voxels x time).\n",
    "      4) Compute average time series for each parcel label (1..n_parcels).\n",
    "      5) Save the resulting matrix as a .dat file in the same folder as the input fMRI file.\n",
    "\n",
    "    Args:\n",
    "        data_path (str): Directory of 4D fMRI .nii.gz files.\n",
    "        atlas_path (str): Path to the NIfTI atlas (e.g., AAL3).\n",
    "        filename_substring (str, optional): Only process files containing this substring.\n",
    "        n_parcels (int, optional): Number of parcels expected in the atlas.\n",
    "\n",
    "    Returns:\n",
    "        None\n",
    "    \"\"\"\n",
    "    fmri_files = list_nifti_files(data_path, filename_substring)\n",
    "    print(f\"Found {len(fmri_files)} files in '{data_path}' matching criteria.\")\n",
    "\n",
    "    # Load the atlas\n",
    "    try:\n",
    "        label_data = load_atlas(atlas_path)\n",
    "        print(f\"Atlas loaded successfully from: {atlas_path}\")\n",
    "    except IOError as e:\n",
    "        print(str(e))\n",
    "        return\n",
    "\n",
    "    for fmri_path in fmri_files:\n",
    "        filename = os.path.basename(fmri_path)\n",
    "        print(f\"Processing file: {filename}\")\n",
    "\n",
    "        try:\n",
    "            pmTS = extract_parcel_timeseries(fmri_path, label_data, n_parcels=n_parcels)\n",
    "        except Exception as e:\n",
    "            print(f\"Error extracting time series for {filename}: {str(e)}\")\n",
    "            continue\n",
    "\n",
    "        # Build output path in the SAME folder\n",
    "        out_dir = os.path.dirname(fmri_path)\n",
    "        base_name = filename.replace(\".nii.gz\", \"\")\n",
    "        out_file = os.path.join(out_dir, f\"{base_name}.dat\")\n",
    "\n",
    "        try:\n",
    "            save_timeseries(pmTS, out_file)\n",
    "            print(f\"Saved parcellated time series to: {out_file}\")\n",
    "        except Exception as e:\n",
    "            print(f\"Error saving time series for {filename}: {str(e)}\")\n",
    "\n",
    "\n",
    "# Example usage (comment out if placing in a module):\n",
    "# convert_fMRIvols_to_parcels(\n",
    "#     data_path=\"/path/to/fmri/files\",\n",
    "#     atlas_path=\"/path/to/AAL3.nii.gz\",\n",
    "#     filename_substring=\"fMRI_in_MNI_space\",\n",
    "#     n_parcels=170\n",
    "# )"
   ]
  },
  {
   "cell_type": "code",
   "execution_count": 13,
   "id": "61b52b05-3ab6-4e4c-b382-05434e1f0e48",
   "metadata": {
    "tags": []
   },
   "outputs": [],
   "source": [
    "import numpy as np\n",
    "\n",
    "def generate_subsequences(\n",
    "    fmri_data: np.ndarray,\n",
    "    subsequence_length: int = 200,\n",
    "    segment_length: int = 20,\n",
    "    num_segments: int = 10\n",
    "):\n",
    "    \"\"\"\n",
    "    Sample non-overlapping subsequences and segment them for each region of the fMRI data.\n",
    "\n",
    "    Given an fMRI dataset shaped (timepoints, regions):\n",
    "      1) Determine how many non-overlapping intervals of length = `subsequence_length`\n",
    "         can fit into the time dimension.\n",
    "      2) Randomly choose `num_regions` distinct intervals (start indices).\n",
    "      3) For each region, extract the subsequence from its assigned interval and\n",
    "         then split that subsequence into multiple segments, each of length\n",
    "         `segment_length`.\n",
    "      4) Return a list of these segment sets, one set per region.\n",
    "\n",
    "    Args:\n",
    "        fmri_data (np.ndarray): fMRI data shaped (T, R),\n",
    "                                where T = number of timepoints,\n",
    "                                      R = number of regions.\n",
    "        subsequence_length (int): Length of the subsequence to extract (default=200).\n",
    "        segment_length (int): Size of each segment (default=20).\n",
    "        num_segments (int): Number of segments in each subsequence (default=10).\n",
    "\n",
    "    Returns:\n",
    "        list of list of np.ndarray:\n",
    "            A list of length R, where each element is a list of `num_segments`\n",
    "            arrays, each array having shape (segment_length,).\n",
    "\n",
    "    Raises:\n",
    "        ValueError: If there aren't enough timepoints to assign distinct subsequences\n",
    "                    to all regions.\n",
    "        AssertionError: If any subsequence does not split into the expected number\n",
    "                        of segments.\n",
    "    \"\"\"\n",
    "    num_timesteps, num_regions = fmri_data.shape\n",
    "    \n",
    "    # 1) Figure out how many distinct non-overlapping intervals of subsequence_length fit\n",
    "    max_nonoverlapping_intervals = num_timesteps // subsequence_length\n",
    "    if num_regions > max_nonoverlapping_intervals:\n",
    "        raise ValueError(\n",
    "            f\"Not enough time for {num_regions} non-overlapping subsequences of \"\n",
    "            f\"length {subsequence_length} in {num_timesteps} timepoints.\"\n",
    "        )\n",
    "\n",
    "    # 2) Build a list of possible start indices for these non-overlapping intervals\n",
    "    possible_starts = [\n",
    "        i * subsequence_length for i in range(max_nonoverlapping_intervals)\n",
    "    ]\n",
    "    # Randomly shuffle and pick the first 'num_regions' starts\n",
    "    np.random.shuffle(possible_starts)\n",
    "    chosen_starts = possible_starts[:num_regions]\n",
    "\n",
    "    subsequences = []\n",
    "\n",
    "    # 3) For each region, get the subsequence from the chosen start index\n",
    "    for region_idx in range(num_regions):\n",
    "        start_idx = chosen_starts[region_idx]\n",
    "        # Extract the subsequence for this region\n",
    "        subsequence = fmri_data[start_idx : start_idx + subsequence_length, region_idx]\n",
    "\n",
    "        # 4) Split the subsequence into segments\n",
    "        segments = [\n",
    "            subsequence[j : j + segment_length]\n",
    "            for j in range(0, subsequence_length, segment_length)\n",
    "        ]\n",
    "        # Ensure we got the exact number of segments\n",
    "        assert len(segments) == num_segments, (\n",
    "            f\"Expected {num_segments} segments, got {len(segments)} for region {region_idx}.\"\n",
    "        )\n",
    "\n",
    "        subsequences.append(segments)\n",
    "\n",
    "    return subsequences"
   ]
  },
  {
   "cell_type": "code",
   "execution_count": 15,
   "id": "1b6f822e-63a2-4750-974f-499a9c64c7e6",
   "metadata": {
    "tags": []
   },
   "outputs": [],
   "source": [
    "def pairwise_column_correlation(data: np.ndarray) -> np.ndarray:\n",
    "    \"\"\"\n",
    "    Calculate the Pearson correlation for all pairs of columns\n",
    "    in the given 2D NumPy array.\n",
    "\n",
    "    Each column is treated as a variable, and each row is an observation.\n",
    "\n",
    "    Args:\n",
    "        data (np.ndarray): 2D array with shape (T, R), where:\n",
    "                           T = number of rows (observations),\n",
    "                           R = number of columns (variables).\n",
    "\n",
    "    Returns:\n",
    "        np.ndarray: A 2D array of shape (R, R) containing the pairwise\n",
    "                    Pearson correlation coefficients.\n",
    "    \"\"\"\n",
    "    # rowvar=False indicates each column is a variable (like \"feature\"),\n",
    "    # and rows are observations.\n",
    "    corr_matrix = np.corrcoef(data, rowvar=False)\n",
    "    return corr_matrix"
   ]
  },
  {
   "cell_type": "code",
   "execution_count": 6,
   "id": "d8072584-7129-42df-8e08-dc32faea21b4",
   "metadata": {
    "tags": []
   },
   "outputs": [
    {
     "data": {
      "text/plain": [
       "['/blue/ruogu.fang/ryoi360/projects/fmri_vlm/data/UKB/brain/AD/20227_rsfMRI_NIFTI/rsfmri_unzip/1565751_20227_2_0/fMRI/rfMRI.ica/filtered_func_data_clean_MNI.nii.gz',\n",
       " '/blue/ruogu.fang/ryoi360/projects/fmri_vlm/data/UKB/brain/AD/20227_rsfMRI_NIFTI/rsfmri_unzip/1714333_20227_2_0/fMRI/rfMRI.ica/filtered_func_data_clean_MNI.nii.gz']"
      ]
     },
     "execution_count": 6,
     "metadata": {},
     "output_type": "execute_result"
    }
   ],
   "source": [
    "list_nifti_files(\"/blue/ruogu.fang/ryoi360/projects/fmri_vlm/data/UKB/brain/AD\", filename_substring=\"MNI\")"
   ]
  },
  {
   "cell_type": "code",
   "execution_count": 7,
   "id": "9b160931-39fe-43db-b837-adb69c9cb5c7",
   "metadata": {
    "tags": []
   },
   "outputs": [
    {
     "name": "stdout",
     "output_type": "stream",
     "text": [
      "Found 2 files in '/blue/ruogu.fang/ryoi360/projects/fmri_vlm/data/UKB/brain/AD' matching criteria.\n",
      "Atlas loaded successfully from: /blue/ruogu.fang/ryoi360/projects/fmri_vlm/data/UKB/brain/AAL3.nii.gz\n",
      "Processing file: filtered_func_data_clean_MNI.nii.gz\n"
     ]
    },
    {
     "name": "stderr",
     "output_type": "stream",
     "text": [
      "/scratch/local/57213319/ipykernel_3340448/1624577564.py:83: RuntimeWarning: Mean of empty slice\n",
      "  pmTS[:, i - 1] = np.nanmean(y, axis=1)\n"
     ]
    },
    {
     "name": "stdout",
     "output_type": "stream",
     "text": [
      "Saved parcellated time series to: /blue/ruogu.fang/ryoi360/projects/fmri_vlm/data/UKB/brain/AD/20227_rsfMRI_NIFTI/rsfmri_unzip/1565751_20227_2_0/fMRI/rfMRI.ica/filtered_func_data_clean_MNI.dat\n",
      "Processing file: filtered_func_data_clean_MNI.nii.gz\n",
      "Saved parcellated time series to: /blue/ruogu.fang/ryoi360/projects/fmri_vlm/data/UKB/brain/AD/20227_rsfMRI_NIFTI/rsfmri_unzip/1714333_20227_2_0/fMRI/rfMRI.ica/filtered_func_data_clean_MNI.dat\n"
     ]
    }
   ],
   "source": [
    "convert_fMRIvols_to_parcels(\n",
    "    data_path=\"/blue/ruogu.fang/ryoi360/projects/fmri_vlm/data/UKB/brain/AD\",\n",
    "    atlas_path=\"/blue/ruogu.fang/ryoi360/projects/fmri_vlm/data/UKB/brain/AAL3.nii.gz\",\n",
    "    filename_substring=\"MNI\")"
   ]
  },
  {
   "cell_type": "code",
   "execution_count": 26,
   "id": "296e712a-b22f-419c-9197-8f7cf1e8d531",
   "metadata": {
    "tags": []
   },
   "outputs": [
    {
     "name": "stdout",
     "output_type": "stream",
     "text": [
      "Found 3 files in '/blue/ruogu.fang/ryoi360/projects/fmri_vlm/data/UKB/brain/PD' matching criteria.\n",
      "Atlas loaded successfully from: /blue/ruogu.fang/ryoi360/projects/fmri_vlm/data/UKB/brain/AAL3.nii.gz\n",
      "Processing file: filtered_func_data_clean_MNI.nii.gz\n"
     ]
    },
    {
     "name": "stderr",
     "output_type": "stream",
     "text": [
      "/scratch/local/57213319/ipykernel_3340448/1624577564.py:83: RuntimeWarning: Mean of empty slice\n",
      "  pmTS[:, i - 1] = np.nanmean(y, axis=1)\n"
     ]
    },
    {
     "name": "stdout",
     "output_type": "stream",
     "text": [
      "Saved parcellated time series to: /blue/ruogu.fang/ryoi360/projects/fmri_vlm/data/UKB/brain/PD/20227_rsfMRI_NIFTI/rsfmri_unzip/1080638_20227_2_0/fMRI/rfMRI.ica/filtered_func_data_clean_MNI.dat\n",
      "Processing file: filtered_func_data_clean_MNI.nii.gz\n",
      "Saved parcellated time series to: /blue/ruogu.fang/ryoi360/projects/fmri_vlm/data/UKB/brain/PD/20227_rsfMRI_NIFTI/rsfmri_unzip/3912201_20227_2_0/fMRI/rfMRI.ica/filtered_func_data_clean_MNI.dat\n",
      "Processing file: filtered_func_data_clean_MNI.nii.gz\n",
      "Saved parcellated time series to: /blue/ruogu.fang/ryoi360/projects/fmri_vlm/data/UKB/brain/PD/20227_rsfMRI_NIFTI/rsfmri_unzip/2624428_20227_2_0/fMRI/rfMRI.ica/filtered_func_data_clean_MNI.dat\n"
     ]
    }
   ],
   "source": [
    "convert_fMRIvols_to_parcels(\n",
    "    data_path=\"/blue/ruogu.fang/ryoi360/projects/fmri_vlm/data/UKB/brain/PD\",\n",
    "    atlas_path=\"/blue/ruogu.fang/ryoi360/projects/fmri_vlm/data/UKB/brain/AAL3.nii.gz\",\n",
    "    filename_substring=\"MNI\")"
   ]
  },
  {
   "cell_type": "code",
   "execution_count": 27,
   "id": "5094d561-3126-47d7-89e7-066b27a1b0dc",
   "metadata": {
    "tags": []
   },
   "outputs": [
    {
     "name": "stdout",
     "output_type": "stream",
     "text": [
      "Found 20 files in '/blue/ruogu.fang/ryoi360/projects/fmri_vlm/data/UKB/brain/control' matching criteria.\n",
      "Atlas loaded successfully from: /blue/ruogu.fang/ryoi360/projects/fmri_vlm/data/UKB/brain/AAL3.nii.gz\n",
      "Processing file: filtered_func_data_clean_MNI.nii.gz\n"
     ]
    },
    {
     "name": "stderr",
     "output_type": "stream",
     "text": [
      "/scratch/local/57213319/ipykernel_3340448/1624577564.py:83: RuntimeWarning: Mean of empty slice\n",
      "  pmTS[:, i - 1] = np.nanmean(y, axis=1)\n"
     ]
    },
    {
     "name": "stdout",
     "output_type": "stream",
     "text": [
      "Saved parcellated time series to: /blue/ruogu.fang/ryoi360/projects/fmri_vlm/data/UKB/brain/control/20227_rsfMRI_NIFTI/rsfmri_unzip/1013014_20227_2_0/fMRI/rfMRI.ica/filtered_func_data_clean_MNI.dat\n",
      "Processing file: filtered_func_data_clean_MNI.nii.gz\n",
      "Saved parcellated time series to: /blue/ruogu.fang/ryoi360/projects/fmri_vlm/data/UKB/brain/control/20227_rsfMRI_NIFTI/rsfmri_unzip/1013317_20227_2_0/fMRI/rfMRI.ica/filtered_func_data_clean_MNI.dat\n",
      "Processing file: filtered_func_data_clean_MNI.nii.gz\n",
      "Saved parcellated time series to: /blue/ruogu.fang/ryoi360/projects/fmri_vlm/data/UKB/brain/control/20227_rsfMRI_NIFTI/rsfmri_unzip/1005844_20227_2_0/fMRI/rfMRI.ica/filtered_func_data_clean_MNI.dat\n",
      "Processing file: filtered_func_data_clean_MNI.nii.gz\n",
      "Saved parcellated time series to: /blue/ruogu.fang/ryoi360/projects/fmri_vlm/data/UKB/brain/control/20227_rsfMRI_NIFTI/rsfmri_unzip/1021171_20227_2_0/fMRI/rfMRI.ica/filtered_func_data_clean_MNI.dat\n",
      "Processing file: filtered_func_data_clean_MNI.nii.gz\n",
      "Saved parcellated time series to: /blue/ruogu.fang/ryoi360/projects/fmri_vlm/data/UKB/brain/control/20227_rsfMRI_NIFTI/rsfmri_unzip/1004075_20227_2_0/fMRI/rfMRI.ica/filtered_func_data_clean_MNI.dat\n",
      "Processing file: filtered_func_data_clean_MNI.nii.gz\n",
      "Saved parcellated time series to: /blue/ruogu.fang/ryoi360/projects/fmri_vlm/data/UKB/brain/control/20227_rsfMRI_NIFTI/rsfmri_unzip/1020838_20227_2_0/fMRI/rfMRI.ica/filtered_func_data_clean_MNI.dat\n",
      "Processing file: filtered_func_data_clean_MNI.nii.gz\n",
      "Saved parcellated time series to: /blue/ruogu.fang/ryoi360/projects/fmri_vlm/data/UKB/brain/control/20227_rsfMRI_NIFTI/rsfmri_unzip/1018093_20227_2_0/fMRI/rfMRI.ica/filtered_func_data_clean_MNI.dat\n",
      "Processing file: filtered_func_data_clean_MNI.nii.gz\n",
      "Saved parcellated time series to: /blue/ruogu.fang/ryoi360/projects/fmri_vlm/data/UKB/brain/control/20227_rsfMRI_NIFTI/rsfmri_unzip/1007005_20227_2_0/fMRI/rfMRI.ica/filtered_func_data_clean_MNI.dat\n",
      "Processing file: filtered_func_data_clean_MNI.nii.gz\n",
      "Saved parcellated time series to: /blue/ruogu.fang/ryoi360/projects/fmri_vlm/data/UKB/brain/control/20227_rsfMRI_NIFTI/rsfmri_unzip/1011685_20227_2_0/fMRI/rfMRI.ica/filtered_func_data_clean_MNI.dat\n",
      "Processing file: filtered_func_data_clean_MNI.nii.gz\n",
      "Saved parcellated time series to: /blue/ruogu.fang/ryoi360/projects/fmri_vlm/data/UKB/brain/control/20227_rsfMRI_NIFTI/rsfmri_unzip/1010128_20227_2_0/fMRI/rfMRI.ica/filtered_func_data_clean_MNI.dat\n",
      "Processing file: filtered_func_data_clean_MNI.nii.gz\n",
      "Saved parcellated time series to: /blue/ruogu.fang/ryoi360/projects/fmri_vlm/data/UKB/brain/control/20227_rsfMRI_NIFTI/rsfmri_unzip/1000086_20227_2_0/fMRI/rfMRI.ica/filtered_func_data_clean_MNI.dat\n",
      "Processing file: filtered_func_data_clean_MNI.nii.gz\n",
      "Saved parcellated time series to: /blue/ruogu.fang/ryoi360/projects/fmri_vlm/data/UKB/brain/control/20227_rsfMRI_NIFTI/rsfmri_unzip/1005674_20227_2_0/fMRI/rfMRI.ica/filtered_func_data_clean_MNI.dat\n",
      "Processing file: filtered_func_data_clean_MNI.nii.gz\n",
      "Saved parcellated time series to: /blue/ruogu.fang/ryoi360/projects/fmri_vlm/data/UKB/brain/control/20227_rsfMRI_NIFTI/rsfmri_unzip/1000768_20227_2_0/fMRI/rfMRI.ica/filtered_func_data_clean_MNI.dat\n",
      "Processing file: filtered_func_data_clean_MNI.nii.gz\n",
      "Saved parcellated time series to: /blue/ruogu.fang/ryoi360/projects/fmri_vlm/data/UKB/brain/control/20227_rsfMRI_NIFTI/rsfmri_unzip/1015022_20227_2_0/fMRI/rfMRI.ica/filtered_func_data_clean_MNI.dat\n",
      "Processing file: filtered_func_data_clean_MNI.nii.gz\n",
      "Saved parcellated time series to: /blue/ruogu.fang/ryoi360/projects/fmri_vlm/data/UKB/brain/control/20227_rsfMRI_NIFTI/rsfmri_unzip/1001900_20227_2_0/fMRI/rfMRI.ica/filtered_func_data_clean_MNI.dat\n",
      "Processing file: filtered_func_data_clean_MNI.nii.gz\n",
      "Saved parcellated time series to: /blue/ruogu.fang/ryoi360/projects/fmri_vlm/data/UKB/brain/control/20227_rsfMRI_NIFTI/rsfmri_unzip/1000665_20227_2_0/fMRI/rfMRI.ica/filtered_func_data_clean_MNI.dat\n",
      "Processing file: filtered_func_data_clean_MNI.nii.gz\n",
      "Saved parcellated time series to: /blue/ruogu.fang/ryoi360/projects/fmri_vlm/data/UKB/brain/control/20227_rsfMRI_NIFTI/rsfmri_unzip/1002819_20227_2_0/fMRI/rfMRI.ica/filtered_func_data_clean_MNI.dat\n",
      "Processing file: filtered_func_data_clean_MNI.nii.gz\n",
      "Saved parcellated time series to: /blue/ruogu.fang/ryoi360/projects/fmri_vlm/data/UKB/brain/control/20227_rsfMRI_NIFTI/rsfmri_unzip/1003639_20227_2_0/fMRI/rfMRI.ica/filtered_func_data_clean_MNI.dat\n",
      "Processing file: filtered_func_data_clean_MNI.nii.gz\n",
      "Saved parcellated time series to: /blue/ruogu.fang/ryoi360/projects/fmri_vlm/data/UKB/brain/control/20227_rsfMRI_NIFTI/rsfmri_unzip/1011903_20227_2_0/fMRI/rfMRI.ica/filtered_func_data_clean_MNI.dat\n",
      "Processing file: filtered_func_data_clean_MNI.nii.gz\n",
      "Saved parcellated time series to: /blue/ruogu.fang/ryoi360/projects/fmri_vlm/data/UKB/brain/control/20227_rsfMRI_NIFTI/rsfmri_unzip/1007815_20227_2_0/fMRI/rfMRI.ica/filtered_func_data_clean_MNI.dat\n"
     ]
    }
   ],
   "source": [
    "convert_fMRIvols_to_parcels(\n",
    "    data_path=\"/blue/ruogu.fang/ryoi360/projects/fmri_vlm/data/UKB/brain/control\",\n",
    "    atlas_path=\"/blue/ruogu.fang/ryoi360/projects/fmri_vlm/data/UKB/brain/AAL3.nii.gz\",\n",
    "    filename_substring=\"MNI\")"
   ]
  },
  {
   "cell_type": "code",
   "execution_count": 8,
   "id": "a25c23e8-6bf0-4308-8af9-e89041435a9b",
   "metadata": {
    "tags": []
   },
   "outputs": [],
   "source": [
    "def load_dat_file(filepath: str, delimiter: str = '\\t') -> np.ndarray:\n",
    "    \"\"\"\n",
    "    Load a .dat file into a NumPy array.\n",
    "\n",
    "    Args:\n",
    "        filepath (str): Path to the .dat file.\n",
    "        delimiter (str, optional): The delimiter used in the .dat file. \n",
    "                                   Default is tab ('\\\\t').\n",
    "\n",
    "    Returns:\n",
    "        np.ndarray: The data from the .dat file as a NumPy array.\n",
    "    \"\"\"\n",
    "    # loadtxt will automatically infer rows/columns based on the file\n",
    "    data = np.loadtxt(filepath, delimiter=delimiter)\n",
    "    return data\n",
    "\n",
    "# Example usage:\n",
    "# file_path = 'path/to/your_file.dat'\n",
    "# data_array = load_dat_file(file_path)\n",
    "# print(\"Data shape:\", data_array.shape)\n",
    "# print(\"First few rows:\\n\", data_array[:5])"
   ]
  },
  {
   "cell_type": "code",
   "execution_count": 28,
   "id": "78330d26-2fa2-4fd3-a5f4-bad0c2764080",
   "metadata": {
    "tags": []
   },
   "outputs": [],
   "source": [
    "def load_all_subject_dat(root_dir: str, pattern: str = \"**/*.dat\") -> dict:\n",
    "    \"\"\"\n",
    "    Recursively search `root_dir` for all .dat files, load each file, and store\n",
    "    them in a dictionary keyed by the subject ID (folder name).\n",
    "\n",
    "    Args:\n",
    "        root_dir (str): The top-level directory to search.\n",
    "        pattern (str, optional): Glob pattern. Default is '**/*.dat', which\n",
    "                                 searches all subdirectories for .dat files.\n",
    "\n",
    "    Returns:\n",
    "        dict: Keys are subject IDs (the name of the folder containing the file),\n",
    "              values are the NumPy arrays loaded from the .dat files.\n",
    "    \"\"\"\n",
    "    subject_data = {}\n",
    "\n",
    "    # Find all .dat files under root_dir\n",
    "    all_dat_files = glob.glob(os.path.join(root_dir, pattern), recursive=True)\n",
    "\n",
    "    for filepath in all_dat_files:\n",
    "        # Example: /path/to/root_dir/sub-01/something.dat\n",
    "        # subject_id would be 'sub-01' if that's the immediate parent folder\n",
    "        subject_id = os.path.basename(os.path.dirname(filepath))\n",
    "\n",
    "        data_array = load_dat_file(filepath)\n",
    "        subject_data[subject_id] = data_array\n",
    "\n",
    "    return subject_data"
   ]
  },
  {
   "cell_type": "code",
   "execution_count": 39,
   "id": "10e9997b-d71e-4a4f-87fc-c01ee7a3c73f",
   "metadata": {
    "tags": []
   },
   "outputs": [],
   "source": [
    "all_dat_files = glob.glob(\"/blue/ruogu.fang/ryoi360/projects/fmri_vlm/data/UKB/brain/*/*/*unzip*/*/fMRI/*/*.dat\")"
   ]
  },
  {
   "cell_type": "code",
   "execution_count": 40,
   "id": "269414d7-2db2-446a-bfa0-355f770147fc",
   "metadata": {
    "tags": []
   },
   "outputs": [],
   "source": [
    "def parse_group_and_subject_id(filepath: str) -> (str, str):\n",
    "    \"\"\"\n",
    "    Parse a path of the form:\n",
    "        /.../PD/20227_rsfMRI_NIFTI/rsfmri_unzip/1080638_20227_2_0/fMRI/rfMRI.ica/filtered_func_data_clean_MNI.dat\n",
    "    to extract:\n",
    "        group = 'PD'\n",
    "        subject_id = '1080638'\n",
    "\n",
    "    Args:\n",
    "        filepath (str): The full file path.\n",
    "\n",
    "    Returns:\n",
    "        (str, str): A tuple (group, subject_id).\n",
    "    \"\"\"\n",
    "    # Split the path into parts\n",
    "    parts = filepath.split(os.sep)\n",
    "    # Example parts:\n",
    "    # [\n",
    "    #   '', 'blue', 'ruogu.fang', 'ryoi360', 'projects', 'fmri_vlm', 'data', 'UKB', 'brain',\n",
    "    #   'PD', '20227_rsfMRI_NIFTI', 'rsfmri_unzip', '1080638_20227_2_0', 'fMRI',\n",
    "    #   'rfMRI.ica', 'filtered_func_data_clean_MNI.dat'\n",
    "    # ]\n",
    "\n",
    "    # 1) Extract group from a known position; in this example, it's parts[9].\n",
    "    group = parts[9]  # e.g., 'PD'\n",
    "\n",
    "    # 2) The subject folder name is parts[12]. For instance '1080638_20227_2_0'.\n",
    "    subject_folder = parts[12]\n",
    "    # Extract the subject ID by splitting on underscore and taking the first chunk.\n",
    "    subject_id = subject_folder.split('_')[0]  # e.g., '1080638'\n",
    "\n",
    "    return group, subject_id"
   ]
  },
  {
   "cell_type": "code",
   "execution_count": 42,
   "id": "043a239e-6a87-4e8c-87f0-40debf35f20e",
   "metadata": {
    "tags": []
   },
   "outputs": [],
   "source": [
    "from collections import defaultdict"
   ]
  },
  {
   "cell_type": "code",
   "execution_count": 46,
   "id": "b8fb160f-32c9-46c0-bc34-c2d06f2bce68",
   "metadata": {
    "tags": []
   },
   "outputs": [],
   "source": [
    "id_to_dict = defaultdict(dict)\n",
    "for file_path in all_dat_files:\n",
    "    group, subject_id = parse_group_and_subject_id(file_path)\n",
    "    id_to_dict[subject_id][\"group\"] = group\n",
    "    id_to_dict[subject_id][\"bold_arr\"] = load_dat_file(file_path)\n",
    "    id_to_dict[subject_id][\"corr_matrix\"] = pairwise_column_correlation(id_to_dict[subject_id][\"bold_arr\"])"
   ]
  },
  {
   "cell_type": "code",
   "execution_count": 51,
   "id": "4510b74d-a807-493b-b124-4f1537da0a74",
   "metadata": {
    "tags": []
   },
   "outputs": [],
   "source": [
    "fmri_df = pd.DataFrame.from_dict(id_to_dict, orient=\"index\")"
   ]
  },
  {
   "cell_type": "code",
   "execution_count": 53,
   "id": "1c4cfb56-6bb2-4465-b972-13ea81d264db",
   "metadata": {
    "tags": []
   },
   "outputs": [],
   "source": [
    "fmri_df = fmri_df.reset_index()"
   ]
  },
  {
   "cell_type": "code",
   "execution_count": 56,
   "id": "65ee6b9d-7f4a-4915-bad5-5c924a7514ee",
   "metadata": {
    "tags": []
   },
   "outputs": [],
   "source": [
    "fmri_df[\"id_odd_or_even\"] = fmri_df[\"index\"].astype(int).apply(lambda x: x % 2 == 0)"
   ]
  },
  {
   "cell_type": "code",
   "execution_count": 61,
   "id": "34c56222-086e-41dc-9018-a92e7d4de4e7",
   "metadata": {
    "tags": []
   },
   "outputs": [],
   "source": [
    "fmri_df[\"baseline\"] = (fmri_df[\"group\"] == \"control\") & (fmri_df[\"id_odd_or_even\"] == True)"
   ]
  },
  {
   "cell_type": "code",
   "execution_count": 62,
   "id": "e15def56-f40b-465a-b09b-f37b60b912dc",
   "metadata": {
    "tags": []
   },
   "outputs": [
    {
     "data": {
      "text/html": [
       "<div>\n",
       "<style scoped>\n",
       "    .dataframe tbody tr th:only-of-type {\n",
       "        vertical-align: middle;\n",
       "    }\n",
       "\n",
       "    .dataframe tbody tr th {\n",
       "        vertical-align: top;\n",
       "    }\n",
       "\n",
       "    .dataframe thead th {\n",
       "        text-align: right;\n",
       "    }\n",
       "</style>\n",
       "<table border=\"1\" class=\"dataframe\">\n",
       "  <thead>\n",
       "    <tr style=\"text-align: right;\">\n",
       "      <th></th>\n",
       "      <th>index</th>\n",
       "      <th>group</th>\n",
       "      <th>bold_arr</th>\n",
       "      <th>corr_matrix</th>\n",
       "      <th>id_odd_or_even</th>\n",
       "      <th>baseline</th>\n",
       "    </tr>\n",
       "  </thead>\n",
       "  <tbody>\n",
       "    <tr>\n",
       "      <th>0</th>\n",
       "      <td>1080638</td>\n",
       "      <td>PD</td>\n",
       "      <td>[[4939.057823152287, 10958.907044729725, 4983....</td>\n",
       "      <td>[[0.9999999999999999, 0.1857165690564201, 0.25...</td>\n",
       "      <td>True</td>\n",
       "      <td>False</td>\n",
       "    </tr>\n",
       "    <tr>\n",
       "      <th>1</th>\n",
       "      <td>3912201</td>\n",
       "      <td>PD</td>\n",
       "      <td>[[2330.1448758509573, 11109.145230464348, 1853...</td>\n",
       "      <td>[[0.9999999999999998, 0.563850224587867, 0.550...</td>\n",
       "      <td>False</td>\n",
       "      <td>False</td>\n",
       "    </tr>\n",
       "    <tr>\n",
       "      <th>2</th>\n",
       "      <td>2624428</td>\n",
       "      <td>PD</td>\n",
       "      <td>[[3387.5494932498164, 10085.910710540476, 3114...</td>\n",
       "      <td>[[0.9999999999999998, 0.8958240969983267, 0.74...</td>\n",
       "      <td>True</td>\n",
       "      <td>False</td>\n",
       "    </tr>\n",
       "    <tr>\n",
       "      <th>3</th>\n",
       "      <td>1013014</td>\n",
       "      <td>control</td>\n",
       "      <td>[[3195.2888963562787, 14138.177237238591, 4228...</td>\n",
       "      <td>[[1.0, 0.4757426072404447, 0.17334303960399244...</td>\n",
       "      <td>True</td>\n",
       "      <td>True</td>\n",
       "    </tr>\n",
       "    <tr>\n",
       "      <th>4</th>\n",
       "      <td>1013317</td>\n",
       "      <td>control</td>\n",
       "      <td>[[3055.4551621744463, 13380.706479922972, 3604...</td>\n",
       "      <td>[[1.0, 0.8552293538309268, 0.5479695519711071,...</td>\n",
       "      <td>False</td>\n",
       "      <td>False</td>\n",
       "    </tr>\n",
       "  </tbody>\n",
       "</table>\n",
       "</div>"
      ],
      "text/plain": [
       "     index    group                                           bold_arr  \\\n",
       "0  1080638       PD  [[4939.057823152287, 10958.907044729725, 4983....   \n",
       "1  3912201       PD  [[2330.1448758509573, 11109.145230464348, 1853...   \n",
       "2  2624428       PD  [[3387.5494932498164, 10085.910710540476, 3114...   \n",
       "3  1013014  control  [[3195.2888963562787, 14138.177237238591, 4228...   \n",
       "4  1013317  control  [[3055.4551621744463, 13380.706479922972, 3604...   \n",
       "\n",
       "                                         corr_matrix  id_odd_or_even  baseline  \n",
       "0  [[0.9999999999999999, 0.1857165690564201, 0.25...            True     False  \n",
       "1  [[0.9999999999999998, 0.563850224587867, 0.550...           False     False  \n",
       "2  [[0.9999999999999998, 0.8958240969983267, 0.74...            True     False  \n",
       "3  [[1.0, 0.4757426072404447, 0.17334303960399244...            True      True  \n",
       "4  [[1.0, 0.8552293538309268, 0.5479695519711071,...           False     False  "
      ]
     },
     "execution_count": 62,
     "metadata": {},
     "output_type": "execute_result"
    }
   ],
   "source": [
    "fmri_df.head()"
   ]
  },
  {
   "cell_type": "code",
   "execution_count": 63,
   "id": "747130db-1021-44f9-931c-513a5286bd40",
   "metadata": {
    "tags": []
   },
   "outputs": [
    {
     "data": {
      "text/html": [
       "<div>\n",
       "<style scoped>\n",
       "    .dataframe tbody tr th:only-of-type {\n",
       "        vertical-align: middle;\n",
       "    }\n",
       "\n",
       "    .dataframe tbody tr th {\n",
       "        vertical-align: top;\n",
       "    }\n",
       "\n",
       "    .dataframe thead th {\n",
       "        text-align: right;\n",
       "    }\n",
       "</style>\n",
       "<table border=\"1\" class=\"dataframe\">\n",
       "  <thead>\n",
       "    <tr style=\"text-align: right;\">\n",
       "      <th></th>\n",
       "      <th>index</th>\n",
       "      <th>group</th>\n",
       "      <th>bold_arr</th>\n",
       "      <th>corr_matrix</th>\n",
       "      <th>id_odd_or_even</th>\n",
       "      <th>baseline</th>\n",
       "    </tr>\n",
       "  </thead>\n",
       "  <tbody>\n",
       "    <tr>\n",
       "      <th>20</th>\n",
       "      <td>1003639</td>\n",
       "      <td>control</td>\n",
       "      <td>[[2275.088215387728, 11884.866670997635, 2076....</td>\n",
       "      <td>[[1.0, 0.8589694541363802, 0.6393752977470762,...</td>\n",
       "      <td>False</td>\n",
       "      <td>False</td>\n",
       "    </tr>\n",
       "    <tr>\n",
       "      <th>21</th>\n",
       "      <td>1011903</td>\n",
       "      <td>control</td>\n",
       "      <td>[[2408.1432084705907, 10454.311263056217, 3041...</td>\n",
       "      <td>[[0.9999999999999999, 0.641602758239139, 0.368...</td>\n",
       "      <td>False</td>\n",
       "      <td>False</td>\n",
       "    </tr>\n",
       "    <tr>\n",
       "      <th>22</th>\n",
       "      <td>1007815</td>\n",
       "      <td>control</td>\n",
       "      <td>[[2685.573042608092, 10096.8285560251, 1459.93...</td>\n",
       "      <td>[[0.9999999999999998, 0.5746605702022838, 0.14...</td>\n",
       "      <td>False</td>\n",
       "      <td>False</td>\n",
       "    </tr>\n",
       "    <tr>\n",
       "      <th>23</th>\n",
       "      <td>1565751</td>\n",
       "      <td>AD</td>\n",
       "      <td>[[1092.377286530055, 12427.607279035157, 1371....</td>\n",
       "      <td>[[1.0, 0.14729506612579832, 0.1840513083309353...</td>\n",
       "      <td>False</td>\n",
       "      <td>False</td>\n",
       "    </tr>\n",
       "    <tr>\n",
       "      <th>24</th>\n",
       "      <td>1714333</td>\n",
       "      <td>AD</td>\n",
       "      <td>[[3449.3159941366903, 12473.739904673344, 4350...</td>\n",
       "      <td>[[1.0, 0.8158525944417093, 0.27754538126297906...</td>\n",
       "      <td>False</td>\n",
       "      <td>False</td>\n",
       "    </tr>\n",
       "  </tbody>\n",
       "</table>\n",
       "</div>"
      ],
      "text/plain": [
       "      index    group                                           bold_arr  \\\n",
       "20  1003639  control  [[2275.088215387728, 11884.866670997635, 2076....   \n",
       "21  1011903  control  [[2408.1432084705907, 10454.311263056217, 3041...   \n",
       "22  1007815  control  [[2685.573042608092, 10096.8285560251, 1459.93...   \n",
       "23  1565751       AD  [[1092.377286530055, 12427.607279035157, 1371....   \n",
       "24  1714333       AD  [[3449.3159941366903, 12473.739904673344, 4350...   \n",
       "\n",
       "                                          corr_matrix  id_odd_or_even  \\\n",
       "20  [[1.0, 0.8589694541363802, 0.6393752977470762,...           False   \n",
       "21  [[0.9999999999999999, 0.641602758239139, 0.368...           False   \n",
       "22  [[0.9999999999999998, 0.5746605702022838, 0.14...           False   \n",
       "23  [[1.0, 0.14729506612579832, 0.1840513083309353...           False   \n",
       "24  [[1.0, 0.8158525944417093, 0.27754538126297906...           False   \n",
       "\n",
       "    baseline  \n",
       "20     False  \n",
       "21     False  \n",
       "22     False  \n",
       "23     False  \n",
       "24     False  "
      ]
     },
     "execution_count": 63,
     "metadata": {},
     "output_type": "execute_result"
    }
   ],
   "source": [
    "fmri_df.tail()"
   ]
  },
  {
   "cell_type": "markdown",
   "id": "c020496e-97c1-4152-8665-21ad2fd74bc4",
   "metadata": {},
   "source": [
    "# Calculating the average of the control group"
   ]
  },
  {
   "cell_type": "code",
   "execution_count": 82,
   "id": "ea35e71f-21ad-4609-b6da-d8804cf29f8f",
   "metadata": {
    "tags": []
   },
   "outputs": [],
   "source": [
    "def average_connectivity_matrices(fc_matrices):\n",
    "    \"\"\"\n",
    "    Given a list of 2D NumPy arrays (functional connectivity matrices) all of the\n",
    "    same shape, compute the element-wise mean across them.\n",
    "\n",
    "    Args:\n",
    "        fc_matrices (List[np.ndarray]): List of 2D arrays, each of shape (R, R).\n",
    "\n",
    "    Returns:\n",
    "        np.ndarray: A 2D array of shape (R, R), where each element is the mean\n",
    "                    of the corresponding elements across all matrices in the list.\n",
    "    \"\"\"\n",
    "    # Stack the list of matrices along a new axis, creating a 3D array of shape (N, R, R),\n",
    "    # where N is the number of matrices.\n",
    "    stacked = np.stack(fc_matrices, axis=0)\n",
    "    # Compute the mean over the first axis (the N dimension).\n",
    "    mean_matrix = np.mean(stacked, axis=0)\n",
    "    return np.round(mean_matrix, 2)"
   ]
  },
  {
   "cell_type": "code",
   "execution_count": 83,
   "id": "868f0bbd-eea9-4b71-b880-7a96a0a3cbc6",
   "metadata": {
    "tags": []
   },
   "outputs": [],
   "source": [
    "def std_connectivity_matrices(fc_matrices):\n",
    "    \"\"\"\n",
    "    Given a list of 2D NumPy arrays (functional connectivity matrices) all of the\n",
    "    same shape, compute the element-wise mean across them.\n",
    "\n",
    "    Args:\n",
    "        fc_matrices (List[np.ndarray]): List of 2D arrays, each of shape (R, R).\n",
    "\n",
    "    Returns:\n",
    "        np.ndarray: A 2D array of shape (R, R), where each element is the mean\n",
    "                    of the corresponding elements across all matrices in the list.\n",
    "    \"\"\"\n",
    "    # Stack the list of matrices along a new axis, creating a 3D array of shape (N, R, R),\n",
    "    # where N is the number of matrices.\n",
    "    stacked = np.stack(fc_matrices, axis=0)\n",
    "    # Compute the mean over the first axis (the N dimension).\n",
    "    std_matrix = np.std(stacked, axis=0)\n",
    "    return np.round(std_matrix, 2)"
   ]
  },
  {
   "cell_type": "code",
   "execution_count": 84,
   "id": "4cd20af4-06db-4d4d-be21-e89103a3895c",
   "metadata": {
    "tags": []
   },
   "outputs": [],
   "source": [
    "baseline_mean_corr = average_connectivity_matrices(fmri_df[fmri_df[\"baseline\"]][\"corr_matrix\"].to_list())"
   ]
  },
  {
   "cell_type": "code",
   "execution_count": 85,
   "id": "e0f8669f-5575-40ce-9f9f-6567fd10ac6c",
   "metadata": {
    "tags": []
   },
   "outputs": [],
   "source": [
    "baseline_std_corr = std_connectivity_matrices(fmri_df[fmri_df[\"baseline\"]][\"corr_matrix\"].to_list())"
   ]
  },
  {
   "cell_type": "code",
   "execution_count": 86,
   "id": "104ad795-d860-4ab1-a79f-cbf927787b35",
   "metadata": {
    "tags": []
   },
   "outputs": [
    {
     "data": {
      "text/plain": [
       "array([[0.  , 0.16, 0.22, ..., 0.14, 0.06, 0.08],\n",
       "       [0.16, 0.  , 0.27, ..., 0.15, 0.07, 0.14],\n",
       "       [0.22, 0.27, 0.  , ..., 0.11, 0.07, 0.13],\n",
       "       ...,\n",
       "       [0.14, 0.15, 0.11, ..., 0.  , 0.05, 0.06],\n",
       "       [0.06, 0.07, 0.07, ..., 0.05, 0.  , 0.06],\n",
       "       [0.08, 0.14, 0.13, ..., 0.06, 0.06, 0.  ]], shape=(170, 170))"
      ]
     },
     "execution_count": 86,
     "metadata": {},
     "output_type": "execute_result"
    }
   ],
   "source": [
    "baseline_std_corr"
   ]
  },
  {
   "cell_type": "code",
   "execution_count": 87,
   "id": "8558b398-a2dd-4b47-87f1-8038acaded91",
   "metadata": {
    "tags": []
   },
   "outputs": [
    {
     "data": {
      "text/plain": [
       "array([[ 1.  ,  0.56,  0.21, ...,  0.01,  0.01,  0.  ],\n",
       "       [ 0.56,  1.  ,  0.31, ...,  0.01,  0.02, -0.  ],\n",
       "       [ 0.21,  0.31,  1.  , ..., -0.  , -0.01,  0.03],\n",
       "       ...,\n",
       "       [ 0.01,  0.01, -0.  , ...,  1.  ,  0.01, -0.02],\n",
       "       [ 0.01,  0.02, -0.01, ...,  0.01,  1.  , -0.01],\n",
       "       [ 0.  , -0.  ,  0.03, ..., -0.02, -0.01,  1.  ]], shape=(170, 170))"
      ]
     },
     "execution_count": 87,
     "metadata": {},
     "output_type": "execute_result"
    }
   ],
   "source": [
    "baseline_mean_corr"
   ]
  },
  {
   "cell_type": "code",
   "execution_count": 94,
   "id": "a8826106-0771-4580-8dcf-118db29bed74",
   "metadata": {
    "tags": []
   },
   "outputs": [],
   "source": [
    "def compute_zscore(\n",
    "    data_matrix: np.ndarray,\n",
    "    mean_matrix: np.ndarray,\n",
    "    std_matrix: np.ndarray\n",
    ") -> np.ndarray:\n",
    "    \"\"\"\n",
    "    Compute z-scores element-wise for 'data_matrix', based on provided \n",
    "    mean_matrix and std_matrix of the same shape.\n",
    "\n",
    "    Z = (data - mean) / std\n",
    "\n",
    "    Args:\n",
    "        data_matrix (np.ndarray): Array of data values (e.g., shape (M, N)).\n",
    "        mean_matrix (np.ndarray): Array of mean values, same shape as data_matrix.\n",
    "        std_matrix (np.ndarray): Array of std values, same shape as data_matrix.\n",
    "\n",
    "    Returns:\n",
    "        np.ndarray: A z-score matrix of the same shape as data_matrix.\n",
    "                    If std=0 for any element, that position will be NaN.\n",
    "    \"\"\"\n",
    "    # Prevent division by zero: replace zeros in std_matrix with np.nan\n",
    "    safe_std_matrix = np.where(std_matrix == 0, np.nan, std_matrix)\n",
    "\n",
    "    # Compute z-score element-wise\n",
    "    z_matrix = (data_matrix - mean_matrix) / safe_std_matrix\n",
    "    return np.nan_to_num(z_matrix, nan=0)"
   ]
  },
  {
   "cell_type": "code",
   "execution_count": 95,
   "id": "d3d0e3d4-a1fc-4b90-971c-052941b22f08",
   "metadata": {
    "tags": []
   },
   "outputs": [],
   "source": [
    "fmri_df[\"z_score_matrix\"] = fmri_df.apply(lambda x: compute_zscore(x[\"corr_matrix\"], baseline_mean_corr, baseline_std_corr), axis=1)"
   ]
  },
  {
   "cell_type": "code",
   "execution_count": 96,
   "id": "d2770054-3258-445b-ae6a-566f0beedd02",
   "metadata": {
    "tags": []
   },
   "outputs": [
    {
     "data": {
      "text/html": [
       "<div>\n",
       "<style scoped>\n",
       "    .dataframe tbody tr th:only-of-type {\n",
       "        vertical-align: middle;\n",
       "    }\n",
       "\n",
       "    .dataframe tbody tr th {\n",
       "        vertical-align: top;\n",
       "    }\n",
       "\n",
       "    .dataframe thead th {\n",
       "        text-align: right;\n",
       "    }\n",
       "</style>\n",
       "<table border=\"1\" class=\"dataframe\">\n",
       "  <thead>\n",
       "    <tr style=\"text-align: right;\">\n",
       "      <th></th>\n",
       "      <th>index</th>\n",
       "      <th>group</th>\n",
       "      <th>bold_arr</th>\n",
       "      <th>corr_matrix</th>\n",
       "      <th>id_odd_or_even</th>\n",
       "      <th>baseline</th>\n",
       "      <th>z_score_matrix</th>\n",
       "    </tr>\n",
       "  </thead>\n",
       "  <tbody>\n",
       "    <tr>\n",
       "      <th>0</th>\n",
       "      <td>1080638</td>\n",
       "      <td>PD</td>\n",
       "      <td>[[4939.057823152287, 10958.907044729725, 4983....</td>\n",
       "      <td>[[0.9999999999999999, 0.1857165690564201, 0.25...</td>\n",
       "      <td>True</td>\n",
       "      <td>False</td>\n",
       "      <td>[[0.0, -2.339271443397375, 0.2219054315262979,...</td>\n",
       "    </tr>\n",
       "    <tr>\n",
       "      <th>1</th>\n",
       "      <td>3912201</td>\n",
       "      <td>PD</td>\n",
       "      <td>[[2330.1448758509573, 11109.145230464348, 1853...</td>\n",
       "      <td>[[0.9999999999999998, 0.563850224587867, 0.550...</td>\n",
       "      <td>False</td>\n",
       "      <td>False</td>\n",
       "      <td>[[0.0, 0.02406390367416869, 1.547277344451915,...</td>\n",
       "    </tr>\n",
       "    <tr>\n",
       "      <th>2</th>\n",
       "      <td>2624428</td>\n",
       "      <td>PD</td>\n",
       "      <td>[[3387.5494932498164, 10085.910710540476, 3114...</td>\n",
       "      <td>[[0.9999999999999998, 0.8958240969983267, 0.74...</td>\n",
       "      <td>True</td>\n",
       "      <td>False</td>\n",
       "      <td>[[0.0, 2.0989006062395412, 2.4432882105716853,...</td>\n",
       "    </tr>\n",
       "    <tr>\n",
       "      <th>3</th>\n",
       "      <td>1013014</td>\n",
       "      <td>control</td>\n",
       "      <td>[[3195.2888963562787, 14138.177237238591, 4228...</td>\n",
       "      <td>[[1.0, 0.4757426072404447, 0.17334303960399244...</td>\n",
       "      <td>True</td>\n",
       "      <td>True</td>\n",
       "      <td>[[0.0, -0.5266087047472209, -0.166622547254579...</td>\n",
       "    </tr>\n",
       "    <tr>\n",
       "      <th>4</th>\n",
       "      <td>1013317</td>\n",
       "      <td>control</td>\n",
       "      <td>[[3055.4551621744463, 13380.706479922972, 3604...</td>\n",
       "      <td>[[1.0, 0.8552293538309268, 0.5479695519711071,...</td>\n",
       "      <td>False</td>\n",
       "      <td>False</td>\n",
       "      <td>[[0.0, 1.845183461443292, 1.536225236232305, 2...</td>\n",
       "    </tr>\n",
       "  </tbody>\n",
       "</table>\n",
       "</div>"
      ],
      "text/plain": [
       "     index    group                                           bold_arr  \\\n",
       "0  1080638       PD  [[4939.057823152287, 10958.907044729725, 4983....   \n",
       "1  3912201       PD  [[2330.1448758509573, 11109.145230464348, 1853...   \n",
       "2  2624428       PD  [[3387.5494932498164, 10085.910710540476, 3114...   \n",
       "3  1013014  control  [[3195.2888963562787, 14138.177237238591, 4228...   \n",
       "4  1013317  control  [[3055.4551621744463, 13380.706479922972, 3604...   \n",
       "\n",
       "                                         corr_matrix  id_odd_or_even  \\\n",
       "0  [[0.9999999999999999, 0.1857165690564201, 0.25...            True   \n",
       "1  [[0.9999999999999998, 0.563850224587867, 0.550...           False   \n",
       "2  [[0.9999999999999998, 0.8958240969983267, 0.74...            True   \n",
       "3  [[1.0, 0.4757426072404447, 0.17334303960399244...            True   \n",
       "4  [[1.0, 0.8552293538309268, 0.5479695519711071,...           False   \n",
       "\n",
       "   baseline                                     z_score_matrix  \n",
       "0     False  [[0.0, -2.339271443397375, 0.2219054315262979,...  \n",
       "1     False  [[0.0, 0.02406390367416869, 1.547277344451915,...  \n",
       "2     False  [[0.0, 2.0989006062395412, 2.4432882105716853,...  \n",
       "3      True  [[0.0, -0.5266087047472209, -0.166622547254579...  \n",
       "4     False  [[0.0, 1.845183461443292, 1.536225236232305, 2...  "
      ]
     },
     "execution_count": 96,
     "metadata": {},
     "output_type": "execute_result"
    }
   ],
   "source": [
    "fmri_df.head()"
   ]
  },
  {
   "cell_type": "code",
   "execution_count": 97,
   "id": "c420de11-6fbd-4294-a344-f6bb2c478e77",
   "metadata": {
    "tags": []
   },
   "outputs": [
    {
     "data": {
      "text/plain": [
       "array([[ 0.        , -2.33927144,  0.22190543, ..., -0.26877269,\n",
       "         2.18208227, -1.15748236],\n",
       "       [-2.33927144,  0.        ,  0.33334668, ...,  0.10839085,\n",
       "         1.53087697, -0.89155821],\n",
       "       [ 0.22190543,  0.33334668,  0.        , ..., -0.71028236,\n",
       "         1.31087912, -0.37850623],\n",
       "       ...,\n",
       "       [-0.26877269,  0.10839085, -0.71028236, ...,  0.        ,\n",
       "         0.62841552, -0.80928803],\n",
       "       [ 2.18208227,  1.53087697,  1.31087912, ...,  0.62841552,\n",
       "         0.        ,  0.82958834],\n",
       "       [-1.15748236, -0.89155821, -0.37850623, ..., -0.80928803,\n",
       "         0.82958834,  0.        ]], shape=(170, 170))"
      ]
     },
     "execution_count": 97,
     "metadata": {},
     "output_type": "execute_result"
    }
   ],
   "source": [
    "fmri_df[\"z_score_matrix\"].iloc[0]"
   ]
  },
  {
   "cell_type": "code",
   "execution_count": 100,
   "id": "6d977a7c-4274-41e3-8e2d-0af0904fdffd",
   "metadata": {
    "tags": []
   },
   "outputs": [
    {
     "data": {
      "text/plain": [
       "np.float64(3.8446569850719023)"
      ]
     },
     "execution_count": 100,
     "metadata": {},
     "output_type": "execute_result"
    }
   ],
   "source": [
    "fmri_df[\"z_score_matrix\"].iloc[0].max()"
   ]
  },
  {
   "cell_type": "code",
   "execution_count": 102,
   "id": "b6d4ad88-9c59-4508-a548-2c34c8289123",
   "metadata": {
    "tags": []
   },
   "outputs": [
    {
     "data": {
      "text/plain": [
       "np.float64(-8.066684745724414)"
      ]
     },
     "execution_count": 102,
     "metadata": {},
     "output_type": "execute_result"
    }
   ],
   "source": [
    "fmri_df[\"z_score_matrix\"].iloc[0].min()"
   ]
  },
  {
   "cell_type": "code",
   "execution_count": 115,
   "id": "f2652052-1e22-47d6-9cc3-314f10b1971a",
   "metadata": {
    "tags": []
   },
   "outputs": [],
   "source": [
    "def extract_unique_pairs(zmatrix, region_list):\n",
    "    \"\"\"\n",
    "    For each pair of distinct indices (i, j) in zmatrix, where i < j,\n",
    "    record the value in a dict keyed by \"Region_i-Region_j\".\n",
    "\n",
    "    Args:\n",
    "        zmatrix (np.ndarray): An (n x n) connectivity/z-score matrix.\n",
    "        region_list (List[str]): A list of region names with length n.\n",
    "\n",
    "    Returns:\n",
    "        dict: Keys are \"Region_i-Region_j\" (with i<j), \n",
    "              values are the zmatrix[i, j] entries.\n",
    "    \"\"\"\n",
    "    pair_dict = {}\n",
    "    n = len(region_list)\n",
    "    for i in range(n):\n",
    "        for j in range(i + 1, n):\n",
    "            val = zmatrix[i, j]\n",
    "            key = f\"{region_list[i]}-{region_list[j]}\"\n",
    "            pair_dict[key] = val\n",
    "    return pair_dict"
   ]
  },
  {
   "cell_type": "code",
   "execution_count": 20,
   "id": "4a8ac5ad-cde9-46b2-b25b-7f894db1fc03",
   "metadata": {
    "tags": []
   },
   "outputs": [],
   "source": [
    "roi_df = pd.read_csv(\"../../data/UKB/brain/ROI_MNI_V6_vol.txt\", sep=\"\\t\")"
   ]
  },
  {
   "cell_type": "code",
   "execution_count": 22,
   "id": "a2b66351-40bf-4988-be7d-03c96781daee",
   "metadata": {
    "tags": []
   },
   "outputs": [
    {
     "data": {
      "text/html": [
       "<div>\n",
       "<style scoped>\n",
       "    .dataframe tbody tr th:only-of-type {\n",
       "        vertical-align: middle;\n",
       "    }\n",
       "\n",
       "    .dataframe tbody tr th {\n",
       "        vertical-align: top;\n",
       "    }\n",
       "\n",
       "    .dataframe thead th {\n",
       "        text-align: right;\n",
       "    }\n",
       "</style>\n",
       "<table border=\"1\" class=\"dataframe\">\n",
       "  <thead>\n",
       "    <tr style=\"text-align: right;\">\n",
       "      <th></th>\n",
       "      <th>nom_c</th>\n",
       "      <th>nom_l</th>\n",
       "      <th>color</th>\n",
       "      <th>vol_vox</th>\n",
       "      <th>vol_mm3</th>\n",
       "    </tr>\n",
       "  </thead>\n",
       "  <tbody>\n",
       "    <tr>\n",
       "      <th>0</th>\n",
       "      <td>FAL</td>\n",
       "      <td>Precentral_L</td>\n",
       "      <td>1</td>\n",
       "      <td>3526</td>\n",
       "      <td>28208</td>\n",
       "    </tr>\n",
       "    <tr>\n",
       "      <th>1</th>\n",
       "      <td>FAR</td>\n",
       "      <td>Precentral_R</td>\n",
       "      <td>2</td>\n",
       "      <td>3381</td>\n",
       "      <td>27048</td>\n",
       "    </tr>\n",
       "    <tr>\n",
       "      <th>2</th>\n",
       "      <td>F1_2L</td>\n",
       "      <td>Frontal_Sup_2_L</td>\n",
       "      <td>3</td>\n",
       "      <td>4870</td>\n",
       "      <td>38960</td>\n",
       "    </tr>\n",
       "    <tr>\n",
       "      <th>3</th>\n",
       "      <td>F1_2R</td>\n",
       "      <td>Frontal_Sup_2_R</td>\n",
       "      <td>4</td>\n",
       "      <td>5126</td>\n",
       "      <td>41008</td>\n",
       "    </tr>\n",
       "    <tr>\n",
       "      <th>4</th>\n",
       "      <td>F2_2L</td>\n",
       "      <td>Frontal_Mid_2_L</td>\n",
       "      <td>5</td>\n",
       "      <td>4507</td>\n",
       "      <td>36056</td>\n",
       "    </tr>\n",
       "  </tbody>\n",
       "</table>\n",
       "</div>"
      ],
      "text/plain": [
       "   nom_c            nom_l  color  vol_vox  vol_mm3\n",
       "0    FAL     Precentral_L      1     3526    28208\n",
       "1    FAR     Precentral_R      2     3381    27048\n",
       "2  F1_2L  Frontal_Sup_2_L      3     4870    38960\n",
       "3  F1_2R  Frontal_Sup_2_R      4     5126    41008\n",
       "4  F2_2L  Frontal_Mid_2_L      5     4507    36056"
      ]
     },
     "execution_count": 22,
     "metadata": {},
     "output_type": "execute_result"
    }
   ],
   "source": [
    "roi_df.head()"
   ]
  },
  {
   "cell_type": "code",
   "execution_count": 123,
   "id": "c06f9162-4820-4704-8807-a6b113985160",
   "metadata": {
    "tags": []
   },
   "outputs": [],
   "source": [
    "# 4) Apply the function to each row's z-score matrix and store the dict in a new column.\n",
    "fmri_df[\"all_pairs\"] = fmri_df[\"z_score_matrix\"].apply(\n",
    "    lambda mat: extract_unique_pairs(mat, roi_df[\"nom_l\"])\n",
    ")"
   ]
  },
  {
   "cell_type": "code",
   "execution_count": 126,
   "id": "9c2971c6-96de-4432-9f36-ecceabec5a2a",
   "metadata": {
    "tags": []
   },
   "outputs": [],
   "source": [
    "fmri_df[\"significant_pairs\"] = fmri_df[\"all_pairs\"].apply(lambda x: {k:v for k,v in x.items() if v >= 8 or v <= -8})"
   ]
  },
  {
   "cell_type": "code",
   "execution_count": 127,
   "id": "3ba7ff48-b0ae-4be1-aca6-cddaf0cc0727",
   "metadata": {
    "tags": []
   },
   "outputs": [
    {
     "data": {
      "text/plain": [
       "0      1\n",
       "1      0\n",
       "2     27\n",
       "3      0\n",
       "4      5\n",
       "5      0\n",
       "6     10\n",
       "7      1\n",
       "8      0\n",
       "9      0\n",
       "10     1\n",
       "11     2\n",
       "12     0\n",
       "13     0\n",
       "14     0\n",
       "15     0\n",
       "16     0\n",
       "17     0\n",
       "18     0\n",
       "19     1\n",
       "20    21\n",
       "21     6\n",
       "22     2\n",
       "23     3\n",
       "24    28\n",
       "Name: significant_pairs, dtype: int64"
      ]
     },
     "execution_count": 127,
     "metadata": {},
     "output_type": "execute_result"
    }
   ],
   "source": [
    "fmri_df[\"significant_pairs\"].apply(lambda x: len(x))"
   ]
  },
  {
   "cell_type": "code",
   "execution_count": 128,
   "id": "d4a89907-68c4-4cea-9cf0-f122ae2c211d",
   "metadata": {
    "tags": []
   },
   "outputs": [
    {
     "data": {
      "text/html": [
       "<div>\n",
       "<style scoped>\n",
       "    .dataframe tbody tr th:only-of-type {\n",
       "        vertical-align: middle;\n",
       "    }\n",
       "\n",
       "    .dataframe tbody tr th {\n",
       "        vertical-align: top;\n",
       "    }\n",
       "\n",
       "    .dataframe thead th {\n",
       "        text-align: right;\n",
       "    }\n",
       "</style>\n",
       "<table border=\"1\" class=\"dataframe\">\n",
       "  <thead>\n",
       "    <tr style=\"text-align: right;\">\n",
       "      <th></th>\n",
       "      <th>group</th>\n",
       "      <th>baseline</th>\n",
       "      <th>significant_pairs</th>\n",
       "    </tr>\n",
       "  </thead>\n",
       "  <tbody>\n",
       "    <tr>\n",
       "      <th>0</th>\n",
       "      <td>PD</td>\n",
       "      <td>False</td>\n",
       "      <td>{'Cuneus_L-Occipital_Mid_R': -8.066684745724414}</td>\n",
       "    </tr>\n",
       "    <tr>\n",
       "      <th>1</th>\n",
       "      <td>PD</td>\n",
       "      <td>False</td>\n",
       "      <td>{}</td>\n",
       "    </tr>\n",
       "    <tr>\n",
       "      <th>2</th>\n",
       "      <td>PD</td>\n",
       "      <td>False</td>\n",
       "      <td>{'Frontal_Sup_2_L-VTA_L': 9.762065216144292, '...</td>\n",
       "    </tr>\n",
       "    <tr>\n",
       "      <th>3</th>\n",
       "      <td>control</td>\n",
       "      <td>True</td>\n",
       "      <td>{}</td>\n",
       "    </tr>\n",
       "    <tr>\n",
       "      <th>4</th>\n",
       "      <td>control</td>\n",
       "      <td>False</td>\n",
       "      <td>{'Hippocampus_R-VTA_L': 8.632206774656252, 'Oc...</td>\n",
       "    </tr>\n",
       "    <tr>\n",
       "      <th>5</th>\n",
       "      <td>control</td>\n",
       "      <td>True</td>\n",
       "      <td>{}</td>\n",
       "    </tr>\n",
       "    <tr>\n",
       "      <th>6</th>\n",
       "      <td>control</td>\n",
       "      <td>False</td>\n",
       "      <td>{'Insula_R-Thal_VPL_R': -8.20303079434688, 'Cu...</td>\n",
       "    </tr>\n",
       "    <tr>\n",
       "      <th>7</th>\n",
       "      <td>control</td>\n",
       "      <td>False</td>\n",
       "      <td>{'Supp_Motor_Area_L-Paracentral_Lobule_R': -11...</td>\n",
       "    </tr>\n",
       "    <tr>\n",
       "      <th>8</th>\n",
       "      <td>control</td>\n",
       "      <td>True</td>\n",
       "      <td>{}</td>\n",
       "    </tr>\n",
       "    <tr>\n",
       "      <th>9</th>\n",
       "      <td>control</td>\n",
       "      <td>False</td>\n",
       "      <td>{}</td>\n",
       "    </tr>\n",
       "    <tr>\n",
       "      <th>10</th>\n",
       "      <td>control</td>\n",
       "      <td>False</td>\n",
       "      <td>{'Supp_Motor_Area_L-Paracentral_Lobule_R': -9....</td>\n",
       "    </tr>\n",
       "    <tr>\n",
       "      <th>11</th>\n",
       "      <td>control</td>\n",
       "      <td>False</td>\n",
       "      <td>{'Supp_Motor_Area_L-Supp_Motor_Area_R': -8.082...</td>\n",
       "    </tr>\n",
       "    <tr>\n",
       "      <th>12</th>\n",
       "      <td>control</td>\n",
       "      <td>True</td>\n",
       "      <td>{}</td>\n",
       "    </tr>\n",
       "    <tr>\n",
       "      <th>13</th>\n",
       "      <td>control</td>\n",
       "      <td>True</td>\n",
       "      <td>{}</td>\n",
       "    </tr>\n",
       "    <tr>\n",
       "      <th>14</th>\n",
       "      <td>control</td>\n",
       "      <td>True</td>\n",
       "      <td>{}</td>\n",
       "    </tr>\n",
       "    <tr>\n",
       "      <th>15</th>\n",
       "      <td>control</td>\n",
       "      <td>True</td>\n",
       "      <td>{}</td>\n",
       "    </tr>\n",
       "    <tr>\n",
       "      <th>16</th>\n",
       "      <td>control</td>\n",
       "      <td>True</td>\n",
       "      <td>{}</td>\n",
       "    </tr>\n",
       "    <tr>\n",
       "      <th>17</th>\n",
       "      <td>control</td>\n",
       "      <td>True</td>\n",
       "      <td>{}</td>\n",
       "    </tr>\n",
       "    <tr>\n",
       "      <th>18</th>\n",
       "      <td>control</td>\n",
       "      <td>False</td>\n",
       "      <td>{}</td>\n",
       "    </tr>\n",
       "    <tr>\n",
       "      <th>19</th>\n",
       "      <td>control</td>\n",
       "      <td>False</td>\n",
       "      <td>{'Occipital_Sup_R-Vermis_4_5': -8.18817484657757}</td>\n",
       "    </tr>\n",
       "    <tr>\n",
       "      <th>20</th>\n",
       "      <td>control</td>\n",
       "      <td>False</td>\n",
       "      <td>{'Frontal_Inf_Oper_R-Thal_MDm_L': 8.0867695855...</td>\n",
       "    </tr>\n",
       "    <tr>\n",
       "      <th>21</th>\n",
       "      <td>control</td>\n",
       "      <td>False</td>\n",
       "      <td>{'Cingulate_Post_R-VTA_L': 8.83754149385294, '...</td>\n",
       "    </tr>\n",
       "    <tr>\n",
       "      <th>22</th>\n",
       "      <td>control</td>\n",
       "      <td>False</td>\n",
       "      <td>{'Hippocampus_R-VTA_L': -9.09445414078874, 'He...</td>\n",
       "    </tr>\n",
       "    <tr>\n",
       "      <th>23</th>\n",
       "      <td>AD</td>\n",
       "      <td>False</td>\n",
       "      <td>{'Supp_Motor_Area_L-Supp_Motor_Area_R': -11.86...</td>\n",
       "    </tr>\n",
       "    <tr>\n",
       "      <th>24</th>\n",
       "      <td>AD</td>\n",
       "      <td>False</td>\n",
       "      <td>{'Frontal_Inf_Oper_L-Vermis_10': 10.3195820468...</td>\n",
       "    </tr>\n",
       "  </tbody>\n",
       "</table>\n",
       "</div>"
      ],
      "text/plain": [
       "      group  baseline                                  significant_pairs\n",
       "0        PD     False   {'Cuneus_L-Occipital_Mid_R': -8.066684745724414}\n",
       "1        PD     False                                                 {}\n",
       "2        PD     False  {'Frontal_Sup_2_L-VTA_L': 9.762065216144292, '...\n",
       "3   control      True                                                 {}\n",
       "4   control     False  {'Hippocampus_R-VTA_L': 8.632206774656252, 'Oc...\n",
       "5   control      True                                                 {}\n",
       "6   control     False  {'Insula_R-Thal_VPL_R': -8.20303079434688, 'Cu...\n",
       "7   control     False  {'Supp_Motor_Area_L-Paracentral_Lobule_R': -11...\n",
       "8   control      True                                                 {}\n",
       "9   control     False                                                 {}\n",
       "10  control     False  {'Supp_Motor_Area_L-Paracentral_Lobule_R': -9....\n",
       "11  control     False  {'Supp_Motor_Area_L-Supp_Motor_Area_R': -8.082...\n",
       "12  control      True                                                 {}\n",
       "13  control      True                                                 {}\n",
       "14  control      True                                                 {}\n",
       "15  control      True                                                 {}\n",
       "16  control      True                                                 {}\n",
       "17  control      True                                                 {}\n",
       "18  control     False                                                 {}\n",
       "19  control     False  {'Occipital_Sup_R-Vermis_4_5': -8.18817484657757}\n",
       "20  control     False  {'Frontal_Inf_Oper_R-Thal_MDm_L': 8.0867695855...\n",
       "21  control     False  {'Cingulate_Post_R-VTA_L': 8.83754149385294, '...\n",
       "22  control     False  {'Hippocampus_R-VTA_L': -9.09445414078874, 'He...\n",
       "23       AD     False  {'Supp_Motor_Area_L-Supp_Motor_Area_R': -11.86...\n",
       "24       AD     False  {'Frontal_Inf_Oper_L-Vermis_10': 10.3195820468..."
      ]
     },
     "execution_count": 128,
     "metadata": {},
     "output_type": "execute_result"
    }
   ],
   "source": [
    "fmri_df[[\"group\", \"baseline\", \"significant_pairs\"]]"
   ]
  },
  {
   "cell_type": "code",
   "execution_count": null,
   "id": "bdafc08f-e406-49a7-9f44-ac7e9158242d",
   "metadata": {},
   "outputs": [],
   "source": [
    "meta"
   ]
  },
  {
   "cell_type": "code",
   "execution_count": 122,
   "id": "f26d33a9-925c-4038-90a5-0102c3f80e2e",
   "metadata": {
    "tags": []
   },
   "outputs": [
    {
     "data": {
      "text/plain": [
       "28900"
      ]
     },
     "execution_count": 122,
     "metadata": {},
     "output_type": "execute_result"
    }
   ],
   "source": [
    "170*170"
   ]
  },
  {
   "cell_type": "code",
   "execution_count": null,
   "id": "0e0d5f87-d582-4cfc-9b0b-6dc2aa4b2671",
   "metadata": {},
   "outputs": [],
   "source": []
  }
 ],
 "metadata": {
  "kernelspec": {
   "display_name": "nilabel_env",
   "language": "python",
   "name": "nibabel_env"
  },
  "language_info": {
   "codemirror_mode": {
    "name": "ipython",
    "version": 3
   },
   "file_extension": ".py",
   "mimetype": "text/x-python",
   "name": "python",
   "nbconvert_exporter": "python",
   "pygments_lexer": "ipython3",
   "version": "3.13.1"
  }
 },
 "nbformat": 4,
 "nbformat_minor": 5
}
